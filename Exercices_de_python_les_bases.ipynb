{
  "cells": [
    {
      "cell_type": "markdown",
      "metadata": {
        "id": "48iueDTBp8tq"
      },
      "source": [
        "EXERCICES PYTHON"
      ]
    },
    {
      "cell_type": "code",
      "execution_count": null,
      "metadata": {
        "colab": {
          "base_uri": "https://localhost:8080/"
        },
        "id": "AQ9QPUp3qHWC",
        "outputId": "f076e280-ef04-4686-f19d-5dc00b2dd29f"
      },
      "outputs": [
        {
          "name": "stdout",
          "output_type": "stream",
          "text": [
            "*\n",
            "**\n",
            "***\n",
            "****\n",
            "*****\n"
          ]
        }
      ],
      "source": [
        "print(\"*\")\n",
        "print(\"**\")\n",
        "print(\"***\")\n",
        "print(\"****\")\n",
        "print(\"*****\")"
      ]
    },
    {
      "cell_type": "code",
      "execution_count": null,
      "metadata": {
        "colab": {
          "base_uri": "https://localhost:8080/"
        },
        "id": "6WgI4HQjz5oe",
        "outputId": "a71c5f5f-3a84-4696-b1d0-fb8525d0520c"
      },
      "outputs": [
        {
          "name": "stdout",
          "output_type": "stream",
          "text": [
            "la somme de 12 et 5.7 sont les suivants\n",
            "17.7\n"
          ]
        }
      ],
      "source": [
        "print(\"la somme de 12 et 5.7 sont les suivants\")\n",
        "print(12 + 5.7)"
      ]
    },
    {
      "cell_type": "code",
      "execution_count": null,
      "metadata": {
        "id": "ncayOLN40PBe"
      },
      "outputs": [],
      "source": [
        "x = 12.2"
      ]
    },
    {
      "cell_type": "code",
      "execution_count": null,
      "metadata": {
        "colab": {
          "base_uri": "https://localhost:8080/"
        },
        "id": "xmINyTSR26Gd",
        "outputId": "fc8fd92f-e1e2-44e4-f12c-63f7d5eb3dac"
      },
      "outputs": [
        {
          "name": "stdout",
          "output_type": "stream",
          "text": [
            "12.2\n"
          ]
        }
      ],
      "source": [
        "print(x)"
      ]
    },
    {
      "cell_type": "code",
      "execution_count": null,
      "metadata": {
        "id": "_sMXhjim2_VG"
      },
      "outputs": [],
      "source": [
        "x = 23\n",
        "y = 10"
      ]
    },
    {
      "cell_type": "code",
      "execution_count": null,
      "metadata": {
        "colab": {
          "base_uri": "https://localhost:8080/"
        },
        "id": "E6jfwkuF3Nl1",
        "outputId": "8d913514-e86f-475b-c6a6-c545283b1fae"
      },
      "outputs": [
        {
          "name": "stdout",
          "output_type": "stream",
          "text": [
            "23\n",
            "10\n"
          ]
        }
      ],
      "source": [
        "print(x)\n",
        "print(y)\n"
      ]
    },
    {
      "cell_type": "code",
      "execution_count": null,
      "metadata": {
        "id": "YFAbpI-v3hq0"
      },
      "outputs": [],
      "source": [
        "x, y, z = 10, 50 , 85"
      ]
    },
    {
      "cell_type": "code",
      "execution_count": null,
      "metadata": {
        "colab": {
          "base_uri": "https://localhost:8080/"
        },
        "id": "_aL-XiDs3nIu",
        "outputId": "edec1c6f-f61d-4205-af07-90af46a2a78b"
      },
      "outputs": [
        {
          "name": "stdout",
          "output_type": "stream",
          "text": [
            "10 50 85\n"
          ]
        }
      ],
      "source": [
        "print(x, y, z)"
      ]
    },
    {
      "cell_type": "code",
      "execution_count": null,
      "metadata": {
        "id": "LjMM_KtQ3wdn"
      },
      "outputs": [],
      "source": [
        "abc = 1"
      ]
    },
    {
      "cell_type": "code",
      "execution_count": null,
      "metadata": {
        "colab": {
          "base_uri": "https://localhost:8080/",
          "height": 135
        },
        "id": "sGI1swhO5QJZ",
        "outputId": "b6a80300-4c11-407d-bc2c-931f8f87f581"
      },
      "outputs": [
        {
          "ename": "SyntaxError",
          "evalue": "ignored",
          "output_type": "error",
          "traceback": [
            "\u001b[0;36m  File \u001b[0;32m\"<ipython-input-11-24e9fac9684a>\"\u001b[0;36m, line \u001b[0;32m1\u001b[0m\n\u001b[0;31m    if = 2\u001b[0m\n\u001b[0m       ^\u001b[0m\n\u001b[0;31mSyntaxError\u001b[0m\u001b[0;31m:\u001b[0m invalid syntax\n"
          ]
        }
      ],
      "source": [
        "if = 2"
      ]
    },
    {
      "cell_type": "code",
      "execution_count": null,
      "metadata": {
        "colab": {
          "base_uri": "https://localhost:8080/",
          "height": 135
        },
        "id": "edQIimee5Zby",
        "outputId": "09dc4f34-31aa-4a64-f7eb-181b96cd88c5"
      },
      "outputs": [
        {
          "ename": "SyntaxError",
          "evalue": "ignored",
          "output_type": "error",
          "traceback": [
            "\u001b[0;36m  File \u001b[0;32m\"<ipython-input-12-1e146c782c57>\"\u001b[0;36m, line \u001b[0;32m1\u001b[0m\n\u001b[0;31m    $fi = 3\u001b[0m\n\u001b[0m    ^\u001b[0m\n\u001b[0;31mSyntaxError\u001b[0m\u001b[0;31m:\u001b[0m invalid syntax\n"
          ]
        }
      ],
      "source": [
        "$fi = 3"
      ]
    },
    {
      "cell_type": "code",
      "execution_count": null,
      "metadata": {
        "id": "AhwAWScw5gI7"
      },
      "outputs": [],
      "source": [
        "_public = 4"
      ]
    },
    {
      "cell_type": "code",
      "execution_count": null,
      "metadata": {
        "id": "m5cwGcR45mBn"
      },
      "outputs": [],
      "source": [
        "#abc$ = 5"
      ]
    },
    {
      "cell_type": "code",
      "execution_count": null,
      "metadata": {
        "colab": {
          "base_uri": "https://localhost:8080/",
          "height": 135
        },
        "id": "RT_Gecnj5wkD",
        "outputId": "777bfa8f-3896-41b5-bd23-20e9e0136c23"
      },
      "outputs": [
        {
          "ename": "SyntaxError",
          "evalue": "ignored",
          "output_type": "error",
          "traceback": [
            "\u001b[0;36m  File \u001b[0;32m\"<ipython-input-15-4d8aece3b925>\"\u001b[0;36m, line \u001b[0;32m1\u001b[0m\n\u001b[0;31m    bob's = 6\u001b[0m\n\u001b[0m       ^\u001b[0m\n\u001b[0;31mSyntaxError\u001b[0m\u001b[0;31m:\u001b[0m unterminated string literal (detected at line 1)\n"
          ]
        }
      ],
      "source": [
        "bob's = 6"
      ]
    },
    {
      "cell_type": "code",
      "execution_count": null,
      "metadata": {
        "id": "5U4H7o5K57Db"
      },
      "outputs": [],
      "source": [
        "emp_id = 7"
      ]
    },
    {
      "cell_type": "code",
      "execution_count": null,
      "metadata": {
        "colab": {
          "base_uri": "https://localhost:8080/",
          "height": 135
        },
        "id": "8d3t8_pl6B5u",
        "outputId": "878bb47d-b8de-4d56-890a-17df2b878a9a"
      },
      "outputs": [
        {
          "ename": "SyntaxError",
          "evalue": "ignored",
          "output_type": "error",
          "traceback": [
            "\u001b[0;36m  File \u001b[0;32m\"<ipython-input-17-fd51642705b0>\"\u001b[0;36m, line \u001b[0;32m1\u001b[0m\n\u001b[0;31m    emp id = 8\u001b[0m\n\u001b[0m        ^\u001b[0m\n\u001b[0;31mSyntaxError\u001b[0m\u001b[0;31m:\u001b[0m invalid syntax\n"
          ]
        }
      ],
      "source": [
        "emp id = 8"
      ]
    },
    {
      "cell_type": "code",
      "execution_count": null,
      "metadata": {
        "id": "7pj8jM0Q6Wzy"
      },
      "outputs": [],
      "source": [
        "name = \"John\""
      ]
    },
    {
      "cell_type": "code",
      "execution_count": null,
      "metadata": {
        "colab": {
          "base_uri": "https://localhost:8080/"
        },
        "id": "KmZK5FUl8hbr",
        "outputId": "01748f53-0099-4b60-d14a-6bd1e700d87a"
      },
      "outputs": [
        {
          "name": "stdout",
          "output_type": "stream",
          "text": [
            "Welcome our hero:\n",
            "John\n"
          ]
        }
      ],
      "source": [
        "print(\"Welcome our hero:\")\n",
        "print(name)"
      ]
    },
    {
      "cell_type": "code",
      "execution_count": null,
      "metadata": {
        "id": "xWaFyxmM8qnx"
      },
      "outputs": [],
      "source": [
        "name = \"Sam\""
      ]
    },
    {
      "cell_type": "code",
      "execution_count": null,
      "metadata": {
        "colab": {
          "base_uri": "https://localhost:8080/"
        },
        "id": "LRJ5DerM8u-0",
        "outputId": "249d5e30-b250-4fe8-a655-5b45e0310af3"
      },
      "outputs": [
        {
          "name": "stdout",
          "output_type": "stream",
          "text": [
            "He is changing his name to:\n",
            "Sam\n"
          ]
        }
      ],
      "source": [
        "print(\"He is changing his name to:\")\n",
        "print(name)"
      ]
    },
    {
      "cell_type": "code",
      "execution_count": null,
      "metadata": {
        "colab": {
          "base_uri": "https://localhost:8080/"
        },
        "id": "07BIaxfY9KPj",
        "outputId": "44cb21b0-ad8c-4fc3-fe8f-1e868be5013b"
      },
      "outputs": [
        {
          "name": "stdout",
          "output_type": "stream",
          "text": [
            "76.0\n"
          ]
        }
      ],
      "source": [
        "print(2+3*(36/9+1)**2-1)"
      ]
    },
    {
      "cell_type": "code",
      "execution_count": null,
      "metadata": {
        "colab": {
          "base_uri": "https://localhost:8080/"
        },
        "id": "6X9BaZqU9tqK",
        "outputId": "bf039098-f4f0-49f3-ea95-a9cf79811ac4"
      },
      "outputs": [
        {
          "data": {
            "text/plain": [
              "6"
            ]
          },
          "execution_count": 1,
          "metadata": {},
          "output_type": "execute_result"
        }
      ],
      "source": [
        "3+2 & 4|2"
      ]
    },
    {
      "cell_type": "code",
      "execution_count": null,
      "metadata": {
        "colab": {
          "base_uri": "https://localhost:8080/"
        },
        "id": "TDF6f1dB-Fhc",
        "outputId": "0661619d-2876-4f92-c7f0-8e3d053ba27f"
      },
      "outputs": [
        {
          "name": "stdout",
          "output_type": "stream",
          "text": [
            "       *        \n",
            "    *     *     \n",
            "  *         *   \n",
            "*-------------* \n"
          ]
        }
      ],
      "source": [
        "print(\"       *        \")\n",
        "print(\"    *     *     \")\n",
        "print(\"  *         *   \")\n",
        "print(\"*-------------* \")"
      ]
    },
    {
      "cell_type": "markdown",
      "metadata": {
        "id": "kPEqec5GBKIo"
      },
      "source": [
        "Je veux imprimer \"Hello word\" en uppercases et lowrcases."
      ]
    },
    {
      "cell_type": "code",
      "execution_count": null,
      "metadata": {
        "id": "eFaOKsnuBRGZ"
      },
      "outputs": [],
      "source": [
        "text1 =\"Hello, reader!\""
      ]
    },
    {
      "cell_type": "code",
      "execution_count": null,
      "metadata": {
        "colab": {
          "base_uri": "https://localhost:8080/"
        },
        "id": "7btKtYZuBfqs",
        "outputId": "8f32559c-69ac-412a-a5e2-f2be88c4bfa0"
      },
      "outputs": [
        {
          "name": "stdout",
          "output_type": "stream",
          "text": [
            "The original string is:Hello, reader!\n"
          ]
        }
      ],
      "source": [
        "print(\"The original string is:\" + text1)"
      ]
    },
    {
      "cell_type": "code",
      "execution_count": null,
      "metadata": {
        "colab": {
          "base_uri": "https://localhost:8080/"
        },
        "id": "GhwwpqwLByQt",
        "outputId": "bb1c530a-4101-444b-f809-fc26daaa1a05"
      },
      "outputs": [
        {
          "name": "stdout",
          "output_type": "stream",
          "text": [
            "HELLO, READER!\n"
          ]
        }
      ],
      "source": [
        "print(text1.upper())"
      ]
    },
    {
      "cell_type": "code",
      "execution_count": null,
      "metadata": {
        "colab": {
          "base_uri": "https://localhost:8080/"
        },
        "id": "DTtxLXIbB96X",
        "outputId": "7712e270-a0a9-4433-f511-b39a76fbb3de"
      },
      "outputs": [
        {
          "name": "stdout",
          "output_type": "stream",
          "text": [
            "hello, reader!\n"
          ]
        }
      ],
      "source": [
        "print(text1.lower())"
      ]
    },
    {
      "cell_type": "markdown",
      "metadata": {
        "id": "N8KLC9MDCV1B"
      },
      "source": [
        "Je veux utiliser plusieurs fnctions ensemble"
      ]
    },
    {
      "cell_type": "code",
      "execution_count": null,
      "metadata": {
        "id": "VL3xILiXCb7t"
      },
      "outputs": [],
      "source": [
        "text1 =\"Hello, Reader\""
      ]
    },
    {
      "cell_type": "code",
      "execution_count": null,
      "metadata": {
        "colab": {
          "base_uri": "https://localhost:8080/"
        },
        "id": "K4xrEEMsCka3",
        "outputId": "59e94c66-9aa5-457a-958d-6398b4e61ffc"
      },
      "outputs": [
        {
          "name": "stdout",
          "output_type": "stream",
          "text": [
            "The original string is :Hello, Reader\n",
            "False\n",
            "True\n"
          ]
        }
      ],
      "source": [
        "print(\"The original string is :\" + text1)\n",
        "print(text1.upper().islower()) # False\n",
        "print(text1.upper().isupper()) # True"
      ]
    },
    {
      "cell_type": "markdown",
      "metadata": {
        "id": "vrk6y7ouDtw9"
      },
      "source": [
        "je veux calculer le len de la chaine"
      ]
    },
    {
      "cell_type": "code",
      "execution_count": null,
      "metadata": {
        "id": "DWWO0ZPyDycl"
      },
      "outputs": [],
      "source": [
        "Text1 = \"Python\"\n",
        "Text2 = \"Hello, jon!\""
      ]
    },
    {
      "cell_type": "code",
      "execution_count": null,
      "metadata": {
        "colab": {
          "base_uri": "https://localhost:8080/"
        },
        "id": "R7ojY9QoEDtK",
        "outputId": "64c1b0e1-26bc-448f-f1b9-71ee4389c68e"
      },
      "outputs": [
        {
          "name": "stdout",
          "output_type": "stream",
          "text": [
            "The Text1 is:Python\n",
            "Length of Text1 is follows:\n",
            "6\n"
          ]
        }
      ],
      "source": [
        "print(\"The Text1 is:\" + Text1)\n",
        "print(\"Length of Text1 is follows:\")\n",
        "# the length of Text1\n",
        "print(len(Text1))"
      ]
    },
    {
      "cell_type": "code",
      "execution_count": null,
      "metadata": {
        "colab": {
          "base_uri": "https://localhost:8080/"
        },
        "id": "0LSyaefIE2jx",
        "outputId": "0d37dda5-c2fa-4e51-8e46-1ade9d0c9e75"
      },
      "outputs": [
        {
          "name": "stdout",
          "output_type": "stream",
          "text": [
            "The Text2 is:Hello, jon!\n",
            "length of Text2 is follows:\n",
            "11\n"
          ]
        }
      ],
      "source": [
        "print(\"The Text2 is:\" + Text2)\n",
        "print(\"length of Text2 is follows:\")\n",
        "# the length of Text2\n",
        "print(len(Text2))"
      ]
    },
    {
      "cell_type": "markdown",
      "metadata": {
        "id": "IMYLZalUF2v-"
      },
      "source": [
        "je veux examiner les positions des index et des caracteres a l'interieur de la chaine."
      ]
    },
    {
      "cell_type": "code",
      "execution_count": null,
      "metadata": {
        "colab": {
          "base_uri": "https://localhost:8080/"
        },
        "id": "kM4wXKLfGB3w",
        "outputId": "5e6a4239-5f2a-4e84-8b28-39d7d4ad1d82"
      },
      "outputs": [
        {
          "name": "stdout",
          "output_type": "stream",
          "text": [
            "the Text1 is:Python\n"
          ]
        }
      ],
      "source": [
        "print(\"the Text1 is:\" + Text1)"
      ]
    },
    {
      "cell_type": "code",
      "execution_count": null,
      "metadata": {
        "colab": {
          "base_uri": "https://localhost:8080/"
        },
        "id": "JwJp1A4aGe88",
        "outputId": "94c819ff-74bb-4685-976a-21ab61db4be2"
      },
      "outputs": [
        {
          "name": "stdout",
          "output_type": "stream",
          "text": [
            "P\n",
            "y\n",
            "t\n",
            "h\n",
            "o\n",
            "n\n"
          ]
        }
      ],
      "source": [
        "# printing individual characters inside the string\n",
        "print(Text1[0])\n",
        "print(Text1[1])\n",
        "print(Text1[2])\n",
        "print(Text1[3])\n",
        "print(Text1[4])\n",
        "print(Text1[5])"
      ]
    },
    {
      "cell_type": "markdown",
      "metadata": {
        "id": "ekV6CjDbIrdD"
      },
      "source": [
        "Je veux obtenir la premiere occurence d'un caractere ou d'un mot dans une chaine."
      ]
    },
    {
      "cell_type": "code",
      "execution_count": null,
      "metadata": {
        "id": "F1xprO5aHN6b"
      },
      "outputs": [],
      "source": [
        "text = \" abcABc\""
      ]
    },
    {
      "cell_type": "code",
      "execution_count": null,
      "metadata": {
        "colab": {
          "base_uri": "https://localhost:8080/"
        },
        "id": "dbmRwOKPJAJU",
        "outputId": "b36ef14f-0ec8-4330-9f62-75917a7e4a57"
      },
      "outputs": [
        {
          "name": "stdout",
          "output_type": "stream",
          "text": [
            "The text is: abcABc\n"
          ]
        }
      ],
      "source": [
        "print(\"The text is:\" + text)"
      ]
    },
    {
      "cell_type": "code",
      "execution_count": null,
      "metadata": {
        "colab": {
          "base_uri": "https://localhost:8080/"
        },
        "id": "DDXUluCeJQOr",
        "outputId": "9aa33b89-a5ab-4d5c-afa0-cc31755df0a0"
      },
      "outputs": [
        {
          "name": "stdout",
          "output_type": "stream",
          "text": [
            "The first occurence of 'A' is at index:\n",
            "4\n",
            "The first occurence of 'c' is at index:\n",
            "3\n",
            "The first occurence of 'bcA' is at index:\n",
            "2\n"
          ]
        }
      ],
      "source": [
        "# printing individual characters in the string\n",
        "print(\"The first occurence of 'A' is at index:\")\n",
        "print(text.index(\"A\"))\n",
        "print(\"The first occurence of 'c' is at index:\")\n",
        "print(text.index(\"c\"))\n",
        "print(\"The first occurence of 'bcA' is at index:\")\n",
        "print(text.index(\"bcA\"))"
      ]
    },
    {
      "cell_type": "markdown",
      "metadata": {
        "id": "EcNYyqvKLn0o"
      },
      "source": [
        "Je veux examiner si un caractere voulu est absent dans une chaine."
      ]
    },
    {
      "cell_type": "code",
      "execution_count": null,
      "metadata": {
        "id": "JZpdX3mCLv3q"
      },
      "outputs": [],
      "source": [
        "text = \"Hello, john!\""
      ]
    },
    {
      "cell_type": "code",
      "execution_count": null,
      "metadata": {
        "colab": {
          "base_uri": "https://localhost:8080/",
          "height": 172
        },
        "id": "rYbsKY57MbHj",
        "outputId": "6509a46a-055f-405a-8107-cd91eaf82b95"
      },
      "outputs": [
        {
          "ename": "ValueError",
          "evalue": "ignored",
          "output_type": "error",
          "traceback": [
            "\u001b[0;31m---------------------------------------------------------------------------\u001b[0m",
            "\u001b[0;31mValueError\u001b[0m                                Traceback (most recent call last)",
            "\u001b[0;32m<ipython-input-24-b8fa6792e2b3>\u001b[0m in \u001b[0;36m<cell line: 1>\u001b[0;34m()\u001b[0m\n\u001b[0;32m----> 1\u001b[0;31m \u001b[0mprint\u001b[0m\u001b[0;34m(\u001b[0m\u001b[0mtext\u001b[0m\u001b[0;34m.\u001b[0m\u001b[0mindex\u001b[0m\u001b[0;34m(\u001b[0m\u001b[0;34m\"y\"\u001b[0m\u001b[0;34m)\u001b[0m\u001b[0;34m)\u001b[0m  \u001b[0;31m# error now\u001b[0m\u001b[0;34m\u001b[0m\u001b[0;34m\u001b[0m\u001b[0m\n\u001b[0m",
            "\u001b[0;31mValueError\u001b[0m: substring not found"
          ]
        }
      ],
      "source": [
        "print(text.index(\"y\"))  # error now"
      ]
    },
    {
      "cell_type": "markdown",
      "metadata": {
        "id": "gXVRBFRMNZB3"
      },
      "source": [
        "Je veux examiner une fonction qui peut avoir plusieurs parametres. c'est pourquoi je vous montre un exemple utilisant la fonction de remplacement."
      ]
    },
    {
      "cell_type": "code",
      "execution_count": null,
      "metadata": {
        "id": "l5TIMHEDODan"
      },
      "outputs": [],
      "source": [
        "# je veux examiner une fonction qui accepte plusieurs parametres en utilisant la focntion de rmplacement pour cet\n"
      ]
    },
    {
      "cell_type": "code",
      "execution_count": null,
      "metadata": {
        "colab": {
          "base_uri": "https://localhost:8080/"
        },
        "id": "oV0pe6zXRz17",
        "outputId": "73cfabef-a054-4ce7-a344-14ef231ef6ab"
      },
      "outputs": [
        {
          "name": "stdout",
          "output_type": "stream",
          "text": [
            "Initial text is:Hello, John!\n",
            "Replacing the name 'John' with 'Bob' now\n",
            "The text changed is:Hello, Bob!\n"
          ]
        }
      ],
      "source": [
        "text = \"Hello, John!\"\n",
        "print(\"Initial text is:\"+ text)\n",
        "print(\"Replacing the name 'John' with 'Bob' now\")\n",
        "text = text.replace(\"John\", \"Bob\")\n",
        "print(\"The text changed is:\" + text)"
      ]
    },
    {
      "cell_type": "markdown",
      "metadata": {
        "id": "N-3T9QGZUA2M"
      },
      "source": [
        "Demonstration des codes avec des nombres"
      ]
    },
    {
      "cell_type": "markdown",
      "metadata": {
        "id": "7cdBlq24WeSe"
      },
      "source": [
        "Effetuer des operations arihtmetiques de base et complexes"
      ]
    },
    {
      "cell_type": "code",
      "execution_count": null,
      "metadata": {
        "colab": {
          "base_uri": "https://localhost:8080/"
        },
        "id": "d-RTYGa7WtoS",
        "outputId": "26b4666b-d88b-4bf6-e335-7784c3a41dfe"
      },
      "outputs": [
        {
          "name": "stdout",
          "output_type": "stream",
          "text": [
            "4\n"
          ]
        }
      ],
      "source": [
        "print(1+3)"
      ]
    },
    {
      "cell_type": "code",
      "execution_count": null,
      "metadata": {
        "colab": {
          "base_uri": "https://localhost:8080/"
        },
        "id": "977JMGCkXGDI",
        "outputId": "646c8446-98cf-491d-d817-95dd74973358"
      },
      "outputs": [
        {
          "name": "stdout",
          "output_type": "stream",
          "text": [
            "7\n"
          ]
        }
      ],
      "source": [
        "print(10-3)"
      ]
    },
    {
      "cell_type": "code",
      "execution_count": null,
      "metadata": {
        "colab": {
          "base_uri": "https://localhost:8080/"
        },
        "id": "ZGQYY9ynUHBJ",
        "outputId": "c761018a-98a0-46b3-d288-fe7474eb8d66"
      },
      "outputs": [
        {
          "name": "stdout",
          "output_type": "stream",
          "text": [
            "75\n"
          ]
        }
      ],
      "source": [
        "print(25*3)"
      ]
    },
    {
      "cell_type": "code",
      "execution_count": null,
      "metadata": {
        "colab": {
          "base_uri": "https://localhost:8080/"
        },
        "id": "fOoWiRLxXXkv",
        "outputId": "4ca4b360-8e34-4bc9-f1a7-316253cd92c7"
      },
      "outputs": [
        {
          "name": "stdout",
          "output_type": "stream",
          "text": [
            "3.22\n"
          ]
        }
      ],
      "source": [
        "print(12.88/4)"
      ]
    },
    {
      "cell_type": "code",
      "execution_count": null,
      "metadata": {
        "colab": {
          "base_uri": "https://localhost:8080/"
        },
        "id": "-rTY5Rn0XyNl",
        "outputId": "dc2f2707-a5b3-44ef-c6a3-96b6d0f49133"
      },
      "outputs": [
        {
          "name": "stdout",
          "output_type": "stream",
          "text": [
            "9\n"
          ]
        }
      ],
      "source": [
        "print((1+2)*3)"
      ]
    },
    {
      "cell_type": "markdown",
      "metadata": {
        "id": "nq65xkdlYxrf"
      },
      "source": [
        "Tu peux aussi utilise les variables pour les nombres. ici , nous avons des echantillons des segments pour examiner l'utilisatio des variables."
      ]
    },
    {
      "cell_type": "code",
      "execution_count": null,
      "metadata": {
        "id": "7zPgWkW9ZTdd"
      },
      "outputs": [],
      "source": [
        "my_int = 125"
      ]
    },
    {
      "cell_type": "code",
      "execution_count": null,
      "metadata": {
        "colab": {
          "base_uri": "https://localhost:8080/"
        },
        "id": "yRZgK64QZcnD",
        "outputId": "2a432d8f-3967-4706-c575-486be2abb398"
      },
      "outputs": [
        {
          "name": "stdout",
          "output_type": "stream",
          "text": [
            "125\n"
          ]
        }
      ],
      "source": [
        "print(my_int)"
      ]
    },
    {
      "cell_type": "code",
      "execution_count": null,
      "metadata": {
        "id": "6UDqkLZDZhdW"
      },
      "outputs": [],
      "source": [
        "my_float = 25.763"
      ]
    },
    {
      "cell_type": "code",
      "execution_count": null,
      "metadata": {
        "colab": {
          "base_uri": "https://localhost:8080/"
        },
        "id": "0miartFtZp8-",
        "outputId": "0d4b68e5-aa3a-4bfe-86cf-d65a3121f510"
      },
      "outputs": [
        {
          "name": "stdout",
          "output_type": "stream",
          "text": [
            "25.763\n"
          ]
        }
      ],
      "source": [
        "print(my_float)"
      ]
    },
    {
      "cell_type": "markdown",
      "metadata": {
        "id": "GGJJha2SaFp9"
      },
      "source": [
        "Remember that for string variables, the plus + operator concatenates des strings, but for numbers, it adds them. here is a sample for you."
      ]
    },
    {
      "cell_type": "markdown",
      "metadata": {
        "id": "1mOyU8DCatpV"
      },
      "source": [
        "diffrence between numbers and strings"
      ]
    },
    {
      "cell_type": "code",
      "execution_count": null,
      "metadata": {
        "id": "KSCL1ozFarrl"
      },
      "outputs": [],
      "source": [
        "my_string1 = \"10\"\n",
        "my_string2 = \"22\"\n",
        "my_int1 = 10\n",
        "my_int2 = 22\n"
      ]
    },
    {
      "cell_type": "code",
      "execution_count": null,
      "metadata": {
        "colab": {
          "base_uri": "https://localhost:8080/"
        },
        "id": "yvu0DQuXbObt",
        "outputId": "7c32365e-7c38-4b67-8383-c003ea905e50"
      },
      "outputs": [
        {
          "name": "stdout",
          "output_type": "stream",
          "text": [
            "1022\n"
          ]
        }
      ],
      "source": [
        "print(my_string1 + my_string2)"
      ]
    },
    {
      "cell_type": "code",
      "execution_count": null,
      "metadata": {
        "colab": {
          "base_uri": "https://localhost:8080/"
        },
        "id": "G2wQgCgkbbYR",
        "outputId": "8a0778b0-22ef-43a3-f18d-efe8a0ad3919"
      },
      "outputs": [
        {
          "name": "stdout",
          "output_type": "stream",
          "text": [
            "32\n"
          ]
        }
      ],
      "source": [
        "print(my_int1 + my_int2)"
      ]
    },
    {
      "cell_type": "code",
      "execution_count": null,
      "metadata": {
        "colab": {
          "base_uri": "https://localhost:8080/"
        },
        "id": "gA9YIXrubyGB",
        "outputId": "49929c1e-bb9f-4a9c-c8f0-568d2ee148db"
      },
      "outputs": [
        {
          "name": "stdout",
          "output_type": "stream",
          "text": [
            "The value inside my_int1 is: 10\n"
          ]
        }
      ],
      "source": [
        "print(\"The value inside my_int1 is:\", my_int1)"
      ]
    },
    {
      "cell_type": "markdown",
      "metadata": {
        "id": "qKDlusdLAF2X"
      },
      "source": [
        "CODE SEGMENT"
      ]
    },
    {
      "cell_type": "code",
      "execution_count": null,
      "metadata": {
        "id": "p3A3LeS0AKjJ"
      },
      "outputs": [],
      "source": [
        "my_string1 = \"25\"\n",
        "my_string2 = \"abc\""
      ]
    },
    {
      "cell_type": "code",
      "execution_count": null,
      "metadata": {
        "colab": {
          "base_uri": "https://localhost:8080/"
        },
        "id": "o3l97i3NAbQY",
        "outputId": "d1a0573b-710f-4d8a-b570-50d59d9ce723"
      },
      "outputs": [
        {
          "name": "stdout",
          "output_type": "stream",
          "text": [
            "True\n",
            "False\n"
          ]
        }
      ],
      "source": [
        "print(my_string1.isdigit()) # True\n",
        "print(my_string2.isdigit()) # False"
      ]
    },
    {
      "cell_type": "code",
      "execution_count": null,
      "metadata": {
        "id": "wTkAiA0bBIxx"
      },
      "outputs": [],
      "source": [
        "user_name = \"Junior\""
      ]
    },
    {
      "cell_type": "code",
      "execution_count": null,
      "metadata": {
        "colab": {
          "base_uri": "https://localhost:8080/"
        },
        "id": "HAHeiybRBR9m",
        "outputId": "0225f16d-fc05-4516-9f6d-2a618ae498ac"
      },
      "outputs": [
        {
          "name": "stdout",
          "output_type": "stream",
          "text": [
            "Hello, Junior!\n"
          ]
        }
      ],
      "source": [
        "print(f\"Hello, {user_name}!\")"
      ]
    },
    {
      "cell_type": "markdown",
      "metadata": {
        "id": "pDFXq8ZxB0fR"
      },
      "source": [
        "I want to round a number"
      ]
    },
    {
      "cell_type": "code",
      "execution_count": null,
      "metadata": {
        "colab": {
          "base_uri": "https://localhost:8080/"
        },
        "id": "j9ajUjUBB4kr",
        "outputId": "a960e411-a6dd-4b3d-ffbc-fd17e14e0e55"
      },
      "outputs": [
        {
          "name": "stdout",
          "output_type": "stream",
          "text": [
            "3\n",
            "5\n"
          ]
        }
      ],
      "source": [
        "# Rounding a number\n",
        "print(round(2.7)) # print 2\n",
        "print(round(5.28)) # print 5"
      ]
    },
    {
      "cell_type": "markdown",
      "metadata": {
        "id": "MAhQayA6CdzR"
      },
      "source": [
        "I want to find the maximum and minimum from a set of numbers"
      ]
    },
    {
      "cell_type": "code",
      "execution_count": null,
      "metadata": {
        "colab": {
          "base_uri": "https://localhost:8080/"
        },
        "id": "9Ian00mMCzUI",
        "outputId": "07fb773a-ec21-4c8a-96c9-9379af523bff"
      },
      "outputs": [
        {
          "name": "stdout",
          "output_type": "stream",
          "text": [
            "5\n",
            "1\n"
          ]
        }
      ],
      "source": [
        "# Finding the maximum\n",
        "print(max(1,2,3,4,5)) # prints 5\n",
        "# Finding the minimum\n",
        "print(min(1,2,3,4,5)) # prints 1"
      ]
    },
    {
      "cell_type": "markdown",
      "metadata": {
        "id": "Tl7zgJSGKHUX"
      },
      "source": [
        "I want to get the square root of a number."
      ]
    },
    {
      "cell_type": "code",
      "execution_count": null,
      "metadata": {
        "id": "dklGhA4cLLaD"
      },
      "outputs": [],
      "source": [
        "from math import *"
      ]
    },
    {
      "cell_type": "code",
      "execution_count": null,
      "metadata": {
        "colab": {
          "base_uri": "https://localhost:8080/"
        },
        "id": "5JpVjTpSKZWz",
        "outputId": "1a7a12f7-72ad-490c-8a01-71686ad72a33"
      },
      "outputs": [
        {
          "name": "stdout",
          "output_type": "stream",
          "text": [
            "Square root of 25 is: 5.0\n",
            "Square root of 6.25 is: 2.5\n"
          ]
        }
      ],
      "source": [
        "# printing the square root of 25\n",
        "print(f\"Square root of 25 is: {sqrt(25)}\") # 5.0\n",
        "# printing the square root of 6.25\n",
        "print(f\"Square root of 6.25 is: {sqrt(6.25)}\") # 2.5"
      ]
    },
    {
      "cell_type": "markdown",
      "metadata": {
        "id": "yZCdDNx7MeIV"
      },
      "source": [
        "I want to find the ceiling value and the floor value of a number."
      ]
    },
    {
      "cell_type": "code",
      "execution_count": null,
      "metadata": {
        "colab": {
          "base_uri": "https://localhost:8080/"
        },
        "id": "LxMbZ7bdMuWM",
        "outputId": "862f354d-295b-4c02-895b-951e75b8051e"
      },
      "outputs": [
        {
          "name": "stdout",
          "output_type": "stream",
          "text": [
            "the ceiling value of 39.3 is:40\n",
            "the floor value 39.3 is:39\n"
          ]
        }
      ],
      "source": [
        "# printing the ceiling value\n",
        "# this is smallest integer less than the number\n",
        "# you defined.\n",
        "print(f\"the ceiling value of 39.3 is:{ceil(39.3)}\") # 40\n",
        "# printing the floor value\n",
        "# this is the biggest integer NOT greater than number\n",
        "# you defined\n",
        "print(f\"the floor value 39.3 is:{floor(39.3)}\") # 39"
      ]
    },
    {
      "cell_type": "markdown",
      "metadata": {
        "id": "ac8T5aZaPvIi"
      },
      "source": [
        "I want to find the gcd (greatest common divisor) of two numbers"
      ]
    },
    {
      "cell_type": "code",
      "execution_count": null,
      "metadata": {
        "colab": {
          "base_uri": "https://localhost:8080/"
        },
        "id": "mdnHgOiSQAxH",
        "outputId": "c5aef402-491d-4590-a18b-4339cbf6cbab"
      },
      "outputs": [
        {
          "name": "stdout",
          "output_type": "stream",
          "text": [
            "the gcd of 4 and 14 is:2\n",
            "the gcd of 14 and 63 is:7\n"
          ]
        }
      ],
      "source": [
        "# finding the gcd of 4 and 14\n",
        "print(f\"the gcd of 4 and 14 is:{gcd(4,14)}\") # prints 2\n",
        "# finding the gcd of 14 and 63\n",
        "print(f\"the gcd of 14 and 63 is:{gcd(14,63)}\") # print 7"
      ]
    },
    {
      "cell_type": "markdown",
      "metadata": {
        "id": "yg0Vf19oRSFy"
      },
      "source": [
        "I want to find the factorial of a number"
      ]
    },
    {
      "cell_type": "code",
      "execution_count": null,
      "metadata": {
        "colab": {
          "base_uri": "https://localhost:8080/"
        },
        "id": "M2fF0rW6ReeH",
        "outputId": "95b0c7c3-57f9-4dab-9b1b-b328bc10ad2d"
      },
      "outputs": [
        {
          "name": "stdout",
          "output_type": "stream",
          "text": [
            "the factorial of 5 is:120\n",
            "the factorial of 7 is:5040\n"
          ]
        }
      ],
      "source": [
        "# finding the factorial of 5\n",
        "print(f\"the factorial of 5 is:{factorial(5)}\")\n",
        "# finding the factorial of 7\n",
        "print(f\"the factorial of 7 is:{factorial(7)}\")"
      ]
    },
    {
      "cell_type": "markdown",
      "metadata": {
        "id": "b2hbSdyuSWDq"
      },
      "source": [
        "ACCEPTING USER INPUT"
      ]
    },
    {
      "cell_type": "code",
      "execution_count": null,
      "metadata": {
        "colab": {
          "base_uri": "https://localhost:8080/"
        },
        "id": "DIg2m8jrScQU",
        "outputId": "710df3ce-d08a-4cd0-9263-833191f4a82e"
      },
      "outputs": [
        {
          "name": "stdout",
          "output_type": "stream",
          "text": [
            "enter your name: Sarah\n",
            "enter your age 27\n",
            "Welcome  Sarah you are now  27\n",
            "Welcome Sarah! you are now 27\n",
            "Welcome, Sarah!you are now 27\n"
          ]
        }
      ],
      "source": [
        "# Supply a name\n",
        "user_name = input(\"enter your name:\")\n",
        "# enter age\n",
        "user_age = input(\"enter your age\")\n",
        "# using commas\n",
        "print(\"Welcome\", user_name,\"you are now\", user_age)\n",
        "# user f-strings(python3.6 onwards)\n",
        "print(f\"Welcome{user_name}! you are now{user_age}\")\n",
        "# using string concatenation\n",
        "print(\"Welcome,\" + user_name + \"!you are now\" + str(user_age))"
      ]
    },
    {
      "cell_type": "markdown",
      "metadata": {
        "id": "nJU0qH7KxcSV"
      },
      "source": [
        "Write a python program to accept two numbers and print the average of them. you can avoid the input validation until yu read."
      ]
    },
    {
      "cell_type": "markdown",
      "metadata": {
        "id": "EJob1dODx3B5"
      },
      "source": [
        "Solution of exercice."
      ]
    },
    {
      "cell_type": "code",
      "execution_count": null,
      "metadata": {
        "colab": {
          "base_uri": "https://localhost:8080/"
        },
        "id": "ETT-U8Ki1ACp",
        "outputId": "d2a87acb-0f22-495e-d6b7-856c979cb2a0"
      },
      "outputs": [
        {
          "name": "stdout",
          "output_type": "stream",
          "text": [
            "Enter first number:25.2\n"
          ]
        }
      ],
      "source": [
        "# First user input\n",
        "first_input = input(\"Enter first number:\")\n",
        "# Converting it to float\n",
        "first_number = float(first_input)"
      ]
    },
    {
      "cell_type": "code",
      "execution_count": null,
      "metadata": {
        "colab": {
          "base_uri": "https://localhost:8080/"
        },
        "id": "8dVZDzqm1urU",
        "outputId": "16b14efe-fe45-4c2a-fc3f-3cbf1b1e16e0"
      },
      "outputs": [
        {
          "name": "stdout",
          "output_type": "stream",
          "text": [
            "Enter seconde number:75\n"
          ]
        }
      ],
      "source": [
        "# Second user input\n",
        "second_input = input(\"Enter seconde number:\")\n",
        "# Converting it to float\n",
        "second_number = float(second_input)"
      ]
    },
    {
      "cell_type": "code",
      "execution_count": null,
      "metadata": {
        "id": "fUJ18Epw2TJF"
      },
      "outputs": [],
      "source": [
        "# Calculating average\n",
        "average = (first_number+second_number)/2"
      ]
    },
    {
      "cell_type": "code",
      "execution_count": null,
      "metadata": {
        "colab": {
          "base_uri": "https://localhost:8080/"
        },
        "id": "0sY3RuSf4aJw",
        "outputId": "a3aa249c-84fe-4fb2-ce6f-11f9aa25f614"
      },
      "outputs": [
        {
          "name": "stdout",
          "output_type": "stream",
          "text": [
            "Average is: 50.1\n"
          ]
        }
      ],
      "source": [
        "print(\"Average is:\", average)"
      ]
    },
    {
      "cell_type": "markdown",
      "metadata": {
        "id": "0leVHRVr_5sy"
      },
      "source": [
        "Write a program to output the following using exactly one print statement."
      ]
    },
    {
      "cell_type": "code",
      "execution_count": null,
      "metadata": {
        "colab": {
          "base_uri": "https://localhost:8080/"
        },
        "id": "m6QY08OfAImf",
        "outputId": "828ae8f1-c455-4311-b884-b28eec1fd70b"
      },
      "outputs": [
        {
          "name": "stdout",
          "output_type": "stream",
          "text": [
            "Hello/nReade!\n"
          ]
        }
      ],
      "source": [
        "print(\"Hello/nReade!\")"
      ]
    },
    {
      "cell_type": "markdown",
      "metadata": {
        "id": "NudUftOVBMq0"
      },
      "source": [
        "Print the following line. You can test it using single quotations or double-quotations.\n",
        "the height of Andrew is 6'9\""
      ]
    },
    {
      "cell_type": "code",
      "execution_count": null,
      "metadata": {
        "colab": {
          "base_uri": "https://localhost:8080/"
        },
        "id": "40QSvtYLBtQt",
        "outputId": "17021693-c8d6-4620-85f9-6a35238172c4"
      },
      "outputs": [
        {
          "name": "stdout",
          "output_type": "stream",
          "text": [
            "the height of Andrew is 6'9\"\n"
          ]
        }
      ],
      "source": [
        "print('the height of Andrew is 6\\'9\"')"
      ]
    },
    {
      "cell_type": "code",
      "execution_count": null,
      "metadata": {
        "colab": {
          "base_uri": "https://localhost:8080/"
        },
        "id": "7vlTmF2RDE0U",
        "outputId": "1d5e05d2-561f-470b-e103-856ea99afdca"
      },
      "outputs": [
        {
          "name": "stdout",
          "output_type": "stream",
          "text": [
            "the height of Andrew is 6'9\"\n"
          ]
        }
      ],
      "source": [
        "# Alternative answer is\n",
        "print(\"the height of Andrew is 6'9\\\"\")\n"
      ]
    },
    {
      "cell_type": "markdown",
      "metadata": {
        "id": "LbshjPqkDgs-"
      },
      "source": [
        "Given the folowing assignement:\n",
        "\n",
        "\n",
        "x,y = 10, 2.5\n",
        "predict the output of the following Python statements:"
      ]
    },
    {
      "cell_type": "code",
      "execution_count": null,
      "metadata": {
        "id": "myOkEaubEFHq"
      },
      "outputs": [],
      "source": [
        "x,y = 10, 2.5"
      ]
    },
    {
      "cell_type": "code",
      "execution_count": null,
      "metadata": {
        "colab": {
          "base_uri": "https://localhost:8080/",
          "height": 283
        },
        "id": "0h2uHkjEEL95",
        "outputId": "f84d5fcf-c045-46eb-c01b-c087cc8007ea"
      },
      "outputs": [
        {
          "name": "stdout",
          "output_type": "stream",
          "text": [
            "12.5\n",
            "4.0\n",
            "Diffrence of x and y is: 7.5\n"
          ]
        },
        {
          "ename": "TypeError",
          "evalue": "ignored",
          "output_type": "error",
          "traceback": [
            "\u001b[0;31m---------------------------------------------------------------------------\u001b[0m",
            "\u001b[0;31mTypeError\u001b[0m                                 Traceback (most recent call last)",
            "\u001b[0;32m<ipython-input-16-a1087cf5dd03>\u001b[0m in \u001b[0;36m<cell line: 4>\u001b[0;34m()\u001b[0m\n\u001b[1;32m      2\u001b[0m \u001b[0mprint\u001b[0m\u001b[0;34m(\u001b[0m\u001b[0mx\u001b[0m\u001b[0;34m/\u001b[0m\u001b[0my\u001b[0m\u001b[0;34m)\u001b[0m\u001b[0;34m\u001b[0m\u001b[0;34m\u001b[0m\u001b[0m\n\u001b[1;32m      3\u001b[0m \u001b[0mprint\u001b[0m\u001b[0;34m(\u001b[0m\u001b[0;34m\"Diffrence of x and y is:\"\u001b[0m\u001b[0;34m,\u001b[0m\u001b[0mx\u001b[0m\u001b[0;34m-\u001b[0m\u001b[0my\u001b[0m\u001b[0;34m)\u001b[0m\u001b[0;34m\u001b[0m\u001b[0;34m\u001b[0m\u001b[0m\n\u001b[0;32m----> 4\u001b[0;31m \u001b[0mprint\u001b[0m\u001b[0;34m(\u001b[0m\u001b[0;34m\"x*y=:\"\u001b[0m\u001b[0;34m+\u001b[0m\u001b[0mx\u001b[0m\u001b[0;34m*\u001b[0m\u001b[0my\u001b[0m\u001b[0;34m)\u001b[0m\u001b[0;34m\u001b[0m\u001b[0;34m\u001b[0m\u001b[0m\n\u001b[0m\u001b[1;32m      5\u001b[0m \u001b[0mprint\u001b[0m\u001b[0;34m(\u001b[0m\u001b[0mx\u001b[0m \u001b[0;34m+\u001b[0m \u001b[0;34m\"is stored in x\"\u001b[0m\u001b[0;34m)\u001b[0m\u001b[0;34m\u001b[0m\u001b[0;34m\u001b[0m\u001b[0m\n",
            "\u001b[0;31mTypeError\u001b[0m: can only concatenate str (not \"float\") to str"
          ]
        }
      ],
      "source": [
        "print(x+y)\n",
        "print(x/y)\n",
        "print(\"Diffrence of x and y is:\",x-y)\n",
        "print(\"x*y=:\"+x*y)\n",
        "print(x + \"is stored in x\")"
      ]
    },
    {
      "cell_type": "code",
      "execution_count": null,
      "metadata": {
        "colab": {
          "base_uri": "https://localhost:8080/",
          "height": 172
        },
        "id": "CSzvdCPbFT8k",
        "outputId": "d6ffba41-9e03-4af5-b66c-43e7c5aed19a"
      },
      "outputs": [
        {
          "ename": "TypeError",
          "evalue": "ignored",
          "output_type": "error",
          "traceback": [
            "\u001b[0;31m---------------------------------------------------------------------------\u001b[0m",
            "\u001b[0;31mTypeError\u001b[0m                                 Traceback (most recent call last)",
            "\u001b[0;32m<ipython-input-17-73b287d48a9a>\u001b[0m in \u001b[0;36m<cell line: 1>\u001b[0;34m()\u001b[0m\n\u001b[0;32m----> 1\u001b[0;31m \u001b[0mprint\u001b[0m\u001b[0;34m(\u001b[0m\u001b[0mx\u001b[0m \u001b[0;34m+\u001b[0m \u001b[0;34m\"is stored in x\"\u001b[0m\u001b[0;34m)\u001b[0m\u001b[0;34m\u001b[0m\u001b[0;34m\u001b[0m\u001b[0m\n\u001b[0m",
            "\u001b[0;31mTypeError\u001b[0m: unsupported operand type(s) for +: 'int' and 'str'"
          ]
        }
      ],
      "source": [
        "print(x + \"is stored in x\")"
      ]
    },
    {
      "cell_type": "markdown",
      "metadata": {
        "id": "4DMfpsQWFwHu"
      },
      "source": [
        "Write a python program to calculate the area of a circle. your program should accept the radius from a user you can assume that the users provides valide inputs only."
      ]
    },
    {
      "cell_type": "code",
      "execution_count": null,
      "metadata": {
        "colab": {
          "base_uri": "https://localhost:8080/"
        },
        "id": "bNVsTtb8FefP",
        "outputId": "9efafa17-4da1-4d31-813d-9833bd737620"
      },
      "outputs": [
        {
          "name": "stdout",
          "output_type": "stream",
          "text": [
            "Enter the radius of circle:7.7\n",
            "The area of the circle is:186.34 square unit.\n"
          ]
        }
      ],
      "source": [
        "# Get the radius from the user and converting it into a float\n",
        "radius = float(input(\"Enter the radius of circle:\"))\n",
        "# Area of a circle = (22/7)*r*r where r is the radius\n",
        "area = (22/7)*radius*radius\n",
        "print(f\"The area of the circle is:{area} square unit.\")"
      ]
    },
    {
      "cell_type": "markdown",
      "metadata": {
        "id": "fjhozZ5BH4I7"
      },
      "source": [
        "IMPLEMENTATION"
      ]
    },
    {
      "cell_type": "markdown",
      "metadata": {
        "id": "VWBqHWlRIURy"
      },
      "source": [
        "Hee is use f-strings to print the seller's name,address, etc ... so, you see the follwing codes:\n",
        "\n",
        "\n",
        "print(\"{seller_name}\")\n",
        "print(\"{seller_address}\")"
      ]
    },
    {
      "cell_type": "code",
      "execution_count": null,
      "metadata": {
        "colab": {
          "base_uri": "https://localhost:8080/"
        },
        "id": "aVxA0pPPJQEu",
        "outputId": "ba6e498e-5565-48a5-a14b-5f1a80913efe"
      },
      "outputs": [
        {
          "name": "stdout",
          "output_type": "stream",
          "text": [
            "Spencer retail\n",
            "136, Garia Station Road, \n",
            " Kolkata:700084\n"
          ]
        }
      ],
      "source": [
        "print(\"Spencer retail\")\n",
        "print(\"136, Garia Station Road, \\n Kolkata:700084\")"
      ]
    },
    {
      "cell_type": "markdown",
      "metadata": {
        "id": "Jrcto_lOKUlj"
      },
      "source": [
        "Now go through the complete implementation."
      ]
    },
    {
      "cell_type": "code",
      "execution_count": null,
      "metadata": {
        "id": "1c8ZN9slKcJm"
      },
      "outputs": [],
      "source": [
        "# Seller information\n",
        "Seller_name = \"Spencer retail\"\n",
        "Seller_address = \"136, Garia Station Road, \\n Kolkata: 700084\"\n",
        "Seller_contact = \"123-456-789\""
      ]
    },
    {
      "cell_type": "code",
      "execution_count": null,
      "metadata": {
        "colab": {
          "base_uri": "https://localhost:8080/"
        },
        "id": "16H_lqgOLldZ",
        "outputId": "808cff1e-a2dc-4dd1-fde7-1ed43a5ae664"
      },
      "outputs": [
        {
          "name": "stdout",
          "output_type": "stream",
          "text": [
            "--------------------------------------------------\n",
            "Spencer retail\n",
            "136, Garia Station Road, \n",
            " Kolkata: 700084\n"
          ]
        }
      ],
      "source": [
        "# Decorating top segement\n",
        "print(\"-\" * 50)\n",
        "print(f\"{Seller_name}\")\n",
        "print(f\"{Seller_address}\")"
      ]
    },
    {
      "cell_type": "code",
      "execution_count": null,
      "metadata": {
        "colab": {
          "base_uri": "https://localhost:8080/"
        },
        "id": "LPC9IcLgMieV",
        "outputId": "ddee67bf-d7c2-4bdf-d0a5-87dfe0faf761"
      },
      "outputs": [
        {
          "name": "stdout",
          "output_type": "stream",
          "text": [
            "--------------------------------------------------\n"
          ]
        }
      ],
      "source": [
        "print(\"-\" * 50)"
      ]
    },
    {
      "cell_type": "code",
      "execution_count": null,
      "metadata": {
        "id": "dSTg19SoMuJu"
      },
      "outputs": [],
      "source": [
        "apricot_price = 300\n",
        "dates_price = 400\n",
        "almonds_price = 500\n",
        "apri_dates_combo = (apricot_price + dates_price)*.9 # 10% discount\n",
        "dates_almon_combo = (dates_price + almonds_price)*.9 # 10% discount\n",
        "almon_apri_combo = (almonds_price + apricot_price)*.9 # 10% discount\n",
        "gift_pack = (apricot_price + dates_price + almonds_price)*.75 # 25% discout"
      ]
    },
    {
      "cell_type": "code",
      "execution_count": null,
      "metadata": {
        "colab": {
          "base_uri": "https://localhost:8080/"
        },
        "id": "Z4BzwUbOPHMe",
        "outputId": "8bc615f4-2bc7-4dad-e78e-d85333225b26"
      },
      "outputs": [
        {
          "name": "stdout",
          "output_type": "stream",
          "text": [
            "Product(s) \tPrice(per pack)\n",
            "Apricot\t\t300\n",
            "Dates\t\t400\n",
            "Almond\t\t500\n",
            "Combo-1\t\t630.0\n",
            "Combo-2\t\t810.0\n",
            "Combo-3\t\t720.0\n",
            "GiftBox\t\t900.0\n"
          ]
        }
      ],
      "source": [
        "print(\"Product(s) \\tPrice(per pack)\")\n",
        "print(f\"Apricot\\t\\t{apricot_price}\")\n",
        "print(f\"Dates\\t\\t{dates_price}\")\n",
        "print(f\"Almond\\t\\t{almonds_price}\")\n",
        "print(f\"Combo-1\\t\\t{apri_dates_combo}\")\n",
        "print(f\"Combo-2\\t\\t{dates_almon_combo}\")\n",
        "print(f\"Combo-3\\t\\t{almon_apri_combo}\")\n",
        "print(f\"GiftBox\\t\\t{gift_pack}\")"
      ]
    },
    {
      "cell_type": "code",
      "execution_count": null,
      "metadata": {
        "colab": {
          "base_uri": "https://localhost:8080/"
        },
        "id": "Tpi3bCt1R2hK",
        "outputId": "6d790c3b-1aff-4b86-baff-b9314c34b413"
      },
      "outputs": [
        {
          "name": "stdout",
          "output_type": "stream",
          "text": [
            "**************************************************\n",
            "For free delivery, contact123-456-789\n",
            "**************************************************\n"
          ]
        }
      ],
      "source": [
        "# Decorating the bottom segment.\n",
        "# It contains the contact information.\n",
        "print(\"*\" * 50)\n",
        "print(f\"For free delivery, contact{Seller_contact}\")\n",
        "print(\"*\" * 50)"
      ]
    },
    {
      "cell_type": "markdown",
      "metadata": {
        "id": "I4uIdPYfT0xv"
      },
      "source": [
        "CASE STUDY II"
      ]
    },
    {
      "cell_type": "markdown",
      "metadata": {
        "id": "4HO7SotBT5o-"
      },
      "source": [
        "CHAPTER 4: DECISION MAKING"
      ]
    },
    {
      "cell_type": "markdown",
      "metadata": {
        "id": "lExb0nHcU2zH"
      },
      "source": [
        "Using an if statement\n",
        "\n",
        "\n",
        "Let us begin with an easy program. Here I assume that I have a number variable. If its value is greater than 10, the program can tell that the current value of the variable is bigger than 10."
      ]
    },
    {
      "cell_type": "markdown",
      "metadata": {
        "id": "YisjmMcJWv1j"
      },
      "source": [
        "Demonstration I"
      ]
    },
    {
      "cell_type": "code",
      "execution_count": null,
      "metadata": {
        "colab": {
          "base_uri": "https://localhost:8080/"
        },
        "id": "XQ2AcZXHWuq_",
        "outputId": "8a66ea80-f5d9-48ec-f5ab-ae7c9b2f1e50"
      },
      "outputs": [
        {
          "name": "stdout",
          "output_type": "stream",
          "text": [
            "The current value inside a is greater than 10.\n"
          ]
        }
      ],
      "source": [
        "# Let us creat a new file and type the following into it:\n",
        "a = 11\n",
        "if a > 10:\n",
        "  print(\"The current value inside a is greater than 10.\")"
      ]
    },
    {
      "cell_type": "markdown",
      "metadata": {
        "id": "Ozo-Gx18Xn46"
      },
      "source": [
        "Using the if-else statement Statements\n",
        "\n",
        "\n",
        "There is a potential drawback in the previous program: if a is less than or equal to 10, it will not print any output. (To test this, you can change the value of a to a value less than 10 and execute the program again)"
      ]
    },
    {
      "cell_type": "markdown",
      "metadata": {
        "id": "CEgX6VzuYo2b"
      },
      "source": [
        "Demonstration\n",
        "\n",
        "\n",
        "Let us make the program better. now i add a few more lines to the previous demonstration. This time you see the use of an else statement. Go through the followig code.\n",
        "\n",
        "\n",
        "else:\n",
        "print(\"The current value of a is less than or equal to 10.\")\n",
        "\n",
        "\n",
        "\n",
        "Now you can get an output if the value of a  is than 10. To test this, let us make a = 5 and run the following program:"
      ]
    },
    {
      "cell_type": "code",
      "execution_count": null,
      "metadata": {
        "colab": {
          "base_uri": "https://localhost:8080/"
        },
        "id": "5WkY4vqkWnYQ",
        "outputId": "e7151f06-94da-4814-c61a-f7ec1f71a595"
      },
      "outputs": [
        {
          "name": "stdout",
          "output_type": "stream",
          "text": [
            "The current value of is less than or equal to 10.\n"
          ]
        }
      ],
      "source": [
        "a = 5\n",
        "if a > 10:\n",
        "  print(\"The current value inside a is greater than 10.\")\n",
        "else:\n",
        "  print(\"The current value of is less than or equal to 10.\")"
      ]
    },
    {
      "cell_type": "markdown",
      "metadata": {
        "id": "hU4KmeDJbK9f"
      },
      "source": [
        "Demonstration 3"
      ]
    },
    {
      "cell_type": "code",
      "execution_count": null,
      "metadata": {
        "colab": {
          "base_uri": "https://localhost:8080/"
        },
        "id": "g0SHt9nEbNYi",
        "outputId": "2f1ae3b6-bc1c-48cc-b75d-ce0e11b3040c"
      },
      "outputs": [
        {
          "name": "stdout",
          "output_type": "stream",
          "text": [
            "a is equal to 5.\n"
          ]
        }
      ],
      "source": [
        "a = 5\n",
        "if a ==5:\n",
        "  print(\"a is equal to 5.\")\n",
        "else:\n",
        "  print(\"a is not equal to 5.\")"
      ]
    },
    {
      "cell_type": "code",
      "execution_count": null,
      "metadata": {
        "colab": {
          "base_uri": "https://localhost:8080/"
        },
        "id": "Aolgc73chc73",
        "outputId": "695093fd-e2c5-4334-aa77-a4edf213986d"
      },
      "outputs": [
        {
          "name": "stdout",
          "output_type": "stream",
          "text": [
            "0\n",
            "1\n",
            "True\n",
            "True\n",
            "False\n"
          ]
        }
      ],
      "source": [
        "print(int(False))\n",
        "print(int(True))\n",
        "print(bool(-3))\n",
        "print(bool(5))\n",
        "print(bool(0))"
      ]
    },
    {
      "cell_type": "markdown",
      "metadata": {
        "id": "sgONVh48iFCB"
      },
      "source": [
        "Demonstration 4"
      ]
    },
    {
      "cell_type": "markdown",
      "metadata": {
        "id": "QthsXLwViumQ"
      },
      "source": [
        "!= it means as not equal to"
      ]
    },
    {
      "cell_type": "code",
      "execution_count": null,
      "metadata": {
        "colab": {
          "base_uri": "https://localhost:8080/"
        },
        "id": "quX3iTRliJQB",
        "outputId": "3bf58e4a-dc3d-4854-a2dc-858ea44d5627"
      },
      "outputs": [
        {
          "name": "stdout",
          "output_type": "stream",
          "text": [
            "a is not equal to 7\n"
          ]
        }
      ],
      "source": [
        "a = 25\n",
        "if a != 7:\n",
        "  print(\"a is not equal to 7\")\n",
        "else:\n",
        "  print(\"a is equal to 7\")"
      ]
    },
    {
      "cell_type": "markdown",
      "metadata": {
        "id": "yf3vWzjMjbJ3"
      },
      "source": [
        "Using elif an if-esle statement"
      ]
    },
    {
      "cell_type": "markdown",
      "metadata": {
        "id": "7P4l8dDHkAk2"
      },
      "source": [
        "Demonstration 5\n",
        "\n",
        "\n",
        "\n",
        "Let us type the following lines of code ad execute the program. for simplicity, i'm skipping the validation of user input. I assume that he follows the instruction properly, and he does not supply any invalid data."
      ]
    },
    {
      "cell_type": "markdown",
      "metadata": {
        "id": "h68I52PWk6N_"
      },
      "source": [
        "User_input = input(\"Enter a valid number only:\")"
      ]
    },
    {
      "cell_type": "code",
      "execution_count": null,
      "metadata": {
        "colab": {
          "base_uri": "https://localhost:8080/"
        },
        "id": "dBfpYGU3l472",
        "outputId": "77f348c9-9e7f-4d53-e6ca-b0c765f2e0a1"
      },
      "outputs": [
        {
          "name": "stdout",
          "output_type": "stream",
          "text": [
            "Enter a valid number only:10\n",
            "The number is equal to 10.\n"
          ]
        }
      ],
      "source": [
        "user_input = input(\"Enter a valid number only:\")\n",
        "# Skipping the validation of the user's input\n",
        "a = float(user_input)\n",
        "if a > 10:\n",
        "  print(\"The number is greater than 10.\")\n",
        "elif a == 10:\n",
        "  print(\"The number is equal to 10.\")\n",
        "else:\n",
        "  print(\"The number is less than 10.\")"
      ]
    },
    {
      "cell_type": "code",
      "execution_count": null,
      "metadata": {
        "colab": {
          "base_uri": "https://localhost:8080/"
        },
        "id": "THwUjAwXKYkT",
        "outputId": "35923df7-b4dc-403c-e426-a152d4fa7422"
      },
      "outputs": [
        {
          "name": "stdout",
          "output_type": "stream",
          "text": [
            "Enter your age:40.5\n",
            "He needs to pay only 4$.\n"
          ]
        }
      ],
      "source": [
        "user_input = input(\"Enter your age:\")\n",
        "# skipping the validation of the user's input\n",
        "age = float(user_input)\n",
        "if age < 10:\n",
        "  print(\"Can use the prodcut for free.\")\n",
        "elif age > 10 and age < 20:\n",
        "  print(\"He needs to pay only 1$.\")\n",
        "elif age >= 20 and age < 30:\n",
        "  print(\"He needs to pay only 2$.\")\n",
        "elif age >= 30 and age < 40:\n",
        "  print(\"He needs to pay only 3$.\")\n",
        "else:\n",
        "  print(\"He needs to pay only 4$.\")"
      ]
    },
    {
      "cell_type": "markdown",
      "metadata": {
        "id": "B3TPIPADOxVB"
      },
      "source": [
        "Demonstration 6"
      ]
    },
    {
      "cell_type": "code",
      "execution_count": null,
      "metadata": {
        "colab": {
          "base_uri": "https://localhost:8080/"
        },
        "id": "4cArUWy2O02C",
        "outputId": "fafc591a-db7e-423b-ac5b-336d8f3bdc09"
      },
      "outputs": [
        {
          "name": "stdout",
          "output_type": "stream",
          "text": [
            "Enter your age:57.3\n",
            "Please donate 4$ for the product.\n"
          ]
        }
      ],
      "source": [
        "user_input = input(\"Enter your age:\")\n",
        "# skipping the validation of the user's input\n",
        "age = float(user_input)\n",
        "if age < 10:\n",
        "  print(\"Hi Dear. you can use the product free.\")\n",
        "elif age >= 10 and age <20:\n",
        "  print(\"Please donate 1$ for the product.\")\n",
        "elif age >= 20 and age <30:\n",
        "  print(\"Please donate 2$ for the product.\")\n",
        "elif age >= 30 and age <40:\n",
        "  print(\"Please donate 3$ for the product.\")\n",
        "else:\n",
        "  print(\"Please donate 4$ for the product.\")"
      ]
    },
    {
      "cell_type": "markdown",
      "metadata": {
        "id": "PWNHPQtTQmb2"
      },
      "source": [
        "Analysis\n",
        "\n",
        "\n",
        "This program gives you an idea about how to test many conditions using if-elif-else chain. A part from this, there are several point to note in this program. The following bullet points list the important points:\n",
        "\n",
        "\n",
        "\n",
        "you can improve the following code. for example, you can replace the code.\n",
        "\n",
        "Using the following code: elif 10 <= age <20:\n",
        "\n",
        "\n",
        "other code elif(age>=20) and (age<30):"
      ]
    },
    {
      "cell_type": "code",
      "execution_count": null,
      "metadata": {
        "id": "C00TTqQwSnjX"
      },
      "outputs": [],
      "source": [
        "if age <10:\n",
        "  print(\"Hi Dear. You can use the product for free.\")\n",
        "  print(\"Thankou for choosing the product.\")"
      ]
    },
    {
      "cell_type": "markdown",
      "metadata": {
        "id": "nrBj6FkNTRo9"
      },
      "source": [
        "Tautology and contadictions\n",
        "\n",
        "\n",
        "\n",
        "You should be careful about your logic. sometimes the result of the compound expressions is always False. For example, if you write:\n",
        "\n",
        "\n",
        "\n",
        "if a <5 and a > 7: this conditon can not be satisfied.\n",
        "print(\"This condition can not be satisfied.\")\n"
      ]
    },
    {
      "cell_type": "markdown",
      "metadata": {
        "id": "GXitB-3MUv1x"
      },
      "source": [
        "Alternative Designs\n",
        "\n",
        "\n",
        "\n",
        "sometimes you may see the alternative designs in a similar context. i do not recommend these practices, but i want you to note that python does not complain if you follow them. let us look into them."
      ]
    },
    {
      "cell_type": "markdown",
      "metadata": {
        "id": "1-9lyIk2VXvz"
      },
      "source": [
        "Demonstratins 7\n",
        "\n",
        "\n",
        "\n",
        "In demonstation 5 you saw the use of if-elif-else chain. Her you see a program that uses the if-else chain. write the following program and execute it."
      ]
    },
    {
      "cell_type": "code",
      "execution_count": null,
      "metadata": {
        "colab": {
          "base_uri": "https://localhost:8080/"
        },
        "id": "KjXW1tVDV7-S",
        "outputId": "fefb2a42-e47f-40ea-da79-3556cacb6360"
      },
      "outputs": [
        {
          "name": "stdout",
          "output_type": "stream",
          "text": [
            "Enter the valid number only:1\n",
            "The number is less than ten\n"
          ]
        }
      ],
      "source": [
        "user_input = input(\"Enter the valid number only:\")\n",
        "# For simplicity, skipping the validation of user's input\n",
        "a = float(user_input)\n",
        "if a >10:\n",
        "  print(\"The number is greater than 10.\")\n",
        "else:\n",
        "  if a == 10:\n",
        "    print(\"The number is equal to ten.\")\n",
        "  else:\n",
        "      print(\"The number is less than ten\")"
      ]
    },
    {
      "cell_type": "code",
      "execution_count": null,
      "metadata": {
        "id": "EvuK_1drXgab",
        "colab": {
          "base_uri": "https://localhost:8080/"
        },
        "outputId": "c6795f16-978f-4a4b-9ec2-94954a71381f"
      },
      "outputs": [
        {
          "output_type": "stream",
          "name": "stdout",
          "text": [
            "Enter a valid number only:5\n",
            "The number is greater than zero but less than 1.\n"
          ]
        }
      ],
      "source": [
        "user_input = input(\"Enter a valid number only:\")\n",
        "# For simplicity, skipping the validation of user's input\n",
        "a = float(user_input)\n",
        "if a < 0:\n",
        "  print(\"The number is less than zero\")\n",
        "else:\n",
        "  if a > 1:\n",
        "    print(\"The number is greater than zero but less than 1.\")\n",
        "  else:\n",
        "    if a == 1:\n",
        "      print(\"The number is equal to 1.\")\n",
        "    else:\n",
        "      if a == 2:\n",
        "        print(\"The number is equal to 2.\")\n",
        "      else:\n",
        "        if a == 3:\n",
        "          print(\"The number is equal to 3.\")\n",
        "        else:\n",
        "          print(\"The number is greater than 3.\")"
      ]
    },
    {
      "cell_type": "markdown",
      "metadata": {
        "id": "_yIFJ8vJcqfH"
      },
      "source": [
        "You can see that as the numbers of conditons grows, the texts are driftings to the rights side. This gives yu the idea about: what do i prefer an if-elif-else chain in this case. For me is a better option and more manageable."
      ]
    },
    {
      "cell_type": "markdown",
      "metadata": {
        "id": "ptKDWp26dTZb"
      },
      "source": [
        "Demonstration 8\n",
        "\n",
        "\n",
        "\n",
        "Let us explore another way of using a simple if statements to check a condition. again, i do not recommend this. i include this for one reason. it should not suprise you when you see similar constructs in other peoples code.\n",
        "\n",
        "\n",
        "\n",
        "\n",
        "in this program, i divide a number by another number. you konow that in thsi case, the divisor should not be zero. so, you can write a simple program like the following:"
      ]
    },
    {
      "cell_type": "code",
      "execution_count": null,
      "metadata": {
        "colab": {
          "base_uri": "https://localhost:8080/"
        },
        "id": "YXRRUgqFeuhd",
        "outputId": "75ef8709-5b11-4837-ad10-93451cf92443"
      },
      "outputs": [
        {
          "name": "stdout",
          "output_type": "stream",
          "text": [
            "Enter valide integer for the divinded:24\n",
            "Enter a valid integer for the divisor3\n",
            "Division successful. The result is:8.0\n"
          ]
        }
      ],
      "source": [
        "a = input(\"Enter valide integer for the divinded:\")\n",
        "b = input(\"Enter a valid integer for the divisor\")\n",
        "# Skipping the input validation...\n",
        "dividend = int(a)\n",
        "divisor = int(b)\n",
        "if divisor!= 0:\n",
        "  result = dividend/divisor\n",
        "  print(f\"Division successful. The result is:{result}\")\n",
        "else:\n",
        "  print(\"You can not proceed the divisor is 0.\")"
      ]
    },
    {
      "cell_type": "markdown",
      "metadata": {
        "id": "zkBHkdIuo7Im"
      },
      "source": [
        "EXERCICES"
      ]
    },
    {
      "cell_type": "markdown",
      "metadata": {
        "id": "ASrq2FzZqQIS"
      },
      "source": [
        "E4.1 Is there any error in the following code?"
      ]
    },
    {
      "cell_type": "code",
      "execution_count": null,
      "metadata": {
        "id": "XvRtuOw-eraB"
      },
      "outputs": [],
      "source": [
        "a = 5\n",
        "if a > 10:\n",
        "  print(\"The number greater than 10.\")\n",
        "elif a == 10:\n",
        "  print(\"The number is equal to 10.\")"
      ]
    },
    {
      "cell_type": "markdown",
      "metadata": {
        "id": "xFNsZ6vlrWkW"
      },
      "source": [
        "No, there is no problem because it is not mandatory to place an else block at the end of an if-elif chain. but in this case, you will not receive any output. it is because neither the condition of the if block nor the condition of the elif block is satisfied"
      ]
    },
    {
      "cell_type": "markdown",
      "metadata": {
        "id": "JIOX8sNIsh1x"
      },
      "source": [
        "Predict the output"
      ]
    },
    {
      "cell_type": "code",
      "execution_count": null,
      "metadata": {
        "colab": {
          "base_uri": "https://localhost:8080/"
        },
        "id": "HPhkGF5osakk",
        "outputId": "39fe4f79-0aaa-4247-f394-ce70fa41a7aa"
      },
      "outputs": [
        {
          "name": "stdout",
          "output_type": "stream",
          "text": [
            "The condition will never be satisfied.\n"
          ]
        }
      ],
      "source": [
        "a = 5\n",
        "if a < 7 and a > 9:\n",
        "  print(\"The conditon is satisfied.\")\n",
        "else:\n",
        "  print(\"The condition will never be satisfied.\")"
      ]
    },
    {
      "cell_type": "markdown",
      "metadata": {
        "id": "84Mgc8y0tQwj"
      },
      "source": [
        "Explanation:\n",
        "\n",
        "\n",
        "\n",
        "It is an example of contradiction. In other the words, the results of the compound expressions is always False in this case.\n",
        "      In this case, if you replace and with or, then the if condition can be satisfied"
      ]
    },
    {
      "cell_type": "markdown",
      "metadata": {
        "id": "JKhNP4z5uJSR"
      },
      "source": [
        "4.3 Predict the output"
      ]
    },
    {
      "cell_type": "code",
      "execution_count": null,
      "metadata": {
        "colab": {
          "base_uri": "https://localhost:8080/"
        },
        "id": "N7C1MapmuZcs",
        "outputId": "a969f394-a1ea-4161-9972-98669ccf7d2e"
      },
      "outputs": [
        {
          "name": "stdout",
          "output_type": "stream",
          "text": [
            "The condition is not satisfied.number=0\n"
          ]
        }
      ],
      "source": [
        "number = 0\n",
        "# number = -34\n",
        "if number:\n",
        "  print(f\"The condition is satisfied.number={number}\")\n",
        "else:\n",
        "  print(f\"The condition is not satisfied.number={number}\")"
      ]
    },
    {
      "cell_type": "markdown",
      "metadata": {
        "id": "Q0jA9fSjvE6X"
      },
      "source": [
        "The condition is not satisfied.number = 0\n",
        "\n",
        "\n",
        "Explanation:\n",
        "\n",
        "\n",
        "\n",
        "In python3.x programming, when you convert int to bool, except 0, python evaluates all to True. i have already shown you an example in the chapter. You can refer to that discussion if needed."
      ]
    },
    {
      "cell_type": "markdown",
      "metadata": {
        "id": "Rt2YBDgcwDEM"
      },
      "source": [
        "4.4 Give an example of tautology"
      ]
    },
    {
      "cell_type": "markdown",
      "metadata": {
        "id": "T8lz64zUwSwX"
      },
      "source": [
        "Let us say my number is a number variable. So, the following expression:\n",
        "\n",
        "\n",
        "\n",
        "my_number>0 or my_number<=0 is always True. So, it is an example of tautology."
      ]
    },
    {
      "cell_type": "markdown",
      "metadata": {
        "id": "lRZC08Lpw9BH"
      },
      "source": [
        "4.5 Give an example of a contradiction."
      ]
    },
    {
      "cell_type": "markdown",
      "metadata": {
        "id": "9oFCqlyBxTk7"
      },
      "source": [
        "See the exercice 4.2"
      ]
    },
    {
      "cell_type": "markdown",
      "metadata": {
        "id": "zxZNKmhHxeZg"
      },
      "source": [
        "CS 2.1 IMPLEMENTATION"
      ]
    },
    {
      "cell_type": "markdown",
      "metadata": {
        "id": "wY-CrehgypT9"
      },
      "source": [
        "I start tree unique expressions in this project. when you run this application, you get a unique expression in each run. For example, in the sample output you can see that in run, you get an expression 12*8%3. but in a different run, you get a new expression: 12+(2*3)/4. To give it more dynamic behavior, i change the data in a particular type of expression too. For example, in one run, you may see the expression: 12*8%3, but in a different run, you may see 11*8%3. It is because i replace some data in these initial expressions with random data in each run. To do this, I import the randint() function. The randint(a,b) can return a random integer in the range [a,b] including both endpoints. I talked about this function in chapter3.\n",
        "                              The following code segment with supporting comments can explain it:"
      ]
    },
    {
      "cell_type": "code",
      "execution_count": null,
      "metadata": {
        "id": "2fmXwWWI3vCV"
      },
      "outputs": [],
      "source": [
        "from random import randint\n",
        "x = randint(10,12)\n",
        "question1 = \"2*3-4\"\n",
        "# Replacing 2 in question1 with x\n",
        "question1 = question1.replace(\"2\",str(x))\n",
        "question2 = \"1+(*3)/4\"\n",
        "# Replacing 1 in the question2 with x\n",
        "question2 = question2.replace(\"1\", str(x))\n",
        "question3 = \"5*8%3\"\n",
        "# Replacing 5 in question 3with x\n",
        "question3 = question3.replace(\"5\", str(x))\n"
      ]
    },
    {
      "cell_type": "markdown",
      "metadata": {
        "id": "bzX538jy6jM-"
      },
      "source": [
        "I use anther import focntion eval() in this implementation. This fucntion as tree parameters, the first one is mandatory and the last two are optional. i do not need these optional parameters now. we can pass a string to eval() that can evaluate it as a python expression. To show how it works, i represent you following code segment:"
      ]
    },
    {
      "cell_type": "code",
      "execution_count": null,
      "metadata": {
        "colab": {
          "base_uri": "https://localhost:8080/"
        },
        "id": "LcKq6N-b7kVj",
        "outputId": "5b18f791-b8da-4724-b012-8c7fbb6ed36d"
      },
      "outputs": [
        {
          "name": "stdout",
          "output_type": "stream",
          "text": [
            "6\n"
          ]
        }
      ],
      "source": [
        "print(eval(\"1+2+3\"))"
      ]
    },
    {
      "cell_type": "code",
      "execution_count": null,
      "metadata": {
        "colab": {
          "base_uri": "https://localhost:8080/"
        },
        "id": "Lnu9qlGC7vsH",
        "outputId": "7975f76d-421f-4a8f-ef96-74b3fb942a84"
      },
      "outputs": [
        {
          "name": "stdout",
          "output_type": "stream",
          "text": [
            "12\n"
          ]
        }
      ],
      "source": [
        "print(eval(\"2*5+2\"))"
      ]
    },
    {
      "cell_type": "markdown",
      "metadata": {
        "id": "EOkmGZ-x8_sD"
      },
      "source": [
        "Now you are ready to go through the complete implementtion. Here is the complete code:"
      ]
    },
    {
      "cell_type": "code",
      "execution_count": null,
      "metadata": {
        "colab": {
          "base_uri": "https://localhost:8080/"
        },
        "id": "TpsJPdiaBTb2",
        "outputId": "6a3d9bb9-561e-4c95-806e-a54fdd3197cc"
      },
      "outputs": [
        {
          "name": "stdout",
          "output_type": "stream",
          "text": [
            "Predict the value of the following expression:10+(2*3)/4\n",
            "Enter your answer:14\n",
            "Your answer is wrong\n",
            "The correct answer is :11.5\n"
          ]
        }
      ],
      "source": [
        "from random import randint\n",
        "x = randint(10,12)\n",
        "# First question with initial data\n",
        "question1 = \"2*3-4\"\n",
        "# Replacing 2 in question1 with x\n",
        "question1 = question1.replace(\"2\",str(x))\n",
        "# Second question with initial data\n",
        "question2 = \"1+(2*3)/4\"\n",
        "# Replacing 1 in question2 with x\n",
        "question2 = question2.replace(\"1\",str(x))\n",
        "# Third question with initial data\n",
        "question3 = \"5*8%3\"\n",
        "# Replacing 5 in question3 with x\n",
        "question3 = question3.replace(\"5\",str(x))\n",
        "\n",
        "\n",
        "# the randint(1,3) fucntion returns a number\n",
        "# between 1 and 3 (both included)\n",
        "pick_question = randint(1,3)\n",
        "if pick_question ==1:\n",
        "  quiz = question1\n",
        "elif pick_question == 2:\n",
        "  quiz = question2\n",
        "else:\n",
        "  quiz = question3\n",
        "print(f\"Predict the value of the following expression:{quiz}\")\n",
        "# user's input\n",
        "user_input = input(\"Enter your answer:\")\n",
        "# converting it to float\n",
        "predicted_value = float(user_input)\n",
        "actual_value = eval(quiz)\n",
        "if predicted_value == actual_value:\n",
        "  print(\"Correct answer\")\n",
        "else:\n",
        "  print(\"Your answer is wrong\")\n",
        "  print(f\"The correct answer is :{actual_value}\")"
      ]
    },
    {
      "cell_type": "markdown",
      "metadata": {
        "id": "zITtAXUSLs6t"
      },
      "source": [
        "Chapter 5: Iteration using loops"
      ]
    },
    {
      "cell_type": "markdown",
      "metadata": {
        "id": "DaPkombuLzzu"
      },
      "source": [
        "is used for repetition in programming, when you write a program or or implement an algorithm, you may need to iterate over a certain part of the code until a specific conditons meets."
      ]
    },
    {
      "cell_type": "markdown",
      "metadata": {
        "id": "PpOTPx_GM4Ns"
      },
      "source": [
        "The purpose of iteration"
      ]
    },
    {
      "cell_type": "code",
      "execution_count": null,
      "metadata": {
        "colab": {
          "base_uri": "https://localhost:8080/"
        },
        "id": "bbUXlwqDNKGg",
        "outputId": "5ce1189b-a099-4aab-88dc-e4e23178a4bc"
      },
      "outputs": [
        {
          "name": "stdout",
          "output_type": "stream",
          "text": [
            "Printing 1 to 3:\n",
            "1\n",
            "2\n",
            "3\n"
          ]
        }
      ],
      "source": [
        "print(\"Printing 1 to 3:\")\n",
        "print(1)\n",
        "print(2)\n",
        "print(3)"
      ]
    },
    {
      "cell_type": "markdown",
      "metadata": {
        "id": "WJvjy_RKSCly"
      },
      "source": [
        "There are dofferent loop statements\n",
        "\n",
        "\n",
        "\n",
        "You can them at your convenience. For now, let's starts while loops."
      ]
    },
    {
      "cell_type": "markdown",
      "metadata": {
        "id": "zOH8dIkhSm0A"
      },
      "source": [
        "The While Loop"
      ]
    },
    {
      "cell_type": "markdown",
      "metadata": {
        "id": "U7Rsn9FBSuI3"
      },
      "source": [
        "The while loop continues executing as long as a certain condition is True. it has a following form:\n",
        "\n",
        "\n",
        "while \"Your specified conditions\":\n",
        "\n",
        "\n",
        "statement-1\n",
        "statement-2\n",
        "statement-3\n",
        "..."
      ]
    },
    {
      "cell_type": "markdown",
      "metadata": {
        "id": "ZATAX9MmTpQ2"
      },
      "source": [
        "Demonstration 1"
      ]
    },
    {
      "cell_type": "markdown",
      "metadata": {
        "id": "Zqpt4PGDVSu5"
      },
      "source": [
        "I have created the file while_loop_ex_1.py. It has the following content:"
      ]
    },
    {
      "cell_type": "code",
      "execution_count": null,
      "metadata": {
        "colab": {
          "base_uri": "https://localhost:8080/"
        },
        "id": "0Q_wwwoBToj5",
        "outputId": "c7a9630e-56bb-4f89-d6c6-bfdbee85845b"
      },
      "outputs": [
        {
          "name": "stdout",
          "output_type": "stream",
          "text": [
            "Printing 1 to 10 using while loop:\n",
            "1\n",
            "2\n",
            "3\n",
            "4\n",
            "5\n",
            "6\n",
            "7\n",
            "8\n",
            "9\n",
            "10\n",
            "Job has been done. Exit from the while loop.\n"
          ]
        }
      ],
      "source": [
        "# Printing 1 to 10 using while loop\n",
        "print(\"Printing 1 to 10 using while loop:\")\n",
        "current_value = 1\n",
        "while current_value <= 10:\n",
        "  print(current_value)\n",
        "  # incrementing the value\n",
        "  # Following line is a shortcut for:\n",
        "  # current_value = current_value + 1\n",
        "  current_value +=1\n",
        "# This statement is placed outside the while loop\n",
        "print(\"Job has been done. Exit from the while loop.\")"
      ]
    },
    {
      "cell_type": "markdown",
      "metadata": {
        "id": "wwSc9MP8Xgo2"
      },
      "source": [
        "Demonstration 2\n",
        "\n",
        "\n",
        "\n",
        "Here is the complete program."
      ]
    },
    {
      "cell_type": "code",
      "execution_count": null,
      "metadata": {
        "colab": {
          "background_save": true,
          "base_uri": "https://localhost:8080/"
        },
        "id": "FralONqiXjiO",
        "outputId": "b75e171f-aab6-4f0b-a7fe-3c6d419beb1a"
      },
      "outputs": [
        {
          "name": "stdout",
          "output_type": "stream",
          "text": [
            "\u001b[1;30;43mStreaming output truncated to the last 5000 lines.\u001b[0m\n",
            "I can not come out from the loop.i=0.\n",
            "I can not come out from the loop.i=0.\n",
            "I can not come out from the loop.i=0.\n",
            "I can not come out from the loop.i=0.\n",
            "I can not come out from the loop.i=0.\n",
            "I can not come out from the loop.i=0.\n",
            "I can not come out from the loop.i=0.\n",
            "I can not come out from the loop.i=0.\n",
            "I can not come out from the loop.i=0.\n",
            "I can not come out from the loop.i=0.\n",
            "I can not come out from the loop.i=0.\n",
            "I can not come out from the loop.i=0.\n",
            "I can not come out from the loop.i=0.\n",
            "I can not come out from the loop.i=0.\n",
            "I can not come out from the loop.i=0.\n",
            "I can not come out from the loop.i=0.\n",
            "I can not come out from the loop.i=0.\n",
            "I can not come out from the loop.i=0.\n",
            "I can not come out from the loop.i=0.\n",
            "I can not come out from the loop.i=0.\n",
            "I can not come out from the loop.i=0.\n",
            "I can not come out from the loop.i=0.\n",
            "I can not come out from the loop.i=0.\n",
            "I can not come out from the loop.i=0.\n",
            "I can not come out from the loop.i=0.\n",
            "I can not come out from the loop.i=0.\n",
            "I can not come out from the loop.i=0.\n",
            "I can not come out from the loop.i=0.\n",
            "I can not come out from the loop.i=0.\n",
            "I can not come out from the loop.i=0.\n",
            "I can not come out from the loop.i=0.\n",
            "I can not come out from the loop.i=0.\n",
            "I can not come out from the loop.i=0.\n",
            "I can not come out from the loop.i=0.\n",
            "I can not come out from the loop.i=0.\n",
            "I can not come out from the loop.i=0.\n",
            "I can not come out from the loop.i=0.\n",
            "I can not come out from the loop.i=0.\n",
            "I can not come out from the loop.i=0.\n",
            "I can not come out from the loop.i=0.\n",
            "I can not come out from the loop.i=0.\n",
            "I can not come out from the loop.i=0.\n",
            "I can not come out from the loop.i=0.\n",
            "I can not come out from the loop.i=0.\n",
            "I can not come out from the loop.i=0.\n",
            "I can not come out from the loop.i=0.\n",
            "I can not come out from the loop.i=0.\n",
            "I can not come out from the loop.i=0.\n",
            "I can not come out from the loop.i=0.\n",
            "I can not come out from the loop.i=0.\n",
            "I can not come out from the loop.i=0.\n",
            "I can not come out from the loop.i=0.\n",
            "I can not come out from the loop.i=0.\n",
            "I can not come out from the loop.i=0.\n",
            "I can not come out from the loop.i=0.\n",
            "I can not come out from the loop.i=0.\n",
            "I can not come out from the loop.i=0.\n",
            "I can not come out from the loop.i=0.\n",
            "I can not come out from the loop.i=0.\n",
            "I can not come out from the loop.i=0.\n",
            "I can not come out from the loop.i=0.\n",
            "I can not come out from the loop.i=0.\n",
            "I can not come out from the loop.i=0.\n",
            "I can not come out from the loop.i=0.\n",
            "I can not come out from the loop.i=0.\n",
            "I can not come out from the loop.i=0.\n",
            "I can not come out from the loop.i=0.\n",
            "I can not come out from the loop.i=0.\n",
            "I can not come out from the loop.i=0.\n",
            "I can not come out from the loop.i=0.\n",
            "I can not come out from the loop.i=0.\n",
            "I can not come out from the loop.i=0.\n",
            "I can not come out from the loop.i=0.\n",
            "I can not come out from the loop.i=0.\n",
            "I can not come out from the loop.i=0.\n",
            "I can not come out from the loop.i=0.\n",
            "I can not come out from the loop.i=0.\n",
            "I can not come out from the loop.i=0.\n",
            "I can not come out from the loop.i=0.\n",
            "I can not come out from the loop.i=0.\n",
            "I can not come out from the loop.i=0.\n",
            "I can not come out from the loop.i=0.\n",
            "I can not come out from the loop.i=0.\n",
            "I can not come out from the loop.i=0.\n",
            "I can not come out from the loop.i=0.\n",
            "I can not come out from the loop.i=0.\n",
            "I can not come out from the loop.i=0.\n",
            "I can not come out from the loop.i=0.\n",
            "I can not come out from the loop.i=0.\n",
            "I can not come out from the loop.i=0.\n",
            "I can not come out from the loop.i=0.\n",
            "I can not come out from the loop.i=0.\n",
            "I can not come out from the loop.i=0.\n",
            "I can not come out from the loop.i=0.\n",
            "I can not come out from the loop.i=0.\n",
            "I can not come out from the loop.i=0.\n",
            "I can not come out from the loop.i=0.\n",
            "I can not come out from the loop.i=0.\n",
            "I can not come out from the loop.i=0.\n",
            "I can not come out from the loop.i=0.\n",
            "I can not come out from the loop.i=0.\n",
            "I can not come out from the loop.i=0.\n",
            "I can not come out from the loop.i=0.\n",
            "I can not come out from the loop.i=0.\n",
            "I can not come out from the loop.i=0.\n",
            "I can not come out from the loop.i=0.\n",
            "I can not come out from the loop.i=0.\n",
            "I can not come out from the loop.i=0.\n",
            "I can not come out from the loop.i=0.\n",
            "I can not come out from the loop.i=0.\n",
            "I can not come out from the loop.i=0.\n",
            "I can not come out from the loop.i=0.\n",
            "I can not come out from the loop.i=0.\n",
            "I can not come out from the loop.i=0.\n",
            "I can not come out from the loop.i=0.\n",
            "I can not come out from the loop.i=0.\n",
            "I can not come out from the loop.i=0.\n",
            "I can not come out from the loop.i=0.\n",
            "I can not come out from the loop.i=0.\n",
            "I can not come out from the loop.i=0.\n",
            "I can not come out from the loop.i=0.\n",
            "I can not come out from the loop.i=0.\n",
            "I can not come out from the loop.i=0.\n",
            "I can not come out from the loop.i=0.\n",
            "I can not come out from the loop.i=0.\n",
            "I can not come out from the loop.i=0.\n",
            "I can not come out from the loop.i=0.\n",
            "I can not come out from the loop.i=0.\n",
            "I can not come out from the loop.i=0.\n",
            "I can not come out from the loop.i=0.\n",
            "I can not come out from the loop.i=0.\n",
            "I can not come out from the loop.i=0.\n",
            "I can not come out from the loop.i=0.\n",
            "I can not come out from the loop.i=0.\n",
            "I can not come out from the loop.i=0.\n",
            "I can not come out from the loop.i=0.\n",
            "I can not come out from the loop.i=0.\n",
            "I can not come out from the loop.i=0.\n",
            "I can not come out from the loop.i=0.\n",
            "I can not come out from the loop.i=0.\n",
            "I can not come out from the loop.i=0.\n",
            "I can not come out from the loop.i=0.\n",
            "I can not come out from the loop.i=0.\n",
            "I can not come out from the loop.i=0.\n",
            "I can not come out from the loop.i=0.\n",
            "I can not come out from the loop.i=0.\n",
            "I can not come out from the loop.i=0.\n",
            "I can not come out from the loop.i=0.\n",
            "I can not come out from the loop.i=0.\n",
            "I can not come out from the loop.i=0.\n",
            "I can not come out from the loop.i=0.\n",
            "I can not come out from the loop.i=0.\n",
            "I can not come out from the loop.i=0.\n",
            "I can not come out from the loop.i=0.\n",
            "I can not come out from the loop.i=0.\n",
            "I can not come out from the loop.i=0.\n",
            "I can not come out from the loop.i=0.\n",
            "I can not come out from the loop.i=0.\n",
            "I can not come out from the loop.i=0.\n",
            "I can not come out from the loop.i=0.\n",
            "I can not come out from the loop.i=0.\n",
            "I can not come out from the loop.i=0.\n",
            "I can not come out from the loop.i=0.\n",
            "I can not come out from the loop.i=0.\n",
            "I can not come out from the loop.i=0.\n",
            "I can not come out from the loop.i=0.\n",
            "I can not come out from the loop.i=0.\n",
            "I can not come out from the loop.i=0.\n",
            "I can not come out from the loop.i=0.\n",
            "I can not come out from the loop.i=0.\n",
            "I can not come out from the loop.i=0.\n",
            "I can not come out from the loop.i=0.\n",
            "I can not come out from the loop.i=0.\n",
            "I can not come out from the loop.i=0.\n",
            "I can not come out from the loop.i=0.\n",
            "I can not come out from the loop.i=0.\n",
            "I can not come out from the loop.i=0.\n",
            "I can not come out from the loop.i=0.\n",
            "I can not come out from the loop.i=0.\n",
            "I can not come out from the loop.i=0.\n",
            "I can not come out from the loop.i=0.\n",
            "I can not come out from the loop.i=0.\n",
            "I can not come out from the loop.i=0.\n",
            "I can not come out from the loop.i=0.\n",
            "I can not come out from the loop.i=0.\n",
            "I can not come out from the loop.i=0.\n",
            "I can not come out from the loop.i=0.\n",
            "I can not come out from the loop.i=0.\n",
            "I can not come out from the loop.i=0.\n",
            "I can not come out from the loop.i=0.\n",
            "I can not come out from the loop.i=0.\n",
            "I can not come out from the loop.i=0.\n",
            "I can not come out from the loop.i=0.\n",
            "I can not come out from the loop.i=0.\n",
            "I can not come out from the loop.i=0.\n",
            "I can not come out from the loop.i=0.\n",
            "I can not come out from the loop.i=0.\n",
            "I can not come out from the loop.i=0.\n",
            "I can not come out from the loop.i=0.\n",
            "I can not come out from the loop.i=0.\n",
            "I can not come out from the loop.i=0.\n",
            "I can not come out from the loop.i=0.\n",
            "I can not come out from the loop.i=0.\n",
            "I can not come out from the loop.i=0.\n",
            "I can not come out from the loop.i=0.\n",
            "I can not come out from the loop.i=0.\n",
            "I can not come out from the loop.i=0.\n",
            "I can not come out from the loop.i=0.\n",
            "I can not come out from the loop.i=0.\n",
            "I can not come out from the loop.i=0.\n",
            "I can not come out from the loop.i=0.\n",
            "I can not come out from the loop.i=0.\n",
            "I can not come out from the loop.i=0.\n",
            "I can not come out from the loop.i=0.\n",
            "I can not come out from the loop.i=0.\n",
            "I can not come out from the loop.i=0.\n",
            "I can not come out from the loop.i=0.\n",
            "I can not come out from the loop.i=0.\n",
            "I can not come out from the loop.i=0.\n",
            "I can not come out from the loop.i=0.\n",
            "I can not come out from the loop.i=0.\n",
            "I can not come out from the loop.i=0.\n",
            "I can not come out from the loop.i=0.\n",
            "I can not come out from the loop.i=0.\n",
            "I can not come out from the loop.i=0.\n",
            "I can not come out from the loop.i=0.\n",
            "I can not come out from the loop.i=0.\n",
            "I can not come out from the loop.i=0.\n",
            "I can not come out from the loop.i=0.\n",
            "I can not come out from the loop.i=0.\n",
            "I can not come out from the loop.i=0.\n",
            "I can not come out from the loop.i=0.\n",
            "I can not come out from the loop.i=0.\n",
            "I can not come out from the loop.i=0.\n",
            "I can not come out from the loop.i=0.\n",
            "I can not come out from the loop.i=0.\n",
            "I can not come out from the loop.i=0.\n",
            "I can not come out from the loop.i=0.\n",
            "I can not come out from the loop.i=0.\n",
            "I can not come out from the loop.i=0.\n",
            "I can not come out from the loop.i=0.\n",
            "I can not come out from the loop.i=0.\n",
            "I can not come out from the loop.i=0.\n",
            "I can not come out from the loop.i=0.\n",
            "I can not come out from the loop.i=0.\n",
            "I can not come out from the loop.i=0.\n",
            "I can not come out from the loop.i=0.\n",
            "I can not come out from the loop.i=0.\n",
            "I can not come out from the loop.i=0.\n",
            "I can not come out from the loop.i=0.\n",
            "I can not come out from the loop.i=0.\n",
            "I can not come out from the loop.i=0.\n",
            "I can not come out from the loop.i=0.\n",
            "I can not come out from the loop.i=0.\n",
            "I can not come out from the loop.i=0.\n",
            "I can not come out from the loop.i=0.\n",
            "I can not come out from the loop.i=0.\n",
            "I can not come out from the loop.i=0.\n",
            "I can not come out from the loop.i=0.\n",
            "I can not come out from the loop.i=0.\n",
            "I can not come out from the loop.i=0.\n",
            "I can not come out from the loop.i=0.\n",
            "I can not come out from the loop.i=0.\n",
            "I can not come out from the loop.i=0.\n",
            "I can not come out from the loop.i=0.\n",
            "I can not come out from the loop.i=0.\n",
            "I can not come out from the loop.i=0.\n",
            "I can not come out from the loop.i=0.\n",
            "I can not come out from the loop.i=0.\n",
            "I can not come out from the loop.i=0.\n",
            "I can not come out from the loop.i=0.\n",
            "I can not come out from the loop.i=0.\n",
            "I can not come out from the loop.i=0.\n",
            "I can not come out from the loop.i=0.\n",
            "I can not come out from the loop.i=0.\n",
            "I can not come out from the loop.i=0.\n",
            "I can not come out from the loop.i=0.\n",
            "I can not come out from the loop.i=0.\n",
            "I can not come out from the loop.i=0.\n",
            "I can not come out from the loop.i=0.\n",
            "I can not come out from the loop.i=0.\n",
            "I can not come out from the loop.i=0.\n",
            "I can not come out from the loop.i=0.\n",
            "I can not come out from the loop.i=0.\n",
            "I can not come out from the loop.i=0.\n",
            "I can not come out from the loop.i=0.\n",
            "I can not come out from the loop.i=0.\n",
            "I can not come out from the loop.i=0.\n",
            "I can not come out from the loop.i=0.\n",
            "I can not come out from the loop.i=0.\n",
            "I can not come out from the loop.i=0.\n",
            "I can not come out from the loop.i=0.\n",
            "I can not come out from the loop.i=0.\n",
            "I can not come out from the loop.i=0.\n",
            "I can not come out from the loop.i=0.\n",
            "I can not come out from the loop.i=0.\n",
            "I can not come out from the loop.i=0.\n",
            "I can not come out from the loop.i=0.\n",
            "I can not come out from the loop.i=0.\n",
            "I can not come out from the loop.i=0.\n",
            "I can not come out from the loop.i=0.\n",
            "I can not come out from the loop.i=0.\n",
            "I can not come out from the loop.i=0.\n",
            "I can not come out from the loop.i=0.\n",
            "I can not come out from the loop.i=0.\n",
            "I can not come out from the loop.i=0.\n",
            "I can not come out from the loop.i=0.\n",
            "I can not come out from the loop.i=0.\n",
            "I can not come out from the loop.i=0.\n",
            "I can not come out from the loop.i=0.\n",
            "I can not come out from the loop.i=0.\n",
            "I can not come out from the loop.i=0.\n",
            "I can not come out from the loop.i=0.\n",
            "I can not come out from the loop.i=0.\n",
            "I can not come out from the loop.i=0.\n",
            "I can not come out from the loop.i=0.\n",
            "I can not come out from the loop.i=0.\n",
            "I can not come out from the loop.i=0.\n",
            "I can not come out from the loop.i=0.\n",
            "I can not come out from the loop.i=0.\n",
            "I can not come out from the loop.i=0.\n",
            "I can not come out from the loop.i=0.\n",
            "I can not come out from the loop.i=0.\n",
            "I can not come out from the loop.i=0.\n",
            "I can not come out from the loop.i=0.\n",
            "I can not come out from the loop.i=0.\n",
            "I can not come out from the loop.i=0.\n",
            "I can not come out from the loop.i=0.\n",
            "I can not come out from the loop.i=0.\n",
            "I can not come out from the loop.i=0.\n",
            "I can not come out from the loop.i=0.\n",
            "I can not come out from the loop.i=0.\n",
            "I can not come out from the loop.i=0.\n",
            "I can not come out from the loop.i=0.\n",
            "I can not come out from the loop.i=0.\n",
            "I can not come out from the loop.i=0.\n",
            "I can not come out from the loop.i=0.\n",
            "I can not come out from the loop.i=0.\n",
            "I can not come out from the loop.i=0.\n",
            "I can not come out from the loop.i=0.\n",
            "I can not come out from the loop.i=0.\n",
            "I can not come out from the loop.i=0.\n",
            "I can not come out from the loop.i=0.\n",
            "I can not come out from the loop.i=0.\n",
            "I can not come out from the loop.i=0.\n",
            "I can not come out from the loop.i=0.\n",
            "I can not come out from the loop.i=0.\n",
            "I can not come out from the loop.i=0.\n",
            "I can not come out from the loop.i=0.\n",
            "I can not come out from the loop.i=0.\n",
            "I can not come out from the loop.i=0.\n",
            "I can not come out from the loop.i=0.\n",
            "I can not come out from the loop.i=0.\n",
            "I can not come out from the loop.i=0.\n",
            "I can not come out from the loop.i=0.\n",
            "I can not come out from the loop.i=0.\n",
            "I can not come out from the loop.i=0.\n",
            "I can not come out from the loop.i=0.\n",
            "I can not come out from the loop.i=0.\n",
            "I can not come out from the loop.i=0.\n",
            "I can not come out from the loop.i=0.\n",
            "I can not come out from the loop.i=0.\n",
            "I can not come out from the loop.i=0.\n",
            "I can not come out from the loop.i=0.\n",
            "I can not come out from the loop.i=0.\n",
            "I can not come out from the loop.i=0.\n",
            "I can not come out from the loop.i=0.\n",
            "I can not come out from the loop.i=0.\n",
            "I can not come out from the loop.i=0.\n",
            "I can not come out from the loop.i=0.\n",
            "I can not come out from the loop.i=0.\n",
            "I can not come out from the loop.i=0.\n",
            "I can not come out from the loop.i=0.\n",
            "I can not come out from the loop.i=0.\n",
            "I can not come out from the loop.i=0.\n",
            "I can not come out from the loop.i=0.\n",
            "I can not come out from the loop.i=0.\n",
            "I can not come out from the loop.i=0.\n",
            "I can not come out from the loop.i=0.\n",
            "I can not come out from the loop.i=0.\n",
            "I can not come out from the loop.i=0.\n",
            "I can not come out from the loop.i=0.\n",
            "I can not come out from the loop.i=0.\n",
            "I can not come out from the loop.i=0.\n",
            "I can not come out from the loop.i=0.\n",
            "I can not come out from the loop.i=0.\n",
            "I can not come out from the loop.i=0.\n",
            "I can not come out from the loop.i=0.\n",
            "I can not come out from the loop.i=0.\n",
            "I can not come out from the loop.i=0.\n",
            "I can not come out from the loop.i=0.\n",
            "I can not come out from the loop.i=0.\n",
            "I can not come out from the loop.i=0.\n",
            "I can not come out from the loop.i=0.\n",
            "I can not come out from the loop.i=0.\n",
            "I can not come out from the loop.i=0.\n",
            "I can not come out from the loop.i=0.\n",
            "I can not come out from the loop.i=0.\n",
            "I can not come out from the loop.i=0.\n",
            "I can not come out from the loop.i=0.\n",
            "I can not come out from the loop.i=0.\n",
            "I can not come out from the loop.i=0.\n",
            "I can not come out from the loop.i=0.\n",
            "I can not come out from the loop.i=0.\n",
            "I can not come out from the loop.i=0.\n",
            "I can not come out from the loop.i=0.\n",
            "I can not come out from the loop.i=0.\n",
            "I can not come out from the loop.i=0.\n",
            "I can not come out from the loop.i=0.\n",
            "I can not come out from the loop.i=0.\n",
            "I can not come out from the loop.i=0.\n",
            "I can not come out from the loop.i=0.\n",
            "I can not come out from the loop.i=0.\n",
            "I can not come out from the loop.i=0.\n",
            "I can not come out from the loop.i=0.\n",
            "I can not come out from the loop.i=0.\n",
            "I can not come out from the loop.i=0.\n",
            "I can not come out from the loop.i=0.\n",
            "I can not come out from the loop.i=0.\n",
            "I can not come out from the loop.i=0.\n",
            "I can not come out from the loop.i=0.\n",
            "I can not come out from the loop.i=0.\n",
            "I can not come out from the loop.i=0.\n",
            "I can not come out from the loop.i=0.\n",
            "I can not come out from the loop.i=0.\n",
            "I can not come out from the loop.i=0.\n",
            "I can not come out from the loop.i=0.\n",
            "I can not come out from the loop.i=0.\n",
            "I can not come out from the loop.i=0.\n",
            "I can not come out from the loop.i=0.\n",
            "I can not come out from the loop.i=0.\n",
            "I can not come out from the loop.i=0.\n",
            "I can not come out from the loop.i=0.\n",
            "I can not come out from the loop.i=0.\n",
            "I can not come out from the loop.i=0.\n",
            "I can not come out from the loop.i=0.\n",
            "I can not come out from the loop.i=0.\n",
            "I can not come out from the loop.i=0.\n",
            "I can not come out from the loop.i=0.\n",
            "I can not come out from the loop.i=0.\n",
            "I can not come out from the loop.i=0.\n",
            "I can not come out from the loop.i=0.\n",
            "I can not come out from the loop.i=0.\n",
            "I can not come out from the loop.i=0.\n",
            "I can not come out from the loop.i=0.\n",
            "I can not come out from the loop.i=0.\n",
            "I can not come out from the loop.i=0.\n",
            "I can not come out from the loop.i=0.\n",
            "I can not come out from the loop.i=0.\n",
            "I can not come out from the loop.i=0.\n",
            "I can not come out from the loop.i=0.\n",
            "I can not come out from the loop.i=0.\n",
            "I can not come out from the loop.i=0.\n",
            "I can not come out from the loop.i=0.\n",
            "I can not come out from the loop.i=0.\n",
            "I can not come out from the loop.i=0.\n",
            "I can not come out from the loop.i=0.\n",
            "I can not come out from the loop.i=0.\n",
            "I can not come out from the loop.i=0.\n",
            "I can not come out from the loop.i=0.\n",
            "I can not come out from the loop.i=0.\n",
            "I can not come out from the loop.i=0.\n",
            "I can not come out from the loop.i=0.\n",
            "I can not come out from the loop.i=0.\n",
            "I can not come out from the loop.i=0.\n",
            "I can not come out from the loop.i=0.\n",
            "I can not come out from the loop.i=0.\n",
            "I can not come out from the loop.i=0.\n",
            "I can not come out from the loop.i=0.\n",
            "I can not come out from the loop.i=0.\n",
            "I can not come out from the loop.i=0.\n",
            "I can not come out from the loop.i=0.\n",
            "I can not come out from the loop.i=0.\n",
            "I can not come out from the loop.i=0.\n",
            "I can not come out from the loop.i=0.\n",
            "I can not come out from the loop.i=0.\n",
            "I can not come out from the loop.i=0.\n",
            "I can not come out from the loop.i=0.\n",
            "I can not come out from the loop.i=0.\n",
            "I can not come out from the loop.i=0.\n",
            "I can not come out from the loop.i=0.\n",
            "I can not come out from the loop.i=0.\n",
            "I can not come out from the loop.i=0.\n",
            "I can not come out from the loop.i=0.\n",
            "I can not come out from the loop.i=0.\n",
            "I can not come out from the loop.i=0.\n",
            "I can not come out from the loop.i=0.\n",
            "I can not come out from the loop.i=0.\n",
            "I can not come out from the loop.i=0.\n",
            "I can not come out from the loop.i=0.\n",
            "I can not come out from the loop.i=0.\n",
            "I can not come out from the loop.i=0.\n",
            "I can not come out from the loop.i=0.\n",
            "I can not come out from the loop.i=0.\n",
            "I can not come out from the loop.i=0.\n",
            "I can not come out from the loop.i=0.\n",
            "I can not come out from the loop.i=0.\n",
            "I can not come out from the loop.i=0.\n",
            "I can not come out from the loop.i=0.\n",
            "I can not come out from the loop.i=0.\n",
            "I can not come out from the loop.i=0.\n",
            "I can not come out from the loop.i=0.\n",
            "I can not come out from the loop.i=0.\n",
            "I can not come out from the loop.i=0.\n",
            "I can not come out from the loop.i=0.\n",
            "I can not come out from the loop.i=0.\n",
            "I can not come out from the loop.i=0.\n",
            "I can not come out from the loop.i=0.\n",
            "I can not come out from the loop.i=0.\n",
            "I can not come out from the loop.i=0.\n",
            "I can not come out from the loop.i=0.\n",
            "I can not come out from the loop.i=0.\n",
            "I can not come out from the loop.i=0.\n",
            "I can not come out from the loop.i=0.\n",
            "I can not come out from the loop.i=0.\n",
            "I can not come out from the loop.i=0.\n",
            "I can not come out from the loop.i=0.\n",
            "I can not come out from the loop.i=0.\n",
            "I can not come out from the loop.i=0.\n",
            "I can not come out from the loop.i=0.\n",
            "I can not come out from the loop.i=0.\n",
            "I can not come out from the loop.i=0.\n",
            "I can not come out from the loop.i=0.\n",
            "I can not come out from the loop.i=0.\n",
            "I can not come out from the loop.i=0.\n",
            "I can not come out from the loop.i=0.\n",
            "I can not come out from the loop.i=0.\n",
            "I can not come out from the loop.i=0.\n",
            "I can not come out from the loop.i=0.\n",
            "I can not come out from the loop.i=0.\n",
            "I can not come out from the loop.i=0.\n",
            "I can not come out from the loop.i=0.\n",
            "I can not come out from the loop.i=0.\n",
            "I can not come out from the loop.i=0.\n",
            "I can not come out from the loop.i=0.\n",
            "I can not come out from the loop.i=0.\n",
            "I can not come out from the loop.i=0.\n",
            "I can not come out from the loop.i=0.\n",
            "I can not come out from the loop.i=0.\n",
            "I can not come out from the loop.i=0.\n",
            "I can not come out from the loop.i=0.\n",
            "I can not come out from the loop.i=0.\n",
            "I can not come out from the loop.i=0.\n",
            "I can not come out from the loop.i=0.\n",
            "I can not come out from the loop.i=0.\n",
            "I can not come out from the loop.i=0.\n",
            "I can not come out from the loop.i=0.\n",
            "I can not come out from the loop.i=0.\n",
            "I can not come out from the loop.i=0.\n",
            "I can not come out from the loop.i=0.\n",
            "I can not come out from the loop.i=0.\n",
            "I can not come out from the loop.i=0.\n",
            "I can not come out from the loop.i=0.\n",
            "I can not come out from the loop.i=0.\n",
            "I can not come out from the loop.i=0.\n",
            "I can not come out from the loop.i=0.\n",
            "I can not come out from the loop.i=0.\n",
            "I can not come out from the loop.i=0.\n",
            "I can not come out from the loop.i=0.\n",
            "I can not come out from the loop.i=0.\n",
            "I can not come out from the loop.i=0.\n",
            "I can not come out from the loop.i=0.\n",
            "I can not come out from the loop.i=0.\n",
            "I can not come out from the loop.i=0.\n",
            "I can not come out from the loop.i=0.\n",
            "I can not come out from the loop.i=0.\n",
            "I can not come out from the loop.i=0.\n",
            "I can not come out from the loop.i=0.\n",
            "I can not come out from the loop.i=0.\n",
            "I can not come out from the loop.i=0.\n",
            "I can not come out from the loop.i=0.\n",
            "I can not come out from the loop.i=0.\n",
            "I can not come out from the loop.i=0.\n",
            "I can not come out from the loop.i=0.\n",
            "I can not come out from the loop.i=0.\n",
            "I can not come out from the loop.i=0.\n",
            "I can not come out from the loop.i=0.\n",
            "I can not come out from the loop.i=0.\n",
            "I can not come out from the loop.i=0.\n",
            "I can not come out from the loop.i=0.\n",
            "I can not come out from the loop.i=0.\n",
            "I can not come out from the loop.i=0.\n",
            "I can not come out from the loop.i=0.\n",
            "I can not come out from the loop.i=0.\n",
            "I can not come out from the loop.i=0.\n",
            "I can not come out from the loop.i=0.\n",
            "I can not come out from the loop.i=0.\n",
            "I can not come out from the loop.i=0.\n",
            "I can not come out from the loop.i=0.\n",
            "I can not come out from the loop.i=0.\n",
            "I can not come out from the loop.i=0.\n",
            "I can not come out from the loop.i=0.\n",
            "I can not come out from the loop.i=0.\n",
            "I can not come out from the loop.i=0.\n",
            "I can not come out from the loop.i=0.\n",
            "I can not come out from the loop.i=0.\n",
            "I can not come out from the loop.i=0.\n",
            "I can not come out from the loop.i=0.\n",
            "I can not come out from the loop.i=0.\n",
            "I can not come out from the loop.i=0.\n",
            "I can not come out from the loop.i=0.\n",
            "I can not come out from the loop.i=0.\n",
            "I can not come out from the loop.i=0.\n",
            "I can not come out from the loop.i=0.\n",
            "I can not come out from the loop.i=0.\n",
            "I can not come out from the loop.i=0.\n",
            "I can not come out from the loop.i=0.\n",
            "I can not come out from the loop.i=0.\n",
            "I can not come out from the loop.i=0.\n",
            "I can not come out from the loop.i=0.\n",
            "I can not come out from the loop.i=0.\n",
            "I can not come out from the loop.i=0.\n",
            "I can not come out from the loop.i=0.\n",
            "I can not come out from the loop.i=0.\n",
            "I can not come out from the loop.i=0.\n",
            "I can not come out from the loop.i=0.\n",
            "I can not come out from the loop.i=0.\n",
            "I can not come out from the loop.i=0.\n",
            "I can not come out from the loop.i=0.\n",
            "I can not come out from the loop.i=0.\n",
            "I can not come out from the loop.i=0.\n",
            "I can not come out from the loop.i=0.\n",
            "I can not come out from the loop.i=0.\n",
            "I can not come out from the loop.i=0.\n",
            "I can not come out from the loop.i=0.\n",
            "I can not come out from the loop.i=0.\n",
            "I can not come out from the loop.i=0.\n",
            "I can not come out from the loop.i=0.\n",
            "I can not come out from the loop.i=0.\n",
            "I can not come out from the loop.i=0.\n",
            "I can not come out from the loop.i=0.\n",
            "I can not come out from the loop.i=0.\n",
            "I can not come out from the loop.i=0.\n",
            "I can not come out from the loop.i=0.\n",
            "I can not come out from the loop.i=0.\n",
            "I can not come out from the loop.i=0.\n",
            "I can not come out from the loop.i=0.\n",
            "I can not come out from the loop.i=0.\n",
            "I can not come out from the loop.i=0.\n",
            "I can not come out from the loop.i=0.\n",
            "I can not come out from the loop.i=0.\n",
            "I can not come out from the loop.i=0.\n",
            "I can not come out from the loop.i=0.\n",
            "I can not come out from the loop.i=0.\n",
            "I can not come out from the loop.i=0.\n",
            "I can not come out from the loop.i=0.\n",
            "I can not come out from the loop.i=0.\n",
            "I can not come out from the loop.i=0.\n",
            "I can not come out from the loop.i=0.\n",
            "I can not come out from the loop.i=0.\n",
            "I can not come out from the loop.i=0.\n",
            "I can not come out from the loop.i=0.\n",
            "I can not come out from the loop.i=0.\n",
            "I can not come out from the loop.i=0.\n",
            "I can not come out from the loop.i=0.\n",
            "I can not come out from the loop.i=0.\n",
            "I can not come out from the loop.i=0.\n",
            "I can not come out from the loop.i=0.\n",
            "I can not come out from the loop.i=0.\n",
            "I can not come out from the loop.i=0.\n",
            "I can not come out from the loop.i=0.\n",
            "I can not come out from the loop.i=0.\n",
            "I can not come out from the loop.i=0.\n",
            "I can not come out from the loop.i=0.\n",
            "I can not come out from the loop.i=0.\n",
            "I can not come out from the loop.i=0.\n",
            "I can not come out from the loop.i=0.\n",
            "I can not come out from the loop.i=0.\n",
            "I can not come out from the loop.i=0.\n",
            "I can not come out from the loop.i=0.\n",
            "I can not come out from the loop.i=0.\n",
            "I can not come out from the loop.i=0.\n",
            "I can not come out from the loop.i=0.\n",
            "I can not come out from the loop.i=0.\n",
            "I can not come out from the loop.i=0.\n",
            "I can not come out from the loop.i=0.\n",
            "I can not come out from the loop.i=0.\n",
            "I can not come out from the loop.i=0.\n",
            "I can not come out from the loop.i=0.\n",
            "I can not come out from the loop.i=0.\n",
            "I can not come out from the loop.i=0.\n",
            "I can not come out from the loop.i=0.\n",
            "I can not come out from the loop.i=0.\n",
            "I can not come out from the loop.i=0.\n",
            "I can not come out from the loop.i=0.\n",
            "I can not come out from the loop.i=0.\n",
            "I can not come out from the loop.i=0.\n",
            "I can not come out from the loop.i=0.\n",
            "I can not come out from the loop.i=0.\n",
            "I can not come out from the loop.i=0.\n",
            "I can not come out from the loop.i=0.\n",
            "I can not come out from the loop.i=0.\n",
            "I can not come out from the loop.i=0.\n",
            "I can not come out from the loop.i=0.\n",
            "I can not come out from the loop.i=0.\n",
            "I can not come out from the loop.i=0.\n",
            "I can not come out from the loop.i=0.\n",
            "I can not come out from the loop.i=0.\n",
            "I can not come out from the loop.i=0.\n",
            "I can not come out from the loop.i=0.\n",
            "I can not come out from the loop.i=0.\n",
            "I can not come out from the loop.i=0.\n",
            "I can not come out from the loop.i=0.\n",
            "I can not come out from the loop.i=0.\n",
            "I can not come out from the loop.i=0.\n",
            "I can not come out from the loop.i=0.\n",
            "I can not come out from the loop.i=0.\n",
            "I can not come out from the loop.i=0.\n",
            "I can not come out from the loop.i=0.\n",
            "I can not come out from the loop.i=0.\n",
            "I can not come out from the loop.i=0.\n",
            "I can not come out from the loop.i=0.\n",
            "I can not come out from the loop.i=0.\n",
            "I can not come out from the loop.i=0.\n",
            "I can not come out from the loop.i=0.\n",
            "I can not come out from the loop.i=0.\n",
            "I can not come out from the loop.i=0.\n",
            "I can not come out from the loop.i=0.\n",
            "I can not come out from the loop.i=0.\n",
            "I can not come out from the loop.i=0.\n",
            "I can not come out from the loop.i=0.\n",
            "I can not come out from the loop.i=0.\n",
            "I can not come out from the loop.i=0.\n",
            "I can not come out from the loop.i=0.\n",
            "I can not come out from the loop.i=0.\n",
            "I can not come out from the loop.i=0.\n",
            "I can not come out from the loop.i=0.\n",
            "I can not come out from the loop.i=0.\n",
            "I can not come out from the loop.i=0.\n",
            "I can not come out from the loop.i=0.\n",
            "I can not come out from the loop.i=0.\n",
            "I can not come out from the loop.i=0.\n",
            "I can not come out from the loop.i=0.\n",
            "I can not come out from the loop.i=0.\n",
            "I can not come out from the loop.i=0.\n",
            "I can not come out from the loop.i=0.\n",
            "I can not come out from the loop.i=0.\n",
            "I can not come out from the loop.i=0.\n",
            "I can not come out from the loop.i=0.\n",
            "I can not come out from the loop.i=0.\n",
            "I can not come out from the loop.i=0.\n",
            "I can not come out from the loop.i=0.\n",
            "I can not come out from the loop.i=0.\n",
            "I can not come out from the loop.i=0.\n",
            "I can not come out from the loop.i=0.\n",
            "I can not come out from the loop.i=0.\n",
            "I can not come out from the loop.i=0.\n",
            "I can not come out from the loop.i=0.\n",
            "I can not come out from the loop.i=0.\n",
            "I can not come out from the loop.i=0.\n",
            "I can not come out from the loop.i=0.\n",
            "I can not come out from the loop.i=0.\n",
            "I can not come out from the loop.i=0.\n",
            "I can not come out from the loop.i=0.\n",
            "I can not come out from the loop.i=0.\n",
            "I can not come out from the loop.i=0.\n",
            "I can not come out from the loop.i=0.\n",
            "I can not come out from the loop.i=0.\n",
            "I can not come out from the loop.i=0.\n",
            "I can not come out from the loop.i=0.\n",
            "I can not come out from the loop.i=0.\n",
            "I can not come out from the loop.i=0.\n",
            "I can not come out from the loop.i=0.\n",
            "I can not come out from the loop.i=0.\n",
            "I can not come out from the loop.i=0.\n",
            "I can not come out from the loop.i=0.\n",
            "I can not come out from the loop.i=0.\n",
            "I can not come out from the loop.i=0.\n",
            "I can not come out from the loop.i=0.\n",
            "I can not come out from the loop.i=0.\n",
            "I can not come out from the loop.i=0.\n",
            "I can not come out from the loop.i=0.\n",
            "I can not come out from the loop.i=0.\n",
            "I can not come out from the loop.i=0.\n",
            "I can not come out from the loop.i=0.\n",
            "I can not come out from the loop.i=0.\n",
            "I can not come out from the loop.i=0.\n",
            "I can not come out from the loop.i=0.\n",
            "I can not come out from the loop.i=0.\n",
            "I can not come out from the loop.i=0.\n",
            "I can not come out from the loop.i=0.\n",
            "I can not come out from the loop.i=0.\n",
            "I can not come out from the loop.i=0.\n",
            "I can not come out from the loop.i=0.\n",
            "I can not come out from the loop.i=0.\n",
            "I can not come out from the loop.i=0.\n",
            "I can not come out from the loop.i=0.\n",
            "I can not come out from the loop.i=0.\n",
            "I can not come out from the loop.i=0.\n",
            "I can not come out from the loop.i=0.\n",
            "I can not come out from the loop.i=0.\n",
            "I can not come out from the loop.i=0.\n",
            "I can not come out from the loop.i=0.\n",
            "I can not come out from the loop.i=0.\n",
            "I can not come out from the loop.i=0.\n",
            "I can not come out from the loop.i=0.\n",
            "I can not come out from the loop.i=0.\n",
            "I can not come out from the loop.i=0.\n",
            "I can not come out from the loop.i=0.\n",
            "I can not come out from the loop.i=0.\n",
            "I can not come out from the loop.i=0.\n",
            "I can not come out from the loop.i=0.\n",
            "I can not come out from the loop.i=0.\n",
            "I can not come out from the loop.i=0.\n",
            "I can not come out from the loop.i=0.\n",
            "I can not come out from the loop.i=0.\n",
            "I can not come out from the loop.i=0.\n",
            "I can not come out from the loop.i=0.\n",
            "I can not come out from the loop.i=0.\n",
            "I can not come out from the loop.i=0.\n",
            "I can not come out from the loop.i=0.\n",
            "I can not come out from the loop.i=0.\n",
            "I can not come out from the loop.i=0.\n",
            "I can not come out from the loop.i=0.\n",
            "I can not come out from the loop.i=0.\n",
            "I can not come out from the loop.i=0.\n",
            "I can not come out from the loop.i=0.\n",
            "I can not come out from the loop.i=0.\n",
            "I can not come out from the loop.i=0.\n",
            "I can not come out from the loop.i=0.\n",
            "I can not come out from the loop.i=0.\n",
            "I can not come out from the loop.i=0.\n",
            "I can not come out from the loop.i=0.\n",
            "I can not come out from the loop.i=0.\n",
            "I can not come out from the loop.i=0.\n",
            "I can not come out from the loop.i=0.\n",
            "I can not come out from the loop.i=0.\n",
            "I can not come out from the loop.i=0.\n",
            "I can not come out from the loop.i=0.\n",
            "I can not come out from the loop.i=0.\n",
            "I can not come out from the loop.i=0.\n",
            "I can not come out from the loop.i=0.\n",
            "I can not come out from the loop.i=0.\n",
            "I can not come out from the loop.i=0.\n",
            "I can not come out from the loop.i=0.\n",
            "I can not come out from the loop.i=0.\n",
            "I can not come out from the loop.i=0.\n",
            "I can not come out from the loop.i=0.\n",
            "I can not come out from the loop.i=0.\n",
            "I can not come out from the loop.i=0.\n",
            "I can not come out from the loop.i=0.\n",
            "I can not come out from the loop.i=0.\n",
            "I can not come out from the loop.i=0.\n",
            "I can not come out from the loop.i=0.\n",
            "I can not come out from the loop.i=0.\n",
            "I can not come out from the loop.i=0.\n",
            "I can not come out from the loop.i=0.\n",
            "I can not come out from the loop.i=0.\n",
            "I can not come out from the loop.i=0.\n",
            "I can not come out from the loop.i=0.\n",
            "I can not come out from the loop.i=0.\n",
            "I can not come out from the loop.i=0.\n",
            "I can not come out from the loop.i=0.\n",
            "I can not come out from the loop.i=0.\n",
            "I can not come out from the loop.i=0.\n",
            "I can not come out from the loop.i=0.\n",
            "I can not come out from the loop.i=0.\n",
            "I can not come out from the loop.i=0.\n",
            "I can not come out from the loop.i=0.\n",
            "I can not come out from the loop.i=0.\n",
            "I can not come out from the loop.i=0.\n",
            "I can not come out from the loop.i=0.\n",
            "I can not come out from the loop.i=0.\n",
            "I can not come out from the loop.i=0.\n",
            "I can not come out from the loop.i=0.\n",
            "I can not come out from the loop.i=0.\n",
            "I can not come out from the loop.i=0.\n",
            "I can not come out from the loop.i=0.\n",
            "I can not come out from the loop.i=0.\n",
            "I can not come out from the loop.i=0.\n",
            "I can not come out from the loop.i=0.\n",
            "I can not come out from the loop.i=0.\n",
            "I can not come out from the loop.i=0.\n",
            "I can not come out from the loop.i=0.\n",
            "I can not come out from the loop.i=0.\n",
            "I can not come out from the loop.i=0.\n",
            "I can not come out from the loop.i=0.\n",
            "I can not come out from the loop.i=0.\n",
            "I can not come out from the loop.i=0.\n",
            "I can not come out from the loop.i=0.\n",
            "I can not come out from the loop.i=0.\n",
            "I can not come out from the loop.i=0.\n",
            "I can not come out from the loop.i=0.\n",
            "I can not come out from the loop.i=0.\n",
            "I can not come out from the loop.i=0.\n",
            "I can not come out from the loop.i=0.\n",
            "I can not come out from the loop.i=0.\n",
            "I can not come out from the loop.i=0.\n",
            "I can not come out from the loop.i=0.\n",
            "I can not come out from the loop.i=0.\n",
            "I can not come out from the loop.i=0.\n",
            "I can not come out from the loop.i=0.\n",
            "I can not come out from the loop.i=0.\n",
            "I can not come out from the loop.i=0.\n",
            "I can not come out from the loop.i=0.\n",
            "I can not come out from the loop.i=0.\n",
            "I can not come out from the loop.i=0.\n",
            "I can not come out from the loop.i=0.\n",
            "I can not come out from the loop.i=0.\n",
            "I can not come out from the loop.i=0.\n",
            "I can not come out from the loop.i=0.\n",
            "I can not come out from the loop.i=0.\n",
            "I can not come out from the loop.i=0.\n",
            "I can not come out from the loop.i=0.\n",
            "I can not come out from the loop.i=0.\n",
            "I can not come out from the loop.i=0.\n",
            "I can not come out from the loop.i=0.\n",
            "I can not come out from the loop.i=0.\n",
            "I can not come out from the loop.i=0.\n",
            "I can not come out from the loop.i=0.\n",
            "I can not come out from the loop.i=0.\n",
            "I can not come out from the loop.i=0.\n",
            "I can not come out from the loop.i=0.\n",
            "I can not come out from the loop.i=0.\n",
            "I can not come out from the loop.i=0.\n",
            "I can not come out from the loop.i=0.\n",
            "I can not come out from the loop.i=0.\n",
            "I can not come out from the loop.i=0.\n",
            "I can not come out from the loop.i=0.\n",
            "I can not come out from the loop.i=0.\n",
            "I can not come out from the loop.i=0.\n",
            "I can not come out from the loop.i=0.\n",
            "I can not come out from the loop.i=0.\n",
            "I can not come out from the loop.i=0.\n",
            "I can not come out from the loop.i=0.\n",
            "I can not come out from the loop.i=0.\n",
            "I can not come out from the loop.i=0.\n",
            "I can not come out from the loop.i=0.\n",
            "I can not come out from the loop.i=0.\n",
            "I can not come out from the loop.i=0.\n",
            "I can not come out from the loop.i=0.\n",
            "I can not come out from the loop.i=0.\n",
            "I can not come out from the loop.i=0.\n",
            "I can not come out from the loop.i=0.\n",
            "I can not come out from the loop.i=0.\n",
            "I can not come out from the loop.i=0.\n",
            "I can not come out from the loop.i=0.\n",
            "I can not come out from the loop.i=0.\n",
            "I can not come out from the loop.i=0.\n",
            "I can not come out from the loop.i=0.\n",
            "I can not come out from the loop.i=0.\n",
            "I can not come out from the loop.i=0.\n",
            "I can not come out from the loop.i=0.\n",
            "I can not come out from the loop.i=0.\n",
            "I can not come out from the loop.i=0.\n",
            "I can not come out from the loop.i=0.\n",
            "I can not come out from the loop.i=0.\n",
            "I can not come out from the loop.i=0.\n",
            "I can not come out from the loop.i=0.\n",
            "I can not come out from the loop.i=0.\n",
            "I can not come out from the loop.i=0.\n",
            "I can not come out from the loop.i=0.\n",
            "I can not come out from the loop.i=0.\n",
            "I can not come out from the loop.i=0.\n",
            "I can not come out from the loop.i=0.\n",
            "I can not come out from the loop.i=0.\n",
            "I can not come out from the loop.i=0.\n",
            "I can not come out from the loop.i=0.\n",
            "I can not come out from the loop.i=0.\n",
            "I can not come out from the loop.i=0.\n",
            "I can not come out from the loop.i=0.\n",
            "I can not come out from the loop.i=0.\n",
            "I can not come out from the loop.i=0.\n",
            "I can not come out from the loop.i=0.\n",
            "I can not come out from the loop.i=0.\n",
            "I can not come out from the loop.i=0.\n",
            "I can not come out from the loop.i=0.\n",
            "I can not come out from the loop.i=0.\n",
            "I can not come out from the loop.i=0.\n",
            "I can not come out from the loop.i=0.\n",
            "I can not come out from the loop.i=0.\n",
            "I can not come out from the loop.i=0.\n",
            "I can not come out from the loop.i=0.\n",
            "I can not come out from the loop.i=0.\n",
            "I can not come out from the loop.i=0.\n",
            "I can not come out from the loop.i=0.\n",
            "I can not come out from the loop.i=0.\n",
            "I can not come out from the loop.i=0.\n",
            "I can not come out from the loop.i=0.\n",
            "I can not come out from the loop.i=0.\n",
            "I can not come out from the loop.i=0.\n",
            "I can not come out from the loop.i=0.\n",
            "I can not come out from the loop.i=0.\n",
            "I can not come out from the loop.i=0.\n",
            "I can not come out from the loop.i=0.\n",
            "I can not come out from the loop.i=0.\n",
            "I can not come out from the loop.i=0.\n",
            "I can not come out from the loop.i=0.\n",
            "I can not come out from the loop.i=0.\n",
            "I can not come out from the loop.i=0.\n",
            "I can not come out from the loop.i=0.\n",
            "I can not come out from the loop.i=0.\n",
            "I can not come out from the loop.i=0.\n",
            "I can not come out from the loop.i=0.\n",
            "I can not come out from the loop.i=0.\n",
            "I can not come out from the loop.i=0.\n",
            "I can not come out from the loop.i=0.\n",
            "I can not come out from the loop.i=0.\n",
            "I can not come out from the loop.i=0.\n",
            "I can not come out from the loop.i=0.\n",
            "I can not come out from the loop.i=0.\n",
            "I can not come out from the loop.i=0.\n",
            "I can not come out from the loop.i=0.\n",
            "I can not come out from the loop.i=0.\n",
            "I can not come out from the loop.i=0.\n",
            "I can not come out from the loop.i=0.\n",
            "I can not come out from the loop.i=0.\n",
            "I can not come out from the loop.i=0.\n",
            "I can not come out from the loop.i=0.\n",
            "I can not come out from the loop.i=0.\n",
            "I can not come out from the loop.i=0.\n",
            "I can not come out from the loop.i=0.\n",
            "I can not come out from the loop.i=0.\n",
            "I can not come out from the loop.i=0.\n",
            "I can not come out from the loop.i=0.\n",
            "I can not come out from the loop.i=0.\n",
            "I can not come out from the loop.i=0.\n",
            "I can not come out from the loop.i=0.\n",
            "I can not come out from the loop.i=0.\n",
            "I can not come out from the loop.i=0.\n",
            "I can not come out from the loop.i=0.\n",
            "I can not come out from the loop.i=0.\n",
            "I can not come out from the loop.i=0.\n",
            "I can not come out from the loop.i=0.\n",
            "I can not come out from the loop.i=0.\n",
            "I can not come out from the loop.i=0.\n",
            "I can not come out from the loop.i=0.\n",
            "I can not come out from the loop.i=0.\n",
            "I can not come out from the loop.i=0.\n",
            "I can not come out from the loop.i=0.\n",
            "I can not come out from the loop.i=0.\n",
            "I can not come out from the loop.i=0.\n",
            "I can not come out from the loop.i=0.\n",
            "I can not come out from the loop.i=0.\n",
            "I can not come out from the loop.i=0.\n",
            "I can not come out from the loop.i=0.\n",
            "I can not come out from the loop.i=0.\n",
            "I can not come out from the loop.i=0.\n",
            "I can not come out from the loop.i=0.\n",
            "I can not come out from the loop.i=0.\n",
            "I can not come out from the loop.i=0.\n",
            "I can not come out from the loop.i=0.\n",
            "I can not come out from the loop.i=0.\n",
            "I can not come out from the loop.i=0.\n",
            "I can not come out from the loop.i=0.\n",
            "I can not come out from the loop.i=0.\n",
            "I can not come out from the loop.i=0.\n",
            "I can not come out from the loop.i=0.\n",
            "I can not come out from the loop.i=0.\n",
            "I can not come out from the loop.i=0.\n",
            "I can not come out from the loop.i=0.\n",
            "I can not come out from the loop.i=0.\n",
            "I can not come out from the loop.i=0.\n",
            "I can not come out from the loop.i=0.\n",
            "I can not come out from the loop.i=0.\n",
            "I can not come out from the loop.i=0.\n",
            "I can not come out from the loop.i=0.\n",
            "I can not come out from the loop.i=0.\n",
            "I can not come out from the loop.i=0.\n",
            "I can not come out from the loop.i=0.\n",
            "I can not come out from the loop.i=0.\n",
            "I can not come out from the loop.i=0.\n",
            "I can not come out from the loop.i=0.\n",
            "I can not come out from the loop.i=0.\n",
            "I can not come out from the loop.i=0.\n",
            "I can not come out from the loop.i=0.\n",
            "I can not come out from the loop.i=0.\n",
            "I can not come out from the loop.i=0.\n",
            "I can not come out from the loop.i=0.\n",
            "I can not come out from the loop.i=0.\n",
            "I can not come out from the loop.i=0.\n",
            "I can not come out from the loop.i=0.\n",
            "I can not come out from the loop.i=0.\n",
            "I can not come out from the loop.i=0.\n",
            "I can not come out from the loop.i=0.\n",
            "I can not come out from the loop.i=0.\n",
            "I can not come out from the loop.i=0.\n",
            "I can not come out from the loop.i=0.\n",
            "I can not come out from the loop.i=0.\n",
            "I can not come out from the loop.i=0.\n",
            "I can not come out from the loop.i=0.\n",
            "I can not come out from the loop.i=0.\n",
            "I can not come out from the loop.i=0.\n",
            "I can not come out from the loop.i=0.\n",
            "I can not come out from the loop.i=0.\n",
            "I can not come out from the loop.i=0.\n",
            "I can not come out from the loop.i=0.\n",
            "I can not come out from the loop.i=0.\n",
            "I can not come out from the loop.i=0.\n",
            "I can not come out from the loop.i=0.\n",
            "I can not come out from the loop.i=0.\n",
            "I can not come out from the loop.i=0.\n",
            "I can not come out from the loop.i=0.\n",
            "I can not come out from the loop.i=0.\n",
            "I can not come out from the loop.i=0.\n",
            "I can not come out from the loop.i=0.\n",
            "I can not come out from the loop.i=0.\n",
            "I can not come out from the loop.i=0.\n",
            "I can not come out from the loop.i=0.\n",
            "I can not come out from the loop.i=0.\n",
            "I can not come out from the loop.i=0.\n",
            "I can not come out from the loop.i=0.\n",
            "I can not come out from the loop.i=0.\n",
            "I can not come out from the loop.i=0.\n",
            "I can not come out from the loop.i=0.\n",
            "I can not come out from the loop.i=0.\n",
            "I can not come out from the loop.i=0.\n",
            "I can not come out from the loop.i=0.\n",
            "I can not come out from the loop.i=0.\n",
            "I can not come out from the loop.i=0.\n",
            "I can not come out from the loop.i=0.\n",
            "I can not come out from the loop.i=0.\n",
            "I can not come out from the loop.i=0.\n",
            "I can not come out from the loop.i=0.\n",
            "I can not come out from the loop.i=0.\n",
            "I can not come out from the loop.i=0.\n",
            "I can not come out from the loop.i=0.\n",
            "I can not come out from the loop.i=0.\n",
            "I can not come out from the loop.i=0.\n",
            "I can not come out from the loop.i=0.\n",
            "I can not come out from the loop.i=0.\n",
            "I can not come out from the loop.i=0.\n",
            "I can not come out from the loop.i=0.\n",
            "I can not come out from the loop.i=0.\n",
            "I can not come out from the loop.i=0.\n",
            "I can not come out from the loop.i=0.\n",
            "I can not come out from the loop.i=0.\n",
            "I can not come out from the loop.i=0.\n",
            "I can not come out from the loop.i=0.\n",
            "I can not come out from the loop.i=0.\n",
            "I can not come out from the loop.i=0.\n",
            "I can not come out from the loop.i=0.\n",
            "I can not come out from the loop.i=0.\n",
            "I can not come out from the loop.i=0.\n",
            "I can not come out from the loop.i=0.\n",
            "I can not come out from the loop.i=0.\n",
            "I can not come out from the loop.i=0.\n",
            "I can not come out from the loop.i=0.\n",
            "I can not come out from the loop.i=0.\n",
            "I can not come out from the loop.i=0.\n",
            "I can not come out from the loop.i=0.\n",
            "I can not come out from the loop.i=0.\n",
            "I can not come out from the loop.i=0.\n",
            "I can not come out from the loop.i=0.\n",
            "I can not come out from the loop.i=0.\n",
            "I can not come out from the loop.i=0.\n",
            "I can not come out from the loop.i=0.\n",
            "I can not come out from the loop.i=0.\n",
            "I can not come out from the loop.i=0.\n",
            "I can not come out from the loop.i=0.\n",
            "I can not come out from the loop.i=0.\n",
            "I can not come out from the loop.i=0.\n",
            "I can not come out from the loop.i=0.\n",
            "I can not come out from the loop.i=0.\n",
            "I can not come out from the loop.i=0.\n",
            "I can not come out from the loop.i=0.\n",
            "I can not come out from the loop.i=0.\n",
            "I can not come out from the loop.i=0.\n",
            "I can not come out from the loop.i=0.\n",
            "I can not come out from the loop.i=0.\n",
            "I can not come out from the loop.i=0.\n",
            "I can not come out from the loop.i=0.\n",
            "I can not come out from the loop.i=0.\n",
            "I can not come out from the loop.i=0.\n",
            "I can not come out from the loop.i=0.\n",
            "I can not come out from the loop.i=0.\n",
            "I can not come out from the loop.i=0.\n",
            "I can not come out from the loop.i=0.\n",
            "I can not come out from the loop.i=0.\n",
            "I can not come out from the loop.i=0.\n",
            "I can not come out from the loop.i=0.\n",
            "I can not come out from the loop.i=0.\n",
            "I can not come out from the loop.i=0.\n",
            "I can not come out from the loop.i=0.\n",
            "I can not come out from the loop.i=0.\n",
            "I can not come out from the loop.i=0.\n",
            "I can not come out from the loop.i=0.\n",
            "I can not come out from the loop.i=0.\n",
            "I can not come out from the loop.i=0.\n",
            "I can not come out from the loop.i=0.\n",
            "I can not come out from the loop.i=0.\n",
            "I can not come out from the loop.i=0.\n",
            "I can not come out from the loop.i=0.\n",
            "I can not come out from the loop.i=0.\n",
            "I can not come out from the loop.i=0.\n",
            "I can not come out from the loop.i=0.\n",
            "I can not come out from the loop.i=0.\n",
            "I can not come out from the loop.i=0.\n",
            "I can not come out from the loop.i=0.\n",
            "I can not come out from the loop.i=0.\n",
            "I can not come out from the loop.i=0.\n",
            "I can not come out from the loop.i=0.\n",
            "I can not come out from the loop.i=0.\n",
            "I can not come out from the loop.i=0.\n",
            "I can not come out from the loop.i=0.\n",
            "I can not come out from the loop.i=0.\n",
            "I can not come out from the loop.i=0.\n",
            "I can not come out from the loop.i=0.\n",
            "I can not come out from the loop.i=0.\n",
            "I can not come out from the loop.i=0.\n",
            "I can not come out from the loop.i=0.\n",
            "I can not come out from the loop.i=0.\n",
            "I can not come out from the loop.i=0.\n",
            "I can not come out from the loop.i=0.\n",
            "I can not come out from the loop.i=0.\n",
            "I can not come out from the loop.i=0.\n",
            "I can not come out from the loop.i=0.\n",
            "I can not come out from the loop.i=0.\n",
            "I can not come out from the loop.i=0.\n",
            "I can not come out from the loop.i=0.\n",
            "I can not come out from the loop.i=0.\n",
            "I can not come out from the loop.i=0.\n",
            "I can not come out from the loop.i=0.\n",
            "I can not come out from the loop.i=0.\n",
            "I can not come out from the loop.i=0.\n",
            "I can not come out from the loop.i=0.\n",
            "I can not come out from the loop.i=0.\n",
            "I can not come out from the loop.i=0.\n",
            "I can not come out from the loop.i=0.\n",
            "I can not come out from the loop.i=0.\n",
            "I can not come out from the loop.i=0.\n",
            "I can not come out from the loop.i=0.\n",
            "I can not come out from the loop.i=0.\n",
            "I can not come out from the loop.i=0.\n",
            "I can not come out from the loop.i=0.\n",
            "I can not come out from the loop.i=0.\n",
            "I can not come out from the loop.i=0.\n",
            "I can not come out from the loop.i=0.\n",
            "I can not come out from the loop.i=0.\n",
            "I can not come out from the loop.i=0.\n",
            "I can not come out from the loop.i=0.\n",
            "I can not come out from the loop.i=0.\n",
            "I can not come out from the loop.i=0.\n",
            "I can not come out from the loop.i=0.\n",
            "I can not come out from the loop.i=0.\n",
            "I can not come out from the loop.i=0.\n",
            "I can not come out from the loop.i=0.\n",
            "I can not come out from the loop.i=0.\n",
            "I can not come out from the loop.i=0.\n",
            "I can not come out from the loop.i=0.\n",
            "I can not come out from the loop.i=0.\n",
            "I can not come out from the loop.i=0.\n",
            "I can not come out from the loop.i=0.\n",
            "I can not come out from the loop.i=0.\n",
            "I can not come out from the loop.i=0.\n",
            "I can not come out from the loop.i=0.\n",
            "I can not come out from the loop.i=0.\n",
            "I can not come out from the loop.i=0.\n",
            "I can not come out from the loop.i=0.\n",
            "I can not come out from the loop.i=0.\n",
            "I can not come out from the loop.i=0.\n",
            "I can not come out from the loop.i=0.\n",
            "I can not come out from the loop.i=0.\n",
            "I can not come out from the loop.i=0.\n",
            "I can not come out from the loop.i=0.\n",
            "I can not come out from the loop.i=0.\n",
            "I can not come out from the loop.i=0.\n",
            "I can not come out from the loop.i=0.\n",
            "I can not come out from the loop.i=0.\n",
            "I can not come out from the loop.i=0.\n",
            "I can not come out from the loop.i=0.\n",
            "I can not come out from the loop.i=0.\n",
            "I can not come out from the loop.i=0.\n",
            "I can not come out from the loop.i=0.\n",
            "I can not come out from the loop.i=0.\n",
            "I can not come out from the loop.i=0.\n",
            "I can not come out from the loop.i=0.\n",
            "I can not come out from the loop.i=0.\n",
            "I can not come out from the loop.i=0.\n",
            "I can not come out from the loop.i=0.\n",
            "I can not come out from the loop.i=0.\n",
            "I can not come out from the loop.i=0.\n",
            "I can not come out from the loop.i=0.\n",
            "I can not come out from the loop.i=0.\n",
            "I can not come out from the loop.i=0.\n",
            "I can not come out from the loop.i=0.\n",
            "I can not come out from the loop.i=0.\n",
            "I can not come out from the loop.i=0.\n",
            "I can not come out from the loop.i=0.\n",
            "I can not come out from the loop.i=0.\n",
            "I can not come out from the loop.i=0.\n",
            "I can not come out from the loop.i=0.\n",
            "I can not come out from the loop.i=0.\n",
            "I can not come out from the loop.i=0.\n",
            "I can not come out from the loop.i=0.\n",
            "I can not come out from the loop.i=0.\n",
            "I can not come out from the loop.i=0.\n",
            "I can not come out from the loop.i=0.\n",
            "I can not come out from the loop.i=0.\n",
            "I can not come out from the loop.i=0.\n",
            "I can not come out from the loop.i=0.\n",
            "I can not come out from the loop.i=0.\n",
            "I can not come out from the loop.i=0.\n",
            "I can not come out from the loop.i=0.\n",
            "I can not come out from the loop.i=0.\n",
            "I can not come out from the loop.i=0.\n",
            "I can not come out from the loop.i=0.\n",
            "I can not come out from the loop.i=0.\n",
            "I can not come out from the loop.i=0.\n",
            "I can not come out from the loop.i=0.\n",
            "I can not come out from the loop.i=0.\n",
            "I can not come out from the loop.i=0.\n",
            "I can not come out from the loop.i=0.\n",
            "I can not come out from the loop.i=0.\n",
            "I can not come out from the loop.i=0.\n",
            "I can not come out from the loop.i=0.\n",
            "I can not come out from the loop.i=0.\n",
            "I can not come out from the loop.i=0.\n",
            "I can not come out from the loop.i=0.\n",
            "I can not come out from the loop.i=0.\n",
            "I can not come out from the loop.i=0.\n",
            "I can not come out from the loop.i=0.\n",
            "I can not come out from the loop.i=0.\n",
            "I can not come out from the loop.i=0.\n",
            "I can not come out from the loop.i=0.\n",
            "I can not come out from the loop.i=0.\n",
            "I can not come out from the loop.i=0.\n",
            "I can not come out from the loop.i=0.\n",
            "I can not come out from the loop.i=0.\n",
            "I can not come out from the loop.i=0.\n",
            "I can not come out from the loop.i=0.\n",
            "I can not come out from the loop.i=0.\n",
            "I can not come out from the loop.i=0.\n",
            "I can not come out from the loop.i=0.\n",
            "I can not come out from the loop.i=0.\n",
            "I can not come out from the loop.i=0.\n",
            "I can not come out from the loop.i=0.\n",
            "I can not come out from the loop.i=0.\n",
            "I can not come out from the loop.i=0.\n",
            "I can not come out from the loop.i=0.\n",
            "I can not come out from the loop.i=0.\n",
            "I can not come out from the loop.i=0.\n",
            "I can not come out from the loop.i=0.\n",
            "I can not come out from the loop.i=0.\n",
            "I can not come out from the loop.i=0.\n",
            "I can not come out from the loop.i=0.\n",
            "I can not come out from the loop.i=0.\n",
            "I can not come out from the loop.i=0.\n",
            "I can not come out from the loop.i=0.\n",
            "I can not come out from the loop.i=0.\n",
            "I can not come out from the loop.i=0.\n",
            "I can not come out from the loop.i=0.\n",
            "I can not come out from the loop.i=0.\n",
            "I can not come out from the loop.i=0.\n",
            "I can not come out from the loop.i=0.\n",
            "I can not come out from the loop.i=0.\n",
            "I can not come out from the loop.i=0.\n",
            "I can not come out from the loop.i=0.\n",
            "I can not come out from the loop.i=0.\n",
            "I can not come out from the loop.i=0.\n",
            "I can not come out from the loop.i=0.\n",
            "I can not come out from the loop.i=0.\n",
            "I can not come out from the loop.i=0.\n",
            "I can not come out from the loop.i=0.\n",
            "I can not come out from the loop.i=0.\n",
            "I can not come out from the loop.i=0.\n",
            "I can not come out from the loop.i=0.\n",
            "I can not come out from the loop.i=0.\n",
            "I can not come out from the loop.i=0.\n",
            "I can not come out from the loop.i=0.\n",
            "I can not come out from the loop.i=0.\n",
            "I can not come out from the loop.i=0.\n",
            "I can not come out from the loop.i=0.\n",
            "I can not come out from the loop.i=0.\n",
            "I can not come out from the loop.i=0.\n",
            "I can not come out from the loop.i=0.\n",
            "I can not come out from the loop.i=0.\n",
            "I can not come out from the loop.i=0.\n",
            "I can not come out from the loop.i=0.\n",
            "I can not come out from the loop.i=0.\n",
            "I can not come out from the loop.i=0.\n",
            "I can not come out from the loop.i=0.\n",
            "I can not come out from the loop.i=0.\n",
            "I can not come out from the loop.i=0.\n",
            "I can not come out from the loop.i=0.\n",
            "I can not come out from the loop.i=0.\n",
            "I can not come out from the loop.i=0.\n",
            "I can not come out from the loop.i=0.\n",
            "I can not come out from the loop.i=0.\n",
            "I can not come out from the loop.i=0.\n",
            "I can not come out from the loop.i=0.\n",
            "I can not come out from the loop.i=0.\n",
            "I can not come out from the loop.i=0.\n",
            "I can not come out from the loop.i=0.\n",
            "I can not come out from the loop.i=0.\n",
            "I can not come out from the loop.i=0.\n",
            "I can not come out from the loop.i=0.\n",
            "I can not come out from the loop.i=0.\n",
            "I can not come out from the loop.i=0.\n",
            "I can not come out from the loop.i=0.\n",
            "I can not come out from the loop.i=0.\n",
            "I can not come out from the loop.i=0.\n",
            "I can not come out from the loop.i=0.\n",
            "I can not come out from the loop.i=0.\n",
            "I can not come out from the loop.i=0.\n",
            "I can not come out from the loop.i=0.\n",
            "I can not come out from the loop.i=0.\n",
            "I can not come out from the loop.i=0.\n",
            "I can not come out from the loop.i=0.\n",
            "I can not come out from the loop.i=0.\n",
            "I can not come out from the loop.i=0.\n",
            "I can not come out from the loop.i=0.\n",
            "I can not come out from the loop.i=0.\n",
            "I can not come out from the loop.i=0.\n",
            "I can not come out from the loop.i=0.\n",
            "I can not come out from the loop.i=0.\n",
            "I can not come out from the loop.i=0.\n",
            "I can not come out from the loop.i=0.\n",
            "I can not come out from the loop.i=0.\n",
            "I can not come out from the loop.i=0.\n",
            "I can not come out from the loop.i=0.\n",
            "I can not come out from the loop.i=0.\n",
            "I can not come out from the loop.i=0.\n",
            "I can not come out from the loop.i=0.\n",
            "I can not come out from the loop.i=0.\n",
            "I can not come out from the loop.i=0.\n",
            "I can not come out from the loop.i=0.\n",
            "I can not come out from the loop.i=0.\n",
            "I can not come out from the loop.i=0.\n",
            "I can not come out from the loop.i=0.\n",
            "I can not come out from the loop.i=0.\n",
            "I can not come out from the loop.i=0.\n",
            "I can not come out from the loop.i=0.\n",
            "I can not come out from the loop.i=0.\n",
            "I can not come out from the loop.i=0.\n",
            "I can not come out from the loop.i=0.\n",
            "I can not come out from the loop.i=0.\n",
            "I can not come out from the loop.i=0.\n",
            "I can not come out from the loop.i=0.\n",
            "I can not come out from the loop.i=0.\n",
            "I can not come out from the loop.i=0.\n",
            "I can not come out from the loop.i=0.\n",
            "I can not come out from the loop.i=0.\n",
            "I can not come out from the loop.i=0.\n",
            "I can not come out from the loop.i=0.\n",
            "I can not come out from the loop.i=0.\n",
            "I can not come out from the loop.i=0.\n",
            "I can not come out from the loop.i=0.\n",
            "I can not come out from the loop.i=0.\n",
            "I can not come out from the loop.i=0.\n",
            "I can not come out from the loop.i=0.\n",
            "I can not come out from the loop.i=0.\n",
            "I can not come out from the loop.i=0.\n",
            "I can not come out from the loop.i=0.\n",
            "I can not come out from the loop.i=0.\n",
            "I can not come out from the loop.i=0.\n",
            "I can not come out from the loop.i=0.\n",
            "I can not come out from the loop.i=0.\n",
            "I can not come out from the loop.i=0.\n",
            "I can not come out from the loop.i=0.\n",
            "I can not come out from the loop.i=0.\n",
            "I can not come out from the loop.i=0.\n",
            "I can not come out from the loop.i=0.\n",
            "I can not come out from the loop.i=0.\n",
            "I can not come out from the loop.i=0.\n",
            "I can not come out from the loop.i=0.\n",
            "I can not come out from the loop.i=0.\n",
            "I can not come out from the loop.i=0.\n",
            "I can not come out from the loop.i=0.\n",
            "I can not come out from the loop.i=0.\n",
            "I can not come out from the loop.i=0.\n",
            "I can not come out from the loop.i=0.\n",
            "I can not come out from the loop.i=0.\n",
            "I can not come out from the loop.i=0.\n",
            "I can not come out from the loop.i=0.\n",
            "I can not come out from the loop.i=0.\n",
            "I can not come out from the loop.i=0.\n",
            "I can not come out from the loop.i=0.\n",
            "I can not come out from the loop.i=0.\n",
            "I can not come out from the loop.i=0.\n",
            "I can not come out from the loop.i=0.\n",
            "I can not come out from the loop.i=0.\n",
            "I can not come out from the loop.i=0.\n",
            "I can not come out from the loop.i=0.\n",
            "I can not come out from the loop.i=0.\n",
            "I can not come out from the loop.i=0.\n",
            "I can not come out from the loop.i=0.\n",
            "I can not come out from the loop.i=0.\n",
            "I can not come out from the loop.i=0.\n",
            "I can not come out from the loop.i=0.\n",
            "I can not come out from the loop.i=0.\n",
            "I can not come out from the loop.i=0.\n",
            "I can not come out from the loop.i=0.\n",
            "I can not come out from the loop.i=0.\n",
            "I can not come out from the loop.i=0.\n",
            "I can not come out from the loop.i=0.\n",
            "I can not come out from the loop.i=0.\n",
            "I can not come out from the loop.i=0.\n",
            "I can not come out from the loop.i=0.\n",
            "I can not come out from the loop.i=0.\n",
            "I can not come out from the loop.i=0.\n",
            "I can not come out from the loop.i=0.\n",
            "I can not come out from the loop.i=0.\n",
            "I can not come out from the loop.i=0.\n",
            "I can not come out from the loop.i=0.\n",
            "I can not come out from the loop.i=0.\n",
            "I can not come out from the loop.i=0.\n",
            "I can not come out from the loop.i=0.\n",
            "I can not come out from the loop.i=0.\n",
            "I can not come out from the loop.i=0.\n",
            "I can not come out from the loop.i=0.\n",
            "I can not come out from the loop.i=0.\n",
            "I can not come out from the loop.i=0.\n",
            "I can not come out from the loop.i=0.\n",
            "I can not come out from the loop.i=0.\n",
            "I can not come out from the loop.i=0.\n",
            "I can not come out from the loop.i=0.\n",
            "I can not come out from the loop.i=0.\n",
            "I can not come out from the loop.i=0.\n",
            "I can not come out from the loop.i=0.\n",
            "I can not come out from the loop.i=0.\n",
            "I can not come out from the loop.i=0.\n",
            "I can not come out from the loop.i=0.\n",
            "I can not come out from the loop.i=0.\n",
            "I can not come out from the loop.i=0.\n",
            "I can not come out from the loop.i=0.\n",
            "I can not come out from the loop.i=0.\n",
            "I can not come out from the loop.i=0.\n",
            "I can not come out from the loop.i=0.\n",
            "I can not come out from the loop.i=0.\n",
            "I can not come out from the loop.i=0.\n",
            "I can not come out from the loop.i=0.\n",
            "I can not come out from the loop.i=0.\n",
            "I can not come out from the loop.i=0.\n",
            "I can not come out from the loop.i=0.\n",
            "I can not come out from the loop.i=0.\n",
            "I can not come out from the loop.i=0.\n",
            "I can not come out from the loop.i=0.\n",
            "I can not come out from the loop.i=0.\n",
            "I can not come out from the loop.i=0.\n",
            "I can not come out from the loop.i=0.\n",
            "I can not come out from the loop.i=0.\n",
            "I can not come out from the loop.i=0.\n",
            "I can not come out from the loop.i=0.\n",
            "I can not come out from the loop.i=0.\n",
            "I can not come out from the loop.i=0.\n",
            "I can not come out from the loop.i=0.\n",
            "I can not come out from the loop.i=0.\n",
            "I can not come out from the loop.i=0.\n",
            "I can not come out from the loop.i=0.\n",
            "I can not come out from the loop.i=0.\n",
            "I can not come out from the loop.i=0.\n",
            "I can not come out from the loop.i=0.\n",
            "I can not come out from the loop.i=0.\n",
            "I can not come out from the loop.i=0.\n",
            "I can not come out from the loop.i=0.\n",
            "I can not come out from the loop.i=0.\n",
            "I can not come out from the loop.i=0.\n",
            "I can not come out from the loop.i=0.\n",
            "I can not come out from the loop.i=0.\n",
            "I can not come out from the loop.i=0.\n",
            "I can not come out from the loop.i=0.\n",
            "I can not come out from the loop.i=0.\n",
            "I can not come out from the loop.i=0.\n",
            "I can not come out from the loop.i=0.\n",
            "I can not come out from the loop.i=0.\n",
            "I can not come out from the loop.i=0.\n",
            "I can not come out from the loop.i=0.\n",
            "I can not come out from the loop.i=0.\n",
            "I can not come out from the loop.i=0.\n",
            "I can not come out from the loop.i=0.\n",
            "I can not come out from the loop.i=0.\n",
            "I can not come out from the loop.i=0.\n",
            "I can not come out from the loop.i=0.\n",
            "I can not come out from the loop.i=0.\n",
            "I can not come out from the loop.i=0.\n",
            "I can not come out from the loop.i=0.\n",
            "I can not come out from the loop.i=0.\n",
            "I can not come out from the loop.i=0.\n",
            "I can not come out from the loop.i=0.\n",
            "I can not come out from the loop.i=0.\n",
            "I can not come out from the loop.i=0.\n",
            "I can not come out from the loop.i=0.\n",
            "I can not come out from the loop.i=0.\n",
            "I can not come out from the loop.i=0.\n",
            "I can not come out from the loop.i=0.\n",
            "I can not come out from the loop.i=0.\n",
            "I can not come out from the loop.i=0.\n",
            "I can not come out from the loop.i=0.\n",
            "I can not come out from the loop.i=0.\n",
            "I can not come out from the loop.i=0.\n",
            "I can not come out from the loop.i=0.\n",
            "I can not come out from the loop.i=0.\n",
            "I can not come out from the loop.i=0.\n",
            "I can not come out from the loop.i=0.\n",
            "I can not come out from the loop.i=0.\n",
            "I can not come out from the loop.i=0.\n",
            "I can not come out from the loop.i=0.\n",
            "I can not come out from the loop.i=0.\n",
            "I can not come out from the loop.i=0.\n",
            "I can not come out from the loop.i=0.\n",
            "I can not come out from the loop.i=0.\n",
            "I can not come out from the loop.i=0.\n",
            "I can not come out from the loop.i=0.\n",
            "I can not come out from the loop.i=0.\n",
            "I can not come out from the loop.i=0.\n",
            "I can not come out from the loop.i=0.\n",
            "I can not come out from the loop.i=0.\n",
            "I can not come out from the loop.i=0.\n",
            "I can not come out from the loop.i=0.\n",
            "I can not come out from the loop.i=0.\n",
            "I can not come out from the loop.i=0.\n",
            "I can not come out from the loop.i=0.\n",
            "I can not come out from the loop.i=0.\n",
            "I can not come out from the loop.i=0.\n",
            "I can not come out from the loop.i=0.\n",
            "I can not come out from the loop.i=0.\n",
            "I can not come out from the loop.i=0.\n",
            "I can not come out from the loop.i=0.\n",
            "I can not come out from the loop.i=0.\n",
            "I can not come out from the loop.i=0.\n",
            "I can not come out from the loop.i=0.\n",
            "I can not come out from the loop.i=0.\n",
            "I can not come out from the loop.i=0.\n",
            "I can not come out from the loop.i=0.\n",
            "I can not come out from the loop.i=0.\n",
            "I can not come out from the loop.i=0.\n",
            "I can not come out from the loop.i=0.\n",
            "I can not come out from the loop.i=0.\n",
            "I can not come out from the loop.i=0.\n",
            "I can not come out from the loop.i=0.\n",
            "I can not come out from the loop.i=0.\n",
            "I can not come out from the loop.i=0.\n",
            "I can not come out from the loop.i=0.\n",
            "I can not come out from the loop.i=0.\n",
            "I can not come out from the loop.i=0.\n",
            "I can not come out from the loop.i=0.\n",
            "I can not come out from the loop.i=0.\n",
            "I can not come out from the loop.i=0.\n",
            "I can not come out from the loop.i=0.\n",
            "I can not come out from the loop.i=0.\n",
            "I can not come out from the loop.i=0.\n",
            "I can not come out from the loop.i=0.\n",
            "I can not come out from the loop.i=0.\n",
            "I can not come out from the loop.i=0.\n",
            "I can not come out from the loop.i=0.\n",
            "I can not come out from the loop.i=0.\n",
            "I can not come out from the loop.i=0.\n",
            "I can not come out from the loop.i=0.\n",
            "I can not come out from the loop.i=0.\n",
            "I can not come out from the loop.i=0.\n",
            "I can not come out from the loop.i=0.\n",
            "I can not come out from the loop.i=0.\n",
            "I can not come out from the loop.i=0.\n",
            "I can not come out from the loop.i=0.\n",
            "I can not come out from the loop.i=0.\n",
            "I can not come out from the loop.i=0.\n",
            "I can not come out from the loop.i=0.\n",
            "I can not come out from the loop.i=0.\n",
            "I can not come out from the loop.i=0.\n",
            "I can not come out from the loop.i=0.\n",
            "I can not come out from the loop.i=0.\n",
            "I can not come out from the loop.i=0.\n",
            "I can not come out from the loop.i=0.\n",
            "I can not come out from the loop.i=0.\n",
            "I can not come out from the loop.i=0.\n",
            "I can not come out from the loop.i=0.\n",
            "I can not come out from the loop.i=0.\n",
            "I can not come out from the loop.i=0.\n",
            "I can not come out from the loop.i=0.\n",
            "I can not come out from the loop.i=0.\n",
            "I can not come out from the loop.i=0.\n",
            "I can not come out from the loop.i=0.\n",
            "I can not come out from the loop.i=0.\n",
            "I can not come out from the loop.i=0.\n",
            "I can not come out from the loop.i=0.\n",
            "I can not come out from the loop.i=0.\n",
            "I can not come out from the loop.i=0.\n",
            "I can not come out from the loop.i=0.\n",
            "I can not come out from the loop.i=0.\n",
            "I can not come out from the loop.i=0.\n",
            "I can not come out from the loop.i=0.\n",
            "I can not come out from the loop.i=0.\n",
            "I can not come out from the loop.i=0.\n",
            "I can not come out from the loop.i=0.\n",
            "I can not come out from the loop.i=0.\n",
            "I can not come out from the loop.i=0.\n",
            "I can not come out from the loop.i=0.\n",
            "I can not come out from the loop.i=0.\n",
            "I can not come out from the loop.i=0.\n",
            "I can not come out from the loop.i=0.\n",
            "I can not come out from the loop.i=0.\n",
            "I can not come out from the loop.i=0.\n",
            "I can not come out from the loop.i=0.\n",
            "I can not come out from the loop.i=0.\n",
            "I can not come out from the loop.i=0.\n",
            "I can not come out from the loop.i=0.\n",
            "I can not come out from the loop.i=0.\n",
            "I can not come out from the loop.i=0.\n",
            "I can not come out from the loop.i=0.\n",
            "I can not come out from the loop.i=0.\n",
            "I can not come out from the loop.i=0.\n",
            "I can not come out from the loop.i=0.\n",
            "I can not come out from the loop.i=0.\n",
            "I can not come out from the loop.i=0.\n",
            "I can not come out from the loop.i=0.\n",
            "I can not come out from the loop.i=0.\n",
            "I can not come out from the loop.i=0.\n",
            "I can not come out from the loop.i=0.\n",
            "I can not come out from the loop.i=0.\n",
            "I can not come out from the loop.i=0.\n",
            "I can not come out from the loop.i=0.\n",
            "I can not come out from the loop.i=0.\n",
            "I can not come out from the loop.i=0.\n",
            "I can not come out from the loop.i=0.\n",
            "I can not come out from the loop.i=0.\n",
            "I can not come out from the loop.i=0.\n",
            "I can not come out from the loop.i=0.\n",
            "I can not come out from the loop.i=0.\n",
            "I can not come out from the loop.i=0.\n",
            "I can not come out from the loop.i=0.\n",
            "I can not come out from the loop.i=0.\n",
            "I can not come out from the loop.i=0.\n",
            "I can not come out from the loop.i=0.\n",
            "I can not come out from the loop.i=0.\n",
            "I can not come out from the loop.i=0.\n",
            "I can not come out from the loop.i=0.\n",
            "I can not come out from the loop.i=0.\n",
            "I can not come out from the loop.i=0.\n",
            "I can not come out from the loop.i=0.\n",
            "I can not come out from the loop.i=0.\n",
            "I can not come out from the loop.i=0.\n",
            "I can not come out from the loop.i=0.\n",
            "I can not come out from the loop.i=0.\n",
            "I can not come out from the loop.i=0.\n",
            "I can not come out from the loop.i=0.\n",
            "I can not come out from the loop.i=0.\n",
            "I can not come out from the loop.i=0.\n",
            "I can not come out from the loop.i=0.\n",
            "I can not come out from the loop.i=0.\n",
            "I can not come out from the loop.i=0.\n",
            "I can not come out from the loop.i=0.\n",
            "I can not come out from the loop.i=0.\n",
            "I can not come out from the loop.i=0.\n",
            "I can not come out from the loop.i=0.\n",
            "I can not come out from the loop.i=0.\n",
            "I can not come out from the loop.i=0.\n",
            "I can not come out from the loop.i=0.\n",
            "I can not come out from the loop.i=0.\n",
            "I can not come out from the loop.i=0.\n",
            "I can not come out from the loop.i=0.\n",
            "I can not come out from the loop.i=0.\n",
            "I can not come out from the loop.i=0.\n",
            "I can not come out from the loop.i=0.\n",
            "I can not come out from the loop.i=0.\n",
            "I can not come out from the loop.i=0.\n",
            "I can not come out from the loop.i=0.\n",
            "I can not come out from the loop.i=0.\n",
            "I can not come out from the loop.i=0.\n",
            "I can not come out from the loop.i=0.\n",
            "I can not come out from the loop.i=0.\n",
            "I can not come out from the loop.i=0.\n",
            "I can not come out from the loop.i=0.\n",
            "I can not come out from the loop.i=0.\n",
            "I can not come out from the loop.i=0.\n",
            "I can not come out from the loop.i=0.\n",
            "I can not come out from the loop.i=0.\n",
            "I can not come out from the loop.i=0.\n",
            "I can not come out from the loop.i=0.\n",
            "I can not come out from the loop.i=0.\n",
            "I can not come out from the loop.i=0.\n",
            "I can not come out from the loop.i=0.\n",
            "I can not come out from the loop.i=0.\n",
            "I can not come out from the loop.i=0.\n",
            "I can not come out from the loop.i=0.\n",
            "I can not come out from the loop.i=0.\n",
            "I can not come out from the loop.i=0.\n",
            "I can not come out from the loop.i=0.\n",
            "I can not come out from the loop.i=0.\n",
            "I can not come out from the loop.i=0.\n",
            "I can not come out from the loop.i=0.\n",
            "I can not come out from the loop.i=0.\n",
            "I can not come out from the loop.i=0.\n",
            "I can not come out from the loop.i=0.\n",
            "I can not come out from the loop.i=0.\n",
            "I can not come out from the loop.i=0.\n",
            "I can not come out from the loop.i=0.\n",
            "I can not come out from the loop.i=0.\n",
            "I can not come out from the loop.i=0.\n",
            "I can not come out from the loop.i=0.\n",
            "I can not come out from the loop.i=0.\n",
            "I can not come out from the loop.i=0.\n",
            "I can not come out from the loop.i=0.\n",
            "I can not come out from the loop.i=0.\n",
            "I can not come out from the loop.i=0.\n",
            "I can not come out from the loop.i=0.\n",
            "I can not come out from the loop.i=0.\n",
            "I can not come out from the loop.i=0.\n",
            "I can not come out from the loop.i=0.\n",
            "I can not come out from the loop.i=0.\n",
            "I can not come out from the loop.i=0.\n",
            "I can not come out from the loop.i=0.\n",
            "I can not come out from the loop.i=0.\n",
            "I can not come out from the loop.i=0.\n",
            "I can not come out from the loop.i=0.\n",
            "I can not come out from the loop.i=0.\n",
            "I can not come out from the loop.i=0.\n",
            "I can not come out from the loop.i=0.\n",
            "I can not come out from the loop.i=0.\n",
            "I can not come out from the loop.i=0.\n",
            "I can not come out from the loop.i=0.\n",
            "I can not come out from the loop.i=0.\n",
            "I can not come out from the loop.i=0.\n",
            "I can not come out from the loop.i=0.\n",
            "I can not come out from the loop.i=0.\n",
            "I can not come out from the loop.i=0.\n",
            "I can not come out from the loop.i=0.\n",
            "I can not come out from the loop.i=0.\n",
            "I can not come out from the loop.i=0.\n",
            "I can not come out from the loop.i=0.\n",
            "I can not come out from the loop.i=0.\n",
            "I can not come out from the loop.i=0.\n",
            "I can not come out from the loop.i=0.\n",
            "I can not come out from the loop.i=0.\n",
            "I can not come out from the loop.i=0.\n",
            "I can not come out from the loop.i=0.\n",
            "I can not come out from the loop.i=0.\n",
            "I can not come out from the loop.i=0.\n",
            "I can not come out from the loop.i=0.\n",
            "I can not come out from the loop.i=0.\n",
            "I can not come out from the loop.i=0.\n",
            "I can not come out from the loop.i=0.\n",
            "I can not come out from the loop.i=0.\n",
            "I can not come out from the loop.i=0.\n",
            "I can not come out from the loop.i=0.\n",
            "I can not come out from the loop.i=0.\n",
            "I can not come out from the loop.i=0.\n",
            "I can not come out from the loop.i=0.\n",
            "I can not come out from the loop.i=0.\n",
            "I can not come out from the loop.i=0.\n",
            "I can not come out from the loop.i=0.\n",
            "I can not come out from the loop.i=0.\n",
            "I can not come out from the loop.i=0.\n",
            "I can not come out from the loop.i=0.\n",
            "I can not come out from the loop.i=0.\n",
            "I can not come out from the loop.i=0.\n",
            "I can not come out from the loop.i=0.\n",
            "I can not come out from the loop.i=0.\n",
            "I can not come out from the loop.i=0.\n",
            "I can not come out from the loop.i=0.\n",
            "I can not come out from the loop.i=0.\n",
            "I can not come out from the loop.i=0.\n",
            "I can not come out from the loop.i=0.\n",
            "I can not come out from the loop.i=0.\n",
            "I can not come out from the loop.i=0.\n",
            "I can not come out from the loop.i=0.\n",
            "I can not come out from the loop.i=0.\n",
            "I can not come out from the loop.i=0.\n",
            "I can not come out from the loop.i=0.\n",
            "I can not come out from the loop.i=0.\n",
            "I can not come out from the loop.i=0.\n",
            "I can not come out from the loop.i=0.\n",
            "I can not come out from the loop.i=0.\n",
            "I can not come out from the loop.i=0.\n",
            "I can not come out from the loop.i=0.\n",
            "I can not come out from the loop.i=0.\n",
            "I can not come out from the loop.i=0.\n",
            "I can not come out from the loop.i=0.\n",
            "I can not come out from the loop.i=0.\n",
            "I can not come out from the loop.i=0.\n",
            "I can not come out from the loop.i=0.\n",
            "I can not come out from the loop.i=0.\n",
            "I can not come out from the loop.i=0.\n",
            "I can not come out from the loop.i=0.\n",
            "I can not come out from the loop.i=0.\n",
            "I can not come out from the loop.i=0.\n",
            "I can not come out from the loop.i=0.\n",
            "I can not come out from the loop.i=0.\n",
            "I can not come out from the loop.i=0.\n",
            "I can not come out from the loop.i=0.\n",
            "I can not come out from the loop.i=0.\n",
            "I can not come out from the loop.i=0.\n",
            "I can not come out from the loop.i=0.\n",
            "I can not come out from the loop.i=0.\n",
            "I can not come out from the loop.i=0.\n",
            "I can not come out from the loop.i=0.\n",
            "I can not come out from the loop.i=0.\n",
            "I can not come out from the loop.i=0.\n",
            "I can not come out from the loop.i=0.\n",
            "I can not come out from the loop.i=0.\n",
            "I can not come out from the loop.i=0.\n",
            "I can not come out from the loop.i=0.\n",
            "I can not come out from the loop.i=0.\n",
            "I can not come out from the loop.i=0.\n",
            "I can not come out from the loop.i=0.\n",
            "I can not come out from the loop.i=0.\n",
            "I can not come out from the loop.i=0.\n",
            "I can not come out from the loop.i=0.\n",
            "I can not come out from the loop.i=0.\n",
            "I can not come out from the loop.i=0.\n",
            "I can not come out from the loop.i=0.\n",
            "I can not come out from the loop.i=0.\n",
            "I can not come out from the loop.i=0.\n",
            "I can not come out from the loop.i=0.\n",
            "I can not come out from the loop.i=0.\n",
            "I can not come out from the loop.i=0.\n",
            "I can not come out from the loop.i=0.\n",
            "I can not come out from the loop.i=0.\n",
            "I can not come out from the loop.i=0.\n",
            "I can not come out from the loop.i=0.\n",
            "I can not come out from the loop.i=0.\n",
            "I can not come out from the loop.i=0.\n",
            "I can not come out from the loop.i=0.\n",
            "I can not come out from the loop.i=0.\n",
            "I can not come out from the loop.i=0.\n",
            "I can not come out from the loop.i=0.\n",
            "I can not come out from the loop.i=0.\n",
            "I can not come out from the loop.i=0.\n",
            "I can not come out from the loop.i=0.\n",
            "I can not come out from the loop.i=0.\n",
            "I can not come out from the loop.i=0.\n",
            "I can not come out from the loop.i=0.\n",
            "I can not come out from the loop.i=0.\n",
            "I can not come out from the loop.i=0.\n",
            "I can not come out from the loop.i=0.\n",
            "I can not come out from the loop.i=0.\n",
            "I can not come out from the loop.i=0.\n",
            "I can not come out from the loop.i=0.\n",
            "I can not come out from the loop.i=0.\n",
            "I can not come out from the loop.i=0.\n",
            "I can not come out from the loop.i=0.\n",
            "I can not come out from the loop.i=0.\n",
            "I can not come out from the loop.i=0.\n",
            "I can not come out from the loop.i=0.\n",
            "I can not come out from the loop.i=0.\n",
            "I can not come out from the loop.i=0.\n",
            "I can not come out from the loop.i=0.\n",
            "I can not come out from the loop.i=0.\n",
            "I can not come out from the loop.i=0.\n",
            "I can not come out from the loop.i=0.\n",
            "I can not come out from the loop.i=0.\n",
            "I can not come out from the loop.i=0.\n",
            "I can not come out from the loop.i=0.\n",
            "I can not come out from the loop.i=0.\n",
            "I can not come out from the loop.i=0.\n",
            "I can not come out from the loop.i=0.\n",
            "I can not come out from the loop.i=0.\n",
            "I can not come out from the loop.i=0.\n",
            "I can not come out from the loop.i=0.\n",
            "I can not come out from the loop.i=0.\n",
            "I can not come out from the loop.i=0.\n",
            "I can not come out from the loop.i=0.\n",
            "I can not come out from the loop.i=0.\n",
            "I can not come out from the loop.i=0.\n",
            "I can not come out from the loop.i=0.\n",
            "I can not come out from the loop.i=0.\n",
            "I can not come out from the loop.i=0.\n",
            "I can not come out from the loop.i=0.\n",
            "I can not come out from the loop.i=0.\n",
            "I can not come out from the loop.i=0.\n",
            "I can not come out from the loop.i=0.\n",
            "I can not come out from the loop.i=0.\n",
            "I can not come out from the loop.i=0.\n",
            "I can not come out from the loop.i=0.\n",
            "I can not come out from the loop.i=0.\n",
            "I can not come out from the loop.i=0.\n",
            "I can not come out from the loop.i=0.\n",
            "I can not come out from the loop.i=0.\n",
            "I can not come out from the loop.i=0.\n",
            "I can not come out from the loop.i=0.\n",
            "I can not come out from the loop.i=0.\n",
            "I can not come out from the loop.i=0.\n",
            "I can not come out from the loop.i=0.\n",
            "I can not come out from the loop.i=0.\n",
            "I can not come out from the loop.i=0.\n",
            "I can not come out from the loop.i=0.\n",
            "I can not come out from the loop.i=0.\n",
            "I can not come out from the loop.i=0.\n",
            "I can not come out from the loop.i=0.\n",
            "I can not come out from the loop.i=0.\n",
            "I can not come out from the loop.i=0.\n",
            "I can not come out from the loop.i=0.\n",
            "I can not come out from the loop.i=0.\n",
            "I can not come out from the loop.i=0.\n",
            "I can not come out from the loop.i=0.\n",
            "I can not come out from the loop.i=0.\n",
            "I can not come out from the loop.i=0.\n",
            "I can not come out from the loop.i=0.\n",
            "I can not come out from the loop.i=0.\n",
            "I can not come out from the loop.i=0.\n",
            "I can not come out from the loop.i=0.\n",
            "I can not come out from the loop.i=0.\n",
            "I can not come out from the loop.i=0.\n",
            "I can not come out from the loop.i=0.\n",
            "I can not come out from the loop.i=0.\n",
            "I can not come out from the loop.i=0.\n",
            "I can not come out from the loop.i=0.\n",
            "I can not come out from the loop.i=0.\n",
            "I can not come out from the loop.i=0.\n",
            "I can not come out from the loop.i=0.\n",
            "I can not come out from the loop.i=0.\n",
            "I can not come out from the loop.i=0.\n",
            "I can not come out from the loop.i=0.\n",
            "I can not come out from the loop.i=0.\n",
            "I can not come out from the loop.i=0.\n",
            "I can not come out from the loop.i=0.\n",
            "I can not come out from the loop.i=0.\n",
            "I can not come out from the loop.i=0.\n",
            "I can not come out from the loop.i=0.\n",
            "I can not come out from the loop.i=0.\n",
            "I can not come out from the loop.i=0.\n",
            "I can not come out from the loop.i=0.\n",
            "I can not come out from the loop.i=0.\n",
            "I can not come out from the loop.i=0.\n",
            "I can not come out from the loop.i=0.\n",
            "I can not come out from the loop.i=0.\n",
            "I can not come out from the loop.i=0.\n",
            "I can not come out from the loop.i=0.\n",
            "I can not come out from the loop.i=0.\n",
            "I can not come out from the loop.i=0.\n",
            "I can not come out from the loop.i=0.\n",
            "I can not come out from the loop.i=0.\n",
            "I can not come out from the loop.i=0.\n",
            "I can not come out from the loop.i=0.\n",
            "I can not come out from the loop.i=0.\n",
            "I can not come out from the loop.i=0.\n",
            "I can not come out from the loop.i=0.\n",
            "I can not come out from the loop.i=0.\n",
            "I can not come out from the loop.i=0.\n",
            "I can not come out from the loop.i=0.\n",
            "I can not come out from the loop.i=0.\n",
            "I can not come out from the loop.i=0.\n",
            "I can not come out from the loop.i=0.\n",
            "I can not come out from the loop.i=0.\n",
            "I can not come out from the loop.i=0.\n",
            "I can not come out from the loop.i=0.\n",
            "I can not come out from the loop.i=0.\n",
            "I can not come out from the loop.i=0.\n",
            "I can not come out from the loop.i=0.\n",
            "I can not come out from the loop.i=0.\n",
            "I can not come out from the loop.i=0.\n",
            "I can not come out from the loop.i=0.\n",
            "I can not come out from the loop.i=0.\n",
            "I can not come out from the loop.i=0.\n",
            "I can not come out from the loop.i=0.\n",
            "I can not come out from the loop.i=0.\n",
            "I can not come out from the loop.i=0.\n",
            "I can not come out from the loop.i=0.\n",
            "I can not come out from the loop.i=0.\n",
            "I can not come out from the loop.i=0.\n",
            "I can not come out from the loop.i=0.\n",
            "I can not come out from the loop.i=0.\n",
            "I can not come out from the loop.i=0.\n",
            "I can not come out from the loop.i=0.\n",
            "I can not come out from the loop.i=0.\n",
            "I can not come out from the loop.i=0.\n",
            "I can not come out from the loop.i=0.\n",
            "I can not come out from the loop.i=0.\n",
            "I can not come out from the loop.i=0.\n",
            "I can not come out from the loop.i=0.\n",
            "I can not come out from the loop.i=0.\n",
            "I can not come out from the loop.i=0.\n",
            "I can not come out from the loop.i=0.\n",
            "I can not come out from the loop.i=0.\n",
            "I can not come out from the loop.i=0.\n",
            "I can not come out from the loop.i=0.\n",
            "I can not come out from the loop.i=0.\n",
            "I can not come out from the loop.i=0.\n",
            "I can not come out from the loop.i=0.\n",
            "I can not come out from the loop.i=0.\n",
            "I can not come out from the loop.i=0.\n",
            "I can not come out from the loop.i=0.\n",
            "I can not come out from the loop.i=0.\n",
            "I can not come out from the loop.i=0.\n",
            "I can not come out from the loop.i=0.\n",
            "I can not come out from the loop.i=0.\n",
            "I can not come out from the loop.i=0.\n",
            "I can not come out from the loop.i=0.\n",
            "I can not come out from the loop.i=0.\n",
            "I can not come out from the loop.i=0.\n",
            "I can not come out from the loop.i=0.\n",
            "I can not come out from the loop.i=0.\n",
            "I can not come out from the loop.i=0.\n",
            "I can not come out from the loop.i=0.\n",
            "I can not come out from the loop.i=0.\n",
            "I can not come out from the loop.i=0.\n",
            "I can not come out from the loop.i=0.\n",
            "I can not come out from the loop.i=0.\n",
            "I can not come out from the loop.i=0.\n",
            "I can not come out from the loop.i=0.\n",
            "I can not come out from the loop.i=0.\n",
            "I can not come out from the loop.i=0.\n",
            "I can not come out from the loop.i=0.\n",
            "I can not come out from the loop.i=0.\n",
            "I can not come out from the loop.i=0.\n",
            "I can not come out from the loop.i=0.\n",
            "I can not come out from the loop.i=0.\n",
            "I can not come out from the loop.i=0.\n",
            "I can not come out from the loop.i=0.\n",
            "I can not come out from the loop.i=0.\n",
            "I can not come out from the loop.i=0.\n",
            "I can not come out from the loop.i=0.\n",
            "I can not come out from the loop.i=0.\n",
            "I can not come out from the loop.i=0.\n",
            "I can not come out from the loop.i=0.\n",
            "I can not come out from the loop.i=0.\n",
            "I can not come out from the loop.i=0.\n",
            "I can not come out from the loop.i=0.\n",
            "I can not come out from the loop.i=0.\n",
            "I can not come out from the loop.i=0.\n",
            "I can not come out from the loop.i=0.\n",
            "I can not come out from the loop.i=0.\n",
            "I can not come out from the loop.i=0.\n",
            "I can not come out from the loop.i=0.\n",
            "I can not come out from the loop.i=0.\n",
            "I can not come out from the loop.i=0.\n",
            "I can not come out from the loop.i=0.\n",
            "I can not come out from the loop.i=0.\n",
            "I can not come out from the loop.i=0.\n",
            "I can not come out from the loop.i=0.\n",
            "I can not come out from the loop.i=0.\n",
            "I can not come out from the loop.i=0.\n",
            "I can not come out from the loop.i=0.\n",
            "I can not come out from the loop.i=0.\n",
            "I can not come out from the loop.i=0.\n",
            "I can not come out from the loop.i=0.\n",
            "I can not come out from the loop.i=0.\n",
            "I can not come out from the loop.i=0.\n",
            "I can not come out from the loop.i=0.\n",
            "I can not come out from the loop.i=0.\n",
            "I can not come out from the loop.i=0.\n",
            "I can not come out from the loop.i=0.\n",
            "I can not come out from the loop.i=0.\n",
            "I can not come out from the loop.i=0.\n",
            "I can not come out from the loop.i=0.\n",
            "I can not come out from the loop.i=0.\n",
            "I can not come out from the loop.i=0.\n",
            "I can not come out from the loop.i=0.\n",
            "I can not come out from the loop.i=0.\n",
            "I can not come out from the loop.i=0.\n",
            "I can not come out from the loop.i=0.\n",
            "I can not come out from the loop.i=0.\n",
            "I can not come out from the loop.i=0.\n",
            "I can not come out from the loop.i=0.\n",
            "I can not come out from the loop.i=0.\n",
            "I can not come out from the loop.i=0.\n",
            "I can not come out from the loop.i=0.\n",
            "I can not come out from the loop.i=0.\n",
            "I can not come out from the loop.i=0.\n",
            "I can not come out from the loop.i=0.\n",
            "I can not come out from the loop.i=0.\n",
            "I can not come out from the loop.i=0.\n",
            "I can not come out from the loop.i=0.\n",
            "I can not come out from the loop.i=0.\n",
            "I can not come out from the loop.i=0.\n",
            "I can not come out from the loop.i=0.\n",
            "I can not come out from the loop.i=0.\n",
            "I can not come out from the loop.i=0.\n",
            "I can not come out from the loop.i=0.\n",
            "I can not come out from the loop.i=0.\n",
            "I can not come out from the loop.i=0.\n",
            "I can not come out from the loop.i=0.\n",
            "I can not come out from the loop.i=0.\n",
            "I can not come out from the loop.i=0.\n",
            "I can not come out from the loop.i=0.\n",
            "I can not come out from the loop.i=0.\n",
            "I can not come out from the loop.i=0.\n",
            "I can not come out from the loop.i=0.\n",
            "I can not come out from the loop.i=0.\n",
            "I can not come out from the loop.i=0.\n",
            "I can not come out from the loop.i=0.\n",
            "I can not come out from the loop.i=0.\n",
            "I can not come out from the loop.i=0.\n",
            "I can not come out from the loop.i=0.\n",
            "I can not come out from the loop.i=0.\n",
            "I can not come out from the loop.i=0.\n",
            "I can not come out from the loop.i=0.\n",
            "I can not come out from the loop.i=0.\n",
            "I can not come out from the loop.i=0.\n",
            "I can not come out from the loop.i=0.\n",
            "I can not come out from the loop.i=0.\n",
            "I can not come out from the loop.i=0.\n",
            "I can not come out from the loop.i=0.\n",
            "I can not come out from the loop.i=0.\n",
            "I can not come out from the loop.i=0.\n",
            "I can not come out from the loop.i=0.\n",
            "I can not come out from the loop.i=0.\n",
            "I can not come out from the loop.i=0.\n",
            "I can not come out from the loop.i=0.\n",
            "I can not come out from the loop.i=0.\n",
            "I can not come out from the loop.i=0.\n",
            "I can not come out from the loop.i=0.\n",
            "I can not come out from the loop.i=0.\n",
            "I can not come out from the loop.i=0.\n",
            "I can not come out from the loop.i=0.\n",
            "I can not come out from the loop.i=0.\n",
            "I can not come out from the loop.i=0.\n",
            "I can not come out from the loop.i=0.\n",
            "I can not come out from the loop.i=0.\n",
            "I can not come out from the loop.i=0.\n",
            "I can not come out from the loop.i=0.\n",
            "I can not come out from the loop.i=0.\n",
            "I can not come out from the loop.i=0.\n",
            "I can not come out from the loop.i=0.\n",
            "I can not come out from the loop.i=0.\n",
            "I can not come out from the loop.i=0.\n",
            "I can not come out from the loop.i=0.\n",
            "I can not come out from the loop.i=0.\n",
            "I can not come out from the loop.i=0.\n",
            "I can not come out from the loop.i=0.\n",
            "I can not come out from the loop.i=0.\n",
            "I can not come out from the loop.i=0.\n",
            "I can not come out from the loop.i=0.\n",
            "I can not come out from the loop.i=0.\n",
            "I can not come out from the loop.i=0.\n",
            "I can not come out from the loop.i=0.\n",
            "I can not come out from the loop.i=0.\n",
            "I can not come out from the loop.i=0.\n",
            "I can not come out from the loop.i=0.\n",
            "I can not come out from the loop.i=0.\n",
            "I can not come out from the loop.i=0.\n",
            "I can not come out from the loop.i=0.\n",
            "I can not come out from the loop.i=0.\n",
            "I can not come out from the loop.i=0.\n",
            "I can not come out from the loop.i=0.\n",
            "I can not come out from the loop.i=0.\n",
            "I can not come out from the loop.i=0.\n",
            "I can not come out from the loop.i=0.\n",
            "I can not come out from the loop.i=0.\n",
            "I can not come out from the loop.i=0.\n",
            "I can not come out from the loop.i=0.\n",
            "I can not come out from the loop.i=0.\n",
            "I can not come out from the loop.i=0.\n",
            "I can not come out from the loop.i=0.\n",
            "I can not come out from the loop.i=0.\n",
            "I can not come out from the loop.i=0.\n",
            "I can not come out from the loop.i=0.\n",
            "I can not come out from the loop.i=0.\n",
            "I can not come out from the loop.i=0.\n",
            "I can not come out from the loop.i=0.\n",
            "I can not come out from the loop.i=0.\n",
            "I can not come out from the loop.i=0.\n",
            "I can not come out from the loop.i=0.\n",
            "I can not come out from the loop.i=0.\n",
            "I can not come out from the loop.i=0.\n",
            "I can not come out from the loop.i=0.\n",
            "I can not come out from the loop.i=0.\n",
            "I can not come out from the loop.i=0.\n",
            "I can not come out from the loop.i=0.\n",
            "I can not come out from the loop.i=0.\n",
            "I can not come out from the loop.i=0.\n",
            "I can not come out from the loop.i=0.\n",
            "I can not come out from the loop.i=0.\n",
            "I can not come out from the loop.i=0.\n",
            "I can not come out from the loop.i=0.\n",
            "I can not come out from the loop.i=0.\n",
            "I can not come out from the loop.i=0.\n",
            "I can not come out from the loop.i=0.\n",
            "I can not come out from the loop.i=0.\n",
            "I can not come out from the loop.i=0.\n",
            "I can not come out from the loop.i=0.\n",
            "I can not come out from the loop.i=0.\n",
            "I can not come out from the loop.i=0.\n",
            "I can not come out from the loop.i=0.\n",
            "I can not come out from the loop.i=0.\n",
            "I can not come out from the loop.i=0.\n",
            "I can not come out from the loop.i=0.\n",
            "I can not come out from the loop.i=0.\n",
            "I can not come out from the loop.i=0.\n",
            "I can not come out from the loop.i=0.\n",
            "I can not come out from the loop.i=0.\n",
            "I can not come out from the loop.i=0.\n",
            "I can not come out from the loop.i=0.\n",
            "I can not come out from the loop.i=0.\n",
            "I can not come out from the loop.i=0.\n",
            "I can not come out from the loop.i=0.\n",
            "I can not come out from the loop.i=0.\n",
            "I can not come out from the loop.i=0.\n",
            "I can not come out from the loop.i=0.\n",
            "I can not come out from the loop.i=0.\n",
            "I can not come out from the loop.i=0.\n",
            "I can not come out from the loop.i=0.\n",
            "I can not come out from the loop.i=0.\n",
            "I can not come out from the loop.i=0.\n",
            "I can not come out from the loop.i=0.\n",
            "I can not come out from the loop.i=0.\n",
            "I can not come out from the loop.i=0.\n",
            "I can not come out from the loop.i=0.\n",
            "I can not come out from the loop.i=0.\n",
            "I can not come out from the loop.i=0.\n",
            "I can not come out from the loop.i=0.\n",
            "I can not come out from the loop.i=0.\n",
            "I can not come out from the loop.i=0.\n",
            "I can not come out from the loop.i=0.\n",
            "I can not come out from the loop.i=0.\n",
            "I can not come out from the loop.i=0.\n",
            "I can not come out from the loop.i=0.\n",
            "I can not come out from the loop.i=0.\n",
            "I can not come out from the loop.i=0.\n",
            "I can not come out from the loop.i=0.\n",
            "I can not come out from the loop.i=0.\n",
            "I can not come out from the loop.i=0.\n",
            "I can not come out from the loop.i=0.\n",
            "I can not come out from the loop.i=0.\n",
            "I can not come out from the loop.i=0.\n",
            "I can not come out from the loop.i=0.\n",
            "I can not come out from the loop.i=0.\n",
            "I can not come out from the loop.i=0.\n",
            "I can not come out from the loop.i=0.\n",
            "I can not come out from the loop.i=0.\n",
            "I can not come out from the loop.i=0.\n",
            "I can not come out from the loop.i=0.\n",
            "I can not come out from the loop.i=0.\n",
            "I can not come out from the loop.i=0.\n",
            "I can not come out from the loop.i=0.\n",
            "I can not come out from the loop.i=0.\n",
            "I can not come out from the loop.i=0.\n",
            "I can not come out from the loop.i=0.\n",
            "I can not come out from the loop.i=0.\n",
            "I can not come out from the loop.i=0.\n",
            "I can not come out from the loop.i=0.\n",
            "I can not come out from the loop.i=0.\n",
            "I can not come out from the loop.i=0.\n",
            "I can not come out from the loop.i=0.\n",
            "I can not come out from the loop.i=0.\n",
            "I can not come out from the loop.i=0.\n",
            "I can not come out from the loop.i=0.\n",
            "I can not come out from the loop.i=0.\n",
            "I can not come out from the loop.i=0.\n",
            "I can not come out from the loop.i=0.\n",
            "I can not come out from the loop.i=0.\n",
            "I can not come out from the loop.i=0.\n",
            "I can not come out from the loop.i=0.\n",
            "I can not come out from the loop.i=0.\n",
            "I can not come out from the loop.i=0.\n",
            "I can not come out from the loop.i=0.\n",
            "I can not come out from the loop.i=0.\n",
            "I can not come out from the loop.i=0.\n",
            "I can not come out from the loop.i=0.\n",
            "I can not come out from the loop.i=0.\n",
            "I can not come out from the loop.i=0.\n",
            "I can not come out from the loop.i=0.\n",
            "I can not come out from the loop.i=0.\n",
            "I can not come out from the loop.i=0.\n",
            "I can not come out from the loop.i=0.\n",
            "I can not come out from the loop.i=0.\n",
            "I can not come out from the loop.i=0.\n",
            "I can not come out from the loop.i=0.\n",
            "I can not come out from the loop.i=0.\n",
            "I can not come out from the loop.i=0.\n",
            "I can not come out from the loop.i=0.\n",
            "I can not come out from the loop.i=0.\n",
            "I can not come out from the loop.i=0.\n",
            "I can not come out from the loop.i=0.\n",
            "I can not come out from the loop.i=0.\n",
            "I can not come out from the loop.i=0.\n",
            "I can not come out from the loop.i=0.\n",
            "I can not come out from the loop.i=0.\n",
            "I can not come out from the loop.i=0.\n",
            "I can not come out from the loop.i=0.\n",
            "I can not come out from the loop.i=0.\n",
            "I can not come out from the loop.i=0.\n",
            "I can not come out from the loop.i=0.\n",
            "I can not come out from the loop.i=0.\n",
            "I can not come out from the loop.i=0.\n",
            "I can not come out from the loop.i=0.\n",
            "I can not come out from the loop.i=0.\n",
            "I can not come out from the loop.i=0.\n",
            "I can not come out from the loop.i=0.\n",
            "I can not come out from the loop.i=0.\n",
            "I can not come out from the loop.i=0.\n",
            "I can not come out from the loop.i=0.\n",
            "I can not come out from the loop.i=0.\n",
            "I can not come out from the loop.i=0.\n",
            "I can not come out from the loop.i=0.\n",
            "I can not come out from the loop.i=0.\n",
            "I can not come out from the loop.i=0.\n",
            "I can not come out from the loop.i=0.\n",
            "I can not come out from the loop.i=0.\n",
            "I can not come out from the loop.i=0.\n",
            "I can not come out from the loop.i=0.\n",
            "I can not come out from the loop.i=0.\n",
            "I can not come out from the loop.i=0.\n",
            "I can not come out from the loop.i=0.\n",
            "I can not come out from the loop.i=0.\n",
            "I can not come out from the loop.i=0.\n",
            "I can not come out from the loop.i=0.\n",
            "I can not come out from the loop.i=0.\n",
            "I can not come out from the loop.i=0.\n",
            "I can not come out from the loop.i=0.\n",
            "I can not come out from the loop.i=0.\n",
            "I can not come out from the loop.i=0.\n",
            "I can not come out from the loop.i=0.\n",
            "I can not come out from the loop.i=0.\n",
            "I can not come out from the loop.i=0.\n",
            "I can not come out from the loop.i=0.\n",
            "I can not come out from the loop.i=0.\n",
            "I can not come out from the loop.i=0.\n",
            "I can not come out from the loop.i=0.\n",
            "I can not come out from the loop.i=0.\n",
            "I can not come out from the loop.i=0.\n",
            "I can not come out from the loop.i=0.\n",
            "I can not come out from the loop.i=0.\n",
            "I can not come out from the loop.i=0.\n",
            "I can not come out from the loop.i=0.\n",
            "I can not come out from the loop.i=0.\n",
            "I can not come out from the loop.i=0.\n",
            "I can not come out from the loop.i=0.\n",
            "I can not come out from the loop.i=0.\n",
            "I can not come out from the loop.i=0.\n",
            "I can not come out from the loop.i=0.\n",
            "I can not come out from the loop.i=0.\n",
            "I can not come out from the loop.i=0.\n",
            "I can not come out from the loop.i=0.\n",
            "I can not come out from the loop.i=0.\n",
            "I can not come out from the loop.i=0.\n",
            "I can not come out from the loop.i=0.\n",
            "I can not come out from the loop.i=0.\n",
            "I can not come out from the loop.i=0.\n",
            "I can not come out from the loop.i=0.\n",
            "I can not come out from the loop.i=0.\n",
            "I can not come out from the loop.i=0.\n",
            "I can not come out from the loop.i=0.\n",
            "I can not come out from the loop.i=0.\n",
            "I can not come out from the loop.i=0.\n",
            "I can not come out from the loop.i=0.\n",
            "I can not come out from the loop.i=0.\n",
            "I can not come out from the loop.i=0.\n",
            "I can not come out from the loop.i=0.\n",
            "I can not come out from the loop.i=0.\n",
            "I can not come out from the loop.i=0.\n",
            "I can not come out from the loop.i=0.\n",
            "I can not come out from the loop.i=0.\n",
            "I can not come out from the loop.i=0.\n",
            "I can not come out from the loop.i=0.\n",
            "I can not come out from the loop.i=0.\n",
            "I can not come out from the loop.i=0.\n",
            "I can not come out from the loop.i=0.\n",
            "I can not come out from the loop.i=0.\n",
            "I can not come out from the loop.i=0.\n",
            "I can not come out from the loop.i=0.\n",
            "I can not come out from the loop.i=0.\n",
            "I can not come out from the loop.i=0.\n",
            "I can not come out from the loop.i=0.\n",
            "I can not come out from the loop.i=0.\n",
            "I can not come out from the loop.i=0.\n",
            "I can not come out from the loop.i=0.\n",
            "I can not come out from the loop.i=0.\n",
            "I can not come out from the loop.i=0.\n",
            "I can not come out from the loop.i=0.\n",
            "I can not come out from the loop.i=0.\n",
            "I can not come out from the loop.i=0.\n",
            "I can not come out from the loop.i=0.\n",
            "I can not come out from the loop.i=0.\n",
            "I can not come out from the loop.i=0.\n",
            "I can not come out from the loop.i=0.\n",
            "I can not come out from the loop.i=0.\n",
            "I can not come out from the loop.i=0.\n",
            "I can not come out from the loop.i=0.\n",
            "I can not come out from the loop.i=0.\n",
            "I can not come out from the loop.i=0.\n",
            "I can not come out from the loop.i=0.\n",
            "I can not come out from the loop.i=0.\n",
            "I can not come out from the loop.i=0.\n",
            "I can not come out from the loop.i=0.\n",
            "I can not come out from the loop.i=0.\n",
            "I can not come out from the loop.i=0.\n",
            "I can not come out from the loop.i=0.\n",
            "I can not come out from the loop.i=0.\n",
            "I can not come out from the loop.i=0.\n",
            "I can not come out from the loop.i=0.\n",
            "I can not come out from the loop.i=0.\n",
            "I can not come out from the loop.i=0.\n",
            "I can not come out from the loop.i=0.\n",
            "I can not come out from the loop.i=0.\n",
            "I can not come out from the loop.i=0.\n",
            "I can not come out from the loop.i=0.\n",
            "I can not come out from the loop.i=0.\n",
            "I can not come out from the loop.i=0.\n",
            "I can not come out from the loop.i=0.\n",
            "I can not come out from the loop.i=0.\n",
            "I can not come out from the loop.i=0.\n",
            "I can not come out from the loop.i=0.\n",
            "I can not come out from the loop.i=0.\n",
            "I can not come out from the loop.i=0.\n",
            "I can not come out from the loop.i=0.\n",
            "I can not come out from the loop.i=0.\n",
            "I can not come out from the loop.i=0.\n",
            "I can not come out from the loop.i=0.\n",
            "I can not come out from the loop.i=0.\n",
            "I can not come out from the loop.i=0.\n",
            "I can not come out from the loop.i=0.\n",
            "I can not come out from the loop.i=0.\n",
            "I can not come out from the loop.i=0.\n",
            "I can not come out from the loop.i=0.\n",
            "I can not come out from the loop.i=0.\n",
            "I can not come out from the loop.i=0.\n",
            "I can not come out from the loop.i=0.\n",
            "I can not come out from the loop.i=0.\n",
            "I can not come out from the loop.i=0.\n",
            "I can not come out from the loop.i=0.\n",
            "I can not come out from the loop.i=0.\n",
            "I can not come out from the loop.i=0.\n",
            "I can not come out from the loop.i=0.\n",
            "I can not come out from the loop.i=0.\n",
            "I can not come out from the loop.i=0.\n",
            "I can not come out from the loop.i=0.\n",
            "I can not come out from the loop.i=0.\n",
            "I can not come out from the loop.i=0.\n",
            "I can not come out from the loop.i=0.\n",
            "I can not come out from the loop.i=0.\n",
            "I can not come out from the loop.i=0.\n",
            "I can not come out from the loop.i=0.\n",
            "I can not come out from the loop.i=0.\n",
            "I can not come out from the loop.i=0.\n",
            "I can not come out from the loop.i=0.\n",
            "I can not come out from the loop.i=0.\n",
            "I can not come out from the loop.i=0.\n",
            "I can not come out from the loop.i=0.\n",
            "I can not come out from the loop.i=0.\n",
            "I can not come out from the loop.i=0.\n",
            "I can not come out from the loop.i=0.\n",
            "I can not come out from the loop.i=0.\n",
            "I can not come out from the loop.i=0.\n",
            "I can not come out from the loop.i=0.\n",
            "I can not come out from the loop.i=0.\n",
            "I can not come out from the loop.i=0.\n",
            "I can not come out from the loop.i=0.\n",
            "I can not come out from the loop.i=0.\n",
            "I can not come out from the loop.i=0.\n",
            "I can not come out from the loop.i=0.\n",
            "I can not come out from the loop.i=0.\n",
            "I can not come out from the loop.i=0.\n",
            "I can not come out from the loop.i=0.\n",
            "I can not come out from the loop.i=0.\n",
            "I can not come out from the loop.i=0.\n",
            "I can not come out from the loop.i=0.\n",
            "I can not come out from the loop.i=0.\n",
            "I can not come out from the loop.i=0.\n",
            "I can not come out from the loop.i=0.\n",
            "I can not come out from the loop.i=0.\n",
            "I can not come out from the loop.i=0.\n",
            "I can not come out from the loop.i=0.\n",
            "I can not come out from the loop.i=0.\n",
            "I can not come out from the loop.i=0.\n",
            "I can not come out from the loop.i=0.\n",
            "I can not come out from the loop.i=0.\n",
            "I can not come out from the loop.i=0.\n",
            "I can not come out from the loop.i=0.\n",
            "I can not come out from the loop.i=0.\n",
            "I can not come out from the loop.i=0.\n",
            "I can not come out from the loop.i=0.\n",
            "I can not come out from the loop.i=0.\n",
            "I can not come out from the loop.i=0.\n",
            "I can not come out from the loop.i=0.\n",
            "I can not come out from the loop.i=0.\n",
            "I can not come out from the loop.i=0.\n",
            "I can not come out from the loop.i=0.\n",
            "I can not come out from the loop.i=0.\n",
            "I can not come out from the loop.i=0.\n",
            "I can not come out from the loop.i=0.\n",
            "I can not come out from the loop.i=0.\n",
            "I can not come out from the loop.i=0.\n",
            "I can not come out from the loop.i=0.\n",
            "I can not come out from the loop.i=0.\n",
            "I can not come out from the loop.i=0.\n",
            "I can not come out from the loop.i=0.\n",
            "I can not come out from the loop.i=0.\n",
            "I can not come out from the loop.i=0.\n",
            "I can not come out from the loop.i=0.\n",
            "I can not come out from the loop.i=0.\n",
            "I can not come out from the loop.i=0.\n",
            "I can not come out from the loop.i=0.\n",
            "I can not come out from the loop.i=0.\n",
            "I can not come out from the loop.i=0.\n",
            "I can not come out from the loop.i=0.\n",
            "I can not come out from the loop.i=0.\n",
            "I can not come out from the loop.i=0.\n",
            "I can not come out from the loop.i=0.\n",
            "I can not come out from the loop.i=0.\n",
            "I can not come out from the loop.i=0.\n",
            "I can not come out from the loop.i=0.\n",
            "I can not come out from the loop.i=0.\n",
            "I can not come out from the loop.i=0.\n",
            "I can not come out from the loop.i=0.\n",
            "I can not come out from the loop.i=0.\n",
            "I can not come out from the loop.i=0.\n",
            "I can not come out from the loop.i=0.\n",
            "I can not come out from the loop.i=0.\n",
            "I can not come out from the loop.i=0.\n",
            "I can not come out from the loop.i=0.\n",
            "I can not come out from the loop.i=0.\n",
            "I can not come out from the loop.i=0.\n",
            "I can not come out from the loop.i=0.\n",
            "I can not come out from the loop.i=0.\n",
            "I can not come out from the loop.i=0.\n",
            "I can not come out from the loop.i=0.\n",
            "I can not come out from the loop.i=0.\n",
            "I can not come out from the loop.i=0.\n",
            "I can not come out from the loop.i=0.\n",
            "I can not come out from the loop.i=0.\n",
            "I can not come out from the loop.i=0.\n",
            "I can not come out from the loop.i=0.\n",
            "I can not come out from the loop.i=0.\n",
            "I can not come out from the loop.i=0.\n",
            "I can not come out from the loop.i=0.\n",
            "I can not come out from the loop.i=0.\n",
            "I can not come out from the loop.i=0.\n",
            "I can not come out from the loop.i=0.\n",
            "I can not come out from the loop.i=0.\n",
            "I can not come out from the loop.i=0.\n",
            "I can not come out from the loop.i=0.\n",
            "I can not come out from the loop.i=0.\n",
            "I can not come out from the loop.i=0.\n",
            "I can not come out from the loop.i=0.\n",
            "I can not come out from the loop.i=0.\n",
            "I can not come out from the loop.i=0.\n",
            "I can not come out from the loop.i=0.\n",
            "I can not come out from the loop.i=0.\n",
            "I can not come out from the loop.i=0.\n",
            "I can not come out from the loop.i=0.\n",
            "I can not come out from the loop.i=0.\n",
            "I can not come out from the loop.i=0.\n",
            "I can not come out from the loop.i=0.\n",
            "I can not come out from the loop.i=0.\n",
            "I can not come out from the loop.i=0.\n",
            "I can not come out from the loop.i=0.\n",
            "I can not come out from the loop.i=0.\n",
            "I can not come out from the loop.i=0.\n",
            "I can not come out from the loop.i=0.\n",
            "I can not come out from the loop.i=0.\n",
            "I can not come out from the loop.i=0.\n",
            "I can not come out from the loop.i=0.\n",
            "I can not come out from the loop.i=0.\n",
            "I can not come out from the loop.i=0.\n",
            "I can not come out from the loop.i=0.\n",
            "I can not come out from the loop.i=0.\n",
            "I can not come out from the loop.i=0.\n",
            "I can not come out from the loop.i=0.\n",
            "I can not come out from the loop.i=0.\n",
            "I can not come out from the loop.i=0.\n",
            "I can not come out from the loop.i=0.\n",
            "I can not come out from the loop.i=0.\n",
            "I can not come out from the loop.i=0.\n",
            "I can not come out from the loop.i=0.\n",
            "I can not come out from the loop.i=0.\n",
            "I can not come out from the loop.i=0.\n",
            "I can not come out from the loop.i=0.\n",
            "I can not come out from the loop.i=0.\n",
            "I can not come out from the loop.i=0.\n",
            "I can not come out from the loop.i=0.\n",
            "I can not come out from the loop.i=0.\n",
            "I can not come out from the loop.i=0.\n",
            "I can not come out from the loop.i=0.\n",
            "I can not come out from the loop.i=0.\n",
            "I can not come out from the loop.i=0.\n",
            "I can not come out from the loop.i=0.\n",
            "I can not come out from the loop.i=0.\n",
            "I can not come out from the loop.i=0.\n",
            "I can not come out from the loop.i=0.\n",
            "I can not come out from the loop.i=0.\n",
            "I can not come out from the loop.i=0.\n",
            "I can not come out from the loop.i=0.\n",
            "I can not come out from the loop.i=0.\n",
            "I can not come out from the loop.i=0.\n",
            "I can not come out from the loop.i=0.\n",
            "I can not come out from the loop.i=0.\n",
            "I can not come out from the loop.i=0.\n",
            "I can not come out from the loop.i=0.\n",
            "I can not come out from the loop.i=0.\n",
            "I can not come out from the loop.i=0.\n",
            "I can not come out from the loop.i=0.\n",
            "I can not come out from the loop.i=0.\n",
            "I can not come out from the loop.i=0.\n",
            "I can not come out from the loop.i=0.\n",
            "I can not come out from the loop.i=0.\n",
            "I can not come out from the loop.i=0.\n",
            "I can not come out from the loop.i=0.\n",
            "I can not come out from the loop.i=0.\n",
            "I can not come out from the loop.i=0.\n",
            "I can not come out from the loop.i=0.\n",
            "I can not come out from the loop.i=0.\n",
            "I can not come out from the loop.i=0.\n",
            "I can not come out from the loop.i=0.\n",
            "I can not come out from the loop.i=0.\n",
            "I can not come out from the loop.i=0.\n",
            "I can not come out from the loop.i=0.\n",
            "I can not come out from the loop.i=0.\n",
            "I can not come out from the loop.i=0.\n",
            "I can not come out from the loop.i=0.\n",
            "I can not come out from the loop.i=0.\n",
            "I can not come out from the loop.i=0.\n",
            "I can not come out from the loop.i=0.\n",
            "I can not come out from the loop.i=0.\n",
            "I can not come out from the loop.i=0.\n",
            "I can not come out from the loop.i=0.\n",
            "I can not come out from the loop.i=0.\n",
            "I can not come out from the loop.i=0.\n",
            "I can not come out from the loop.i=0.\n",
            "I can not come out from the loop.i=0.\n",
            "I can not come out from the loop.i=0.\n",
            "I can not come out from the loop.i=0.\n",
            "I can not come out from the loop.i=0.\n",
            "I can not come out from the loop.i=0.\n",
            "I can not come out from the loop.i=0.\n",
            "I can not come out from the loop.i=0.\n",
            "I can not come out from the loop.i=0.\n",
            "I can not come out from the loop.i=0.\n",
            "I can not come out from the loop.i=0.\n",
            "I can not come out from the loop.i=0.\n",
            "I can not come out from the loop.i=0.\n",
            "I can not come out from the loop.i=0.\n",
            "I can not come out from the loop.i=0.\n",
            "I can not come out from the loop.i=0.\n",
            "I can not come out from the loop.i=0.\n",
            "I can not come out from the loop.i=0.\n",
            "I can not come out from the loop.i=0.\n",
            "I can not come out from the loop.i=0.\n",
            "I can not come out from the loop.i=0.\n",
            "I can not come out from the loop.i=0.\n",
            "I can not come out from the loop.i=0.\n",
            "I can not come out from the loop.i=0.\n",
            "I can not come out from the loop.i=0.\n",
            "I can not come out from the loop.i=0.\n",
            "I can not come out from the loop.i=0.\n",
            "I can not come out from the loop.i=0.\n",
            "I can not come out from the loop.i=0.\n",
            "I can not come out from the loop.i=0.\n",
            "I can not come out from the loop.i=0.\n",
            "I can not come out from the loop.i=0.\n",
            "I can not come out from the loop.i=0.\n",
            "I can not come out from the loop.i=0.\n",
            "I can not come out from the loop.i=0.\n",
            "I can not come out from the loop.i=0.\n",
            "I can not come out from the loop.i=0.\n",
            "I can not come out from the loop.i=0.\n",
            "I can not come out from the loop.i=0.\n",
            "I can not come out from the loop.i=0.\n",
            "I can not come out from the loop.i=0.\n",
            "I can not come out from the loop.i=0.\n",
            "I can not come out from the loop.i=0.\n",
            "I can not come out from the loop.i=0.\n",
            "I can not come out from the loop.i=0.\n",
            "I can not come out from the loop.i=0.\n",
            "I can not come out from the loop.i=0.\n",
            "I can not come out from the loop.i=0.\n",
            "I can not come out from the loop.i=0.\n",
            "I can not come out from the loop.i=0.\n",
            "I can not come out from the loop.i=0.\n",
            "I can not come out from the loop.i=0.\n",
            "I can not come out from the loop.i=0.\n",
            "I can not come out from the loop.i=0.\n",
            "I can not come out from the loop.i=0.\n",
            "I can not come out from the loop.i=0.\n",
            "I can not come out from the loop.i=0.\n",
            "I can not come out from the loop.i=0.\n",
            "I can not come out from the loop.i=0.\n",
            "I can not come out from the loop.i=0.\n",
            "I can not come out from the loop.i=0.\n",
            "I can not come out from the loop.i=0.\n",
            "I can not come out from the loop.i=0.\n",
            "I can not come out from the loop.i=0.\n",
            "I can not come out from the loop.i=0.\n",
            "I can not come out from the loop.i=0.\n",
            "I can not come out from the loop.i=0.\n",
            "I can not come out from the loop.i=0.\n",
            "I can not come out from the loop.i=0.\n",
            "I can not come out from the loop.i=0.\n",
            "I can not come out from the loop.i=0.\n",
            "I can not come out from the loop.i=0.\n",
            "I can not come out from the loop.i=0.\n",
            "I can not come out from the loop.i=0.\n",
            "I can not come out from the loop.i=0.\n",
            "I can not come out from the loop.i=0.\n",
            "I can not come out from the loop.i=0.\n",
            "I can not come out from the loop.i=0.\n",
            "I can not come out from the loop.i=0.\n",
            "I can not come out from the loop.i=0.\n",
            "I can not come out from the loop.i=0.\n",
            "I can not come out from the loop.i=0.\n",
            "I can not come out from the loop.i=0.\n",
            "I can not come out from the loop.i=0.\n",
            "I can not come out from the loop.i=0.\n",
            "I can not come out from the loop.i=0.\n",
            "I can not come out from the loop.i=0.\n",
            "I can not come out from the loop.i=0.\n",
            "I can not come out from the loop.i=0.\n",
            "I can not come out from the loop.i=0.\n",
            "I can not come out from the loop.i=0.\n",
            "I can not come out from the loop.i=0.\n",
            "I can not come out from the loop.i=0.\n",
            "I can not come out from the loop.i=0.\n",
            "I can not come out from the loop.i=0.\n",
            "I can not come out from the loop.i=0.\n",
            "I can not come out from the loop.i=0.\n",
            "I can not come out from the loop.i=0.\n",
            "I can not come out from the loop.i=0.\n",
            "I can not come out from the loop.i=0.\n",
            "I can not come out from the loop.i=0.\n",
            "I can not come out from the loop.i=0.\n",
            "I can not come out from the loop.i=0.\n",
            "I can not come out from the loop.i=0.\n",
            "I can not come out from the loop.i=0.\n",
            "I can not come out from the loop.i=0.\n",
            "I can not come out from the loop.i=0.\n",
            "I can not come out from the loop.i=0.\n",
            "I can not come out from the loop.i=0.\n",
            "I can not come out from the loop.i=0.\n",
            "I can not come out from the loop.i=0.\n",
            "I can not come out from the loop.i=0.\n",
            "I can not come out from the loop.i=0.\n",
            "I can not come out from the loop.i=0.\n",
            "I can not come out from the loop.i=0.\n",
            "I can not come out from the loop.i=0.\n",
            "I can not come out from the loop.i=0.\n",
            "I can not come out from the loop.i=0.\n",
            "I can not come out from the loop.i=0.\n",
            "I can not come out from the loop.i=0.\n",
            "I can not come out from the loop.i=0.\n",
            "I can not come out from the loop.i=0.\n",
            "I can not come out from the loop.i=0.\n",
            "I can not come out from the loop.i=0.\n",
            "I can not come out from the loop.i=0.\n",
            "I can not come out from the loop.i=0.\n",
            "I can not come out from the loop.i=0.\n",
            "I can not come out from the loop.i=0.\n",
            "I can not come out from the loop.i=0.\n",
            "I can not come out from the loop.i=0.\n",
            "I can not come out from the loop.i=0.\n",
            "I can not come out from the loop.i=0.\n",
            "I can not come out from the loop.i=0.\n",
            "I can not come out from the loop.i=0.\n",
            "I can not come out from the loop.i=0.\n",
            "I can not come out from the loop.i=0.\n",
            "I can not come out from the loop.i=0.\n",
            "I can not come out from the loop.i=0.\n",
            "I can not come out from the loop.i=0.\n",
            "I can not come out from the loop.i=0.\n",
            "I can not come out from the loop.i=0.\n",
            "I can not come out from the loop.i=0.\n",
            "I can not come out from the loop.i=0.\n",
            "I can not come out from the loop.i=0.\n",
            "I can not come out from the loop.i=0.\n",
            "I can not come out from the loop.i=0.\n",
            "I can not come out from the loop.i=0.\n",
            "I can not come out from the loop.i=0.\n",
            "I can not come out from the loop.i=0.\n",
            "I can not come out from the loop.i=0.\n",
            "I can not come out from the loop.i=0.\n",
            "I can not come out from the loop.i=0.\n",
            "I can not come out from the loop.i=0.\n",
            "I can not come out from the loop.i=0.\n",
            "I can not come out from the loop.i=0.\n",
            "I can not come out from the loop.i=0.\n",
            "I can not come out from the loop.i=0.\n",
            "I can not come out from the loop.i=0.\n",
            "I can not come out from the loop.i=0.\n",
            "I can not come out from the loop.i=0.\n",
            "I can not come out from the loop.i=0.\n",
            "I can not come out from the loop.i=0.\n",
            "I can not come out from the loop.i=0.\n",
            "I can not come out from the loop.i=0.\n",
            "I can not come out from the loop.i=0.\n",
            "I can not come out from the loop.i=0.\n",
            "I can not come out from the loop.i=0.\n",
            "I can not come out from the loop.i=0.\n",
            "I can not come out from the loop.i=0.\n",
            "I can not come out from the loop.i=0.\n",
            "I can not come out from the loop.i=0.\n",
            "I can not come out from the loop.i=0.\n",
            "I can not come out from the loop.i=0.\n",
            "I can not come out from the loop.i=0.\n",
            "I can not come out from the loop.i=0.\n",
            "I can not come out from the loop.i=0.\n",
            "I can not come out from the loop.i=0.\n",
            "I can not come out from the loop.i=0.\n",
            "I can not come out from the loop.i=0.\n",
            "I can not come out from the loop.i=0.\n",
            "I can not come out from the loop.i=0.\n",
            "I can not come out from the loop.i=0.\n",
            "I can not come out from the loop.i=0.\n",
            "I can not come out from the loop.i=0.\n",
            "I can not come out from the loop.i=0.\n",
            "I can not come out from the loop.i=0.\n",
            "I can not come out from the loop.i=0.\n",
            "I can not come out from the loop.i=0.\n",
            "I can not come out from the loop.i=0.\n",
            "I can not come out from the loop.i=0.\n",
            "I can not come out from the loop.i=0.\n",
            "I can not come out from the loop.i=0.\n",
            "I can not come out from the loop.i=0.\n",
            "I can not come out from the loop.i=0.\n",
            "I can not come out from the loop.i=0.\n",
            "I can not come out from the loop.i=0.\n",
            "I can not come out from the loop.i=0.\n",
            "I can not come out from the loop.i=0.\n",
            "I can not come out from the loop.i=0.\n",
            "I can not come out from the loop.i=0.\n",
            "I can not come out from the loop.i=0.\n",
            "I can not come out from the loop.i=0.\n",
            "I can not come out from the loop.i=0.\n",
            "I can not come out from the loop.i=0.\n",
            "I can not come out from the loop.i=0.\n",
            "I can not come out from the loop.i=0.\n",
            "I can not come out from the loop.i=0.\n",
            "I can not come out from the loop.i=0.\n",
            "I can not come out from the loop.i=0.\n",
            "I can not come out from the loop.i=0.\n",
            "I can not come out from the loop.i=0.\n",
            "I can not come out from the loop.i=0.\n",
            "I can not come out from the loop.i=0.\n",
            "I can not come out from the loop.i=0.\n",
            "I can not come out from the loop.i=0.\n",
            "I can not come out from the loop.i=0.\n",
            "I can not come out from the loop.i=0.\n",
            "I can not come out from the loop.i=0.\n",
            "I can not come out from the loop.i=0.\n",
            "I can not come out from the loop.i=0.\n",
            "I can not come out from the loop.i=0.\n",
            "I can not come out from the loop.i=0.\n",
            "I can not come out from the loop.i=0.\n",
            "I can not come out from the loop.i=0.\n",
            "I can not come out from the loop.i=0.\n",
            "I can not come out from the loop.i=0.\n",
            "I can not come out from the loop.i=0.\n",
            "I can not come out from the loop.i=0.\n",
            "I can not come out from the loop.i=0.\n",
            "I can not come out from the loop.i=0.\n",
            "I can not come out from the loop.i=0.\n",
            "I can not come out from the loop.i=0.\n",
            "I can not come out from the loop.i=0.\n",
            "I can not come out from the loop.i=0.\n",
            "I can not come out from the loop.i=0.\n",
            "I can not come out from the loop.i=0.\n",
            "I can not come out from the loop.i=0.\n",
            "I can not come out from the loop.i=0.\n",
            "I can not come out from the loop.i=0.\n",
            "I can not come out from the loop.i=0.\n",
            "I can not come out from the loop.i=0.\n",
            "I can not come out from the loop.i=0.\n",
            "I can not come out from the loop.i=0.\n",
            "I can not come out from the loop.i=0.\n",
            "I can not come out from the loop.i=0.\n",
            "I can not come out from the loop.i=0.\n",
            "I can not come out from the loop.i=0.\n",
            "I can not come out from the loop.i=0.\n",
            "I can not come out from the loop.i=0.\n",
            "I can not come out from the loop.i=0.\n",
            "I can not come out from the loop.i=0.\n",
            "I can not come out from the loop.i=0.\n",
            "I can not come out from the loop.i=0.\n",
            "I can not come out from the loop.i=0.\n",
            "I can not come out from the loop.i=0.\n",
            "I can not come out from the loop.i=0.\n",
            "I can not come out from the loop.i=0.\n",
            "I can not come out from the loop.i=0.\n",
            "I can not come out from the loop.i=0.\n",
            "I can not come out from the loop.i=0.\n",
            "I can not come out from the loop.i=0.\n",
            "I can not come out from the loop.i=0.\n",
            "I can not come out from the loop.i=0.\n",
            "I can not come out from the loop.i=0.\n",
            "I can not come out from the loop.i=0.\n",
            "I can not come out from the loop.i=0.\n",
            "I can not come out from the loop.i=0.\n",
            "I can not come out from the loop.i=0.\n",
            "I can not come out from the loop.i=0.\n",
            "I can not come out from the loop.i=0.\n",
            "I can not come out from the loop.i=0.\n",
            "I can not come out from the loop.i=0.\n",
            "I can not come out from the loop.i=0.\n",
            "I can not come out from the loop.i=0.\n",
            "I can not come out from the loop.i=0.\n",
            "I can not come out from the loop.i=0.\n",
            "I can not come out from the loop.i=0.\n",
            "I can not come out from the loop.i=0.\n",
            "I can not come out from the loop.i=0.\n",
            "I can not come out from the loop.i=0.\n",
            "I can not come out from the loop.i=0.\n",
            "I can not come out from the loop.i=0.\n",
            "I can not come out from the loop.i=0.\n",
            "I can not come out from the loop.i=0.\n",
            "I can not come out from the loop.i=0.\n",
            "I can not come out from the loop.i=0.\n",
            "I can not come out from the loop.i=0.\n",
            "I can not come out from the loop.i=0.\n",
            "I can not come out from the loop.i=0.\n",
            "I can not come out from the loop.i=0.\n",
            "I can not come out from the loop.i=0.\n",
            "I can not come out from the loop.i=0.\n",
            "I can not come out from the loop.i=0.\n",
            "I can not come out from the loop.i=0.\n",
            "I can not come out from the loop.i=0.\n",
            "I can not come out from the loop.i=0.\n",
            "I can not come out from the loop.i=0.\n",
            "I can not come out from the loop.i=0.\n",
            "I can not come out from the loop.i=0.\n",
            "I can not come out from the loop.i=0.\n",
            "I can not come out from the loop.i=0.\n",
            "I can not come out from the loop.i=0.\n",
            "I can not come out from the loop.i=0.\n",
            "I can not come out from the loop.i=0.\n",
            "I can not come out from the loop.i=0.\n",
            "I can not come out from the loop.i=0.\n",
            "I can not come out from the loop.i=0.\n",
            "I can not come out from the loop.i=0.\n",
            "I can not come out from the loop.i=0.\n",
            "I can not come out from the loop.i=0.\n",
            "I can not come out from the loop.i=0.\n",
            "I can not come out from the loop.i=0.\n",
            "I can not come out from the loop.i=0.\n",
            "I can not come out from the loop.i=0.\n",
            "I can not come out from the loop.i=0.\n",
            "I can not come out from the loop.i=0.\n",
            "I can not come out from the loop.i=0.\n",
            "I can not come out from the loop.i=0.\n",
            "I can not come out from the loop.i=0.\n",
            "I can not come out from the loop.i=0.\n",
            "I can not come out from the loop.i=0.\n",
            "I can not come out from the loop.i=0.\n",
            "I can not come out from the loop.i=0.\n",
            "I can not come out from the loop.i=0.\n",
            "I can not come out from the loop.i=0.\n",
            "I can not come out from the loop.i=0.\n",
            "I can not come out from the loop.i=0.\n",
            "I can not come out from the loop.i=0.\n",
            "I can not come out from the loop.i=0.\n",
            "I can not come out from the loop.i=0.\n",
            "I can not come out from the loop.i=0.\n",
            "I can not come out from the loop.i=0.\n",
            "I can not come out from the loop.i=0.\n",
            "I can not come out from the loop.i=0.\n",
            "I can not come out from the loop.i=0.\n",
            "I can not come out from the loop.i=0.\n",
            "I can not come out from the loop.i=0.\n",
            "I can not come out from the loop.i=0.\n",
            "I can not come out from the loop.i=0.\n",
            "I can not come out from the loop.i=0.\n",
            "I can not come out from the loop.i=0.\n",
            "I can not come out from the loop.i=0.\n",
            "I can not come out from the loop.i=0.\n",
            "I can not come out from the loop.i=0.\n",
            "I can not come out from the loop.i=0.\n",
            "I can not come out from the loop.i=0.\n",
            "I can not come out from the loop.i=0.\n",
            "I can not come out from the loop.i=0.\n",
            "I can not come out from the loop.i=0.\n",
            "I can not come out from the loop.i=0.\n",
            "I can not come out from the loop.i=0.\n",
            "I can not come out from the loop.i=0.\n",
            "I can not come out from the loop.i=0.\n",
            "I can not come out from the loop.i=0.\n",
            "I can not come out from the loop.i=0.\n",
            "I can not come out from the loop.i=0.\n",
            "I can not come out from the loop.i=0.\n",
            "I can not come out from the loop.i=0.\n",
            "I can not come out from the loop.i=0.\n",
            "I can not come out from the loop.i=0.\n",
            "I can not come out from the loop.i=0.\n",
            "I can not come out from the loop.i=0.\n",
            "I can not come out from the loop.i=0.\n",
            "I can not come out from the loop.i=0.\n",
            "I can not come out from the loop.i=0.\n",
            "I can not come out from the loop.i=0.\n",
            "I can not come out from the loop.i=0.\n",
            "I can not come out from the loop.i=0.\n",
            "I can not come out from the loop.i=0.\n",
            "I can not come out from the loop.i=0.\n",
            "I can not come out from the loop.i=0.\n",
            "I can not come out from the loop.i=0.\n",
            "I can not come out from the loop.i=0.\n",
            "I can not come out from the loop.i=0.\n",
            "I can not come out from the loop.i=0.\n",
            "I can not come out from the loop.i=0.\n",
            "I can not come out from the loop.i=0.\n",
            "I can not come out from the loop.i=0.\n",
            "I can not come out from the loop.i=0.\n",
            "I can not come out from the loop.i=0.\n",
            "I can not come out from the loop.i=0.\n",
            "I can not come out from the loop.i=0.\n",
            "I can not come out from the loop.i=0.\n",
            "I can not come out from the loop.i=0.\n",
            "I can not come out from the loop.i=0.\n",
            "I can not come out from the loop.i=0.\n",
            "I can not come out from the loop.i=0.\n",
            "I can not come out from the loop.i=0.\n",
            "I can not come out from the loop.i=0.\n",
            "I can not come out from the loop.i=0.\n",
            "I can not come out from the loop.i=0.\n",
            "I can not come out from the loop.i=0.\n",
            "I can not come out from the loop.i=0.\n",
            "I can not come out from the loop.i=0.\n",
            "I can not come out from the loop.i=0.\n",
            "I can not come out from the loop.i=0.\n",
            "I can not come out from the loop.i=0.\n",
            "I can not come out from the loop.i=0.\n",
            "I can not come out from the loop.i=0.\n",
            "I can not come out from the loop.i=0.\n",
            "I can not come out from the loop.i=0.\n",
            "I can not come out from the loop.i=0.\n",
            "I can not come out from the loop.i=0.\n",
            "I can not come out from the loop.i=0.\n",
            "I can not come out from the loop.i=0.\n",
            "I can not come out from the loop.i=0.\n",
            "I can not come out from the loop.i=0.\n",
            "I can not come out from the loop.i=0.\n",
            "I can not come out from the loop.i=0.\n",
            "I can not come out from the loop.i=0.\n",
            "I can not come out from the loop.i=0.\n",
            "I can not come out from the loop.i=0.\n",
            "I can not come out from the loop.i=0.\n",
            "I can not come out from the loop.i=0.\n",
            "I can not come out from the loop.i=0.\n",
            "I can not come out from the loop.i=0.\n",
            "I can not come out from the loop.i=0.\n",
            "I can not come out from the loop.i=0.\n",
            "I can not come out from the loop.i=0.\n",
            "I can not come out from the loop.i=0.\n",
            "I can not come out from the loop.i=0.\n",
            "I can not come out from the loop.i=0.\n",
            "I can not come out from the loop.i=0.\n",
            "I can not come out from the loop.i=0.\n",
            "I can not come out from the loop.i=0.\n",
            "I can not come out from the loop.i=0.\n",
            "I can not come out from the loop.i=0.\n",
            "I can not come out from the loop.i=0.\n",
            "I can not come out from the loop.i=0.\n",
            "I can not come out from the loop.i=0.\n",
            "I can not come out from the loop.i=0.\n",
            "I can not come out from the loop.i=0.\n",
            "I can not come out from the loop.i=0.\n",
            "I can not come out from the loop.i=0.\n",
            "I can not come out from the loop.i=0.\n",
            "I can not come out from the loop.i=0.\n",
            "I can not come out from the loop.i=0.\n",
            "I can not come out from the loop.i=0.\n",
            "I can not come out from the loop.i=0.\n",
            "I can not come out from the loop.i=0.\n",
            "I can not come out from the loop.i=0.\n",
            "I can not come out from the loop.i=0.\n",
            "I can not come out from the loop.i=0.\n",
            "I can not come out from the loop.i=0.\n",
            "I can not come out from the loop.i=0.\n",
            "I can not come out from the loop.i=0.\n",
            "I can not come out from the loop.i=0.\n",
            "I can not come out from the loop.i=0.\n",
            "I can not come out from the loop.i=0.\n",
            "I can not come out from the loop.i=0.\n",
            "I can not come out from the loop.i=0.\n",
            "I can not come out from the loop.i=0.\n",
            "I can not come out from the loop.i=0.\n",
            "I can not come out from the loop.i=0.\n",
            "I can not come out from the loop.i=0.\n",
            "I can not come out from the loop.i=0.\n",
            "I can not come out from the loop.i=0.\n",
            "I can not come out from the loop.i=0.\n",
            "I can not come out from the loop.i=0.\n",
            "I can not come out from the loop.i=0.\n",
            "I can not come out from the loop.i=0.\n",
            "I can not come out from the loop.i=0.\n",
            "I can not come out from the loop.i=0.\n",
            "I can not come out from the loop.i=0.\n",
            "I can not come out from the loop.i=0.\n",
            "I can not come out from the loop.i=0.\n",
            "I can not come out from the loop.i=0.\n",
            "I can not come out from the loop.i=0.\n",
            "I can not come out from the loop.i=0.\n",
            "I can not come out from the loop.i=0.\n",
            "I can not come out from the loop.i=0.\n",
            "I can not come out from the loop.i=0.\n",
            "I can not come out from the loop.i=0.\n",
            "I can not come out from the loop.i=0.\n",
            "I can not come out from the loop.i=0.\n",
            "I can not come out from the loop.i=0.\n",
            "I can not come out from the loop.i=0.\n",
            "I can not come out from the loop.i=0.\n",
            "I can not come out from the loop.i=0.\n",
            "I can not come out from the loop.i=0.\n",
            "I can not come out from the loop.i=0.\n",
            "I can not come out from the loop.i=0.\n",
            "I can not come out from the loop.i=0.\n",
            "I can not come out from the loop.i=0.\n",
            "I can not come out from the loop.i=0.\n",
            "I can not come out from the loop.i=0.\n",
            "I can not come out from the loop.i=0.\n",
            "I can not come out from the loop.i=0.\n",
            "I can not come out from the loop.i=0.\n",
            "I can not come out from the loop.i=0.\n",
            "I can not come out from the loop.i=0.\n",
            "I can not come out from the loop.i=0.\n",
            "I can not come out from the loop.i=0.\n",
            "I can not come out from the loop.i=0.\n",
            "I can not come out from the loop.i=0.\n",
            "I can not come out from the loop.i=0.\n",
            "I can not come out from the loop.i=0.\n",
            "I can not come out from the loop.i=0.\n",
            "I can not come out from the loop.i=0.\n",
            "I can not come out from the loop.i=0.\n",
            "I can not come out from the loop.i=0.\n",
            "I can not come out from the loop.i=0.\n",
            "I can not come out from the loop.i=0.\n",
            "I can not come out from the loop.i=0.\n",
            "I can not come out from the loop.i=0.\n",
            "I can not come out from the loop.i=0.\n",
            "I can not come out from the loop.i=0.\n",
            "I can not come out from the loop.i=0.\n",
            "I can not come out from the loop.i=0.\n",
            "I can not come out from the loop.i=0.\n",
            "I can not come out from the loop.i=0.\n",
            "I can not come out from the loop.i=0.\n",
            "I can not come out from the loop.i=0.\n",
            "I can not come out from the loop.i=0.\n",
            "I can not come out from the loop.i=0.\n",
            "I can not come out from the loop.i=0.\n",
            "I can not come out from the loop.i=0.\n",
            "I can not come out from the loop.i=0.\n",
            "I can not come out from the loop.i=0.\n",
            "I can not come out from the loop.i=0.\n",
            "I can not come out from the loop.i=0.\n",
            "I can not come out from the loop.i=0.\n",
            "I can not come out from the loop.i=0.\n",
            "I can not come out from the loop.i=0.\n",
            "I can not come out from the loop.i=0.\n",
            "I can not come out from the loop.i=0.\n",
            "I can not come out from the loop.i=0.\n",
            "I can not come out from the loop.i=0.\n",
            "I can not come out from the loop.i=0.\n",
            "I can not come out from the loop.i=0.\n",
            "I can not come out from the loop.i=0.\n",
            "I can not come out from the loop.i=0.\n",
            "I can not come out from the loop.i=0.\n",
            "I can not come out from the loop.i=0.\n",
            "I can not come out from the loop.i=0.\n",
            "I can not come out from the loop.i=0.\n",
            "I can not come out from the loop.i=0.\n",
            "I can not come out from the loop.i=0.\n",
            "I can not come out from the loop.i=0.\n",
            "I can not come out from the loop.i=0.\n",
            "I can not come out from the loop.i=0.\n",
            "I can not come out from the loop.i=0.\n",
            "I can not come out from the loop.i=0.\n",
            "I can not come out from the loop.i=0.\n",
            "I can not come out from the loop.i=0.\n",
            "I can not come out from the loop.i=0.\n",
            "I can not come out from the loop.i=0.\n",
            "I can not come out from the loop.i=0.\n",
            "I can not come out from the loop.i=0.\n",
            "I can not come out from the loop.i=0.\n",
            "I can not come out from the loop.i=0.\n",
            "I can not come out from the loop.i=0.\n",
            "I can not come out from the loop.i=0.\n",
            "I can not come out from the loop.i=0.\n",
            "I can not come out from the loop.i=0.\n",
            "I can not come out from the loop.i=0.\n",
            "I can not come out from the loop.i=0.\n",
            "I can not come out from the loop.i=0.\n",
            "I can not come out from the loop.i=0.\n",
            "I can not come out from the loop.i=0.\n",
            "I can not come out from the loop.i=0.\n",
            "I can not come out from the loop.i=0.\n",
            "I can not come out from the loop.i=0.\n",
            "I can not come out from the loop.i=0.\n",
            "I can not come out from the loop.i=0.\n",
            "I can not come out from the loop.i=0.\n",
            "I can not come out from the loop.i=0.\n",
            "I can not come out from the loop.i=0.\n",
            "I can not come out from the loop.i=0.\n",
            "I can not come out from the loop.i=0.\n",
            "I can not come out from the loop.i=0.\n",
            "I can not come out from the loop.i=0.\n",
            "I can not come out from the loop.i=0.\n",
            "I can not come out from the loop.i=0.\n",
            "I can not come out from the loop.i=0.\n",
            "I can not come out from the loop.i=0.\n",
            "I can not come out from the loop.i=0.\n",
            "I can not come out from the loop.i=0.\n",
            "I can not come out from the loop.i=0.\n",
            "I can not come out from the loop.i=0.\n",
            "I can not come out from the loop.i=0.\n",
            "I can not come out from the loop.i=0.\n",
            "I can not come out from the loop.i=0.\n",
            "I can not come out from the loop.i=0.\n",
            "I can not come out from the loop.i=0.\n",
            "I can not come out from the loop.i=0.\n",
            "I can not come out from the loop.i=0.\n",
            "I can not come out from the loop.i=0.\n",
            "I can not come out from the loop.i=0.\n",
            "I can not come out from the loop.i=0.\n",
            "I can not come out from the loop.i=0.\n",
            "I can not come out from the loop.i=0.\n",
            "I can not come out from the loop.i=0.\n",
            "I can not come out from the loop.i=0.\n",
            "I can not come out from the loop.i=0.\n",
            "I can not come out from the loop.i=0.\n",
            "I can not come out from the loop.i=0.\n",
            "I can not come out from the loop.i=0.\n",
            "I can not come out from the loop.i=0.\n",
            "I can not come out from the loop.i=0.\n",
            "I can not come out from the loop.i=0.\n",
            "I can not come out from the loop.i=0.\n",
            "I can not come out from the loop.i=0.\n",
            "I can not come out from the loop.i=0.\n",
            "I can not come out from the loop.i=0.\n",
            "I can not come out from the loop.i=0.\n",
            "I can not come out from the loop.i=0.\n",
            "I can not come out from the loop.i=0.\n",
            "I can not come out from the loop.i=0.\n",
            "I can not come out from the loop.i=0.\n",
            "I can not come out from the loop.i=0.\n",
            "I can not come out from the loop.i=0.\n",
            "I can not come out from the loop.i=0.\n",
            "I can not come out from the loop.i=0.\n",
            "I can not come out from the loop.i=0.\n",
            "I can not come out from the loop.i=0.\n",
            "I can not come out from the loop.i=0.\n",
            "I can not come out from the loop.i=0.\n",
            "I can not come out from the loop.i=0.\n",
            "I can not come out from the loop.i=0.\n",
            "I can not come out from the loop.i=0.\n",
            "I can not come out from the loop.i=0.\n",
            "I can not come out from the loop.i=0.\n",
            "I can not come out from the loop.i=0.\n",
            "I can not come out from the loop.i=0.\n",
            "I can not come out from the loop.i=0.\n",
            "I can not come out from the loop.i=0.\n",
            "I can not come out from the loop.i=0.\n",
            "I can not come out from the loop.i=0.\n",
            "I can not come out from the loop.i=0.\n",
            "I can not come out from the loop.i=0.\n",
            "I can not come out from the loop.i=0.\n",
            "I can not come out from the loop.i=0.\n",
            "I can not come out from the loop.i=0.\n",
            "I can not come out from the loop.i=0.\n",
            "I can not come out from the loop.i=0.\n",
            "I can not come out from the loop.i=0.\n",
            "I can not come out from the loop.i=0.\n",
            "I can not come out from the loop.i=0.\n",
            "I can not come out from the loop.i=0.\n",
            "I can not come out from the loop.i=0.\n",
            "I can not come out from the loop.i=0.\n",
            "I can not come out from the loop.i=0.\n",
            "I can not come out from the loop.i=0.\n",
            "I can not come out from the loop.i=0.\n",
            "I can not come out from the loop.i=0.\n",
            "I can not come out from the loop.i=0.\n",
            "I can not come out from the loop.i=0.\n",
            "I can not come out from the loop.i=0.\n",
            "I can not come out from the loop.i=0.\n",
            "I can not come out from the loop.i=0.\n",
            "I can not come out from the loop.i=0.\n",
            "I can not come out from the loop.i=0.\n",
            "I can not come out from the loop.i=0.\n",
            "I can not come out from the loop.i=0.\n",
            "I can not come out from the loop.i=0.\n",
            "I can not come out from the loop.i=0.\n",
            "I can not come out from the loop.i=0.\n",
            "I can not come out from the loop.i=0.\n",
            "I can not come out from the loop.i=0.\n",
            "I can not come out from the loop.i=0.\n",
            "I can not come out from the loop.i=0.\n",
            "I can not come out from the loop.i=0.\n",
            "I can not come out from the loop.i=0.\n",
            "I can not come out from the loop.i=0.\n",
            "I can not come out from the loop.i=0.\n",
            "I can not come out from the loop.i=0.\n",
            "I can not come out from the loop.i=0.\n",
            "I can not come out from the loop.i=0.\n",
            "I can not come out from the loop.i=0.\n",
            "I can not come out from the loop.i=0.\n",
            "I can not come out from the loop.i=0.\n",
            "I can not come out from the loop.i=0.\n",
            "I can not come out from the loop.i=0.\n",
            "I can not come out from the loop.i=0.\n",
            "I can not come out from the loop.i=0.\n",
            "I can not come out from the loop.i=0.\n",
            "I can not come out from the loop.i=0.\n",
            "I can not come out from the loop.i=0.\n",
            "I can not come out from the loop.i=0.\n",
            "I can not come out from the loop.i=0.\n",
            "I can not come out from the loop.i=0.\n",
            "I can not come out from the loop.i=0.\n",
            "I can not come out from the loop.i=0.\n",
            "I can not come out from the loop.i=0.\n",
            "I can not come out from the loop.i=0.\n",
            "I can not come out from the loop.i=0.\n",
            "I can not come out from the loop.i=0.\n",
            "I can not come out from the loop.i=0.\n",
            "I can not come out from the loop.i=0.\n",
            "I can not come out from the loop.i=0.\n",
            "I can not come out from the loop.i=0.\n",
            "I can not come out from the loop.i=0.\n",
            "I can not come out from the loop.i=0.\n",
            "I can not come out from the loop.i=0.\n",
            "I can not come out from the loop.i=0.\n",
            "I can not come out from the loop.i=0.\n",
            "I can not come out from the loop.i=0.\n",
            "I can not come out from the loop.i=0.\n",
            "I can not come out from the loop.i=0.\n",
            "I can not come out from the loop.i=0.\n",
            "I can not come out from the loop.i=0.\n",
            "I can not come out from the loop.i=0.\n",
            "I can not come out from the loop.i=0.\n",
            "I can not come out from the loop.i=0.\n",
            "I can not come out from the loop.i=0.\n",
            "I can not come out from the loop.i=0.\n",
            "I can not come out from the loop.i=0.\n",
            "I can not come out from the loop.i=0.\n",
            "I can not come out from the loop.i=0.\n",
            "I can not come out from the loop.i=0.\n",
            "I can not come out from the loop.i=0.\n",
            "I can not come out from the loop.i=0.\n",
            "I can not come out from the loop.i=0.\n",
            "I can not come out from the loop.i=0.\n",
            "I can not come out from the loop.i=0.\n",
            "I can not come out from the loop.i=0.\n",
            "I can not come out from the loop.i=0.\n",
            "I can not come out from the loop.i=0.\n",
            "I can not come out from the loop.i=0.\n",
            "I can not come out from the loop.i=0.\n",
            "I can not come out from the loop.i=0.\n",
            "I can not come out from the loop.i=0.\n",
            "I can not come out from the loop.i=0.\n",
            "I can not come out from the loop.i=0.\n",
            "I can not come out from the loop.i=0.\n",
            "I can not come out from the loop.i=0.\n",
            "I can not come out from the loop.i=0.\n",
            "I can not come out from the loop.i=0.\n",
            "I can not come out from the loop.i=0.\n",
            "I can not come out from the loop.i=0.\n",
            "I can not come out from the loop.i=0.\n",
            "I can not come out from the loop.i=0.\n",
            "I can not come out from the loop.i=0.\n",
            "I can not come out from the loop.i=0.\n",
            "I can not come out from the loop.i=0.\n",
            "I can not come out from the loop.i=0.\n",
            "I can not come out from the loop.i=0.\n",
            "I can not come out from the loop.i=0.\n",
            "I can not come out from the loop.i=0.\n",
            "I can not come out from the loop.i=0.\n",
            "I can not come out from the loop.i=0.\n",
            "I can not come out from the loop.i=0.\n",
            "I can not come out from the loop.i=0.\n",
            "I can not come out from the loop.i=0.\n",
            "I can not come out from the loop.i=0.\n",
            "I can not come out from the loop.i=0.\n",
            "I can not come out from the loop.i=0.\n",
            "I can not come out from the loop.i=0.\n",
            "I can not come out from the loop.i=0.\n",
            "I can not come out from the loop.i=0.\n",
            "I can not come out from the loop.i=0.\n",
            "I can not come out from the loop.i=0.\n",
            "I can not come out from the loop.i=0.\n",
            "I can not come out from the loop.i=0.\n",
            "I can not come out from the loop.i=0.\n",
            "I can not come out from the loop.i=0.\n",
            "I can not come out from the loop.i=0.\n",
            "I can not come out from the loop.i=0.\n",
            "I can not come out from the loop.i=0.\n",
            "I can not come out from the loop.i=0.\n",
            "I can not come out from the loop.i=0.\n",
            "I can not come out from the loop.i=0.\n",
            "I can not come out from the loop.i=0.\n",
            "I can not come out from the loop.i=0.\n",
            "I can not come out from the loop.i=0.\n",
            "I can not come out from the loop.i=0.\n",
            "I can not come out from the loop.i=0.\n",
            "I can not come out from the loop.i=0.\n",
            "I can not come out from the loop.i=0.\n",
            "I can not come out from the loop.i=0.\n",
            "I can not come out from the loop.i=0.\n",
            "I can not come out from the loop.i=0.\n",
            "I can not come out from the loop.i=0.\n",
            "I can not come out from the loop.i=0.\n",
            "I can not come out from the loop.i=0.\n",
            "I can not come out from the loop.i=0.\n",
            "I can not come out from the loop.i=0.\n",
            "I can not come out from the loop.i=0.\n",
            "I can not come out from the loop.i=0.\n",
            "I can not come out from the loop.i=0.\n",
            "I can not come out from the loop.i=0.\n",
            "I can not come out from the loop.i=0.\n",
            "I can not come out from the loop.i=0.\n",
            "I can not come out from the loop.i=0.\n",
            "I can not come out from the loop.i=0.\n",
            "I can not come out from the loop.i=0.\n",
            "I can not come out from the loop.i=0.\n",
            "I can not come out from the loop.i=0.\n",
            "I can not come out from the loop.i=0.\n",
            "I can not come out from the loop.i=0.\n",
            "I can not come out from the loop.i=0.\n",
            "I can not come out from the loop.i=0.\n",
            "I can not come out from the loop.i=0.\n",
            "I can not come out from the loop.i=0.\n",
            "I can not come out from the loop.i=0.\n",
            "I can not come out from the loop.i=0.\n",
            "I can not come out from the loop.i=0.\n",
            "I can not come out from the loop.i=0.\n",
            "I can not come out from the loop.i=0.\n",
            "I can not come out from the loop.i=0.\n",
            "I can not come out from the loop.i=0.\n",
            "I can not come out from the loop.i=0.\n",
            "I can not come out from the loop.i=0.\n",
            "I can not come out from the loop.i=0.\n",
            "I can not come out from the loop.i=0.\n",
            "I can not come out from the loop.i=0.\n",
            "I can not come out from the loop.i=0.\n",
            "I can not come out from the loop.i=0.\n",
            "I can not come out from the loop.i=0.\n",
            "I can not come out from the loop.i=0.\n",
            "I can not come out from the loop.i=0.\n",
            "I can not come out from the loop.i=0.\n",
            "I can not come out from the loop.i=0.\n",
            "I can not come out from the loop.i=0.\n",
            "I can not come out from the loop.i=0.\n",
            "I can not come out from the loop.i=0.\n",
            "I can not come out from the loop.i=0.\n",
            "I can not come out from the loop.i=0.\n",
            "I can not come out from the loop.i=0.\n",
            "I can not come out from the loop.i=0.\n",
            "I can not come out from the loop.i=0.\n",
            "I can not come out from the loop.i=0.\n",
            "I can not come out from the loop.i=0.\n",
            "I can not come out from the loop.i=0.\n",
            "I can not come out from the loop.i=0.\n",
            "I can not come out from the loop.i=0.\n",
            "I can not come out from the loop.i=0.\n",
            "I can not come out from the loop.i=0.\n",
            "I can not come out from the loop.i=0.\n",
            "I can not come out from the loop.i=0.\n",
            "I can not come out from the loop.i=0.\n",
            "I can not come out from the loop.i=0.\n",
            "I can not come out from the loop.i=0.\n",
            "I can not come out from the loop.i=0.\n",
            "I can not come out from the loop.i=0.\n",
            "I can not come out from the loop.i=0.\n",
            "I can not come out from the loop.i=0.\n",
            "I can not come out from the loop.i=0.\n",
            "I can not come out from the loop.i=0.\n",
            "I can not come out from the loop.i=0.\n",
            "I can not come out from the loop.i=0.\n",
            "I can not come out from the loop.i=0.\n",
            "I can not come out from the loop.i=0.\n",
            "I can not come out from the loop.i=0.\n",
            "I can not come out from the loop.i=0.\n",
            "I can not come out from the loop.i=0.\n",
            "I can not come out from the loop.i=0.\n",
            "I can not come out from the loop.i=0.\n",
            "I can not come out from the loop.i=0.\n",
            "I can not come out from the loop.i=0.\n",
            "I can not come out from the loop.i=0.\n",
            "I can not come out from the loop.i=0.\n",
            "I can not come out from the loop.i=0.\n",
            "I can not come out from the loop.i=0.\n",
            "I can not come out from the loop.i=0.\n",
            "I can not come out from the loop.i=0.\n",
            "I can not come out from the loop.i=0.\n",
            "I can not come out from the loop.i=0.\n",
            "I can not come out from the loop.i=0.\n",
            "I can not come out from the loop.i=0.\n",
            "I can not come out from the loop.i=0.\n",
            "I can not come out from the loop.i=0.\n",
            "I can not come out from the loop.i=0.\n",
            "I can not come out from the loop.i=0.\n",
            "I can not come out from the loop.i=0.\n",
            "I can not come out from the loop.i=0.\n",
            "I can not come out from the loop.i=0.\n",
            "I can not come out from the loop.i=0.\n",
            "I can not come out from the loop.i=0.\n",
            "I can not come out from the loop.i=0.\n",
            "I can not come out from the loop.i=0.\n",
            "I can not come out from the loop.i=0.\n",
            "I can not come out from the loop.i=0.\n",
            "I can not come out from the loop.i=0.\n",
            "I can not come out from the loop.i=0.\n",
            "I can not come out from the loop.i=0.\n",
            "I can not come out from the loop.i=0.\n",
            "I can not come out from the loop.i=0.\n",
            "I can not come out from the loop.i=0.\n",
            "I can not come out from the loop.i=0.\n",
            "I can not come out from the loop.i=0.\n",
            "I can not come out from the loop.i=0.\n",
            "I can not come out from the loop.i=0.\n",
            "I can not come out from the loop.i=0.\n",
            "I can not come out from the loop.i=0.\n",
            "I can not come out from the loop.i=0.\n",
            "I can not come out from the loop.i=0.\n",
            "I can not come out from the loop.i=0.\n",
            "I can not come out from the loop.i=0.\n",
            "I can not come out from the loop.i=0.\n",
            "I can not come out from the loop.i=0.\n",
            "I can not come out from the loop.i=0.\n",
            "I can not come out from the loop.i=0.\n",
            "I can not come out from the loop.i=0.\n",
            "I can not come out from the loop.i=0.\n",
            "I can not come out from the loop.i=0.\n",
            "I can not come out from the loop.i=0.\n",
            "I can not come out from the loop.i=0.\n",
            "I can not come out from the loop.i=0.\n",
            "I can not come out from the loop.i=0.\n",
            "I can not come out from the loop.i=0.\n",
            "I can not come out from the loop.i=0.\n",
            "I can not come out from the loop.i=0.\n",
            "I can not come out from the loop.i=0.\n",
            "I can not come out from the loop.i=0.\n",
            "I can not come out from the loop.i=0.\n",
            "I can not come out from the loop.i=0.\n",
            "I can not come out from the loop.i=0.\n",
            "I can not come out from the loop.i=0.\n",
            "I can not come out from the loop.i=0.\n",
            "I can not come out from the loop.i=0.\n",
            "I can not come out from the loop.i=0.\n",
            "I can not come out from the loop.i=0.\n",
            "I can not come out from the loop.i=0.\n",
            "I can not come out from the loop.i=0.\n",
            "I can not come out from the loop.i=0.\n",
            "I can not come out from the loop.i=0.\n",
            "I can not come out from the loop.i=0.\n",
            "I can not come out from the loop.i=0.\n",
            "I can not come out from the loop.i=0.\n",
            "I can not come out from the loop.i=0.\n",
            "I can not come out from the loop.i=0.\n",
            "I can not come out from the loop.i=0.\n",
            "I can not come out from the loop.i=0.\n",
            "I can not come out from the loop.i=0.\n",
            "I can not come out from the loop.i=0.\n",
            "I can not come out from the loop.i=0.\n",
            "I can not come out from the loop.i=0.\n",
            "I can not come out from the loop.i=0.\n",
            "I can not come out from the loop.i=0.\n",
            "I can not come out from the loop.i=0.\n",
            "I can not come out from the loop.i=0.\n",
            "I can not come out from the loop.i=0.\n",
            "I can not come out from the loop.i=0.\n",
            "I can not come out from the loop.i=0.\n",
            "I can not come out from the loop.i=0.\n",
            "I can not come out from the loop.i=0.\n",
            "I can not come out from the loop.i=0.\n",
            "I can not come out from the loop.i=0.\n",
            "I can not come out from the loop.i=0.\n",
            "I can not come out from the loop.i=0.\n",
            "I can not come out from the loop.i=0.\n",
            "I can not come out from the loop.i=0.\n",
            "I can not come out from the loop.i=0.\n",
            "I can not come out from the loop.i=0.\n",
            "I can not come out from the loop.i=0.\n",
            "I can not come out from the loop.i=0.\n",
            "I can not come out from the loop.i=0.\n",
            "I can not come out from the loop.i=0.\n",
            "I can not come out from the loop.i=0.\n",
            "I can not come out from the loop.i=0.\n",
            "I can not come out from the loop.i=0.\n",
            "I can not come out from the loop.i=0.\n",
            "I can not come out from the loop.i=0.\n",
            "I can not come out from the loop.i=0.\n",
            "I can not come out from the loop.i=0.\n",
            "I can not come out from the loop.i=0.\n",
            "I can not come out from the loop.i=0.\n",
            "I can not come out from the loop.i=0.\n",
            "I can not come out from the loop.i=0.\n",
            "I can not come out from the loop.i=0.\n",
            "I can not come out from the loop.i=0.\n",
            "I can not come out from the loop.i=0.\n",
            "I can not come out from the loop.i=0.\n",
            "I can not come out from the loop.i=0.\n",
            "I can not come out from the loop.i=0.\n",
            "I can not come out from the loop.i=0.\n",
            "I can not come out from the loop.i=0.\n",
            "I can not come out from the loop.i=0.\n",
            "I can not come out from the loop.i=0.\n",
            "I can not come out from the loop.i=0.\n",
            "I can not come out from the loop.i=0.\n",
            "I can not come out from the loop.i=0.\n",
            "I can not come out from the loop.i=0.\n",
            "I can not come out from the loop.i=0.\n",
            "I can not come out from the loop.i=0.\n",
            "I can not come out from the loop.i=0.\n",
            "I can not come out from the loop.i=0.\n",
            "I can not come out from the loop.i=0.\n",
            "I can not come out from the loop.i=0.\n",
            "I can not come out from the loop.i=0.\n",
            "I can not come out from the loop.i=0.\n",
            "I can not come out from the loop.i=0.\n",
            "I can not come out from the loop.i=0.\n",
            "I can not come out from the loop.i=0.\n",
            "I can not come out from the loop.i=0.\n",
            "I can not come out from the loop.i=0.\n",
            "I can not come out from the loop.i=0.\n",
            "I can not come out from the loop.i=0.\n",
            "I can not come out from the loop.i=0.\n",
            "I can not come out from the loop.i=0.\n",
            "I can not come out from the loop.i=0.\n",
            "I can not come out from the loop.i=0.\n",
            "I can not come out from the loop.i=0.\n",
            "I can not come out from the loop.i=0.\n",
            "I can not come out from the loop.i=0.\n",
            "I can not come out from the loop.i=0.\n",
            "I can not come out from the loop.i=0.\n",
            "I can not come out from the loop.i=0.\n",
            "I can not come out from the loop.i=0.\n",
            "I can not come out from the loop.i=0.\n",
            "I can not come out from the loop.i=0.\n",
            "I can not come out from the loop.i=0.\n",
            "I can not come out from the loop.i=0.\n",
            "I can not come out from the loop.i=0.\n",
            "I can not come out from the loop.i=0.\n",
            "I can not come out from the loop.i=0.\n",
            "I can not come out from the loop.i=0.\n",
            "I can not come out from the loop.i=0.\n",
            "I can not come out from the loop.i=0.\n",
            "I can not come out from the loop.i=0.\n",
            "I can not come out from the loop.i=0.\n",
            "I can not come out from the loop.i=0.\n",
            "I can not come out from the loop.i=0.\n",
            "I can not come out from the loop.i=0.\n",
            "I can not come out from the loop.i=0.\n",
            "I can not come out from the loop.i=0.\n",
            "I can not come out from the loop.i=0.\n",
            "I can not come out from the loop.i=0.\n",
            "I can not come out from the loop.i=0.\n",
            "I can not come out from the loop.i=0.\n",
            "I can not come out from the loop.i=0.\n",
            "I can not come out from the loop.i=0.\n",
            "I can not come out from the loop.i=0.\n",
            "I can not come out from the loop.i=0.\n",
            "I can not come out from the loop.i=0.\n",
            "I can not come out from the loop.i=0.\n",
            "I can not come out from the loop.i=0.\n",
            "I can not come out from the loop.i=0.\n",
            "I can not come out from the loop.i=0.\n",
            "I can not come out from the loop.i=0.\n",
            "I can not come out from the loop.i=0.\n",
            "I can not come out from the loop.i=0.\n",
            "I can not come out from the loop.i=0.\n",
            "I can not come out from the loop.i=0.\n",
            "I can not come out from the loop.i=0.\n",
            "I can not come out from the loop.i=0.\n",
            "I can not come out from the loop.i=0.\n",
            "I can not come out from the loop.i=0.\n",
            "I can not come out from the loop.i=0.\n",
            "I can not come out from the loop.i=0.\n",
            "I can not come out from the loop.i=0.\n",
            "I can not come out from the loop.i=0.\n",
            "I can not come out from the loop.i=0.\n",
            "I can not come out from the loop.i=0.\n",
            "I can not come out from the loop.i=0.\n",
            "I can not come out from the loop.i=0.\n",
            "I can not come out from the loop.i=0.\n",
            "I can not come out from the loop.i=0.\n",
            "I can not come out from the loop.i=0.\n",
            "I can not come out from the loop.i=0.\n",
            "I can not come out from the loop.i=0.\n",
            "I can not come out from the loop.i=0.\n",
            "I can not come out from the loop.i=0.\n",
            "I can not come out from the loop.i=0.\n",
            "I can not come out from the loop.i=0.\n",
            "I can not come out from the loop.i=0.\n",
            "I can not come out from the loop.i=0.\n",
            "I can not come out from the loop.i=0.\n",
            "I can not come out from the loop.i=0.\n",
            "I can not come out from the loop.i=0.\n",
            "I can not come out from the loop.i=0.\n",
            "I can not come out from the loop.i=0.\n",
            "I can not come out from the loop.i=0.\n",
            "I can not come out from the loop.i=0.\n",
            "I can not come out from the loop.i=0.\n",
            "I can not come out from the loop.i=0.\n",
            "I can not come out from the loop.i=0.\n",
            "I can not come out from the loop.i=0.\n",
            "I can not come out from the loop.i=0.\n",
            "I can not come out from the loop.i=0.\n",
            "I can not come out from the loop.i=0.\n",
            "I can not come out from the loop.i=0.\n",
            "I can not come out from the loop.i=0.\n",
            "I can not come out from the loop.i=0.\n",
            "I can not come out from the loop.i=0.\n",
            "I can not come out from the loop.i=0.\n",
            "I can not come out from the loop.i=0.\n",
            "I can not come out from the loop.i=0.\n",
            "I can not come out from the loop.i=0.\n",
            "I can not come out from the loop.i=0.\n",
            "I can not come out from the loop.i=0.\n",
            "I can not come out from the loop.i=0.\n",
            "I can not come out from the loop.i=0.\n",
            "I can not come out from the loop.i=0.\n",
            "I can not come out from the loop.i=0.\n",
            "I can not come out from the loop.i=0.\n",
            "I can not come out from the loop.i=0.\n",
            "I can not come out from the loop.i=0.\n",
            "I can not come out from the loop.i=0.\n",
            "I can not come out from the loop.i=0.\n",
            "I can not come out from the loop.i=0.\n",
            "I can not come out from the loop.i=0.\n",
            "I can not come out from the loop.i=0.\n",
            "I can not come out from the loop.i=0.\n",
            "I can not come out from the loop.i=0.\n",
            "I can not come out from the loop.i=0.\n",
            "I can not come out from the loop.i=0.\n",
            "I can not come out from the loop.i=0.\n",
            "I can not come out from the loop.i=0.\n",
            "I can not come out from the loop.i=0.\n",
            "I can not come out from the loop.i=0.\n",
            "I can not come out from the loop.i=0.\n",
            "I can not come out from the loop.i=0.\n",
            "I can not come out from the loop.i=0.\n",
            "I can not come out from the loop.i=0.\n",
            "I can not come out from the loop.i=0.\n",
            "I can not come out from the loop.i=0.\n",
            "I can not come out from the loop.i=0.\n",
            "I can not come out from the loop.i=0.\n",
            "I can not come out from the loop.i=0.\n",
            "I can not come out from the loop.i=0.\n",
            "I can not come out from the loop.i=0.\n",
            "I can not come out from the loop.i=0.\n",
            "I can not come out from the loop.i=0.\n",
            "I can not come out from the loop.i=0.\n",
            "I can not come out from the loop.i=0.\n",
            "I can not come out from the loop.i=0.\n",
            "I can not come out from the loop.i=0.\n",
            "I can not come out from the loop.i=0.\n",
            "I can not come out from the loop.i=0.\n",
            "I can not come out from the loop.i=0.\n",
            "I can not come out from the loop.i=0.\n",
            "I can not come out from the loop.i=0.\n",
            "I can not come out from the loop.i=0.\n",
            "I can not come out from the loop.i=0.\n",
            "I can not come out from the loop.i=0.\n",
            "I can not come out from the loop.i=0.\n",
            "I can not come out from the loop.i=0.\n",
            "I can not come out from the loop.i=0.\n",
            "I can not come out from the loop.i=0.\n",
            "I can not come out from the loop.i=0.\n",
            "I can not come out from the loop.i=0.\n",
            "I can not come out from the loop.i=0.\n",
            "I can not come out from the loop.i=0.\n",
            "I can not come out from the loop.i=0.\n",
            "I can not come out from the loop.i=0.\n",
            "I can not come out from the loop.i=0.\n",
            "I can not come out from the loop.i=0.\n",
            "I can not come out from the loop.i=0.\n",
            "I can not come out from the loop.i=0.\n",
            "I can not come out from the loop.i=0.\n",
            "I can not come out from the loop.i=0.\n",
            "I can not come out from the loop.i=0.\n",
            "I can not come out from the loop.i=0.\n",
            "I can not come out from the loop.i=0.\n",
            "I can not come out from the loop.i=0.\n",
            "I can not come out from the loop.i=0.\n",
            "I can not come out from the loop.i=0.\n",
            "I can not come out from the loop.i=0.\n",
            "I can not come out from the loop.i=0.\n",
            "I can not come out from the loop.i=0.\n",
            "I can not come out from the loop.i=0.\n",
            "I can not come out from the loop.i=0.\n",
            "I can not come out from the loop.i=0.\n",
            "I can not come out from the loop.i=0.\n",
            "I can not come out from the loop.i=0.\n",
            "I can not come out from the loop.i=0.\n",
            "I can not come out from the loop.i=0.\n",
            "I can not come out from the loop.i=0.\n",
            "I can not come out from the loop.i=0.\n",
            "I can not come out from the loop.i=0.\n",
            "I can not come out from the loop.i=0.\n",
            "I can not come out from the loop.i=0.\n",
            "I can not come out from the loop.i=0.\n",
            "I can not come out from the loop.i=0.\n",
            "I can not come out from the loop.i=0.\n",
            "I can not come out from the loop.i=0.\n",
            "I can not come out from the loop.i=0.\n",
            "I can not come out from the loop.i=0.\n",
            "I can not come out from the loop.i=0.\n",
            "I can not come out from the loop.i=0.\n",
            "I can not come out from the loop.i=0.\n",
            "I can not come out from the loop.i=0.\n",
            "I can not come out from the loop.i=0.\n",
            "I can not come out from the loop.i=0.\n",
            "I can not come out from the loop.i=0.\n",
            "I can not come out from the loop.i=0.\n",
            "I can not come out from the loop.i=0.\n",
            "I can not come out from the loop.i=0.\n",
            "I can not come out from the loop.i=0.\n",
            "I can not come out from the loop.i=0.\n",
            "I can not come out from the loop.i=0.\n",
            "I can not come out from the loop.i=0.\n",
            "I can not come out from the loop.i=0.\n",
            "I can not come out from the loop.i=0.\n",
            "I can not come out from the loop.i=0.\n",
            "I can not come out from the loop.i=0.\n",
            "I can not come out from the loop.i=0.\n",
            "I can not come out from the loop.i=0.\n",
            "I can not come out from the loop.i=0.\n",
            "I can not come out from the loop.i=0.\n",
            "I can not come out from the loop.i=0.\n",
            "I can not come out from the loop.i=0.\n",
            "I can not come out from the loop.i=0.\n",
            "I can not come out from the loop.i=0.\n",
            "I can not come out from the loop.i=0.\n",
            "I can not come out from the loop.i=0.\n",
            "I can not come out from the loop.i=0.\n",
            "I can not come out from the loop.i=0.\n",
            "I can not come out from the loop.i=0.\n",
            "I can not come out from the loop.i=0.\n",
            "I can not come out from the loop.i=0.\n",
            "I can not come out from the loop.i=0.\n",
            "I can not come out from the loop.i=0.\n",
            "I can not come out from the loop.i=0.\n",
            "I can not come out from the loop.i=0.\n",
            "I can not come out from the loop.i=0.\n",
            "I can not come out from the loop.i=0.\n",
            "I can not come out from the loop.i=0.\n",
            "I can not come out from the loop.i=0.\n",
            "I can not come out from the loop.i=0.\n",
            "I can not come out from the loop.i=0.\n",
            "I can not come out from the loop.i=0.\n",
            "I can not come out from the loop.i=0.\n",
            "I can not come out from the loop.i=0.\n",
            "I can not come out from the loop.i=0.\n",
            "I can not come out from the loop.i=0.\n",
            "I can not come out from the loop.i=0.\n",
            "I can not come out from the loop.i=0.\n",
            "I can not come out from the loop.i=0.\n",
            "I can not come out from the loop.i=0.\n",
            "I can not come out from the loop.i=0.\n",
            "I can not come out from the loop.i=0.\n",
            "I can not come out from the loop.i=0.\n",
            "I can not come out from the loop.i=0.\n",
            "I can not come out from the loop.i=0.\n",
            "I can not come out from the loop.i=0.\n",
            "I can not come out from the loop.i=0.\n",
            "I can not come out from the loop.i=0.\n",
            "I can not come out from the loop.i=0.\n",
            "I can not come out from the loop.i=0.\n",
            "I can not come out from the loop.i=0.\n",
            "I can not come out from the loop.i=0.\n",
            "I can not come out from the loop.i=0.\n",
            "I can not come out from the loop.i=0.\n",
            "I can not come out from the loop.i=0.\n",
            "I can not come out from the loop.i=0.\n",
            "I can not come out from the loop.i=0.\n",
            "I can not come out from the loop.i=0.\n",
            "I can not come out from the loop.i=0.\n",
            "I can not come out from the loop.i=0.\n",
            "I can not come out from the loop.i=0.\n",
            "I can not come out from the loop.i=0.\n",
            "I can not come out from the loop.i=0.\n",
            "I can not come out from the loop.i=0.\n",
            "I can not come out from the loop.i=0.\n",
            "I can not come out from the loop.i=0.\n",
            "I can not come out from the loop.i=0.\n",
            "I can not come out from the loop.i=0.\n",
            "I can not come out from the loop.i=0.\n",
            "I can not come out from the loop.i=0.\n",
            "I can not come out from the loop.i=0.\n",
            "I can not come out from the loop.i=0.\n",
            "I can not come out from the loop.i=0.\n",
            "I can not come out from the loop.i=0.\n",
            "I can not come out from the loop.i=0.\n",
            "I can not come out from the loop.i=0.\n",
            "I can not come out from the loop.i=0.\n",
            "I can not come out from the loop.i=0.\n",
            "I can not come out from the loop.i=0.\n",
            "I can not come out from the loop.i=0.\n",
            "I can not come out from the loop.i=0.\n",
            "I can not come out from the loop.i=0.\n",
            "I can not come out from the loop.i=0.\n",
            "I can not come out from the loop.i=0.\n",
            "I can not come out from the loop.i=0.\n",
            "I can not come out from the loop.i=0.\n",
            "I can not come out from the loop.i=0.\n",
            "I can not come out from the loop.i=0.\n",
            "I can not come out from the loop.i=0.\n",
            "I can not come out from the loop.i=0.\n",
            "I can not come out from the loop.i=0.\n",
            "I can not come out from the loop.i=0.\n",
            "I can not come out from the loop.i=0.\n",
            "I can not come out from the loop.i=0.\n",
            "I can not come out from the loop.i=0.\n",
            "I can not come out from the loop.i=0.\n",
            "I can not come out from the loop.i=0.\n",
            "I can not come out from the loop.i=0.\n",
            "I can not come out from the loop.i=0.\n",
            "I can not come out from the loop.i=0.\n",
            "I can not come out from the loop.i=0.\n",
            "I can not come out from the loop.i=0.\n",
            "I can not come out from the loop.i=0.\n",
            "I can not come out from the loop.i=0.\n",
            "I can not come out from the loop.i=0.\n",
            "I can not come out from the loop.i=0.\n",
            "I can not come out from the loop.i=0.\n",
            "I can not come out from the loop.i=0.\n",
            "I can not come out from the loop.i=0.\n",
            "I can not come out from the loop.i=0.\n",
            "I can not come out from the loop.i=0.\n",
            "I can not come out from the loop.i=0.\n",
            "I can not come out from the loop.i=0.\n",
            "I can not come out from the loop.i=0.\n",
            "I can not come out from the loop.i=0.\n",
            "I can not come out from the loop.i=0.\n",
            "I can not come out from the loop.i=0.\n",
            "I can not come out from the loop.i=0.\n",
            "I can not come out from the loop.i=0.\n",
            "I can not come out from the loop.i=0.\n",
            "I can not come out from the loop.i=0.\n",
            "I can not come out from the loop.i=0.\n",
            "I can not come out from the loop.i=0.\n",
            "I can not come out from the loop.i=0.\n",
            "I can not come out from the loop.i=0.\n",
            "I can not come out from the loop.i=0.\n",
            "I can not come out from the loop.i=0.\n",
            "I can not come out from the loop.i=0.\n",
            "I can not come out from the loop.i=0.\n",
            "I can not come out from the loop.i=0.\n",
            "I can not come out from the loop.i=0.\n",
            "I can not come out from the loop.i=0.\n",
            "I can not come out from the loop.i=0.\n",
            "I can not come out from the loop.i=0.\n",
            "I can not come out from the loop.i=0.\n",
            "I can not come out from the loop.i=0.\n",
            "I can not come out from the loop.i=0.\n",
            "I can not come out from the loop.i=0.\n",
            "I can not come out from the loop.i=0.\n",
            "I can not come out from the loop.i=0.\n",
            "I can not come out from the loop.i=0.\n",
            "I can not come out from the loop.i=0.\n",
            "I can not come out from the loop.i=0.\n",
            "I can not come out from the loop.i=0.\n",
            "I can not come out from the loop.i=0.\n",
            "I can not come out from the loop.i=0.\n",
            "I can not come out from the loop.i=0.\n",
            "I can not come out from the loop.i=0.\n",
            "I can not come out from the loop.i=0.\n",
            "I can not come out from the loop.i=0.\n",
            "I can not come out from the loop.i=0.\n",
            "I can not come out from the loop.i=0.\n",
            "I can not come out from the loop.i=0.\n",
            "I can not come out from the loop.i=0.\n",
            "I can not come out from the loop.i=0.\n",
            "I can not come out from the loop.i=0.\n",
            "I can not come out from the loop.i=0.\n",
            "I can not come out from the loop.i=0.\n",
            "I can not come out from the loop.i=0.\n",
            "I can not come out from the loop.i=0.\n",
            "I can not come out from the loop.i=0.\n",
            "I can not come out from the loop.i=0.\n",
            "I can not come out from the loop.i=0.\n",
            "I can not come out from the loop.i=0.\n",
            "I can not come out from the loop.i=0.\n",
            "I can not come out from the loop.i=0.\n",
            "I can not come out from the loop.i=0.\n",
            "I can not come out from the loop.i=0.\n",
            "I can not come out from the loop.i=0.\n",
            "I can not come out from the loop.i=0.\n",
            "I can not come out from the loop.i=0.\n",
            "I can not come out from the loop.i=0.\n",
            "I can not come out from the loop.i=0.\n",
            "I can not come out from the loop.i=0.\n",
            "I can not come out from the loop.i=0.\n",
            "I can not come out from the loop.i=0.\n",
            "I can not come out from the loop.i=0.\n",
            "I can not come out from the loop.i=0.\n",
            "I can not come out from the loop.i=0.\n",
            "I can not come out from the loop.i=0.\n",
            "I can not come out from the loop.i=0.\n",
            "I can not come out from the loop.i=0.\n",
            "I can not come out from the loop.i=0.\n",
            "I can not come out from the loop.i=0.\n",
            "I can not come out from the loop.i=0.\n",
            "I can not come out from the loop.i=0.\n",
            "I can not come out from the loop.i=0.\n",
            "I can not come out from the loop.i=0.\n",
            "I can not come out from the loop.i=0.\n",
            "I can not come out from the loop.i=0.\n",
            "I can not come out from the loop.i=0.\n",
            "I can not come out from the loop.i=0.\n",
            "I can not come out from the loop.i=0.\n",
            "I can not come out from the loop.i=0.\n",
            "I can not come out from the loop.i=0.\n",
            "I can not come out from the loop.i=0.\n",
            "I can not come out from the loop.i=0.\n",
            "I can not come out from the loop.i=0.\n",
            "I can not come out from the loop.i=0.\n",
            "I can not come out from the loop.i=0.\n",
            "I can not come out from the loop.i=0.\n",
            "I can not come out from the loop.i=0.\n",
            "I can not come out from the loop.i=0.\n",
            "I can not come out from the loop.i=0.\n",
            "I can not come out from the loop.i=0.\n",
            "I can not come out from the loop.i=0.\n",
            "I can not come out from the loop.i=0.\n",
            "I can not come out from the loop.i=0.\n",
            "I can not come out from the loop.i=0.\n",
            "I can not come out from the loop.i=0.\n",
            "I can not come out from the loop.i=0.\n",
            "I can not come out from the loop.i=0.\n",
            "I can not come out from the loop.i=0.\n",
            "I can not come out from the loop.i=0.\n",
            "I can not come out from the loop.i=0.\n",
            "I can not come out from the loop.i=0.\n",
            "I can not come out from the loop.i=0.\n",
            "I can not come out from the loop.i=0.\n",
            "I can not come out from the loop.i=0.\n",
            "I can not come out from the loop.i=0.\n",
            "I can not come out from the loop.i=0.\n",
            "I can not come out from the loop.i=0.\n",
            "I can not come out from the loop.i=0.\n",
            "I can not come out from the loop.i=0.\n",
            "I can not come out from the loop.i=0.\n",
            "I can not come out from the loop.i=0.\n",
            "I can not come out from the loop.i=0.\n",
            "I can not come out from the loop.i=0.\n",
            "I can not come out from the loop.i=0.\n",
            "I can not come out from the loop.i=0.\n",
            "I can not come out from the loop.i=0.\n",
            "I can not come out from the loop.i=0.\n",
            "I can not come out from the loop.i=0.\n",
            "I can not come out from the loop.i=0.\n",
            "I can not come out from the loop.i=0.\n",
            "I can not come out from the loop.i=0.\n",
            "I can not come out from the loop.i=0.\n",
            "I can not come out from the loop.i=0.\n",
            "I can not come out from the loop.i=0.\n",
            "I can not come out from the loop.i=0.\n",
            "I can not come out from the loop.i=0.\n",
            "I can not come out from the loop.i=0.\n",
            "I can not come out from the loop.i=0.\n",
            "I can not come out from the loop.i=0.\n",
            "I can not come out from the loop.i=0.\n",
            "I can not come out from the loop.i=0.\n",
            "I can not come out from the loop.i=0.\n",
            "I can not come out from the loop.i=0.\n",
            "I can not come out from the loop.i=0.\n",
            "I can not come out from the loop.i=0.\n",
            "I can not come out from the loop.i=0.\n",
            "I can not come out from the loop.i=0.\n",
            "I can not come out from the loop.i=0.\n",
            "I can not come out from the loop.i=0.\n",
            "I can not come out from the loop.i=0.\n",
            "I can not come out from the loop.i=0.\n",
            "I can not come out from the loop.i=0.\n",
            "I can not come out from the loop.i=0.\n",
            "I can not come out from the loop.i=0.\n",
            "I can not come out from the loop.i=0.\n",
            "I can not come out from the loop.i=0.\n",
            "I can not come out from the loop.i=0.\n",
            "I can not come out from the loop.i=0.\n",
            "I can not come out from the loop.i=0.\n",
            "I can not come out from the loop.i=0.\n",
            "I can not come out from the loop.i=0.\n",
            "I can not come out from the loop.i=0.\n",
            "I can not come out from the loop.i=0.\n",
            "I can not come out from the loop.i=0.\n",
            "I can not come out from the loop.i=0.\n",
            "I can not come out from the loop.i=0.\n",
            "I can not come out from the loop.i=0.\n",
            "I can not come out from the loop.i=0.\n",
            "I can not come out from the loop.i=0.\n",
            "I can not come out from the loop.i=0.\n",
            "I can not come out from the loop.i=0.\n",
            "I can not come out from the loop.i=0.\n",
            "I can not come out from the loop.i=0.\n",
            "I can not come out from the loop.i=0.\n",
            "I can not come out from the loop.i=0.\n",
            "I can not come out from the loop.i=0.\n",
            "I can not come out from the loop.i=0.\n",
            "I can not come out from the loop.i=0.\n",
            "I can not come out from the loop.i=0.\n",
            "I can not come out from the loop.i=0.\n",
            "I can not come out from the loop.i=0.\n",
            "I can not come out from the loop.i=0.\n",
            "I can not come out from the loop.i=0.\n",
            "I can not come out from the loop.i=0.\n",
            "I can not come out from the loop.i=0.\n",
            "I can not come out from the loop.i=0.\n",
            "I can not come out from the loop.i=0.\n",
            "I can not come out from the loop.i=0.\n",
            "I can not come out from the loop.i=0.\n",
            "I can not come out from the loop.i=0.\n",
            "I can not come out from the loop.i=0.\n",
            "I can not come out from the loop.i=0.\n",
            "I can not come out from the loop.i=0.\n",
            "I can not come out from the loop.i=0.\n",
            "I can not come out from the loop.i=0.\n",
            "I can not come out from the loop.i=0.\n",
            "I can not come out from the loop.i=0.\n",
            "I can not come out from the loop.i=0.\n",
            "I can not come out from the loop.i=0.\n",
            "I can not come out from the loop.i=0.\n",
            "I can not come out from the loop.i=0.\n",
            "I can not come out from the loop.i=0.\n",
            "I can not come out from the loop.i=0.\n",
            "I can not come out from the loop.i=0.\n",
            "I can not come out from the loop.i=0.\n",
            "I can not come out from the loop.i=0.\n",
            "I can not come out from the loop.i=0.\n",
            "I can not come out from the loop.i=0.\n",
            "I can not come out from the loop.i=0.\n",
            "I can not come out from the loop.i=0.\n",
            "I can not come out from the loop.i=0.\n",
            "I can not come out from the loop.i=0.\n",
            "I can not come out from the loop.i=0.\n",
            "I can not come out from the loop.i=0.\n",
            "I can not come out from the loop.i=0.\n",
            "I can not come out from the loop.i=0.\n",
            "I can not come out from the loop.i=0.\n",
            "I can not come out from the loop.i=0.\n",
            "I can not come out from the loop.i=0.\n",
            "I can not come out from the loop.i=0.\n",
            "I can not come out from the loop.i=0.\n",
            "I can not come out from the loop.i=0.\n",
            "I can not come out from the loop.i=0.\n",
            "I can not come out from the loop.i=0.\n",
            "I can not come out from the loop.i=0.\n",
            "I can not come out from the loop.i=0.\n",
            "I can not come out from the loop.i=0.\n",
            "I can not come out from the loop.i=0.\n",
            "I can not come out from the loop.i=0.\n",
            "I can not come out from the loop.i=0.\n",
            "I can not come out from the loop.i=0.\n",
            "I can not come out from the loop.i=0.\n",
            "I can not come out from the loop.i=0.\n",
            "I can not come out from the loop.i=0.\n",
            "I can not come out from the loop.i=0.\n",
            "I can not come out from the loop.i=0.\n",
            "I can not come out from the loop.i=0.\n",
            "I can not come out from the loop.i=0.\n",
            "I can not come out from the loop.i=0.\n",
            "I can not come out from the loop.i=0.\n",
            "I can not come out from the loop.i=0.\n",
            "I can not come out from the loop.i=0.\n",
            "I can not come out from the loop.i=0.\n",
            "I can not come out from the loop.i=0.\n",
            "I can not come out from the loop.i=0.\n",
            "I can not come out from the loop.i=0.\n",
            "I can not come out from the loop.i=0.\n",
            "I can not come out from the loop.i=0.\n",
            "I can not come out from the loop.i=0.\n",
            "I can not come out from the loop.i=0.\n",
            "I can not come out from the loop.i=0.\n",
            "I can not come out from the loop.i=0.\n",
            "I can not come out from the loop.i=0.\n",
            "I can not come out from the loop.i=0.\n",
            "I can not come out from the loop.i=0.\n",
            "I can not come out from the loop.i=0.\n",
            "I can not come out from the loop.i=0.\n",
            "I can not come out from the loop.i=0.\n",
            "I can not come out from the loop.i=0.\n",
            "I can not come out from the loop.i=0.\n",
            "I can not come out from the loop.i=0.\n",
            "I can not come out from the loop.i=0.\n",
            "I can not come out from the loop.i=0.\n",
            "I can not come out from the loop.i=0.\n",
            "I can not come out from the loop.i=0.\n",
            "I can not come out from the loop.i=0.\n",
            "I can not come out from the loop.i=0.\n",
            "I can not come out from the loop.i=0.\n",
            "I can not come out from the loop.i=0.\n",
            "I can not come out from the loop.i=0.\n",
            "I can not come out from the loop.i=0.\n",
            "I can not come out from the loop.i=0.\n",
            "I can not come out from the loop.i=0.\n",
            "I can not come out from the loop.i=0.\n",
            "I can not come out from the loop.i=0.\n",
            "I can not come out from the loop.i=0.\n",
            "I can not come out from the loop.i=0.\n",
            "I can not come out from the loop.i=0.\n",
            "I can not come out from the loop.i=0.\n",
            "I can not come out from the loop.i=0.\n",
            "I can not come out from the loop.i=0.\n",
            "I can not come out from the loop.i=0.\n",
            "I can not come out from the loop.i=0.\n",
            "I can not come out from the loop.i=0.\n",
            "I can not come out from the loop.i=0.\n",
            "I can not come out from the loop.i=0.\n",
            "I can not come out from the loop.i=0.\n",
            "I can not come out from the loop.i=0.\n",
            "I can not come out from the loop.i=0.\n",
            "I can not come out from the loop.i=0.\n",
            "I can not come out from the loop.i=0.\n",
            "I can not come out from the loop.i=0.\n",
            "I can not come out from the loop.i=0.\n",
            "I can not come out from the loop.i=0.\n",
            "I can not come out from the loop.i=0.\n",
            "I can not come out from the loop.i=0.\n",
            "I can not come out from the loop.i=0.\n",
            "I can not come out from the loop.i=0.\n",
            "I can not come out from the loop.i=0.\n",
            "I can not come out from the loop.i=0.\n",
            "I can not come out from the loop.i=0.\n",
            "I can not come out from the loop.i=0.\n",
            "I can not come out from the loop.i=0.\n",
            "I can not come out from the loop.i=0.\n",
            "I can not come out from the loop.i=0.\n",
            "I can not come out from the loop.i=0.\n",
            "I can not come out from the loop.i=0.\n",
            "I can not come out from the loop.i=0.\n",
            "I can not come out from the loop.i=0.\n",
            "I can not come out from the loop.i=0.\n",
            "I can not come out from the loop.i=0.\n",
            "I can not come out from the loop.i=0.\n",
            "I can not come out from the loop.i=0.\n",
            "I can not come out from the loop.i=0.\n",
            "I can not come out from the loop.i=0.\n",
            "I can not come out from the loop.i=0.\n",
            "I can not come out from the loop.i=0.\n",
            "I can not come out from the loop.i=0.\n",
            "I can not come out from the loop.i=0.\n",
            "I can not come out from the loop.i=0.\n",
            "I can not come out from the loop.i=0.\n",
            "I can not come out from the loop.i=0.\n",
            "I can not come out from the loop.i=0.\n",
            "I can not come out from the loop.i=0.\n",
            "I can not come out from the loop.i=0.\n",
            "I can not come out from the loop.i=0.\n",
            "I can not come out from the loop.i=0.\n",
            "I can not come out from the loop.i=0.\n",
            "I can not come out from the loop.i=0.\n",
            "I can not come out from the loop.i=0.\n",
            "I can not come out from the loop.i=0.\n",
            "I can not come out from the loop.i=0.\n",
            "I can not come out from the loop.i=0.\n",
            "I can not come out from the loop.i=0.\n",
            "I can not come out from the loop.i=0.\n",
            "I can not come out from the loop.i=0.\n",
            "I can not come out from the loop.i=0.\n",
            "I can not come out from the loop.i=0.\n",
            "I can not come out from the loop.i=0.\n",
            "I can not come out from the loop.i=0.\n",
            "I can not come out from the loop.i=0.\n",
            "I can not come out from the loop.i=0.\n",
            "I can not come out from the loop.i=0.\n",
            "I can not come out from the loop.i=0.\n",
            "I can not come out from the loop.i=0.\n",
            "I can not come out from the loop.i=0.\n",
            "I can not come out from the loop.i=0.\n",
            "I can not come out from the loop.i=0.\n",
            "I can not come out from the loop.i=0.\n",
            "I can not come out from the loop.i=0.\n",
            "I can not come out from the loop.i=0.\n",
            "I can not come out from the loop.i=0.\n",
            "I can not come out from the loop.i=0.\n",
            "I can not come out from the loop.i=0.\n",
            "I can not come out from the loop.i=0.\n",
            "I can not come out from the loop.i=0.\n",
            "I can not come out from the loop.i=0.\n",
            "I can not come out from the loop.i=0.\n",
            "I can not come out from the loop.i=0.\n",
            "I can not come out from the loop.i=0.\n",
            "I can not come out from the loop.i=0.\n",
            "I can not come out from the loop.i=0.\n",
            "I can not come out from the loop.i=0.\n",
            "I can not come out from the loop.i=0.\n",
            "I can not come out from the loop.i=0.\n",
            "I can not come out from the loop.i=0.\n",
            "I can not come out from the loop.i=0.\n",
            "I can not come out from the loop.i=0.\n",
            "I can not come out from the loop.i=0.\n",
            "I can not come out from the loop.i=0.\n",
            "I can not come out from the loop.i=0.\n",
            "I can not come out from the loop.i=0.\n",
            "I can not come out from the loop.i=0.\n",
            "I can not come out from the loop.i=0.\n",
            "I can not come out from the loop.i=0.\n",
            "I can not come out from the loop.i=0.\n",
            "I can not come out from the loop.i=0.\n",
            "I can not come out from the loop.i=0.\n",
            "I can not come out from the loop.i=0.\n",
            "I can not come out from the loop.i=0.\n",
            "I can not come out from the loop.i=0.\n",
            "I can not come out from the loop.i=0.\n",
            "I can not come out from the loop.i=0.\n",
            "I can not come out from the loop.i=0.\n",
            "I can not come out from the loop.i=0.\n",
            "I can not come out from the loop.i=0.\n",
            "I can not come out from the loop.i=0.\n",
            "I can not come out from the loop.i=0.\n",
            "I can not come out from the loop.i=0.\n",
            "I can not come out from the loop.i=0.\n",
            "I can not come out from the loop.i=0.\n",
            "I can not come out from the loop.i=0.\n",
            "I can not come out from the loop.i=0.\n",
            "I can not come out from the loop.i=0.\n",
            "I can not come out from the loop.i=0.\n",
            "I can not come out from the loop.i=0.\n",
            "I can not come out from the loop.i=0.\n",
            "I can not come out from the loop.i=0.\n",
            "I can not come out from the loop.i=0.\n",
            "I can not come out from the loop.i=0.\n",
            "I can not come out from the loop.i=0.\n",
            "I can not come out from the loop.i=0.\n",
            "I can not come out from the loop.i=0.\n",
            "I can not come out from the loop.i=0.\n",
            "I can not come out from the loop.i=0.\n",
            "I can not come out from the loop.i=0.\n",
            "I can not come out from the loop.i=0.\n",
            "I can not come out from the loop.i=0.\n",
            "I can not come out from the loop.i=0.\n",
            "I can not come out from the loop.i=0.\n",
            "I can not come out from the loop.i=0.\n",
            "I can not come out from the loop.i=0.\n",
            "I can not come out from the loop.i=0.\n",
            "I can not come out from the loop.i=0.\n",
            "I can not come out from the loop.i=0.\n",
            "I can not come out from the loop.i=0.\n",
            "I can not come out from the loop.i=0.\n",
            "I can not come out from the loop.i=0.\n",
            "I can not come out from the loop.i=0.\n",
            "I can not come out from the loop.i=0.\n",
            "I can not come out from the loop.i=0.\n",
            "I can not come out from the loop.i=0.\n",
            "I can not come out from the loop.i=0.\n",
            "I can not come out from the loop.i=0.\n",
            "I can not come out from the loop.i=0.\n",
            "I can not come out from the loop.i=0.\n",
            "I can not come out from the loop.i=0.\n",
            "I can not come out from the loop.i=0.\n",
            "I can not come out from the loop.i=0.\n",
            "I can not come out from the loop.i=0.\n",
            "I can not come out from the loop.i=0.\n",
            "I can not come out from the loop.i=0.\n",
            "I can not come out from the loop.i=0.\n",
            "I can not come out from the loop.i=0.\n",
            "I can not come out from the loop.i=0.\n",
            "I can not come out from the loop.i=0.\n",
            "I can not come out from the loop.i=0.\n",
            "I can not come out from the loop.i=0.\n",
            "I can not come out from the loop.i=0.\n",
            "I can not come out from the loop.i=0.\n",
            "I can not come out from the loop.i=0.\n",
            "I can not come out from the loop.i=0.\n",
            "I can not come out from the loop.i=0.\n",
            "I can not come out from the loop.i=0.\n",
            "I can not come out from the loop.i=0.\n",
            "I can not come out from the loop.i=0.\n",
            "I can not come out from the loop.i=0.\n",
            "I can not come out from the loop.i=0.\n",
            "I can not come out from the loop.i=0.\n",
            "I can not come out from the loop.i=0.\n",
            "I can not come out from the loop.i=0.\n",
            "I can not come out from the loop.i=0.\n",
            "I can not come out from the loop.i=0.\n",
            "I can not come out from the loop.i=0.\n",
            "I can not come out from the loop.i=0.\n",
            "I can not come out from the loop.i=0.\n",
            "I can not come out from the loop.i=0.\n",
            "I can not come out from the loop.i=0.\n",
            "I can not come out from the loop.i=0.\n",
            "I can not come out from the loop.i=0.\n",
            "I can not come out from the loop.i=0.\n",
            "I can not come out from the loop.i=0.\n",
            "I can not come out from the loop.i=0.\n",
            "I can not come out from the loop.i=0.\n",
            "I can not come out from the loop.i=0.\n",
            "I can not come out from the loop.i=0.\n",
            "I can not come out from the loop.i=0.\n",
            "I can not come out from the loop.i=0.\n",
            "I can not come out from the loop.i=0.\n",
            "I can not come out from the loop.i=0.\n",
            "I can not come out from the loop.i=0.\n",
            "I can not come out from the loop.i=0.\n",
            "I can not come out from the loop.i=0.\n",
            "I can not come out from the loop.i=0.\n",
            "I can not come out from the loop.i=0.\n",
            "I can not come out from the loop.i=0.\n",
            "I can not come out from the loop.i=0.\n",
            "I can not come out from the loop.i=0.\n",
            "I can not come out from the loop.i=0.\n",
            "I can not come out from the loop.i=0.\n",
            "I can not come out from the loop.i=0.\n",
            "I can not come out from the loop.i=0.\n",
            "I can not come out from the loop.i=0.\n",
            "I can not come out from the loop.i=0.\n",
            "I can not come out from the loop.i=0.\n",
            "I can not come out from the loop.i=0.\n",
            "I can not come out from the loop.i=0.\n",
            "I can not come out from the loop.i=0.\n",
            "I can not come out from the loop.i=0.\n",
            "I can not come out from the loop.i=0.\n",
            "I can not come out from the loop.i=0.\n",
            "I can not come out from the loop.i=0.\n",
            "I can not come out from the loop.i=0.\n",
            "I can not come out from the loop.i=0.\n",
            "I can not come out from the loop.i=0.\n",
            "I can not come out from the loop.i=0.\n",
            "I can not come out from the loop.i=0.\n",
            "I can not come out from the loop.i=0.\n",
            "I can not come out from the loop.i=0.\n",
            "I can not come out from the loop.i=0.\n",
            "I can not come out from the loop.i=0.\n",
            "I can not come out from the loop.i=0.\n",
            "I can not come out from the loop.i=0.\n",
            "I can not come out from the loop.i=0.\n",
            "I can not come out from the loop.i=0.\n",
            "I can not come out from the loop.i=0.\n",
            "I can not come out from the loop.i=0.\n",
            "I can not come out from the loop.i=0.\n",
            "I can not come out from the loop.i=0.\n",
            "I can not come out from the loop.i=0.\n",
            "I can not come out from the loop.i=0.\n",
            "I can not come out from the loop.i=0.\n",
            "I can not come out from the loop.i=0.\n",
            "I can not come out from the loop.i=0.\n",
            "I can not come out from the loop.i=0.\n",
            "I can not come out from the loop.i=0.\n",
            "I can not come out from the loop.i=0.\n",
            "I can not come out from the loop.i=0.\n",
            "I can not come out from the loop.i=0.\n",
            "I can not come out from the loop.i=0.\n",
            "I can not come out from the loop.i=0.\n",
            "I can not come out from the loop.i=0.\n",
            "I can not come out from the loop.i=0.\n",
            "I can not come out from the loop.i=0.\n",
            "I can not come out from the loop.i=0.\n",
            "I can not come out from the loop.i=0.\n",
            "I can not come out from the loop.i=0.\n",
            "I can not come out from the loop.i=0.\n",
            "I can not come out from the loop.i=0.\n",
            "I can not come out from the loop.i=0.\n",
            "I can not come out from the loop.i=0.\n",
            "I can not come out from the loop.i=0.\n",
            "I can not come out from the loop.i=0.\n",
            "I can not come out from the loop.i=0.\n",
            "I can not come out from the loop.i=0.\n",
            "I can not come out from the loop.i=0.\n",
            "I can not come out from the loop.i=0.\n",
            "I can not come out from the loop.i=0.\n",
            "I can not come out from the loop.i=0.\n",
            "I can not come out from the loop.i=0.\n",
            "I can not come out from the loop.i=0.\n",
            "I can not come out from the loop.i=0.\n",
            "I can not come out from the loop.i=0.\n",
            "I can not come out from the loop.i=0.\n",
            "I can not come out from the loop.i=0.\n",
            "I can not come out from the loop.i=0.\n",
            "I can not come out from the loop.i=0.\n",
            "I can not come out from the loop.i=0.\n",
            "I can not come out from the loop.i=0.\n",
            "I can not come out from the loop.i=0.\n",
            "I can not come out from the loop.i=0.\n",
            "I can not come out from the loop.i=0.\n",
            "I can not come out from the loop.i=0.\n",
            "I can not come out from the loop.i=0.\n",
            "I can not come out from the loop.i=0.\n",
            "I can not come out from the loop.i=0.\n",
            "I can not come out from the loop.i=0.\n",
            "I can not come out from the loop.i=0.\n",
            "I can not come out from the loop.i=0.\n",
            "I can not come out from the loop.i=0.\n",
            "I can not come out from the loop.i=0.\n",
            "I can not come out from the loop.i=0.\n",
            "I can not come out from the loop.i=0.\n",
            "I can not come out from the loop.i=0.\n",
            "I can not come out from the loop.i=0.\n",
            "I can not come out from the loop.i=0.\n",
            "I can not come out from the loop.i=0.\n",
            "I can not come out from the loop.i=0.\n",
            "I can not come out from the loop.i=0.\n",
            "I can not come out from the loop.i=0.\n",
            "I can not come out from the loop.i=0.\n",
            "I can not come out from the loop.i=0.\n",
            "I can not come out from the loop.i=0.\n",
            "I can not come out from the loop.i=0.\n",
            "I can not come out from the loop.i=0.\n",
            "I can not come out from the loop.i=0.\n",
            "I can not come out from the loop.i=0.\n",
            "I can not come out from the loop.i=0.\n",
            "I can not come out from the loop.i=0.\n",
            "I can not come out from the loop.i=0.\n",
            "I can not come out from the loop.i=0.\n",
            "I can not come out from the loop.i=0.\n",
            "I can not come out from the loop.i=0.\n",
            "I can not come out from the loop.i=0.\n",
            "I can not come out from the loop.i=0.\n",
            "I can not come out from the loop.i=0.\n",
            "I can not come out from the loop.i=0.\n",
            "I can not come out from the loop.i=0.\n",
            "I can not come out from the loop.i=0.\n",
            "I can not come out from the loop.i=0.\n",
            "I can not come out from the loop.i=0.\n",
            "I can not come out from the loop.i=0.\n",
            "I can not come out from the loop.i=0.\n",
            "I can not come out from the loop.i=0.\n",
            "I can not come out from the loop.i=0.\n",
            "I can not come out from the loop.i=0.\n",
            "I can not come out from the loop.i=0.\n",
            "I can not come out from the loop.i=0.\n",
            "I can not come out from the loop.i=0.\n",
            "I can not come out from the loop.i=0.\n",
            "I can not come out from the loop.i=0.\n",
            "I can not come out from the loop.i=0.\n",
            "I can not come out from the loop.i=0.\n",
            "I can not come out from the loop.i=0.\n",
            "I can not come out from the loop.i=0.\n",
            "I can not come out from the loop.i=0.\n",
            "I can not come out from the loop.i=0.\n",
            "I can not come out from the loop.i=0.\n",
            "I can not come out from the loop.i=0.\n",
            "I can not come out from the loop.i=0.\n",
            "I can not come out from the loop.i=0.\n",
            "I can not come out from the loop.i=0.\n",
            "I can not come out from the loop.i=0.\n",
            "I can not come out from the loop.i=0.\n",
            "I can not come out from the loop.i=0.\n",
            "I can not come out from the loop.i=0.\n",
            "I can not come out from the loop.i=0.\n",
            "I can not come out from the loop.i=0.\n",
            "I can not come out from the loop.i=0.\n",
            "I can not come out from the loop.i=0.\n",
            "I can not come out from the loop.i=0.\n",
            "I can not come out from the loop.i=0.\n",
            "I can not come out from the loop.i=0.\n",
            "I can not come out from the loop.i=0.\n",
            "I can not come out from the loop.i=0.\n",
            "I can not come out from the loop.i=0.\n",
            "I can not come out from the loop.i=0.\n",
            "I can not come out from the loop.i=0.\n",
            "I can not come out from the loop.i=0.\n",
            "I can not come out from the loop.i=0.\n",
            "I can not come out from the loop.i=0.\n",
            "I can not come out from the loop.i=0.\n",
            "I can not come out from the loop.i=0.\n",
            "I can not come out from the loop.i=0.\n",
            "I can not come out from the loop.i=0.\n",
            "I can not come out from the loop.i=0.\n",
            "I can not come out from the loop.i=0.\n",
            "I can not come out from the loop.i=0.\n",
            "I can not come out from the loop.i=0.\n",
            "I can not come out from the loop.i=0.\n",
            "I can not come out from the loop.i=0.\n",
            "I can not come out from the loop.i=0.\n",
            "I can not come out from the loop.i=0.\n",
            "I can not come out from the loop.i=0.\n",
            "I can not come out from the loop.i=0.\n",
            "I can not come out from the loop.i=0.\n",
            "I can not come out from the loop.i=0.\n",
            "I can not come out from the loop.i=0.\n",
            "I can not come out from the loop.i=0.\n",
            "I can not come out from the loop.i=0.\n",
            "I can not come out from the loop.i=0.\n",
            "I can not come out from the loop.i=0.\n",
            "I can not come out from the loop.i=0.\n",
            "I can not come out from the loop.i=0.\n",
            "I can not come out from the loop.i=0.\n",
            "I can not come out from the loop.i=0.\n",
            "I can not come out from the loop.i=0.\n",
            "I can not come out from the loop.i=0.\n",
            "I can not come out from the loop.i=0.\n",
            "I can not come out from the loop.i=0.\n",
            "I can not come out from the loop.i=0.\n",
            "I can not come out from the loop.i=0.\n",
            "I can not come out from the loop.i=0.\n",
            "I can not come out from the loop.i=0.\n",
            "I can not come out from the loop.i=0.\n",
            "I can not come out from the loop.i=0.\n",
            "I can not come out from the loop.i=0.\n",
            "I can not come out from the loop.i=0.\n",
            "I can not come out from the loop.i=0.\n",
            "I can not come out from the loop.i=0.\n",
            "I can not come out from the loop.i=0.\n",
            "I can not come out from the loop.i=0.\n",
            "I can not come out from the loop.i=0.\n",
            "I can not come out from the loop.i=0.\n",
            "I can not come out from the loop.i=0.\n",
            "I can not come out from the loop.i=0.\n",
            "I can not come out from the loop.i=0.\n",
            "I can not come out from the loop.i=0.\n",
            "I can not come out from the loop.i=0.\n",
            "I can not come out from the loop.i=0.\n",
            "I can not come out from the loop.i=0.\n",
            "I can not come out from the loop.i=0.\n",
            "I can not come out from the loop.i=0.\n",
            "I can not come out from the loop.i=0.\n",
            "I can not come out from the loop.i=0.\n",
            "I can not come out from the loop.i=0.\n",
            "I can not come out from the loop.i=0.\n",
            "I can not come out from the loop.i=0.\n",
            "I can not come out from the loop.i=0.\n",
            "I can not come out from the loop.i=0.\n",
            "I can not come out from the loop.i=0.\n",
            "I can not come out from the loop.i=0.\n",
            "I can not come out from the loop.i=0.\n",
            "I can not come out from the loop.i=0.\n",
            "I can not come out from the loop.i=0.\n",
            "I can not come out from the loop.i=0.\n",
            "I can not come out from the loop.i=0.\n",
            "I can not come out from the loop.i=0.\n",
            "I can not come out from the loop.i=0.\n",
            "I can not come out from the loop.i=0.\n",
            "I can not come out from the loop.i=0.\n",
            "I can not come out from the loop.i=0.\n",
            "I can not come out from the loop.i=0.\n",
            "I can not come out from the loop.i=0.\n",
            "I can not come out from the loop.i=0.\n",
            "I can not come out from the loop.i=0.\n",
            "I can not come out from the loop.i=0.\n",
            "I can not come out from the loop.i=0.\n",
            "I can not come out from the loop.i=0.\n",
            "I can not come out from the loop.i=0.\n",
            "I can not come out from the loop.i=0.\n",
            "I can not come out from the loop.i=0.\n",
            "I can not come out from the loop.i=0.\n",
            "I can not come out from the loop.i=0.\n",
            "I can not come out from the loop.i=0.\n",
            "I can not come out from the loop.i=0.\n",
            "I can not come out from the loop.i=0.\n",
            "I can not come out from the loop.i=0.\n",
            "I can not come out from the loop.i=0.\n",
            "I can not come out from the loop.i=0.\n",
            "I can not come out from the loop.i=0.\n",
            "I can not come out from the loop.i=0.\n",
            "I can not come out from the loop.i=0.\n",
            "I can not come out from the loop.i=0.\n",
            "I can not come out from the loop.i=0.\n",
            "I can not come out from the loop.i=0.\n",
            "I can not come out from the loop.i=0.\n",
            "I can not come out from the loop.i=0.\n",
            "I can not come out from the loop.i=0.\n",
            "I can not come out from the loop.i=0.\n",
            "I can not come out from the loop.i=0.\n",
            "I can not come out from the loop.i=0.\n",
            "I can not come out from the loop.i=0.\n",
            "I can not come out from the loop.i=0.\n",
            "I can not come out from the loop.i=0.\n",
            "I can not come out from the loop.i=0.\n",
            "I can not come out from the loop.i=0.\n",
            "I can not come out from the loop.i=0.\n",
            "I can not come out from the loop.i=0.\n",
            "I can not come out from the loop.i=0.\n",
            "I can not come out from the loop.i=0.\n",
            "I can not come out from the loop.i=0.\n",
            "I can not come out from the loop.i=0.\n",
            "I can not come out from the loop.i=0.\n",
            "I can not come out from the loop.i=0.\n",
            "I can not come out from the loop.i=0.\n",
            "I can not come out from the loop.i=0.\n",
            "I can not come out from the loop.i=0.\n",
            "I can not come out from the loop.i=0.\n",
            "I can not come out from the loop.i=0.\n",
            "I can not come out from the loop.i=0.\n",
            "I can not come out from the loop.i=0.\n",
            "I can not come out from the loop.i=0.\n",
            "I can not come out from the loop.i=0.\n",
            "I can not come out from the loop.i=0.\n",
            "I can not come out from the loop.i=0.\n",
            "I can not come out from the loop.i=0.\n",
            "I can not come out from the loop.i=0.\n",
            "I can not come out from the loop.i=0.\n",
            "I can not come out from the loop.i=0.\n",
            "I can not come out from the loop.i=0.\n",
            "I can not come out from the loop.i=0.\n",
            "I can not come out from the loop.i=0.\n",
            "I can not come out from the loop.i=0.\n",
            "I can not come out from the loop.i=0.\n",
            "I can not come out from the loop.i=0.\n",
            "I can not come out from the loop.i=0.\n",
            "I can not come out from the loop.i=0.\n",
            "I can not come out from the loop.i=0.\n",
            "I can not come out from the loop.i=0.\n",
            "I can not come out from the loop.i=0.\n",
            "I can not come out from the loop.i=0.\n",
            "I can not come out from the loop.i=0.\n",
            "I can not come out from the loop.i=0.\n",
            "I can not come out from the loop.i=0.\n",
            "I can not come out from the loop.i=0.\n",
            "I can not come out from the loop.i=0.\n",
            "I can not come out from the loop.i=0.\n",
            "I can not come out from the loop.i=0.\n",
            "I can not come out from the loop.i=0.\n",
            "I can not come out from the loop.i=0.\n",
            "I can not come out from the loop.i=0.\n",
            "I can not come out from the loop.i=0.\n",
            "I can not come out from the loop.i=0.\n",
            "I can not come out from the loop.i=0.\n",
            "I can not come out from the loop.i=0.\n",
            "I can not come out from the loop.i=0.\n",
            "I can not come out from the loop.i=0.\n",
            "I can not come out from the loop.i=0.\n",
            "I can not come out from the loop.i=0.\n",
            "I can not come out from the loop.i=0.\n",
            "I can not come out from the loop.i=0.\n",
            "I can not come out from the loop.i=0.\n",
            "I can not come out from the loop.i=0.\n",
            "I can not come out from the loop.i=0.\n",
            "I can not come out from the loop.i=0.\n",
            "I can not come out from the loop.i=0.\n",
            "I can not come out from the loop.i=0.\n",
            "I can not come out from the loop.i=0.\n",
            "I can not come out from the loop.i=0.\n",
            "I can not come out from the loop.i=0.\n",
            "I can not come out from the loop.i=0.\n",
            "I can not come out from the loop.i=0.\n",
            "I can not come out from the loop.i=0.\n",
            "I can not come out from the loop.i=0.\n",
            "I can not come out from the loop.i=0.\n",
            "I can not come out from the loop.i=0.\n",
            "I can not come out from the loop.i=0.\n",
            "I can not come out from the loop.i=0.\n",
            "I can not come out from the loop.i=0.\n",
            "I can not come out from the loop.i=0.\n",
            "I can not come out from the loop.i=0.\n",
            "I can not come out from the loop.i=0.\n",
            "I can not come out from the loop.i=0.\n",
            "I can not come out from the loop.i=0.\n",
            "I can not come out from the loop.i=0.\n",
            "I can not come out from the loop.i=0.\n",
            "I can not come out from the loop.i=0.\n",
            "I can not come out from the loop.i=0.\n",
            "I can not come out from the loop.i=0.\n",
            "I can not come out from the loop.i=0.\n",
            "I can not come out from the loop.i=0.\n",
            "I can not come out from the loop.i=0.\n",
            "I can not come out from the loop.i=0.\n",
            "I can not come out from the loop.i=0.\n",
            "I can not come out from the loop.i=0.\n",
            "I can not come out from the loop.i=0.\n",
            "I can not come out from the loop.i=0.\n",
            "I can not come out from the loop.i=0.\n",
            "I can not come out from the loop.i=0.\n",
            "I can not come out from the loop.i=0.\n",
            "I can not come out from the loop.i=0.\n",
            "I can not come out from the loop.i=0.\n",
            "I can not come out from the loop.i=0.\n",
            "I can not come out from the loop.i=0.\n",
            "I can not come out from the loop.i=0.\n",
            "I can not come out from the loop.i=0.\n",
            "I can not come out from the loop.i=0.\n",
            "I can not come out from the loop.i=0.\n",
            "I can not come out from the loop.i=0.\n",
            "I can not come out from the loop.i=0.\n",
            "I can not come out from the loop.i=0.\n",
            "I can not come out from the loop.i=0.\n",
            "I can not come out from the loop.i=0.\n",
            "I can not come out from the loop.i=0.\n",
            "I can not come out from the loop.i=0.\n",
            "I can not come out from the loop.i=0.\n",
            "I can not come out from the loop.i=0.\n",
            "I can not come out from the loop.i=0.\n",
            "I can not come out from the loop.i=0.\n",
            "I can not come out from the loop.i=0.\n",
            "I can not come out from the loop.i=0.\n",
            "I can not come out from the loop.i=0.\n",
            "I can not come out from the loop.i=0.\n",
            "I can not come out from the loop.i=0.\n",
            "I can not come out from the loop.i=0.\n",
            "I can not come out from the loop.i=0.\n",
            "I can not come out from the loop.i=0.\n",
            "I can not come out from the loop.i=0.\n",
            "I can not come out from the loop.i=0.\n",
            "I can not come out from the loop.i=0.\n",
            "I can not come out from the loop.i=0.\n",
            "I can not come out from the loop.i=0.\n",
            "I can not come out from the loop.i=0.\n",
            "I can not come out from the loop.i=0.\n",
            "I can not come out from the loop.i=0.\n",
            "I can not come out from the loop.i=0.\n",
            "I can not come out from the loop.i=0.\n",
            "I can not come out from the loop.i=0.\n",
            "I can not come out from the loop.i=0.\n",
            "I can not come out from the loop.i=0.\n",
            "I can not come out from the loop.i=0.\n",
            "I can not come out from the loop.i=0.\n",
            "I can not come out from the loop.i=0.\n",
            "I can not come out from the loop.i=0.\n",
            "I can not come out from the loop.i=0.\n",
            "I can not come out from the loop.i=0.\n",
            "I can not come out from the loop.i=0.\n",
            "I can not come out from the loop.i=0.\n",
            "I can not come out from the loop.i=0.\n",
            "I can not come out from the loop.i=0.\n",
            "I can not come out from the loop.i=0.\n",
            "I can not come out from the loop.i=0.\n",
            "I can not come out from the loop.i=0.\n",
            "I can not come out from the loop.i=0.\n",
            "I can not come out from the loop.i=0.\n",
            "I can not come out from the loop.i=0.\n",
            "I can not come out from the loop.i=0.\n",
            "I can not come out from the loop.i=0.\n",
            "I can not come out from the loop.i=0.\n",
            "I can not come out from the loop.i=0.\n",
            "I can not come out from the loop.i=0.\n",
            "I can not come out from the loop.i=0.\n",
            "I can not come out from the loop.i=0.\n",
            "I can not come out from the loop.i=0.\n",
            "I can not come out from the loop.i=0.\n",
            "I can not come out from the loop.i=0.\n",
            "I can not come out from the loop.i=0.\n",
            "I can not come out from the loop.i=0.\n",
            "I can not come out from the loop.i=0.\n",
            "I can not come out from the loop.i=0.\n",
            "I can not come out from the loop.i=0.\n",
            "I can not come out from the loop.i=0.\n",
            "I can not come out from the loop.i=0.\n",
            "I can not come out from the loop.i=0.\n",
            "I can not come out from the loop.i=0.\n",
            "I can not come out from the loop.i=0.\n",
            "I can not come out from the loop.i=0.\n",
            "I can not come out from the loop.i=0.\n",
            "I can not come out from the loop.i=0.\n",
            "I can not come out from the loop.i=0.\n",
            "I can not come out from the loop.i=0.\n",
            "I can not come out from the loop.i=0.\n",
            "I can not come out from the loop.i=0.\n",
            "I can not come out from the loop.i=0.\n",
            "I can not come out from the loop.i=0.\n",
            "I can not come out from the loop.i=0.\n",
            "I can not come out from the loop.i=0.\n",
            "I can not come out from the loop.i=0.\n",
            "I can not come out from the loop.i=0.\n",
            "I can not come out from the loop.i=0.\n",
            "I can not come out from the loop.i=0.\n",
            "I can not come out from the loop.i=0.\n",
            "I can not come out from the loop.i=0.\n",
            "I can not come out from the loop.i=0.\n",
            "I can not come out from the loop.i=0.\n",
            "I can not come out from the loop.i=0.\n",
            "I can not come out from the loop.i=0.\n",
            "I can not come out from the loop.i=0.\n",
            "I can not come out from the loop.i=0.\n",
            "I can not come out from the loop.i=0.\n",
            "I can not come out from the loop.i=0.\n",
            "I can not come out from the loop.i=0.\n",
            "I can not come out from the loop.i=0.\n",
            "I can not come out from the loop.i=0.\n",
            "I can not come out from the loop.i=0.\n",
            "I can not come out from the loop.i=0.\n",
            "I can not come out from the loop.i=0.\n",
            "I can not come out from the loop.i=0.\n",
            "I can not come out from the loop.i=0.\n",
            "I can not come out from the loop.i=0.\n",
            "I can not come out from the loop.i=0.\n",
            "I can not come out from the loop.i=0.\n",
            "I can not come out from the loop.i=0.\n",
            "I can not come out from the loop.i=0.\n",
            "I can not come out from the loop.i=0.\n",
            "I can not come out from the loop.i=0.\n",
            "I can not come out from the loop.i=0.\n",
            "I can not come out from the loop.i=0.\n",
            "I can not come out from the loop.i=0.\n",
            "I can not come out from the loop.i=0.\n",
            "I can not come out from the loop.i=0.\n",
            "I can not come out from the loop.i=0.\n",
            "I can not come out from the loop.i=0.\n",
            "I can not come out from the loop.i=0.\n",
            "I can not come out from the loop.i=0.\n",
            "I can not come out from the loop.i=0.\n",
            "I can not come out from the loop.i=0.\n",
            "I can not come out from the loop.i=0.\n",
            "I can not come out from the loop.i=0.\n",
            "I can not come out from the loop.i=0.\n",
            "I can not come out from the loop.i=0.\n",
            "I can not come out from the loop.i=0.\n",
            "I can not come out from the loop.i=0.\n",
            "I can not come out from the loop.i=0.\n",
            "I can not come out from the loop.i=0.\n",
            "I can not come out from the loop.i=0.\n",
            "I can not come out from the loop.i=0.\n",
            "I can not come out from the loop.i=0.\n",
            "I can not come out from the loop.i=0.\n",
            "I can not come out from the loop.i=0.\n",
            "I can not come out from the loop.i=0.\n",
            "I can not come out from the loop.i=0.\n",
            "I can not come out from the loop.i=0.\n",
            "I can not come out from the loop.i=0.\n",
            "I can not come out from the loop.i=0.\n",
            "I can not come out from the loop.i=0.\n",
            "I can not come out from the loop.i=0.\n",
            "I can not come out from the loop.i=0.\n",
            "I can not come out from the loop.i=0.\n",
            "I can not come out from the loop.i=0.\n",
            "I can not come out from the loop.i=0.\n",
            "I can not come out from the loop.i=0.\n",
            "I can not come out from the loop.i=0.\n",
            "I can not come out from the loop.i=0.\n",
            "I can not come out from the loop.i=0.\n",
            "I can not come out from the loop.i=0.\n",
            "I can not come out from the loop.i=0.\n",
            "I can not come out from the loop.i=0.\n",
            "I can not come out from the loop.i=0.\n",
            "I can not come out from the loop.i=0.\n",
            "I can not come out from the loop.i=0.\n",
            "I can not come out from the loop.i=0.\n",
            "I can not come out from the loop.i=0.\n",
            "I can not come out from the loop.i=0.\n",
            "I can not come out from the loop.i=0.\n",
            "I can not come out from the loop.i=0.\n",
            "I can not come out from the loop.i=0.\n",
            "I can not come out from the loop.i=0.\n",
            "I can not come out from the loop.i=0.\n",
            "I can not come out from the loop.i=0.\n",
            "I can not come out from the loop.i=0.\n",
            "I can not come out from the loop.i=0.\n",
            "I can not come out from the loop.i=0.\n",
            "I can not come out from the loop.i=0.\n",
            "I can not come out from the loop.i=0.\n",
            "I can not come out from the loop.i=0.\n",
            "I can not come out from the loop.i=0.\n",
            "I can not come out from the loop.i=0.\n",
            "I can not come out from the loop.i=0.\n",
            "I can not come out from the loop.i=0.\n",
            "I can not come out from the loop.i=0.\n",
            "I can not come out from the loop.i=0.\n",
            "I can not come out from the loop.i=0.\n",
            "I can not come out from the loop.i=0.\n",
            "I can not come out from the loop.i=0.\n",
            "I can not come out from the loop.i=0.\n",
            "I can not come out from the loop.i=0.\n",
            "I can not come out from the loop.i=0.\n",
            "I can not come out from the loop.i=0.\n",
            "I can not come out from the loop.i=0.\n",
            "I can not come out from the loop.i=0.\n",
            "I can not come out from the loop.i=0.\n",
            "I can not come out from the loop.i=0."
          ]
        }
      ],
      "source": [
        "# An incorrect implementation of while loop.\n",
        "# It creates an infinite loop.\n",
        "i = 0\n",
        "while i != 1:\n",
        "  print(f\"I can not come out from the loop.i={i}.\")"
      ]
    },
    {
      "cell_type": "markdown",
      "metadata": {
        "id": "1QB3lwgTYdC5"
      },
      "source": [
        "I hope that you understand the problem. It because you have not implemented the proper logic. you need to change the value of i that was set to 0. But the control inside the while loop cannot come out unless you make i=1. Therefore, you need to be careful enough when you implement your logic using a while loop."
      ]
    },
    {
      "cell_type": "markdown",
      "metadata": {
        "id": "A4Fgly93ZU9W"
      },
      "source": [
        "THE FOR LOOP\n"
      ]
    },
    {
      "cell_type": "markdown",
      "metadata": {
        "id": "4bQIStWCtgv5"
      },
      "source": [
        "Using the for loop are common in programming . notice the construction and usage of the while loop again. You can see that there are tree major parts wich are follow:\n"
      ]
    },
    {
      "cell_type": "markdown",
      "metadata": {
        "id": "z7DDsuyzubHU"
      },
      "source": [
        "Dempnstartion 3\n",
        "\n",
        "\n",
        "Here is the complete program."
      ]
    },
    {
      "cell_type": "code",
      "execution_count": null,
      "metadata": {
        "colab": {
          "base_uri": "https://localhost:8080/"
        },
        "id": "F6mC2Fn0uTrc",
        "outputId": "61ff85f2-a5ce-4a95-bb0e-3d0259e330d4"
      },
      "outputs": [
        {
          "name": "stdout",
          "output_type": "stream",
          "text": [
            "Printing 1 to 10 using a 'for' loop:\n",
            "1\n",
            "2\n",
            "3\n",
            "4\n",
            "5\n",
            "6\n",
            "7\n",
            "8\n",
            "9\n",
            "10\n",
            "Job has been done. Exit from the 'for' loop\n"
          ]
        }
      ],
      "source": [
        "# printing 1 to 10 using for loop\n",
        "print(\"Printing 1 to 10 using a 'for' loop:\")\n",
        "# I use the range(1,11) function to print\n",
        "# values 1 to 11-1 = 10\n",
        "for current_value in range(1,11):\n",
        "  print(current_value)\n",
        "# This statement is placed outside for the loop\n",
        "print(\"Job has been done. Exit from the 'for' loop\")"
      ]
    },
    {
      "cell_type": "code",
      "execution_count": null,
      "metadata": {
        "colab": {
          "base_uri": "https://localhost:8080/"
        },
        "id": "91W_UvaVw4rA",
        "outputId": "cc247f17-7721-4948-b1d1-13d7445a78f6"
      },
      "outputs": [
        {
          "name": "stdout",
          "output_type": "stream",
          "text": [
            "printing employees names using a 'for' loop:\n",
            "Sam\n",
            "Bob\n",
            "Geaorge\n",
            "Kate\n",
            "Julie\n"
          ]
        }
      ],
      "source": [
        "# printing employee names using for loop\n",
        "employee_names = [\"Sam\", \"Bob\", \"Geaorge\", \"Kate\", \"Julie\"]\n",
        "print(\"printing employees names using a 'for' loop:\")\n",
        "for employee in employee_names:\n",
        "  print(employee)\n"
      ]
    },
    {
      "cell_type": "markdown",
      "metadata": {
        "id": "unUpDwKVzr1e"
      },
      "source": [
        "We can summarize the difference between a for loop as follows: A while loop runs as long as the specified condition si true. In contrast, a for loop is suitable for acollection of items where you want to execute a block of code for each item in the collection.\n",
        "\n",
        "\n",
        "In the previous demonstration, i have shown you the use of range() function. the general of this fucntion is:\n",
        "range(begin, end, step)\n",
        "\n",
        "where:\n",
        "\n",
        "\n",
        "You use the begin parameter for the first value. The default value is 0\n",
        "\n",
        "You use the end parameter for the one past the last value\n",
        "\n",
        "\n",
        "You use step parameter to denote the increment or decrement value\n",
        "\n",
        "\n",
        "\n",
        "You can use step parameter wisely. for example, the following code segment can print 0,3,6 and 9.\n"
      ]
    },
    {
      "cell_type": "code",
      "execution_count": null,
      "metadata": {
        "colab": {
          "base_uri": "https://localhost:8080/"
        },
        "id": "i1sr7ZFM21xd",
        "outputId": "4a6bf6a5-8b13-4e37-d38a-fe94010f2038"
      },
      "outputs": [
        {
          "name": "stdout",
          "output_type": "stream",
          "text": [
            "0\n",
            "3\n",
            "6\n",
            "9\n"
          ]
        }
      ],
      "source": [
        "#printing 0,3,6,9 using for loop\n",
        "for current_value in range(0,11,3):\n",
        "  print(current_value)"
      ]
    },
    {
      "cell_type": "markdown",
      "metadata": {
        "id": "mZ3NFMgX5RFe"
      },
      "source": [
        "The next value 9+3 = 12 is beyond the limit range (11-1=10). so, you do not see 12 in this output.\n",
        "You can use for loop to print this value from the reverse direction. Here is the code segment for your reference:"
      ]
    },
    {
      "cell_type": "code",
      "execution_count": null,
      "metadata": {
        "colab": {
          "base_uri": "https://localhost:8080/"
        },
        "id": "FLxM3Pw55-Pb",
        "outputId": "86193673-39f2-47bc-de6e-e97f4e889b1e"
      },
      "outputs": [
        {
          "name": "stdout",
          "output_type": "stream",
          "text": [
            "9\n",
            "6\n",
            "3\n",
            "0\n"
          ]
        }
      ],
      "source": [
        "#printing 0,3,6,9 using for loop\n",
        "for current_value in range(9, -1, -3):\n",
        "  print(current_value)"
      ]
    },
    {
      "cell_type": "markdown",
      "metadata": {
        "id": "x3ZRdr-X6eqA"
      },
      "source": [
        "The next value 0-3= 3 is beyond the limit/range. So, you do not see -3 in this output."
      ]
    },
    {
      "cell_type": "markdown",
      "metadata": {
        "id": "v25vAhxY65w9"
      },
      "source": [
        "USE OF BREAK STATEMENT\n",
        "\n",
        "\n",
        "You need to exit from a loop based on a certain conditions. For example, suppose you have the following program:"
      ]
    },
    {
      "cell_type": "code",
      "execution_count": null,
      "metadata": {
        "colab": {
          "base_uri": "https://localhost:8080/"
        },
        "id": "iqAqAEka7tO4",
        "outputId": "9e450cfa-9b07-489e-9edf-56a8314ec03f"
      },
      "outputs": [
        {
          "name": "stdout",
          "output_type": "stream",
          "text": [
            "1\n",
            "2\n",
            "3\n",
            "4\n",
            "5\n"
          ]
        }
      ],
      "source": [
        "current_value = 1\n",
        "while current_value <=5:\n",
        "  print(current_value)\n",
        "  current_value+=1"
      ]
    },
    {
      "cell_type": "code",
      "execution_count": null,
      "metadata": {
        "colab": {
          "background_save": true
        },
        "id": "AcQCo-RqCFJi"
      },
      "outputs": [],
      "source": [
        "while current_value <=5:\n",
        "  print(current_value)\n",
        "  if(current_value==3):\n",
        "    print(\"Exit the loop when current value becomes 3.\")\n",
        "    break\n",
        " # incrementing the value\n",
        "current_value +=1\n"
      ]
    },
    {
      "cell_type": "markdown",
      "source": [
        "LES BOUCLES WHILE"
      ],
      "metadata": {
        "id": "0Abb_4G63fwn"
      }
    },
    {
      "cell_type": "code",
      "source": [
        "n = 0 # je cree la variable"
      ],
      "metadata": {
        "id": "T1ARnY3s3fMN"
      },
      "execution_count": null,
      "outputs": []
    },
    {
      "cell_type": "code",
      "source": [
        "while n < 10:\n",
        "  print(\"La valeur de n est \" + str(n))"
      ],
      "metadata": {
        "colab": {
          "base_uri": "https://localhost:8080/",
          "height": 1000
        },
        "id": "fHZrSRBN7yyK",
        "outputId": "2a8fbcfc-292c-4717-a98e-efa3fc6d6bd4"
      },
      "execution_count": null,
      "outputs": [
        {
          "output_type": "stream",
          "name": "stdout",
          "text": [
            "\u001b[1;30;43mLe flux de sortie a été tronqué et ne contient que les 5000 dernières lignes.\u001b[0m\n",
            "La valeur de n est 0\n",
            "La valeur de n est 0\n",
            "La valeur de n est 0\n",
            "La valeur de n est 0\n",
            "La valeur de n est 0\n",
            "La valeur de n est 0\n",
            "La valeur de n est 0\n",
            "La valeur de n est 0\n",
            "La valeur de n est 0\n",
            "La valeur de n est 0\n",
            "La valeur de n est 0\n",
            "La valeur de n est 0\n",
            "La valeur de n est 0\n",
            "La valeur de n est 0\n",
            "La valeur de n est 0\n",
            "La valeur de n est 0\n",
            "La valeur de n est 0\n",
            "La valeur de n est 0\n",
            "La valeur de n est 0\n",
            "La valeur de n est 0\n",
            "La valeur de n est 0\n",
            "La valeur de n est 0\n",
            "La valeur de n est 0\n",
            "La valeur de n est 0\n",
            "La valeur de n est 0\n",
            "La valeur de n est 0\n",
            "La valeur de n est 0\n",
            "La valeur de n est 0\n",
            "La valeur de n est 0\n",
            "La valeur de n est 0\n",
            "La valeur de n est 0\n",
            "La valeur de n est 0\n",
            "La valeur de n est 0\n",
            "La valeur de n est 0\n",
            "La valeur de n est 0\n",
            "La valeur de n est 0\n",
            "La valeur de n est 0\n",
            "La valeur de n est 0\n",
            "La valeur de n est 0\n",
            "La valeur de n est 0\n",
            "La valeur de n est 0\n",
            "La valeur de n est 0\n",
            "La valeur de n est 0\n",
            "La valeur de n est 0\n",
            "La valeur de n est 0\n",
            "La valeur de n est 0\n",
            "La valeur de n est 0\n",
            "La valeur de n est 0\n",
            "La valeur de n est 0\n",
            "La valeur de n est 0\n",
            "La valeur de n est 0\n",
            "La valeur de n est 0\n",
            "La valeur de n est 0\n",
            "La valeur de n est 0\n",
            "La valeur de n est 0\n",
            "La valeur de n est 0\n",
            "La valeur de n est 0\n",
            "La valeur de n est 0\n",
            "La valeur de n est 0\n",
            "La valeur de n est 0\n",
            "La valeur de n est 0\n",
            "La valeur de n est 0\n",
            "La valeur de n est 0\n",
            "La valeur de n est 0\n",
            "La valeur de n est 0\n",
            "La valeur de n est 0\n",
            "La valeur de n est 0\n",
            "La valeur de n est 0\n",
            "La valeur de n est 0\n",
            "La valeur de n est 0\n",
            "La valeur de n est 0\n",
            "La valeur de n est 0\n",
            "La valeur de n est 0\n",
            "La valeur de n est 0\n",
            "La valeur de n est 0\n",
            "La valeur de n est 0\n",
            "La valeur de n est 0\n",
            "La valeur de n est 0\n",
            "La valeur de n est 0\n",
            "La valeur de n est 0\n",
            "La valeur de n est 0\n",
            "La valeur de n est 0\n",
            "La valeur de n est 0\n",
            "La valeur de n est 0\n",
            "La valeur de n est 0\n",
            "La valeur de n est 0\n",
            "La valeur de n est 0\n",
            "La valeur de n est 0\n",
            "La valeur de n est 0\n",
            "La valeur de n est 0\n",
            "La valeur de n est 0\n",
            "La valeur de n est 0\n",
            "La valeur de n est 0\n",
            "La valeur de n est 0\n",
            "La valeur de n est 0\n",
            "La valeur de n est 0\n",
            "La valeur de n est 0\n",
            "La valeur de n est 0\n",
            "La valeur de n est 0\n",
            "La valeur de n est 0\n",
            "La valeur de n est 0\n",
            "La valeur de n est 0\n",
            "La valeur de n est 0\n",
            "La valeur de n est 0\n",
            "La valeur de n est 0\n",
            "La valeur de n est 0\n",
            "La valeur de n est 0\n",
            "La valeur de n est 0\n",
            "La valeur de n est 0\n",
            "La valeur de n est 0\n",
            "La valeur de n est 0\n",
            "La valeur de n est 0\n",
            "La valeur de n est 0\n",
            "La valeur de n est 0\n",
            "La valeur de n est 0\n",
            "La valeur de n est 0\n",
            "La valeur de n est 0\n",
            "La valeur de n est 0\n",
            "La valeur de n est 0\n",
            "La valeur de n est 0\n",
            "La valeur de n est 0\n",
            "La valeur de n est 0\n",
            "La valeur de n est 0\n",
            "La valeur de n est 0\n",
            "La valeur de n est 0\n",
            "La valeur de n est 0\n",
            "La valeur de n est 0\n",
            "La valeur de n est 0\n",
            "La valeur de n est 0\n",
            "La valeur de n est 0\n",
            "La valeur de n est 0\n",
            "La valeur de n est 0\n",
            "La valeur de n est 0\n",
            "La valeur de n est 0\n",
            "La valeur de n est 0\n",
            "La valeur de n est 0\n",
            "La valeur de n est 0\n",
            "La valeur de n est 0\n",
            "La valeur de n est 0\n",
            "La valeur de n est 0\n",
            "La valeur de n est 0\n",
            "La valeur de n est 0\n",
            "La valeur de n est 0\n",
            "La valeur de n est 0\n",
            "La valeur de n est 0\n",
            "La valeur de n est 0\n",
            "La valeur de n est 0\n",
            "La valeur de n est 0\n",
            "La valeur de n est 0\n",
            "La valeur de n est 0\n",
            "La valeur de n est 0\n",
            "La valeur de n est 0\n",
            "La valeur de n est 0\n",
            "La valeur de n est 0\n",
            "La valeur de n est 0\n",
            "La valeur de n est 0\n",
            "La valeur de n est 0\n",
            "La valeur de n est 0\n",
            "La valeur de n est 0\n",
            "La valeur de n est 0\n",
            "La valeur de n est 0\n",
            "La valeur de n est 0\n",
            "La valeur de n est 0\n",
            "La valeur de n est 0\n",
            "La valeur de n est 0\n",
            "La valeur de n est 0\n",
            "La valeur de n est 0\n",
            "La valeur de n est 0\n",
            "La valeur de n est 0\n",
            "La valeur de n est 0\n",
            "La valeur de n est 0\n",
            "La valeur de n est 0\n",
            "La valeur de n est 0\n",
            "La valeur de n est 0\n",
            "La valeur de n est 0\n",
            "La valeur de n est 0\n",
            "La valeur de n est 0\n",
            "La valeur de n est 0\n",
            "La valeur de n est 0\n",
            "La valeur de n est 0\n",
            "La valeur de n est 0\n",
            "La valeur de n est 0\n",
            "La valeur de n est 0\n",
            "La valeur de n est 0\n",
            "La valeur de n est 0\n",
            "La valeur de n est 0\n",
            "La valeur de n est 0\n",
            "La valeur de n est 0\n",
            "La valeur de n est 0\n",
            "La valeur de n est 0\n",
            "La valeur de n est 0\n",
            "La valeur de n est 0\n",
            "La valeur de n est 0\n",
            "La valeur de n est 0\n",
            "La valeur de n est 0\n",
            "La valeur de n est 0\n",
            "La valeur de n est 0\n",
            "La valeur de n est 0\n",
            "La valeur de n est 0\n",
            "La valeur de n est 0\n",
            "La valeur de n est 0\n",
            "La valeur de n est 0\n",
            "La valeur de n est 0\n",
            "La valeur de n est 0\n",
            "La valeur de n est 0\n",
            "La valeur de n est 0\n",
            "La valeur de n est 0\n",
            "La valeur de n est 0\n",
            "La valeur de n est 0\n",
            "La valeur de n est 0\n",
            "La valeur de n est 0\n",
            "La valeur de n est 0\n",
            "La valeur de n est 0\n",
            "La valeur de n est 0\n",
            "La valeur de n est 0\n",
            "La valeur de n est 0\n",
            "La valeur de n est 0\n",
            "La valeur de n est 0\n",
            "La valeur de n est 0\n",
            "La valeur de n est 0\n",
            "La valeur de n est 0\n",
            "La valeur de n est 0\n",
            "La valeur de n est 0\n",
            "La valeur de n est 0\n",
            "La valeur de n est 0\n",
            "La valeur de n est 0\n",
            "La valeur de n est 0\n",
            "La valeur de n est 0\n",
            "La valeur de n est 0\n",
            "La valeur de n est 0\n",
            "La valeur de n est 0\n",
            "La valeur de n est 0\n",
            "La valeur de n est 0\n",
            "La valeur de n est 0\n",
            "La valeur de n est 0\n",
            "La valeur de n est 0\n",
            "La valeur de n est 0\n",
            "La valeur de n est 0\n",
            "La valeur de n est 0\n",
            "La valeur de n est 0\n",
            "La valeur de n est 0\n",
            "La valeur de n est 0\n",
            "La valeur de n est 0\n",
            "La valeur de n est 0\n",
            "La valeur de n est 0\n",
            "La valeur de n est 0\n",
            "La valeur de n est 0\n",
            "La valeur de n est 0\n",
            "La valeur de n est 0\n",
            "La valeur de n est 0\n",
            "La valeur de n est 0\n",
            "La valeur de n est 0\n",
            "La valeur de n est 0\n",
            "La valeur de n est 0\n",
            "La valeur de n est 0\n",
            "La valeur de n est 0\n",
            "La valeur de n est 0\n",
            "La valeur de n est 0\n",
            "La valeur de n est 0\n",
            "La valeur de n est 0\n",
            "La valeur de n est 0\n",
            "La valeur de n est 0\n",
            "La valeur de n est 0\n",
            "La valeur de n est 0\n",
            "La valeur de n est 0\n",
            "La valeur de n est 0\n",
            "La valeur de n est 0\n",
            "La valeur de n est 0\n",
            "La valeur de n est 0\n",
            "La valeur de n est 0\n",
            "La valeur de n est 0\n",
            "La valeur de n est 0\n",
            "La valeur de n est 0\n",
            "La valeur de n est 0\n",
            "La valeur de n est 0\n",
            "La valeur de n est 0\n",
            "La valeur de n est 0\n",
            "La valeur de n est 0\n",
            "La valeur de n est 0\n",
            "La valeur de n est 0\n",
            "La valeur de n est 0\n",
            "La valeur de n est 0\n",
            "La valeur de n est 0\n",
            "La valeur de n est 0\n",
            "La valeur de n est 0\n",
            "La valeur de n est 0\n",
            "La valeur de n est 0\n",
            "La valeur de n est 0\n",
            "La valeur de n est 0\n",
            "La valeur de n est 0\n",
            "La valeur de n est 0\n",
            "La valeur de n est 0\n",
            "La valeur de n est 0\n",
            "La valeur de n est 0\n",
            "La valeur de n est 0\n",
            "La valeur de n est 0\n",
            "La valeur de n est 0\n",
            "La valeur de n est 0\n",
            "La valeur de n est 0\n",
            "La valeur de n est 0\n",
            "La valeur de n est 0\n",
            "La valeur de n est 0\n",
            "La valeur de n est 0\n",
            "La valeur de n est 0\n",
            "La valeur de n est 0\n",
            "La valeur de n est 0\n",
            "La valeur de n est 0\n",
            "La valeur de n est 0\n",
            "La valeur de n est 0\n",
            "La valeur de n est 0\n",
            "La valeur de n est 0\n",
            "La valeur de n est 0\n",
            "La valeur de n est 0\n",
            "La valeur de n est 0\n",
            "La valeur de n est 0\n",
            "La valeur de n est 0\n",
            "La valeur de n est 0\n",
            "La valeur de n est 0\n",
            "La valeur de n est 0\n",
            "La valeur de n est 0\n",
            "La valeur de n est 0\n",
            "La valeur de n est 0\n",
            "La valeur de n est 0\n",
            "La valeur de n est 0\n",
            "La valeur de n est 0\n",
            "La valeur de n est 0\n",
            "La valeur de n est 0\n",
            "La valeur de n est 0\n",
            "La valeur de n est 0\n",
            "La valeur de n est 0\n",
            "La valeur de n est 0\n",
            "La valeur de n est 0\n",
            "La valeur de n est 0\n",
            "La valeur de n est 0\n",
            "La valeur de n est 0\n",
            "La valeur de n est 0\n",
            "La valeur de n est 0\n",
            "La valeur de n est 0\n",
            "La valeur de n est 0\n",
            "La valeur de n est 0\n",
            "La valeur de n est 0\n",
            "La valeur de n est 0\n",
            "La valeur de n est 0\n",
            "La valeur de n est 0\n",
            "La valeur de n est 0\n",
            "La valeur de n est 0\n",
            "La valeur de n est 0\n",
            "La valeur de n est 0\n",
            "La valeur de n est 0\n",
            "La valeur de n est 0\n",
            "La valeur de n est 0\n",
            "La valeur de n est 0\n",
            "La valeur de n est 0\n",
            "La valeur de n est 0\n",
            "La valeur de n est 0\n",
            "La valeur de n est 0\n",
            "La valeur de n est 0\n",
            "La valeur de n est 0\n",
            "La valeur de n est 0\n",
            "La valeur de n est 0\n",
            "La valeur de n est 0\n",
            "La valeur de n est 0\n",
            "La valeur de n est 0\n",
            "La valeur de n est 0\n",
            "La valeur de n est 0\n",
            "La valeur de n est 0\n",
            "La valeur de n est 0\n",
            "La valeur de n est 0\n",
            "La valeur de n est 0\n",
            "La valeur de n est 0\n",
            "La valeur de n est 0\n",
            "La valeur de n est 0\n",
            "La valeur de n est 0\n",
            "La valeur de n est 0\n",
            "La valeur de n est 0\n",
            "La valeur de n est 0\n",
            "La valeur de n est 0\n",
            "La valeur de n est 0\n",
            "La valeur de n est 0\n",
            "La valeur de n est 0\n",
            "La valeur de n est 0\n",
            "La valeur de n est 0\n",
            "La valeur de n est 0\n",
            "La valeur de n est 0\n",
            "La valeur de n est 0\n",
            "La valeur de n est 0\n",
            "La valeur de n est 0\n",
            "La valeur de n est 0\n",
            "La valeur de n est 0\n",
            "La valeur de n est 0\n",
            "La valeur de n est 0\n",
            "La valeur de n est 0\n",
            "La valeur de n est 0\n",
            "La valeur de n est 0\n",
            "La valeur de n est 0\n",
            "La valeur de n est 0\n",
            "La valeur de n est 0\n",
            "La valeur de n est 0\n",
            "La valeur de n est 0\n",
            "La valeur de n est 0\n",
            "La valeur de n est 0\n",
            "La valeur de n est 0\n",
            "La valeur de n est 0\n",
            "La valeur de n est 0\n",
            "La valeur de n est 0\n",
            "La valeur de n est 0\n",
            "La valeur de n est 0\n",
            "La valeur de n est 0\n",
            "La valeur de n est 0\n",
            "La valeur de n est 0\n",
            "La valeur de n est 0\n",
            "La valeur de n est 0\n",
            "La valeur de n est 0\n",
            "La valeur de n est 0\n",
            "La valeur de n est 0\n",
            "La valeur de n est 0\n",
            "La valeur de n est 0\n",
            "La valeur de n est 0\n",
            "La valeur de n est 0\n",
            "La valeur de n est 0\n",
            "La valeur de n est 0\n",
            "La valeur de n est 0\n",
            "La valeur de n est 0\n",
            "La valeur de n est 0\n",
            "La valeur de n est 0\n",
            "La valeur de n est 0\n",
            "La valeur de n est 0\n",
            "La valeur de n est 0\n",
            "La valeur de n est 0\n",
            "La valeur de n est 0\n",
            "La valeur de n est 0\n",
            "La valeur de n est 0\n",
            "La valeur de n est 0\n",
            "La valeur de n est 0\n",
            "La valeur de n est 0\n",
            "La valeur de n est 0\n",
            "La valeur de n est 0\n",
            "La valeur de n est 0\n",
            "La valeur de n est 0\n",
            "La valeur de n est 0\n",
            "La valeur de n est 0\n",
            "La valeur de n est 0\n",
            "La valeur de n est 0\n",
            "La valeur de n est 0\n",
            "La valeur de n est 0\n",
            "La valeur de n est 0\n",
            "La valeur de n est 0\n",
            "La valeur de n est 0\n",
            "La valeur de n est 0\n",
            "La valeur de n est 0\n",
            "La valeur de n est 0\n",
            "La valeur de n est 0\n",
            "La valeur de n est 0\n",
            "La valeur de n est 0\n",
            "La valeur de n est 0\n",
            "La valeur de n est 0\n",
            "La valeur de n est 0\n",
            "La valeur de n est 0\n",
            "La valeur de n est 0\n",
            "La valeur de n est 0\n",
            "La valeur de n est 0\n",
            "La valeur de n est 0\n",
            "La valeur de n est 0\n",
            "La valeur de n est 0\n",
            "La valeur de n est 0\n",
            "La valeur de n est 0\n",
            "La valeur de n est 0\n",
            "La valeur de n est 0\n",
            "La valeur de n est 0\n",
            "La valeur de n est 0\n",
            "La valeur de n est 0\n",
            "La valeur de n est 0\n",
            "La valeur de n est 0\n",
            "La valeur de n est 0\n",
            "La valeur de n est 0\n",
            "La valeur de n est 0\n",
            "La valeur de n est 0\n",
            "La valeur de n est 0\n",
            "La valeur de n est 0\n",
            "La valeur de n est 0\n",
            "La valeur de n est 0\n",
            "La valeur de n est 0\n",
            "La valeur de n est 0\n",
            "La valeur de n est 0\n",
            "La valeur de n est 0\n",
            "La valeur de n est 0\n",
            "La valeur de n est 0\n",
            "La valeur de n est 0\n",
            "La valeur de n est 0\n",
            "La valeur de n est 0\n",
            "La valeur de n est 0\n",
            "La valeur de n est 0\n",
            "La valeur de n est 0\n",
            "La valeur de n est 0\n",
            "La valeur de n est 0\n",
            "La valeur de n est 0\n",
            "La valeur de n est 0\n",
            "La valeur de n est 0\n",
            "La valeur de n est 0\n",
            "La valeur de n est 0\n",
            "La valeur de n est 0\n",
            "La valeur de n est 0\n",
            "La valeur de n est 0\n",
            "La valeur de n est 0\n",
            "La valeur de n est 0\n",
            "La valeur de n est 0\n",
            "La valeur de n est 0\n",
            "La valeur de n est 0\n",
            "La valeur de n est 0\n",
            "La valeur de n est 0\n",
            "La valeur de n est 0\n",
            "La valeur de n est 0\n",
            "La valeur de n est 0\n",
            "La valeur de n est 0\n",
            "La valeur de n est 0\n",
            "La valeur de n est 0\n",
            "La valeur de n est 0\n",
            "La valeur de n est 0\n",
            "La valeur de n est 0\n",
            "La valeur de n est 0\n",
            "La valeur de n est 0\n",
            "La valeur de n est 0\n",
            "La valeur de n est 0\n",
            "La valeur de n est 0\n",
            "La valeur de n est 0\n",
            "La valeur de n est 0\n",
            "La valeur de n est 0\n",
            "La valeur de n est 0\n",
            "La valeur de n est 0\n",
            "La valeur de n est 0\n",
            "La valeur de n est 0\n",
            "La valeur de n est 0\n",
            "La valeur de n est 0\n",
            "La valeur de n est 0\n",
            "La valeur de n est 0\n",
            "La valeur de n est 0\n",
            "La valeur de n est 0\n",
            "La valeur de n est 0\n",
            "La valeur de n est 0\n",
            "La valeur de n est 0\n",
            "La valeur de n est 0\n",
            "La valeur de n est 0\n",
            "La valeur de n est 0\n",
            "La valeur de n est 0\n",
            "La valeur de n est 0\n",
            "La valeur de n est 0\n",
            "La valeur de n est 0\n",
            "La valeur de n est 0\n",
            "La valeur de n est 0\n",
            "La valeur de n est 0\n",
            "La valeur de n est 0\n",
            "La valeur de n est 0\n",
            "La valeur de n est 0\n",
            "La valeur de n est 0\n",
            "La valeur de n est 0\n",
            "La valeur de n est 0\n",
            "La valeur de n est 0\n",
            "La valeur de n est 0\n",
            "La valeur de n est 0\n",
            "La valeur de n est 0\n",
            "La valeur de n est 0\n",
            "La valeur de n est 0\n",
            "La valeur de n est 0\n",
            "La valeur de n est 0\n",
            "La valeur de n est 0\n",
            "La valeur de n est 0\n",
            "La valeur de n est 0\n",
            "La valeur de n est 0\n",
            "La valeur de n est 0\n",
            "La valeur de n est 0\n",
            "La valeur de n est 0\n",
            "La valeur de n est 0\n",
            "La valeur de n est 0\n",
            "La valeur de n est 0\n",
            "La valeur de n est 0\n",
            "La valeur de n est 0\n",
            "La valeur de n est 0\n",
            "La valeur de n est 0\n",
            "La valeur de n est 0\n",
            "La valeur de n est 0\n",
            "La valeur de n est 0\n",
            "La valeur de n est 0\n",
            "La valeur de n est 0\n",
            "La valeur de n est 0\n",
            "La valeur de n est 0\n",
            "La valeur de n est 0\n",
            "La valeur de n est 0\n",
            "La valeur de n est 0\n",
            "La valeur de n est 0\n",
            "La valeur de n est 0\n",
            "La valeur de n est 0\n",
            "La valeur de n est 0\n",
            "La valeur de n est 0\n",
            "La valeur de n est 0\n",
            "La valeur de n est 0\n",
            "La valeur de n est 0\n",
            "La valeur de n est 0\n",
            "La valeur de n est 0\n",
            "La valeur de n est 0\n",
            "La valeur de n est 0\n",
            "La valeur de n est 0\n",
            "La valeur de n est 0\n",
            "La valeur de n est 0\n",
            "La valeur de n est 0\n",
            "La valeur de n est 0\n",
            "La valeur de n est 0\n",
            "La valeur de n est 0\n",
            "La valeur de n est 0\n",
            "La valeur de n est 0\n",
            "La valeur de n est 0\n",
            "La valeur de n est 0\n",
            "La valeur de n est 0\n",
            "La valeur de n est 0\n",
            "La valeur de n est 0\n",
            "La valeur de n est 0\n",
            "La valeur de n est 0\n",
            "La valeur de n est 0\n",
            "La valeur de n est 0\n",
            "La valeur de n est 0\n",
            "La valeur de n est 0\n",
            "La valeur de n est 0\n",
            "La valeur de n est 0\n",
            "La valeur de n est 0\n",
            "La valeur de n est 0\n",
            "La valeur de n est 0\n",
            "La valeur de n est 0\n",
            "La valeur de n est 0\n",
            "La valeur de n est 0\n",
            "La valeur de n est 0\n",
            "La valeur de n est 0\n",
            "La valeur de n est 0\n",
            "La valeur de n est 0\n",
            "La valeur de n est 0\n",
            "La valeur de n est 0\n",
            "La valeur de n est 0\n",
            "La valeur de n est 0\n",
            "La valeur de n est 0\n",
            "La valeur de n est 0\n",
            "La valeur de n est 0\n",
            "La valeur de n est 0\n",
            "La valeur de n est 0\n",
            "La valeur de n est 0\n",
            "La valeur de n est 0\n",
            "La valeur de n est 0\n",
            "La valeur de n est 0\n",
            "La valeur de n est 0\n",
            "La valeur de n est 0\n",
            "La valeur de n est 0\n",
            "La valeur de n est 0\n",
            "La valeur de n est 0\n",
            "La valeur de n est 0\n",
            "La valeur de n est 0\n",
            "La valeur de n est 0\n",
            "La valeur de n est 0\n",
            "La valeur de n est 0\n",
            "La valeur de n est 0\n",
            "La valeur de n est 0\n",
            "La valeur de n est 0\n",
            "La valeur de n est 0\n",
            "La valeur de n est 0\n",
            "La valeur de n est 0\n",
            "La valeur de n est 0\n",
            "La valeur de n est 0\n",
            "La valeur de n est 0\n",
            "La valeur de n est 0\n",
            "La valeur de n est 0\n",
            "La valeur de n est 0\n",
            "La valeur de n est 0\n",
            "La valeur de n est 0\n",
            "La valeur de n est 0\n",
            "La valeur de n est 0\n",
            "La valeur de n est 0\n",
            "La valeur de n est 0\n",
            "La valeur de n est 0\n",
            "La valeur de n est 0\n",
            "La valeur de n est 0\n",
            "La valeur de n est 0\n",
            "La valeur de n est 0\n",
            "La valeur de n est 0\n",
            "La valeur de n est 0\n",
            "La valeur de n est 0\n",
            "La valeur de n est 0\n",
            "La valeur de n est 0\n",
            "La valeur de n est 0\n",
            "La valeur de n est 0\n",
            "La valeur de n est 0\n",
            "La valeur de n est 0\n",
            "La valeur de n est 0\n",
            "La valeur de n est 0\n",
            "La valeur de n est 0\n",
            "La valeur de n est 0\n",
            "La valeur de n est 0\n",
            "La valeur de n est 0\n",
            "La valeur de n est 0\n",
            "La valeur de n est 0\n",
            "La valeur de n est 0\n",
            "La valeur de n est 0\n",
            "La valeur de n est 0\n",
            "La valeur de n est 0\n",
            "La valeur de n est 0\n",
            "La valeur de n est 0\n",
            "La valeur de n est 0\n",
            "La valeur de n est 0\n",
            "La valeur de n est 0\n",
            "La valeur de n est 0\n",
            "La valeur de n est 0\n",
            "La valeur de n est 0\n",
            "La valeur de n est 0\n",
            "La valeur de n est 0\n",
            "La valeur de n est 0\n",
            "La valeur de n est 0\n",
            "La valeur de n est 0\n",
            "La valeur de n est 0\n",
            "La valeur de n est 0\n",
            "La valeur de n est 0\n",
            "La valeur de n est 0\n",
            "La valeur de n est 0\n",
            "La valeur de n est 0\n",
            "La valeur de n est 0\n",
            "La valeur de n est 0\n",
            "La valeur de n est 0\n",
            "La valeur de n est 0\n",
            "La valeur de n est 0\n",
            "La valeur de n est 0\n",
            "La valeur de n est 0\n",
            "La valeur de n est 0\n",
            "La valeur de n est 0\n",
            "La valeur de n est 0\n",
            "La valeur de n est 0\n",
            "La valeur de n est 0\n",
            "La valeur de n est 0\n",
            "La valeur de n est 0\n",
            "La valeur de n est 0\n",
            "La valeur de n est 0\n",
            "La valeur de n est 0\n",
            "La valeur de n est 0\n",
            "La valeur de n est 0\n",
            "La valeur de n est 0\n",
            "La valeur de n est 0\n",
            "La valeur de n est 0\n",
            "La valeur de n est 0\n",
            "La valeur de n est 0\n",
            "La valeur de n est 0\n",
            "La valeur de n est 0\n",
            "La valeur de n est 0\n",
            "La valeur de n est 0\n",
            "La valeur de n est 0\n",
            "La valeur de n est 0\n",
            "La valeur de n est 0\n",
            "La valeur de n est 0\n",
            "La valeur de n est 0\n",
            "La valeur de n est 0\n",
            "La valeur de n est 0\n",
            "La valeur de n est 0\n",
            "La valeur de n est 0\n",
            "La valeur de n est 0\n",
            "La valeur de n est 0\n",
            "La valeur de n est 0\n",
            "La valeur de n est 0\n",
            "La valeur de n est 0\n",
            "La valeur de n est 0\n",
            "La valeur de n est 0\n",
            "La valeur de n est 0\n",
            "La valeur de n est 0\n",
            "La valeur de n est 0\n",
            "La valeur de n est 0\n",
            "La valeur de n est 0\n",
            "La valeur de n est 0\n",
            "La valeur de n est 0\n",
            "La valeur de n est 0\n",
            "La valeur de n est 0\n",
            "La valeur de n est 0\n",
            "La valeur de n est 0\n",
            "La valeur de n est 0\n",
            "La valeur de n est 0\n",
            "La valeur de n est 0\n",
            "La valeur de n est 0\n",
            "La valeur de n est 0\n",
            "La valeur de n est 0\n",
            "La valeur de n est 0\n",
            "La valeur de n est 0\n",
            "La valeur de n est 0\n",
            "La valeur de n est 0\n",
            "La valeur de n est 0\n",
            "La valeur de n est 0\n",
            "La valeur de n est 0\n",
            "La valeur de n est 0\n",
            "La valeur de n est 0\n",
            "La valeur de n est 0\n",
            "La valeur de n est 0\n",
            "La valeur de n est 0\n",
            "La valeur de n est 0\n",
            "La valeur de n est 0\n",
            "La valeur de n est 0\n",
            "La valeur de n est 0\n",
            "La valeur de n est 0\n",
            "La valeur de n est 0\n",
            "La valeur de n est 0\n",
            "La valeur de n est 0\n",
            "La valeur de n est 0\n",
            "La valeur de n est 0\n",
            "La valeur de n est 0\n",
            "La valeur de n est 0\n",
            "La valeur de n est 0\n",
            "La valeur de n est 0\n",
            "La valeur de n est 0\n",
            "La valeur de n est 0\n",
            "La valeur de n est 0\n",
            "La valeur de n est 0\n",
            "La valeur de n est 0\n",
            "La valeur de n est 0\n",
            "La valeur de n est 0\n",
            "La valeur de n est 0\n",
            "La valeur de n est 0\n",
            "La valeur de n est 0\n",
            "La valeur de n est 0\n",
            "La valeur de n est 0\n",
            "La valeur de n est 0\n",
            "La valeur de n est 0\n",
            "La valeur de n est 0\n",
            "La valeur de n est 0\n",
            "La valeur de n est 0\n",
            "La valeur de n est 0\n",
            "La valeur de n est 0\n",
            "La valeur de n est 0\n",
            "La valeur de n est 0\n",
            "La valeur de n est 0\n",
            "La valeur de n est 0\n",
            "La valeur de n est 0\n",
            "La valeur de n est 0\n",
            "La valeur de n est 0\n",
            "La valeur de n est 0\n",
            "La valeur de n est 0\n",
            "La valeur de n est 0\n",
            "La valeur de n est 0\n",
            "La valeur de n est 0\n",
            "La valeur de n est 0\n",
            "La valeur de n est 0\n",
            "La valeur de n est 0\n",
            "La valeur de n est 0\n",
            "La valeur de n est 0\n",
            "La valeur de n est 0\n",
            "La valeur de n est 0\n",
            "La valeur de n est 0\n",
            "La valeur de n est 0\n",
            "La valeur de n est 0\n",
            "La valeur de n est 0\n",
            "La valeur de n est 0\n",
            "La valeur de n est 0\n",
            "La valeur de n est 0\n",
            "La valeur de n est 0\n",
            "La valeur de n est 0\n",
            "La valeur de n est 0\n",
            "La valeur de n est 0\n",
            "La valeur de n est 0\n",
            "La valeur de n est 0\n",
            "La valeur de n est 0\n",
            "La valeur de n est 0\n",
            "La valeur de n est 0\n",
            "La valeur de n est 0\n",
            "La valeur de n est 0\n",
            "La valeur de n est 0\n",
            "La valeur de n est 0\n",
            "La valeur de n est 0\n",
            "La valeur de n est 0\n",
            "La valeur de n est 0\n",
            "La valeur de n est 0\n",
            "La valeur de n est 0\n",
            "La valeur de n est 0\n",
            "La valeur de n est 0\n",
            "La valeur de n est 0\n",
            "La valeur de n est 0\n",
            "La valeur de n est 0\n",
            "La valeur de n est 0\n",
            "La valeur de n est 0\n",
            "La valeur de n est 0\n",
            "La valeur de n est 0\n",
            "La valeur de n est 0\n",
            "La valeur de n est 0\n",
            "La valeur de n est 0\n",
            "La valeur de n est 0\n",
            "La valeur de n est 0\n",
            "La valeur de n est 0\n",
            "La valeur de n est 0\n",
            "La valeur de n est 0\n",
            "La valeur de n est 0\n",
            "La valeur de n est 0\n",
            "La valeur de n est 0\n",
            "La valeur de n est 0\n",
            "La valeur de n est 0\n",
            "La valeur de n est 0\n",
            "La valeur de n est 0\n",
            "La valeur de n est 0\n",
            "La valeur de n est 0\n",
            "La valeur de n est 0\n",
            "La valeur de n est 0\n",
            "La valeur de n est 0\n",
            "La valeur de n est 0\n",
            "La valeur de n est 0\n",
            "La valeur de n est 0\n",
            "La valeur de n est 0\n",
            "La valeur de n est 0\n",
            "La valeur de n est 0\n",
            "La valeur de n est 0\n",
            "La valeur de n est 0\n",
            "La valeur de n est 0\n",
            "La valeur de n est 0\n",
            "La valeur de n est 0\n",
            "La valeur de n est 0\n",
            "La valeur de n est 0\n",
            "La valeur de n est 0\n",
            "La valeur de n est 0\n",
            "La valeur de n est 0\n",
            "La valeur de n est 0\n",
            "La valeur de n est 0\n",
            "La valeur de n est 0\n",
            "La valeur de n est 0\n",
            "La valeur de n est 0\n",
            "La valeur de n est 0\n",
            "La valeur de n est 0\n",
            "La valeur de n est 0\n",
            "La valeur de n est 0\n",
            "La valeur de n est 0\n",
            "La valeur de n est 0\n",
            "La valeur de n est 0\n",
            "La valeur de n est 0\n",
            "La valeur de n est 0\n",
            "La valeur de n est 0\n",
            "La valeur de n est 0\n",
            "La valeur de n est 0\n",
            "La valeur de n est 0\n",
            "La valeur de n est 0\n",
            "La valeur de n est 0\n",
            "La valeur de n est 0\n",
            "La valeur de n est 0\n",
            "La valeur de n est 0\n",
            "La valeur de n est 0\n",
            "La valeur de n est 0\n",
            "La valeur de n est 0\n",
            "La valeur de n est 0\n",
            "La valeur de n est 0\n",
            "La valeur de n est 0\n",
            "La valeur de n est 0\n",
            "La valeur de n est 0\n",
            "La valeur de n est 0\n",
            "La valeur de n est 0\n",
            "La valeur de n est 0\n",
            "La valeur de n est 0\n",
            "La valeur de n est 0\n",
            "La valeur de n est 0\n",
            "La valeur de n est 0\n",
            "La valeur de n est 0\n",
            "La valeur de n est 0\n",
            "La valeur de n est 0\n",
            "La valeur de n est 0\n",
            "La valeur de n est 0\n",
            "La valeur de n est 0\n",
            "La valeur de n est 0\n",
            "La valeur de n est 0\n",
            "La valeur de n est 0\n",
            "La valeur de n est 0\n",
            "La valeur de n est 0\n",
            "La valeur de n est 0\n",
            "La valeur de n est 0\n",
            "La valeur de n est 0\n",
            "La valeur de n est 0\n",
            "La valeur de n est 0\n",
            "La valeur de n est 0\n",
            "La valeur de n est 0\n",
            "La valeur de n est 0\n",
            "La valeur de n est 0\n",
            "La valeur de n est 0\n",
            "La valeur de n est 0\n",
            "La valeur de n est 0\n",
            "La valeur de n est 0\n",
            "La valeur de n est 0\n",
            "La valeur de n est 0\n",
            "La valeur de n est 0\n",
            "La valeur de n est 0\n",
            "La valeur de n est 0\n",
            "La valeur de n est 0\n",
            "La valeur de n est 0\n",
            "La valeur de n est 0\n",
            "La valeur de n est 0\n",
            "La valeur de n est 0\n",
            "La valeur de n est 0\n",
            "La valeur de n est 0\n",
            "La valeur de n est 0\n",
            "La valeur de n est 0\n",
            "La valeur de n est 0\n",
            "La valeur de n est 0\n",
            "La valeur de n est 0\n",
            "La valeur de n est 0\n",
            "La valeur de n est 0\n",
            "La valeur de n est 0\n",
            "La valeur de n est 0\n",
            "La valeur de n est 0\n",
            "La valeur de n est 0\n",
            "La valeur de n est 0\n",
            "La valeur de n est 0\n",
            "La valeur de n est 0\n",
            "La valeur de n est 0\n",
            "La valeur de n est 0\n",
            "La valeur de n est 0\n",
            "La valeur de n est 0\n",
            "La valeur de n est 0\n",
            "La valeur de n est 0\n",
            "La valeur de n est 0\n",
            "La valeur de n est 0\n",
            "La valeur de n est 0\n",
            "La valeur de n est 0\n",
            "La valeur de n est 0\n",
            "La valeur de n est 0\n",
            "La valeur de n est 0\n",
            "La valeur de n est 0\n",
            "La valeur de n est 0\n",
            "La valeur de n est 0\n",
            "La valeur de n est 0\n",
            "La valeur de n est 0\n",
            "La valeur de n est 0\n",
            "La valeur de n est 0\n",
            "La valeur de n est 0\n",
            "La valeur de n est 0\n",
            "La valeur de n est 0\n",
            "La valeur de n est 0\n",
            "La valeur de n est 0\n",
            "La valeur de n est 0\n",
            "La valeur de n est 0\n",
            "La valeur de n est 0\n",
            "La valeur de n est 0\n",
            "La valeur de n est 0\n",
            "La valeur de n est 0\n",
            "La valeur de n est 0\n",
            "La valeur de n est 0\n",
            "La valeur de n est 0\n",
            "La valeur de n est 0\n",
            "La valeur de n est 0\n",
            "La valeur de n est 0\n",
            "La valeur de n est 0\n",
            "La valeur de n est 0\n",
            "La valeur de n est 0\n",
            "La valeur de n est 0\n",
            "La valeur de n est 0\n",
            "La valeur de n est 0\n",
            "La valeur de n est 0\n",
            "La valeur de n est 0\n",
            "La valeur de n est 0\n",
            "La valeur de n est 0\n",
            "La valeur de n est 0\n",
            "La valeur de n est 0\n",
            "La valeur de n est 0\n",
            "La valeur de n est 0\n",
            "La valeur de n est 0\n",
            "La valeur de n est 0\n",
            "La valeur de n est 0\n",
            "La valeur de n est 0\n",
            "La valeur de n est 0\n",
            "La valeur de n est 0\n",
            "La valeur de n est 0\n",
            "La valeur de n est 0\n",
            "La valeur de n est 0\n",
            "La valeur de n est 0\n",
            "La valeur de n est 0\n",
            "La valeur de n est 0\n",
            "La valeur de n est 0\n",
            "La valeur de n est 0\n",
            "La valeur de n est 0\n",
            "La valeur de n est 0\n",
            "La valeur de n est 0\n",
            "La valeur de n est 0\n",
            "La valeur de n est 0\n",
            "La valeur de n est 0\n",
            "La valeur de n est 0\n",
            "La valeur de n est 0\n",
            "La valeur de n est 0\n",
            "La valeur de n est 0\n",
            "La valeur de n est 0\n",
            "La valeur de n est 0\n",
            "La valeur de n est 0\n",
            "La valeur de n est 0\n",
            "La valeur de n est 0\n",
            "La valeur de n est 0\n",
            "La valeur de n est 0\n",
            "La valeur de n est 0\n",
            "La valeur de n est 0\n",
            "La valeur de n est 0\n",
            "La valeur de n est 0\n",
            "La valeur de n est 0\n",
            "La valeur de n est 0\n",
            "La valeur de n est 0\n",
            "La valeur de n est 0\n",
            "La valeur de n est 0\n",
            "La valeur de n est 0\n",
            "La valeur de n est 0\n",
            "La valeur de n est 0\n",
            "La valeur de n est 0\n",
            "La valeur de n est 0\n",
            "La valeur de n est 0\n",
            "La valeur de n est 0\n",
            "La valeur de n est 0\n",
            "La valeur de n est 0\n",
            "La valeur de n est 0\n",
            "La valeur de n est 0\n",
            "La valeur de n est 0\n",
            "La valeur de n est 0\n",
            "La valeur de n est 0\n",
            "La valeur de n est 0\n",
            "La valeur de n est 0\n",
            "La valeur de n est 0\n",
            "La valeur de n est 0\n",
            "La valeur de n est 0\n",
            "La valeur de n est 0\n",
            "La valeur de n est 0\n",
            "La valeur de n est 0\n",
            "La valeur de n est 0\n",
            "La valeur de n est 0\n",
            "La valeur de n est 0\n",
            "La valeur de n est 0\n",
            "La valeur de n est 0\n",
            "La valeur de n est 0\n",
            "La valeur de n est 0\n",
            "La valeur de n est 0\n",
            "La valeur de n est 0\n",
            "La valeur de n est 0\n",
            "La valeur de n est 0\n",
            "La valeur de n est 0\n",
            "La valeur de n est 0\n",
            "La valeur de n est 0\n",
            "La valeur de n est 0\n",
            "La valeur de n est 0\n",
            "La valeur de n est 0\n",
            "La valeur de n est 0\n",
            "La valeur de n est 0\n",
            "La valeur de n est 0\n",
            "La valeur de n est 0\n",
            "La valeur de n est 0\n",
            "La valeur de n est 0\n",
            "La valeur de n est 0\n",
            "La valeur de n est 0\n",
            "La valeur de n est 0\n",
            "La valeur de n est 0\n",
            "La valeur de n est 0\n",
            "La valeur de n est 0\n",
            "La valeur de n est 0\n",
            "La valeur de n est 0\n",
            "La valeur de n est 0\n",
            "La valeur de n est 0\n",
            "La valeur de n est 0\n",
            "La valeur de n est 0\n",
            "La valeur de n est 0\n",
            "La valeur de n est 0\n",
            "La valeur de n est 0\n",
            "La valeur de n est 0\n",
            "La valeur de n est 0\n",
            "La valeur de n est 0\n",
            "La valeur de n est 0\n",
            "La valeur de n est 0\n",
            "La valeur de n est 0\n",
            "La valeur de n est 0\n",
            "La valeur de n est 0\n",
            "La valeur de n est 0\n",
            "La valeur de n est 0\n",
            "La valeur de n est 0\n",
            "La valeur de n est 0\n",
            "La valeur de n est 0\n",
            "La valeur de n est 0\n",
            "La valeur de n est 0\n",
            "La valeur de n est 0\n",
            "La valeur de n est 0\n",
            "La valeur de n est 0\n",
            "La valeur de n est 0\n",
            "La valeur de n est 0\n",
            "La valeur de n est 0\n",
            "La valeur de n est 0\n",
            "La valeur de n est 0\n",
            "La valeur de n est 0\n",
            "La valeur de n est 0\n",
            "La valeur de n est 0\n",
            "La valeur de n est 0\n",
            "La valeur de n est 0\n",
            "La valeur de n est 0\n",
            "La valeur de n est 0\n",
            "La valeur de n est 0\n",
            "La valeur de n est 0\n",
            "La valeur de n est 0\n",
            "La valeur de n est 0\n",
            "La valeur de n est 0\n",
            "La valeur de n est 0\n",
            "La valeur de n est 0\n",
            "La valeur de n est 0\n",
            "La valeur de n est 0\n",
            "La valeur de n est 0\n",
            "La valeur de n est 0\n",
            "La valeur de n est 0\n",
            "La valeur de n est 0\n",
            "La valeur de n est 0\n",
            "La valeur de n est 0\n",
            "La valeur de n est 0\n",
            "La valeur de n est 0\n",
            "La valeur de n est 0\n",
            "La valeur de n est 0\n",
            "La valeur de n est 0\n",
            "La valeur de n est 0\n",
            "La valeur de n est 0\n",
            "La valeur de n est 0\n",
            "La valeur de n est 0\n",
            "La valeur de n est 0\n",
            "La valeur de n est 0\n",
            "La valeur de n est 0\n",
            "La valeur de n est 0\n",
            "La valeur de n est 0\n",
            "La valeur de n est 0\n",
            "La valeur de n est 0\n",
            "La valeur de n est 0\n",
            "La valeur de n est 0\n",
            "La valeur de n est 0\n",
            "La valeur de n est 0\n",
            "La valeur de n est 0\n",
            "La valeur de n est 0\n",
            "La valeur de n est 0\n",
            "La valeur de n est 0\n",
            "La valeur de n est 0\n",
            "La valeur de n est 0\n",
            "La valeur de n est 0\n",
            "La valeur de n est 0\n",
            "La valeur de n est 0\n",
            "La valeur de n est 0\n",
            "La valeur de n est 0\n",
            "La valeur de n est 0\n",
            "La valeur de n est 0\n",
            "La valeur de n est 0\n",
            "La valeur de n est 0\n",
            "La valeur de n est 0\n",
            "La valeur de n est 0\n",
            "La valeur de n est 0\n",
            "La valeur de n est 0\n",
            "La valeur de n est 0\n",
            "La valeur de n est 0\n",
            "La valeur de n est 0\n",
            "La valeur de n est 0\n",
            "La valeur de n est 0\n",
            "La valeur de n est 0\n",
            "La valeur de n est 0\n",
            "La valeur de n est 0\n",
            "La valeur de n est 0\n",
            "La valeur de n est 0\n",
            "La valeur de n est 0\n",
            "La valeur de n est 0\n",
            "La valeur de n est 0\n",
            "La valeur de n est 0\n",
            "La valeur de n est 0\n",
            "La valeur de n est 0\n",
            "La valeur de n est 0\n",
            "La valeur de n est 0\n",
            "La valeur de n est 0\n",
            "La valeur de n est 0\n",
            "La valeur de n est 0\n",
            "La valeur de n est 0\n",
            "La valeur de n est 0\n",
            "La valeur de n est 0\n",
            "La valeur de n est 0\n",
            "La valeur de n est 0\n",
            "La valeur de n est 0\n",
            "La valeur de n est 0\n",
            "La valeur de n est 0\n",
            "La valeur de n est 0\n",
            "La valeur de n est 0\n",
            "La valeur de n est 0\n",
            "La valeur de n est 0\n",
            "La valeur de n est 0\n",
            "La valeur de n est 0\n",
            "La valeur de n est 0\n",
            "La valeur de n est 0\n",
            "La valeur de n est 0\n",
            "La valeur de n est 0\n",
            "La valeur de n est 0\n",
            "La valeur de n est 0\n",
            "La valeur de n est 0\n",
            "La valeur de n est 0\n",
            "La valeur de n est 0\n",
            "La valeur de n est 0\n",
            "La valeur de n est 0\n",
            "La valeur de n est 0\n",
            "La valeur de n est 0\n",
            "La valeur de n est 0\n",
            "La valeur de n est 0\n",
            "La valeur de n est 0\n",
            "La valeur de n est 0\n",
            "La valeur de n est 0\n",
            "La valeur de n est 0\n",
            "La valeur de n est 0\n",
            "La valeur de n est 0\n",
            "La valeur de n est 0\n",
            "La valeur de n est 0\n",
            "La valeur de n est 0\n",
            "La valeur de n est 0\n",
            "La valeur de n est 0\n",
            "La valeur de n est 0\n",
            "La valeur de n est 0\n",
            "La valeur de n est 0\n",
            "La valeur de n est 0\n",
            "La valeur de n est 0\n",
            "La valeur de n est 0\n",
            "La valeur de n est 0\n",
            "La valeur de n est 0\n",
            "La valeur de n est 0\n",
            "La valeur de n est 0\n",
            "La valeur de n est 0\n",
            "La valeur de n est 0\n",
            "La valeur de n est 0\n",
            "La valeur de n est 0\n",
            "La valeur de n est 0\n",
            "La valeur de n est 0\n",
            "La valeur de n est 0\n",
            "La valeur de n est 0\n",
            "La valeur de n est 0\n",
            "La valeur de n est 0\n",
            "La valeur de n est 0\n",
            "La valeur de n est 0\n",
            "La valeur de n est 0\n",
            "La valeur de n est 0\n",
            "La valeur de n est 0\n",
            "La valeur de n est 0\n",
            "La valeur de n est 0\n",
            "La valeur de n est 0\n",
            "La valeur de n est 0\n",
            "La valeur de n est 0\n",
            "La valeur de n est 0\n",
            "La valeur de n est 0\n",
            "La valeur de n est 0\n",
            "La valeur de n est 0\n",
            "La valeur de n est 0\n",
            "La valeur de n est 0\n",
            "La valeur de n est 0\n",
            "La valeur de n est 0\n",
            "La valeur de n est 0\n",
            "La valeur de n est 0\n",
            "La valeur de n est 0\n",
            "La valeur de n est 0\n",
            "La valeur de n est 0\n",
            "La valeur de n est 0\n",
            "La valeur de n est 0\n",
            "La valeur de n est 0\n",
            "La valeur de n est 0\n",
            "La valeur de n est 0\n",
            "La valeur de n est 0\n",
            "La valeur de n est 0\n",
            "La valeur de n est 0\n",
            "La valeur de n est 0\n",
            "La valeur de n est 0\n",
            "La valeur de n est 0\n",
            "La valeur de n est 0\n",
            "La valeur de n est 0\n",
            "La valeur de n est 0\n",
            "La valeur de n est 0\n",
            "La valeur de n est 0\n",
            "La valeur de n est 0\n",
            "La valeur de n est 0\n",
            "La valeur de n est 0\n",
            "La valeur de n est 0\n",
            "La valeur de n est 0\n",
            "La valeur de n est 0\n",
            "La valeur de n est 0\n",
            "La valeur de n est 0\n",
            "La valeur de n est 0\n",
            "La valeur de n est 0\n",
            "La valeur de n est 0\n",
            "La valeur de n est 0\n",
            "La valeur de n est 0\n",
            "La valeur de n est 0\n",
            "La valeur de n est 0\n",
            "La valeur de n est 0\n",
            "La valeur de n est 0\n",
            "La valeur de n est 0\n",
            "La valeur de n est 0\n",
            "La valeur de n est 0\n",
            "La valeur de n est 0\n",
            "La valeur de n est 0\n",
            "La valeur de n est 0\n",
            "La valeur de n est 0\n",
            "La valeur de n est 0\n",
            "La valeur de n est 0\n",
            "La valeur de n est 0\n",
            "La valeur de n est 0\n",
            "La valeur de n est 0\n",
            "La valeur de n est 0\n",
            "La valeur de n est 0\n",
            "La valeur de n est 0\n",
            "La valeur de n est 0\n",
            "La valeur de n est 0\n",
            "La valeur de n est 0\n",
            "La valeur de n est 0\n",
            "La valeur de n est 0\n",
            "La valeur de n est 0\n",
            "La valeur de n est 0\n",
            "La valeur de n est 0\n",
            "La valeur de n est 0\n",
            "La valeur de n est 0\n",
            "La valeur de n est 0\n",
            "La valeur de n est 0\n",
            "La valeur de n est 0\n",
            "La valeur de n est 0\n",
            "La valeur de n est 0\n",
            "La valeur de n est 0\n",
            "La valeur de n est 0\n",
            "La valeur de n est 0\n",
            "La valeur de n est 0\n",
            "La valeur de n est 0\n",
            "La valeur de n est 0\n",
            "La valeur de n est 0\n",
            "La valeur de n est 0\n",
            "La valeur de n est 0\n",
            "La valeur de n est 0\n",
            "La valeur de n est 0\n",
            "La valeur de n est 0\n",
            "La valeur de n est 0\n",
            "La valeur de n est 0\n",
            "La valeur de n est 0\n",
            "La valeur de n est 0\n",
            "La valeur de n est 0\n",
            "La valeur de n est 0\n",
            "La valeur de n est 0\n",
            "La valeur de n est 0\n",
            "La valeur de n est 0\n",
            "La valeur de n est 0\n",
            "La valeur de n est 0\n",
            "La valeur de n est 0\n",
            "La valeur de n est 0\n",
            "La valeur de n est 0\n",
            "La valeur de n est 0\n",
            "La valeur de n est 0\n",
            "La valeur de n est 0\n",
            "La valeur de n est 0\n",
            "La valeur de n est 0\n",
            "La valeur de n est 0\n",
            "La valeur de n est 0\n",
            "La valeur de n est 0\n",
            "La valeur de n est 0\n",
            "La valeur de n est 0\n",
            "La valeur de n est 0\n",
            "La valeur de n est 0\n",
            "La valeur de n est 0\n",
            "La valeur de n est 0\n",
            "La valeur de n est 0\n",
            "La valeur de n est 0\n",
            "La valeur de n est 0\n",
            "La valeur de n est 0\n",
            "La valeur de n est 0\n",
            "La valeur de n est 0\n",
            "La valeur de n est 0\n",
            "La valeur de n est 0\n",
            "La valeur de n est 0\n",
            "La valeur de n est 0\n",
            "La valeur de n est 0\n",
            "La valeur de n est 0\n",
            "La valeur de n est 0\n",
            "La valeur de n est 0\n",
            "La valeur de n est 0\n",
            "La valeur de n est 0\n",
            "La valeur de n est 0\n",
            "La valeur de n est 0\n",
            "La valeur de n est 0\n",
            "La valeur de n est 0\n",
            "La valeur de n est 0\n",
            "La valeur de n est 0\n",
            "La valeur de n est 0\n",
            "La valeur de n est 0\n",
            "La valeur de n est 0\n",
            "La valeur de n est 0\n",
            "La valeur de n est 0\n",
            "La valeur de n est 0\n",
            "La valeur de n est 0\n",
            "La valeur de n est 0\n",
            "La valeur de n est 0\n",
            "La valeur de n est 0\n",
            "La valeur de n est 0\n",
            "La valeur de n est 0\n",
            "La valeur de n est 0\n",
            "La valeur de n est 0\n",
            "La valeur de n est 0\n",
            "La valeur de n est 0\n",
            "La valeur de n est 0\n",
            "La valeur de n est 0\n",
            "La valeur de n est 0\n",
            "La valeur de n est 0\n",
            "La valeur de n est 0\n",
            "La valeur de n est 0\n",
            "La valeur de n est 0\n",
            "La valeur de n est 0\n",
            "La valeur de n est 0\n",
            "La valeur de n est 0\n",
            "La valeur de n est 0\n",
            "La valeur de n est 0\n",
            "La valeur de n est 0\n",
            "La valeur de n est 0\n",
            "La valeur de n est 0\n",
            "La valeur de n est 0\n",
            "La valeur de n est 0\n",
            "La valeur de n est 0\n",
            "La valeur de n est 0\n",
            "La valeur de n est 0\n",
            "La valeur de n est 0\n",
            "La valeur de n est 0\n",
            "La valeur de n est 0\n",
            "La valeur de n est 0\n",
            "La valeur de n est 0\n",
            "La valeur de n est 0\n",
            "La valeur de n est 0\n",
            "La valeur de n est 0\n",
            "La valeur de n est 0\n",
            "La valeur de n est 0\n",
            "La valeur de n est 0\n",
            "La valeur de n est 0\n",
            "La valeur de n est 0\n",
            "La valeur de n est 0\n",
            "La valeur de n est 0\n",
            "La valeur de n est 0\n",
            "La valeur de n est 0\n",
            "La valeur de n est 0\n",
            "La valeur de n est 0\n",
            "La valeur de n est 0\n",
            "La valeur de n est 0\n",
            "La valeur de n est 0\n",
            "La valeur de n est 0\n",
            "La valeur de n est 0\n",
            "La valeur de n est 0\n",
            "La valeur de n est 0\n",
            "La valeur de n est 0\n",
            "La valeur de n est 0\n",
            "La valeur de n est 0\n",
            "La valeur de n est 0\n",
            "La valeur de n est 0\n",
            "La valeur de n est 0\n",
            "La valeur de n est 0\n",
            "La valeur de n est 0\n",
            "La valeur de n est 0\n",
            "La valeur de n est 0\n",
            "La valeur de n est 0\n",
            "La valeur de n est 0\n",
            "La valeur de n est 0\n",
            "La valeur de n est 0\n",
            "La valeur de n est 0\n",
            "La valeur de n est 0\n",
            "La valeur de n est 0\n",
            "La valeur de n est 0\n",
            "La valeur de n est 0\n",
            "La valeur de n est 0\n",
            "La valeur de n est 0\n",
            "La valeur de n est 0\n",
            "La valeur de n est 0\n",
            "La valeur de n est 0\n",
            "La valeur de n est 0\n",
            "La valeur de n est 0\n",
            "La valeur de n est 0\n",
            "La valeur de n est 0\n",
            "La valeur de n est 0\n",
            "La valeur de n est 0\n",
            "La valeur de n est 0\n",
            "La valeur de n est 0\n",
            "La valeur de n est 0\n",
            "La valeur de n est 0\n",
            "La valeur de n est 0\n",
            "La valeur de n est 0\n",
            "La valeur de n est 0\n",
            "La valeur de n est 0\n",
            "La valeur de n est 0\n",
            "La valeur de n est 0\n",
            "La valeur de n est 0\n",
            "La valeur de n est 0\n",
            "La valeur de n est 0\n",
            "La valeur de n est 0\n",
            "La valeur de n est 0\n",
            "La valeur de n est 0\n",
            "La valeur de n est 0\n",
            "La valeur de n est 0\n",
            "La valeur de n est 0\n",
            "La valeur de n est 0\n",
            "La valeur de n est 0\n",
            "La valeur de n est 0\n",
            "La valeur de n est 0\n",
            "La valeur de n est 0\n",
            "La valeur de n est 0\n",
            "La valeur de n est 0\n",
            "La valeur de n est 0\n",
            "La valeur de n est 0\n",
            "La valeur de n est 0\n",
            "La valeur de n est 0\n",
            "La valeur de n est 0\n",
            "La valeur de n est 0\n",
            "La valeur de n est 0\n",
            "La valeur de n est 0\n",
            "La valeur de n est 0\n",
            "La valeur de n est 0\n",
            "La valeur de n est 0\n",
            "La valeur de n est 0\n",
            "La valeur de n est 0\n",
            "La valeur de n est 0\n",
            "La valeur de n est 0\n",
            "La valeur de n est 0\n",
            "La valeur de n est 0\n",
            "La valeur de n est 0\n",
            "La valeur de n est 0\n",
            "La valeur de n est 0\n",
            "La valeur de n est 0\n",
            "La valeur de n est 0\n",
            "La valeur de n est 0\n",
            "La valeur de n est 0\n",
            "La valeur de n est 0\n",
            "La valeur de n est 0\n",
            "La valeur de n est 0\n",
            "La valeur de n est 0\n",
            "La valeur de n est 0\n",
            "La valeur de n est 0\n",
            "La valeur de n est 0\n",
            "La valeur de n est 0\n",
            "La valeur de n est 0\n",
            "La valeur de n est 0\n",
            "La valeur de n est 0\n",
            "La valeur de n est 0\n",
            "La valeur de n est 0\n",
            "La valeur de n est 0\n",
            "La valeur de n est 0\n",
            "La valeur de n est 0\n",
            "La valeur de n est 0\n",
            "La valeur de n est 0\n",
            "La valeur de n est 0\n",
            "La valeur de n est 0\n",
            "La valeur de n est 0\n",
            "La valeur de n est 0\n",
            "La valeur de n est 0\n",
            "La valeur de n est 0\n",
            "La valeur de n est 0\n",
            "La valeur de n est 0\n",
            "La valeur de n est 0\n",
            "La valeur de n est 0\n",
            "La valeur de n est 0\n",
            "La valeur de n est 0\n",
            "La valeur de n est 0\n",
            "La valeur de n est 0\n",
            "La valeur de n est 0\n",
            "La valeur de n est 0\n",
            "La valeur de n est 0\n",
            "La valeur de n est 0\n",
            "La valeur de n est 0\n",
            "La valeur de n est 0\n",
            "La valeur de n est 0\n",
            "La valeur de n est 0\n",
            "La valeur de n est 0\n",
            "La valeur de n est 0\n",
            "La valeur de n est 0\n",
            "La valeur de n est 0\n",
            "La valeur de n est 0\n",
            "La valeur de n est 0\n",
            "La valeur de n est 0\n",
            "La valeur de n est 0\n",
            "La valeur de n est 0\n",
            "La valeur de n est 0\n",
            "La valeur de n est 0\n",
            "La valeur de n est 0\n",
            "La valeur de n est 0\n",
            "La valeur de n est 0\n",
            "La valeur de n est 0\n",
            "La valeur de n est 0\n",
            "La valeur de n est 0\n",
            "La valeur de n est 0\n",
            "La valeur de n est 0\n",
            "La valeur de n est 0\n",
            "La valeur de n est 0\n",
            "La valeur de n est 0\n",
            "La valeur de n est 0\n",
            "La valeur de n est 0\n",
            "La valeur de n est 0\n",
            "La valeur de n est 0\n",
            "La valeur de n est 0\n",
            "La valeur de n est 0\n",
            "La valeur de n est 0\n",
            "La valeur de n est 0\n",
            "La valeur de n est 0\n",
            "La valeur de n est 0\n",
            "La valeur de n est 0\n",
            "La valeur de n est 0\n",
            "La valeur de n est 0\n",
            "La valeur de n est 0\n",
            "La valeur de n est 0\n",
            "La valeur de n est 0\n",
            "La valeur de n est 0\n",
            "La valeur de n est 0\n",
            "La valeur de n est 0\n",
            "La valeur de n est 0\n",
            "La valeur de n est 0\n",
            "La valeur de n est 0\n",
            "La valeur de n est 0\n",
            "La valeur de n est 0\n",
            "La valeur de n est 0\n",
            "La valeur de n est 0\n",
            "La valeur de n est 0\n",
            "La valeur de n est 0\n",
            "La valeur de n est 0\n",
            "La valeur de n est 0\n",
            "La valeur de n est 0\n",
            "La valeur de n est 0\n",
            "La valeur de n est 0\n",
            "La valeur de n est 0\n",
            "La valeur de n est 0\n",
            "La valeur de n est 0\n",
            "La valeur de n est 0\n",
            "La valeur de n est 0\n",
            "La valeur de n est 0\n",
            "La valeur de n est 0\n",
            "La valeur de n est 0\n",
            "La valeur de n est 0\n",
            "La valeur de n est 0\n",
            "La valeur de n est 0\n",
            "La valeur de n est 0\n",
            "La valeur de n est 0\n",
            "La valeur de n est 0\n",
            "La valeur de n est 0\n",
            "La valeur de n est 0\n",
            "La valeur de n est 0\n",
            "La valeur de n est 0\n",
            "La valeur de n est 0\n",
            "La valeur de n est 0\n",
            "La valeur de n est 0\n",
            "La valeur de n est 0\n",
            "La valeur de n est 0\n",
            "La valeur de n est 0\n",
            "La valeur de n est 0\n",
            "La valeur de n est 0\n",
            "La valeur de n est 0\n",
            "La valeur de n est 0\n",
            "La valeur de n est 0\n",
            "La valeur de n est 0\n",
            "La valeur de n est 0\n",
            "La valeur de n est 0\n",
            "La valeur de n est 0\n",
            "La valeur de n est 0\n",
            "La valeur de n est 0\n",
            "La valeur de n est 0\n",
            "La valeur de n est 0\n",
            "La valeur de n est 0\n",
            "La valeur de n est 0\n",
            "La valeur de n est 0\n",
            "La valeur de n est 0\n",
            "La valeur de n est 0\n",
            "La valeur de n est 0\n",
            "La valeur de n est 0\n",
            "La valeur de n est 0\n",
            "La valeur de n est 0\n",
            "La valeur de n est 0\n",
            "La valeur de n est 0\n",
            "La valeur de n est 0\n",
            "La valeur de n est 0\n",
            "La valeur de n est 0\n",
            "La valeur de n est 0\n",
            "La valeur de n est 0\n",
            "La valeur de n est 0\n",
            "La valeur de n est 0\n",
            "La valeur de n est 0\n",
            "La valeur de n est 0\n",
            "La valeur de n est 0\n",
            "La valeur de n est 0\n",
            "La valeur de n est 0\n",
            "La valeur de n est 0\n",
            "La valeur de n est 0\n",
            "La valeur de n est 0\n",
            "La valeur de n est 0\n",
            "La valeur de n est 0\n",
            "La valeur de n est 0\n",
            "La valeur de n est 0\n",
            "La valeur de n est 0\n",
            "La valeur de n est 0\n",
            "La valeur de n est 0\n",
            "La valeur de n est 0\n",
            "La valeur de n est 0\n",
            "La valeur de n est 0\n",
            "La valeur de n est 0\n",
            "La valeur de n est 0\n",
            "La valeur de n est 0\n",
            "La valeur de n est 0\n",
            "La valeur de n est 0\n",
            "La valeur de n est 0\n",
            "La valeur de n est 0\n",
            "La valeur de n est 0\n",
            "La valeur de n est 0\n",
            "La valeur de n est 0\n",
            "La valeur de n est 0\n",
            "La valeur de n est 0\n",
            "La valeur de n est 0\n",
            "La valeur de n est 0\n",
            "La valeur de n est 0\n",
            "La valeur de n est 0\n",
            "La valeur de n est 0\n",
            "La valeur de n est 0\n",
            "La valeur de n est 0\n",
            "La valeur de n est 0\n",
            "La valeur de n est 0\n",
            "La valeur de n est 0\n",
            "La valeur de n est 0\n",
            "La valeur de n est 0\n",
            "La valeur de n est 0\n",
            "La valeur de n est 0\n",
            "La valeur de n est 0\n",
            "La valeur de n est 0\n",
            "La valeur de n est 0\n",
            "La valeur de n est 0\n",
            "La valeur de n est 0\n",
            "La valeur de n est 0\n",
            "La valeur de n est 0\n",
            "La valeur de n est 0\n",
            "La valeur de n est 0\n",
            "La valeur de n est 0\n",
            "La valeur de n est 0\n",
            "La valeur de n est 0\n",
            "La valeur de n est 0\n",
            "La valeur de n est 0\n",
            "La valeur de n est 0\n",
            "La valeur de n est 0\n",
            "La valeur de n est 0\n",
            "La valeur de n est 0\n",
            "La valeur de n est 0\n",
            "La valeur de n est 0\n",
            "La valeur de n est 0\n",
            "La valeur de n est 0\n",
            "La valeur de n est 0\n",
            "La valeur de n est 0\n",
            "La valeur de n est 0\n",
            "La valeur de n est 0\n",
            "La valeur de n est 0\n",
            "La valeur de n est 0\n",
            "La valeur de n est 0\n",
            "La valeur de n est 0\n",
            "La valeur de n est 0\n",
            "La valeur de n est 0\n",
            "La valeur de n est 0\n",
            "La valeur de n est 0\n",
            "La valeur de n est 0\n",
            "La valeur de n est 0\n",
            "La valeur de n est 0\n",
            "La valeur de n est 0\n",
            "La valeur de n est 0\n",
            "La valeur de n est 0\n",
            "La valeur de n est 0\n",
            "La valeur de n est 0\n",
            "La valeur de n est 0\n",
            "La valeur de n est 0\n",
            "La valeur de n est 0\n",
            "La valeur de n est 0\n",
            "La valeur de n est 0\n",
            "La valeur de n est 0\n",
            "La valeur de n est 0\n",
            "La valeur de n est 0\n",
            "La valeur de n est 0\n",
            "La valeur de n est 0\n",
            "La valeur de n est 0\n",
            "La valeur de n est 0\n",
            "La valeur de n est 0\n",
            "La valeur de n est 0\n",
            "La valeur de n est 0\n",
            "La valeur de n est 0\n",
            "La valeur de n est 0\n",
            "La valeur de n est 0\n",
            "La valeur de n est 0\n",
            "La valeur de n est 0\n",
            "La valeur de n est 0\n",
            "La valeur de n est 0\n",
            "La valeur de n est 0\n",
            "La valeur de n est 0\n",
            "La valeur de n est 0\n",
            "La valeur de n est 0\n",
            "La valeur de n est 0\n",
            "La valeur de n est 0\n",
            "La valeur de n est 0\n",
            "La valeur de n est 0\n",
            "La valeur de n est 0\n",
            "La valeur de n est 0\n",
            "La valeur de n est 0\n",
            "La valeur de n est 0\n",
            "La valeur de n est 0\n",
            "La valeur de n est 0\n",
            "La valeur de n est 0\n",
            "La valeur de n est 0\n",
            "La valeur de n est 0\n",
            "La valeur de n est 0\n",
            "La valeur de n est 0\n",
            "La valeur de n est 0\n",
            "La valeur de n est 0\n",
            "La valeur de n est 0\n",
            "La valeur de n est 0\n",
            "La valeur de n est 0\n",
            "La valeur de n est 0\n",
            "La valeur de n est 0\n",
            "La valeur de n est 0\n",
            "La valeur de n est 0\n",
            "La valeur de n est 0\n",
            "La valeur de n est 0\n",
            "La valeur de n est 0\n",
            "La valeur de n est 0\n",
            "La valeur de n est 0\n",
            "La valeur de n est 0\n",
            "La valeur de n est 0\n",
            "La valeur de n est 0\n",
            "La valeur de n est 0\n",
            "La valeur de n est 0\n",
            "La valeur de n est 0\n",
            "La valeur de n est 0\n",
            "La valeur de n est 0\n",
            "La valeur de n est 0\n",
            "La valeur de n est 0\n",
            "La valeur de n est 0\n",
            "La valeur de n est 0\n",
            "La valeur de n est 0\n",
            "La valeur de n est 0\n",
            "La valeur de n est 0\n",
            "La valeur de n est 0\n",
            "La valeur de n est 0\n",
            "La valeur de n est 0\n",
            "La valeur de n est 0\n",
            "La valeur de n est 0\n",
            "La valeur de n est 0\n",
            "La valeur de n est 0\n",
            "La valeur de n est 0\n",
            "La valeur de n est 0\n",
            "La valeur de n est 0\n",
            "La valeur de n est 0\n",
            "La valeur de n est 0\n",
            "La valeur de n est 0\n",
            "La valeur de n est 0\n",
            "La valeur de n est 0\n",
            "La valeur de n est 0\n",
            "La valeur de n est 0\n",
            "La valeur de n est 0\n",
            "La valeur de n est 0\n",
            "La valeur de n est 0\n",
            "La valeur de n est 0\n",
            "La valeur de n est 0\n",
            "La valeur de n est 0\n",
            "La valeur de n est 0\n",
            "La valeur de n est 0\n",
            "La valeur de n est 0\n",
            "La valeur de n est 0\n",
            "La valeur de n est 0\n",
            "La valeur de n est 0\n",
            "La valeur de n est 0\n",
            "La valeur de n est 0\n",
            "La valeur de n est 0\n",
            "La valeur de n est 0\n",
            "La valeur de n est 0\n",
            "La valeur de n est 0\n",
            "La valeur de n est 0\n",
            "La valeur de n est 0\n",
            "La valeur de n est 0\n",
            "La valeur de n est 0\n",
            "La valeur de n est 0\n",
            "La valeur de n est 0\n",
            "La valeur de n est 0\n",
            "La valeur de n est 0\n",
            "La valeur de n est 0\n",
            "La valeur de n est 0\n",
            "La valeur de n est 0\n",
            "La valeur de n est 0\n",
            "La valeur de n est 0\n",
            "La valeur de n est 0\n",
            "La valeur de n est 0\n",
            "La valeur de n est 0\n",
            "La valeur de n est 0\n",
            "La valeur de n est 0\n",
            "La valeur de n est 0\n",
            "La valeur de n est 0\n",
            "La valeur de n est 0\n",
            "La valeur de n est 0\n",
            "La valeur de n est 0\n",
            "La valeur de n est 0\n",
            "La valeur de n est 0\n",
            "La valeur de n est 0\n",
            "La valeur de n est 0\n",
            "La valeur de n est 0\n",
            "La valeur de n est 0\n",
            "La valeur de n est 0\n",
            "La valeur de n est 0\n",
            "La valeur de n est 0\n",
            "La valeur de n est 0\n",
            "La valeur de n est 0\n",
            "La valeur de n est 0\n",
            "La valeur de n est 0\n",
            "La valeur de n est 0\n",
            "La valeur de n est 0\n",
            "La valeur de n est 0\n",
            "La valeur de n est 0\n",
            "La valeur de n est 0\n",
            "La valeur de n est 0\n",
            "La valeur de n est 0\n",
            "La valeur de n est 0\n",
            "La valeur de n est 0\n",
            "La valeur de n est 0\n",
            "La valeur de n est 0\n",
            "La valeur de n est 0\n",
            "La valeur de n est 0\n",
            "La valeur de n est 0\n",
            "La valeur de n est 0\n",
            "La valeur de n est 0\n",
            "La valeur de n est 0\n",
            "La valeur de n est 0\n",
            "La valeur de n est 0\n",
            "La valeur de n est 0\n",
            "La valeur de n est 0\n",
            "La valeur de n est 0\n",
            "La valeur de n est 0\n",
            "La valeur de n est 0\n",
            "La valeur de n est 0\n",
            "La valeur de n est 0\n",
            "La valeur de n est 0\n",
            "La valeur de n est 0\n",
            "La valeur de n est 0\n",
            "La valeur de n est 0\n",
            "La valeur de n est 0\n",
            "La valeur de n est 0\n",
            "La valeur de n est 0\n",
            "La valeur de n est 0\n",
            "La valeur de n est 0\n",
            "La valeur de n est 0\n",
            "La valeur de n est 0\n",
            "La valeur de n est 0\n",
            "La valeur de n est 0\n",
            "La valeur de n est 0\n",
            "La valeur de n est 0\n",
            "La valeur de n est 0\n",
            "La valeur de n est 0\n",
            "La valeur de n est 0\n",
            "La valeur de n est 0\n",
            "La valeur de n est 0\n",
            "La valeur de n est 0\n",
            "La valeur de n est 0\n",
            "La valeur de n est 0\n",
            "La valeur de n est 0\n",
            "La valeur de n est 0\n",
            "La valeur de n est 0\n",
            "La valeur de n est 0\n",
            "La valeur de n est 0\n",
            "La valeur de n est 0\n",
            "La valeur de n est 0\n",
            "La valeur de n est 0\n",
            "La valeur de n est 0\n",
            "La valeur de n est 0\n",
            "La valeur de n est 0\n",
            "La valeur de n est 0\n",
            "La valeur de n est 0\n",
            "La valeur de n est 0\n",
            "La valeur de n est 0\n",
            "La valeur de n est 0\n",
            "La valeur de n est 0\n",
            "La valeur de n est 0\n",
            "La valeur de n est 0\n",
            "La valeur de n est 0\n",
            "La valeur de n est 0\n",
            "La valeur de n est 0\n",
            "La valeur de n est 0\n",
            "La valeur de n est 0\n",
            "La valeur de n est 0\n",
            "La valeur de n est 0\n",
            "La valeur de n est 0\n",
            "La valeur de n est 0\n",
            "La valeur de n est 0\n",
            "La valeur de n est 0\n",
            "La valeur de n est 0\n",
            "La valeur de n est 0\n",
            "La valeur de n est 0\n",
            "La valeur de n est 0\n",
            "La valeur de n est 0\n",
            "La valeur de n est 0\n",
            "La valeur de n est 0\n",
            "La valeur de n est 0\n",
            "La valeur de n est 0\n",
            "La valeur de n est 0\n",
            "La valeur de n est 0\n",
            "La valeur de n est 0\n",
            "La valeur de n est 0\n",
            "La valeur de n est 0\n",
            "La valeur de n est 0\n",
            "La valeur de n est 0\n",
            "La valeur de n est 0\n",
            "La valeur de n est 0\n",
            "La valeur de n est 0\n",
            "La valeur de n est 0\n",
            "La valeur de n est 0\n",
            "La valeur de n est 0\n",
            "La valeur de n est 0\n",
            "La valeur de n est 0\n",
            "La valeur de n est 0\n",
            "La valeur de n est 0\n",
            "La valeur de n est 0\n",
            "La valeur de n est 0\n",
            "La valeur de n est 0\n",
            "La valeur de n est 0\n",
            "La valeur de n est 0\n",
            "La valeur de n est 0\n",
            "La valeur de n est 0\n",
            "La valeur de n est 0\n",
            "La valeur de n est 0\n",
            "La valeur de n est 0\n",
            "La valeur de n est 0\n",
            "La valeur de n est 0\n",
            "La valeur de n est 0\n",
            "La valeur de n est 0\n",
            "La valeur de n est 0\n",
            "La valeur de n est 0\n",
            "La valeur de n est 0\n",
            "La valeur de n est 0\n",
            "La valeur de n est 0\n",
            "La valeur de n est 0\n",
            "La valeur de n est 0\n",
            "La valeur de n est 0\n",
            "La valeur de n est 0\n",
            "La valeur de n est 0\n",
            "La valeur de n est 0\n",
            "La valeur de n est 0\n",
            "La valeur de n est 0\n",
            "La valeur de n est 0\n",
            "La valeur de n est 0\n",
            "La valeur de n est 0\n",
            "La valeur de n est 0\n",
            "La valeur de n est 0\n",
            "La valeur de n est 0\n",
            "La valeur de n est 0\n",
            "La valeur de n est 0\n",
            "La valeur de n est 0\n",
            "La valeur de n est 0\n",
            "La valeur de n est 0\n",
            "La valeur de n est 0\n",
            "La valeur de n est 0\n",
            "La valeur de n est 0\n",
            "La valeur de n est 0\n",
            "La valeur de n est 0\n",
            "La valeur de n est 0\n",
            "La valeur de n est 0\n",
            "La valeur de n est 0\n",
            "La valeur de n est 0\n",
            "La valeur de n est 0\n",
            "La valeur de n est 0\n",
            "La valeur de n est 0\n",
            "La valeur de n est 0\n",
            "La valeur de n est 0\n",
            "La valeur de n est 0\n",
            "La valeur de n est 0\n",
            "La valeur de n est 0\n",
            "La valeur de n est 0\n",
            "La valeur de n est 0\n",
            "La valeur de n est 0\n",
            "La valeur de n est 0\n",
            "La valeur de n est 0\n",
            "La valeur de n est 0\n",
            "La valeur de n est 0\n",
            "La valeur de n est 0\n",
            "La valeur de n est 0\n",
            "La valeur de n est 0\n",
            "La valeur de n est 0\n",
            "La valeur de n est 0\n",
            "La valeur de n est 0\n",
            "La valeur de n est 0\n",
            "La valeur de n est 0\n",
            "La valeur de n est 0\n",
            "La valeur de n est 0\n",
            "La valeur de n est 0\n",
            "La valeur de n est 0\n",
            "La valeur de n est 0\n",
            "La valeur de n est 0\n",
            "La valeur de n est 0\n",
            "La valeur de n est 0\n",
            "La valeur de n est 0\n",
            "La valeur de n est 0\n",
            "La valeur de n est 0\n",
            "La valeur de n est 0\n",
            "La valeur de n est 0\n",
            "La valeur de n est 0\n",
            "La valeur de n est 0\n",
            "La valeur de n est 0\n",
            "La valeur de n est 0\n",
            "La valeur de n est 0\n",
            "La valeur de n est 0\n",
            "La valeur de n est 0\n",
            "La valeur de n est 0\n",
            "La valeur de n est 0\n",
            "La valeur de n est 0\n",
            "La valeur de n est 0\n",
            "La valeur de n est 0\n",
            "La valeur de n est 0\n",
            "La valeur de n est 0\n",
            "La valeur de n est 0\n",
            "La valeur de n est 0\n",
            "La valeur de n est 0\n",
            "La valeur de n est 0\n",
            "La valeur de n est 0\n",
            "La valeur de n est 0\n",
            "La valeur de n est 0\n",
            "La valeur de n est 0\n",
            "La valeur de n est 0\n",
            "La valeur de n est 0\n",
            "La valeur de n est 0\n",
            "La valeur de n est 0\n",
            "La valeur de n est 0\n",
            "La valeur de n est 0\n",
            "La valeur de n est 0\n",
            "La valeur de n est 0\n",
            "La valeur de n est 0\n",
            "La valeur de n est 0\n",
            "La valeur de n est 0\n",
            "La valeur de n est 0\n",
            "La valeur de n est 0\n",
            "La valeur de n est 0\n",
            "La valeur de n est 0\n",
            "La valeur de n est 0\n",
            "La valeur de n est 0\n",
            "La valeur de n est 0\n",
            "La valeur de n est 0\n",
            "La valeur de n est 0\n",
            "La valeur de n est 0\n",
            "La valeur de n est 0\n",
            "La valeur de n est 0\n",
            "La valeur de n est 0\n",
            "La valeur de n est 0\n",
            "La valeur de n est 0\n",
            "La valeur de n est 0\n",
            "La valeur de n est 0\n",
            "La valeur de n est 0\n",
            "La valeur de n est 0\n",
            "La valeur de n est 0\n",
            "La valeur de n est 0\n",
            "La valeur de n est 0\n",
            "La valeur de n est 0\n",
            "La valeur de n est 0\n",
            "La valeur de n est 0\n",
            "La valeur de n est 0\n",
            "La valeur de n est 0\n",
            "La valeur de n est 0\n",
            "La valeur de n est 0\n",
            "La valeur de n est 0\n",
            "La valeur de n est 0\n",
            "La valeur de n est 0\n",
            "La valeur de n est 0\n",
            "La valeur de n est 0\n",
            "La valeur de n est 0\n",
            "La valeur de n est 0\n",
            "La valeur de n est 0\n",
            "La valeur de n est 0\n",
            "La valeur de n est 0\n",
            "La valeur de n est 0\n",
            "La valeur de n est 0\n",
            "La valeur de n est 0\n",
            "La valeur de n est 0\n",
            "La valeur de n est 0\n",
            "La valeur de n est 0\n",
            "La valeur de n est 0\n",
            "La valeur de n est 0\n",
            "La valeur de n est 0\n",
            "La valeur de n est 0\n",
            "La valeur de n est 0\n",
            "La valeur de n est 0\n",
            "La valeur de n est 0\n",
            "La valeur de n est 0\n",
            "La valeur de n est 0\n",
            "La valeur de n est 0\n",
            "La valeur de n est 0\n",
            "La valeur de n est 0\n",
            "La valeur de n est 0\n",
            "La valeur de n est 0\n",
            "La valeur de n est 0\n",
            "La valeur de n est 0\n",
            "La valeur de n est 0\n",
            "La valeur de n est 0\n",
            "La valeur de n est 0\n",
            "La valeur de n est 0\n",
            "La valeur de n est 0\n",
            "La valeur de n est 0\n",
            "La valeur de n est 0\n",
            "La valeur de n est 0\n",
            "La valeur de n est 0\n",
            "La valeur de n est 0\n",
            "La valeur de n est 0\n",
            "La valeur de n est 0\n",
            "La valeur de n est 0\n",
            "La valeur de n est 0\n",
            "La valeur de n est 0\n",
            "La valeur de n est 0\n",
            "La valeur de n est 0\n",
            "La valeur de n est 0\n",
            "La valeur de n est 0\n",
            "La valeur de n est 0\n",
            "La valeur de n est 0\n",
            "La valeur de n est 0\n",
            "La valeur de n est 0\n",
            "La valeur de n est 0\n",
            "La valeur de n est 0\n",
            "La valeur de n est 0\n",
            "La valeur de n est 0\n",
            "La valeur de n est 0\n",
            "La valeur de n est 0\n",
            "La valeur de n est 0\n",
            "La valeur de n est 0\n",
            "La valeur de n est 0\n",
            "La valeur de n est 0\n",
            "La valeur de n est 0\n",
            "La valeur de n est 0\n",
            "La valeur de n est 0\n",
            "La valeur de n est 0\n",
            "La valeur de n est 0\n",
            "La valeur de n est 0\n",
            "La valeur de n est 0\n",
            "La valeur de n est 0\n",
            "La valeur de n est 0\n",
            "La valeur de n est 0\n",
            "La valeur de n est 0\n",
            "La valeur de n est 0\n",
            "La valeur de n est 0\n",
            "La valeur de n est 0\n",
            "La valeur de n est 0\n",
            "La valeur de n est 0\n",
            "La valeur de n est 0\n",
            "La valeur de n est 0\n",
            "La valeur de n est 0\n",
            "La valeur de n est 0\n",
            "La valeur de n est 0\n",
            "La valeur de n est 0\n",
            "La valeur de n est 0\n",
            "La valeur de n est 0\n",
            "La valeur de n est 0\n",
            "La valeur de n est 0\n",
            "La valeur de n est 0\n",
            "La valeur de n est 0\n",
            "La valeur de n est 0\n",
            "La valeur de n est 0\n",
            "La valeur de n est 0\n",
            "La valeur de n est 0\n",
            "La valeur de n est 0\n",
            "La valeur de n est 0\n",
            "La valeur de n est 0\n",
            "La valeur de n est 0\n",
            "La valeur de n est 0\n",
            "La valeur de n est 0\n",
            "La valeur de n est 0\n",
            "La valeur de n est 0\n",
            "La valeur de n est 0\n",
            "La valeur de n est 0\n",
            "La valeur de n est 0\n",
            "La valeur de n est 0\n",
            "La valeur de n est 0\n",
            "La valeur de n est 0\n",
            "La valeur de n est 0\n",
            "La valeur de n est 0\n",
            "La valeur de n est 0\n",
            "La valeur de n est 0\n",
            "La valeur de n est 0\n",
            "La valeur de n est 0\n",
            "La valeur de n est 0\n",
            "La valeur de n est 0\n",
            "La valeur de n est 0\n",
            "La valeur de n est 0\n",
            "La valeur de n est 0\n",
            "La valeur de n est 0\n",
            "La valeur de n est 0\n",
            "La valeur de n est 0\n",
            "La valeur de n est 0\n",
            "La valeur de n est 0\n",
            "La valeur de n est 0\n",
            "La valeur de n est 0\n",
            "La valeur de n est 0\n",
            "La valeur de n est 0\n",
            "La valeur de n est 0\n",
            "La valeur de n est 0\n",
            "La valeur de n est 0\n",
            "La valeur de n est 0\n",
            "La valeur de n est 0\n",
            "La valeur de n est 0\n",
            "La valeur de n est 0\n",
            "La valeur de n est 0\n",
            "La valeur de n est 0\n",
            "La valeur de n est 0\n",
            "La valeur de n est 0\n",
            "La valeur de n est 0\n",
            "La valeur de n est 0\n",
            "La valeur de n est 0\n",
            "La valeur de n est 0\n",
            "La valeur de n est 0\n",
            "La valeur de n est 0\n",
            "La valeur de n est 0\n",
            "La valeur de n est 0\n",
            "La valeur de n est 0\n",
            "La valeur de n est 0\n",
            "La valeur de n est 0\n",
            "La valeur de n est 0\n",
            "La valeur de n est 0\n",
            "La valeur de n est 0\n",
            "La valeur de n est 0\n",
            "La valeur de n est 0\n",
            "La valeur de n est 0\n",
            "La valeur de n est 0\n",
            "La valeur de n est 0\n",
            "La valeur de n est 0\n",
            "La valeur de n est 0\n",
            "La valeur de n est 0\n",
            "La valeur de n est 0\n",
            "La valeur de n est 0\n",
            "La valeur de n est 0\n",
            "La valeur de n est 0\n",
            "La valeur de n est 0\n",
            "La valeur de n est 0\n",
            "La valeur de n est 0\n",
            "La valeur de n est 0\n",
            "La valeur de n est 0\n",
            "La valeur de n est 0\n",
            "La valeur de n est 0\n",
            "La valeur de n est 0\n",
            "La valeur de n est 0\n",
            "La valeur de n est 0\n",
            "La valeur de n est 0\n",
            "La valeur de n est 0\n",
            "La valeur de n est 0\n",
            "La valeur de n est 0\n",
            "La valeur de n est 0\n",
            "La valeur de n est 0\n",
            "La valeur de n est 0\n",
            "La valeur de n est 0\n",
            "La valeur de n est 0\n",
            "La valeur de n est 0\n",
            "La valeur de n est 0\n",
            "La valeur de n est 0\n",
            "La valeur de n est 0\n",
            "La valeur de n est 0\n",
            "La valeur de n est 0\n",
            "La valeur de n est 0\n",
            "La valeur de n est 0\n",
            "La valeur de n est 0\n",
            "La valeur de n est 0\n",
            "La valeur de n est 0\n",
            "La valeur de n est 0\n",
            "La valeur de n est 0\n",
            "La valeur de n est 0\n",
            "La valeur de n est 0\n",
            "La valeur de n est 0\n",
            "La valeur de n est 0\n",
            "La valeur de n est 0\n",
            "La valeur de n est 0\n",
            "La valeur de n est 0\n",
            "La valeur de n est 0\n",
            "La valeur de n est 0\n",
            "La valeur de n est 0\n",
            "La valeur de n est 0\n",
            "La valeur de n est 0\n",
            "La valeur de n est 0\n",
            "La valeur de n est 0\n",
            "La valeur de n est 0\n",
            "La valeur de n est 0\n",
            "La valeur de n est 0\n",
            "La valeur de n est 0\n",
            "La valeur de n est 0\n",
            "La valeur de n est 0\n",
            "La valeur de n est 0\n",
            "La valeur de n est 0\n",
            "La valeur de n est 0\n",
            "La valeur de n est 0\n",
            "La valeur de n est 0\n",
            "La valeur de n est 0\n",
            "La valeur de n est 0\n",
            "La valeur de n est 0\n",
            "La valeur de n est 0\n",
            "La valeur de n est 0\n",
            "La valeur de n est 0\n",
            "La valeur de n est 0\n",
            "La valeur de n est 0\n",
            "La valeur de n est 0\n",
            "La valeur de n est 0\n",
            "La valeur de n est 0\n",
            "La valeur de n est 0\n",
            "La valeur de n est 0\n",
            "La valeur de n est 0\n",
            "La valeur de n est 0\n",
            "La valeur de n est 0\n",
            "La valeur de n est 0\n",
            "La valeur de n est 0\n",
            "La valeur de n est 0\n",
            "La valeur de n est 0\n",
            "La valeur de n est 0\n",
            "La valeur de n est 0\n",
            "La valeur de n est 0\n",
            "La valeur de n est 0\n",
            "La valeur de n est 0\n",
            "La valeur de n est 0\n",
            "La valeur de n est 0\n",
            "La valeur de n est 0\n",
            "La valeur de n est 0\n",
            "La valeur de n est 0\n",
            "La valeur de n est 0\n",
            "La valeur de n est 0\n",
            "La valeur de n est 0\n",
            "La valeur de n est 0\n",
            "La valeur de n est 0\n",
            "La valeur de n est 0\n",
            "La valeur de n est 0\n",
            "La valeur de n est 0\n",
            "La valeur de n est 0\n",
            "La valeur de n est 0\n",
            "La valeur de n est 0\n",
            "La valeur de n est 0\n",
            "La valeur de n est 0\n",
            "La valeur de n est 0\n",
            "La valeur de n est 0\n",
            "La valeur de n est 0\n",
            "La valeur de n est 0\n",
            "La valeur de n est 0\n",
            "La valeur de n est 0\n",
            "La valeur de n est 0\n",
            "La valeur de n est 0\n",
            "La valeur de n est 0\n",
            "La valeur de n est 0\n",
            "La valeur de n est 0\n",
            "La valeur de n est 0\n",
            "La valeur de n est 0\n",
            "La valeur de n est 0\n",
            "La valeur de n est 0\n",
            "La valeur de n est 0\n",
            "La valeur de n est 0\n",
            "La valeur de n est 0\n",
            "La valeur de n est 0\n",
            "La valeur de n est 0\n",
            "La valeur de n est 0\n",
            "La valeur de n est 0\n",
            "La valeur de n est 0\n",
            "La valeur de n est 0\n",
            "La valeur de n est 0\n",
            "La valeur de n est 0\n",
            "La valeur de n est 0\n",
            "La valeur de n est 0\n",
            "La valeur de n est 0\n",
            "La valeur de n est 0\n",
            "La valeur de n est 0\n",
            "La valeur de n est 0\n",
            "La valeur de n est 0\n",
            "La valeur de n est 0\n",
            "La valeur de n est 0\n",
            "La valeur de n est 0\n",
            "La valeur de n est 0\n",
            "La valeur de n est 0\n",
            "La valeur de n est 0\n",
            "La valeur de n est 0\n",
            "La valeur de n est 0\n",
            "La valeur de n est 0\n",
            "La valeur de n est 0\n",
            "La valeur de n est 0\n",
            "La valeur de n est 0\n",
            "La valeur de n est 0\n",
            "La valeur de n est 0\n",
            "La valeur de n est 0\n",
            "La valeur de n est 0\n",
            "La valeur de n est 0\n",
            "La valeur de n est 0\n",
            "La valeur de n est 0\n",
            "La valeur de n est 0\n",
            "La valeur de n est 0\n",
            "La valeur de n est 0\n",
            "La valeur de n est 0\n",
            "La valeur de n est 0\n",
            "La valeur de n est 0\n",
            "La valeur de n est 0\n",
            "La valeur de n est 0\n",
            "La valeur de n est 0\n",
            "La valeur de n est 0\n",
            "La valeur de n est 0\n",
            "La valeur de n est 0\n",
            "La valeur de n est 0\n",
            "La valeur de n est 0\n",
            "La valeur de n est 0\n",
            "La valeur de n est 0\n",
            "La valeur de n est 0\n",
            "La valeur de n est 0\n",
            "La valeur de n est 0\n",
            "La valeur de n est 0\n",
            "La valeur de n est 0\n",
            "La valeur de n est 0\n",
            "La valeur de n est 0\n",
            "La valeur de n est 0\n",
            "La valeur de n est 0\n",
            "La valeur de n est 0\n",
            "La valeur de n est 0\n",
            "La valeur de n est 0\n",
            "La valeur de n est 0\n",
            "La valeur de n est 0\n",
            "La valeur de n est 0\n",
            "La valeur de n est 0\n",
            "La valeur de n est 0\n",
            "La valeur de n est 0\n",
            "La valeur de n est 0\n",
            "La valeur de n est 0\n",
            "La valeur de n est 0\n",
            "La valeur de n est 0\n",
            "La valeur de n est 0\n",
            "La valeur de n est 0\n",
            "La valeur de n est 0\n",
            "La valeur de n est 0\n",
            "La valeur de n est 0\n",
            "La valeur de n est 0\n",
            "La valeur de n est 0\n",
            "La valeur de n est 0\n",
            "La valeur de n est 0\n",
            "La valeur de n est 0\n",
            "La valeur de n est 0\n",
            "La valeur de n est 0\n",
            "La valeur de n est 0\n",
            "La valeur de n est 0\n",
            "La valeur de n est 0\n",
            "La valeur de n est 0\n",
            "La valeur de n est 0\n",
            "La valeur de n est 0\n",
            "La valeur de n est 0\n",
            "La valeur de n est 0\n",
            "La valeur de n est 0\n",
            "La valeur de n est 0\n",
            "La valeur de n est 0\n",
            "La valeur de n est 0\n",
            "La valeur de n est 0\n",
            "La valeur de n est 0\n",
            "La valeur de n est 0\n",
            "La valeur de n est 0\n",
            "La valeur de n est 0\n",
            "La valeur de n est 0\n",
            "La valeur de n est 0\n",
            "La valeur de n est 0\n",
            "La valeur de n est 0\n",
            "La valeur de n est 0\n",
            "La valeur de n est 0\n",
            "La valeur de n est 0\n",
            "La valeur de n est 0\n",
            "La valeur de n est 0\n",
            "La valeur de n est 0\n",
            "La valeur de n est 0\n",
            "La valeur de n est 0\n",
            "La valeur de n est 0\n",
            "La valeur de n est 0\n",
            "La valeur de n est 0\n",
            "La valeur de n est 0\n",
            "La valeur de n est 0\n",
            "La valeur de n est 0\n",
            "La valeur de n est 0\n",
            "La valeur de n est 0\n",
            "La valeur de n est 0\n",
            "La valeur de n est 0\n",
            "La valeur de n est 0\n",
            "La valeur de n est 0\n",
            "La valeur de n est 0\n",
            "La valeur de n est 0\n",
            "La valeur de n est 0\n",
            "La valeur de n est 0\n",
            "La valeur de n est 0\n",
            "La valeur de n est 0\n",
            "La valeur de n est 0\n",
            "La valeur de n est 0\n",
            "La valeur de n est 0\n",
            "La valeur de n est 0\n",
            "La valeur de n est 0\n",
            "La valeur de n est 0\n",
            "La valeur de n est 0\n",
            "La valeur de n est 0\n",
            "La valeur de n est 0\n",
            "La valeur de n est 0\n",
            "La valeur de n est 0\n",
            "La valeur de n est 0\n",
            "La valeur de n est 0\n",
            "La valeur de n est 0\n",
            "La valeur de n est 0\n",
            "La valeur de n est 0\n",
            "La valeur de n est 0\n",
            "La valeur de n est 0\n",
            "La valeur de n est 0\n",
            "La valeur de n est 0\n",
            "La valeur de n est 0\n",
            "La valeur de n est 0\n",
            "La valeur de n est 0\n",
            "La valeur de n est 0\n",
            "La valeur de n est 0\n",
            "La valeur de n est 0\n",
            "La valeur de n est 0\n",
            "La valeur de n est 0\n",
            "La valeur de n est 0\n",
            "La valeur de n est 0\n",
            "La valeur de n est 0\n",
            "La valeur de n est 0\n",
            "La valeur de n est 0\n",
            "La valeur de n est 0\n",
            "La valeur de n est 0\n",
            "La valeur de n est 0\n",
            "La valeur de n est 0\n",
            "La valeur de n est 0\n",
            "La valeur de n est 0\n",
            "La valeur de n est 0\n",
            "La valeur de n est 0\n",
            "La valeur de n est 0\n",
            "La valeur de n est 0\n",
            "La valeur de n est 0\n",
            "La valeur de n est 0\n",
            "La valeur de n est 0\n",
            "La valeur de n est 0\n",
            "La valeur de n est 0\n",
            "La valeur de n est 0\n",
            "La valeur de n est 0\n",
            "La valeur de n est 0\n",
            "La valeur de n est 0\n",
            "La valeur de n est 0\n",
            "La valeur de n est 0\n",
            "La valeur de n est 0\n",
            "La valeur de n est 0\n",
            "La valeur de n est 0\n",
            "La valeur de n est 0\n",
            "La valeur de n est 0\n",
            "La valeur de n est 0\n",
            "La valeur de n est 0\n",
            "La valeur de n est 0\n",
            "La valeur de n est 0\n",
            "La valeur de n est 0\n",
            "La valeur de n est 0\n",
            "La valeur de n est 0\n",
            "La valeur de n est 0\n",
            "La valeur de n est 0\n",
            "La valeur de n est 0\n",
            "La valeur de n est 0\n",
            "La valeur de n est 0\n",
            "La valeur de n est 0\n",
            "La valeur de n est 0\n",
            "La valeur de n est 0\n",
            "La valeur de n est 0\n",
            "La valeur de n est 0\n",
            "La valeur de n est 0\n",
            "La valeur de n est 0\n",
            "La valeur de n est 0\n",
            "La valeur de n est 0\n",
            "La valeur de n est 0\n",
            "La valeur de n est 0\n",
            "La valeur de n est 0\n",
            "La valeur de n est 0\n",
            "La valeur de n est 0\n",
            "La valeur de n est 0\n",
            "La valeur de n est 0\n",
            "La valeur de n est 0\n",
            "La valeur de n est 0\n",
            "La valeur de n est 0\n",
            "La valeur de n est 0\n",
            "La valeur de n est 0\n",
            "La valeur de n est 0\n",
            "La valeur de n est 0\n",
            "La valeur de n est 0\n",
            "La valeur de n est 0\n",
            "La valeur de n est 0\n",
            "La valeur de n est 0\n",
            "La valeur de n est 0\n",
            "La valeur de n est 0\n",
            "La valeur de n est 0\n",
            "La valeur de n est 0\n",
            "La valeur de n est 0\n",
            "La valeur de n est 0\n",
            "La valeur de n est 0\n",
            "La valeur de n est 0\n",
            "La valeur de n est 0\n",
            "La valeur de n est 0\n",
            "La valeur de n est 0\n",
            "La valeur de n est 0\n",
            "La valeur de n est 0\n",
            "La valeur de n est 0\n",
            "La valeur de n est 0\n",
            "La valeur de n est 0\n",
            "La valeur de n est 0\n",
            "La valeur de n est 0\n",
            "La valeur de n est 0\n",
            "La valeur de n est 0\n",
            "La valeur de n est 0\n",
            "La valeur de n est 0\n",
            "La valeur de n est 0\n",
            "La valeur de n est 0\n",
            "La valeur de n est 0\n",
            "La valeur de n est 0\n",
            "La valeur de n est 0\n",
            "La valeur de n est 0\n",
            "La valeur de n est 0\n",
            "La valeur de n est 0\n",
            "La valeur de n est 0\n",
            "La valeur de n est 0\n",
            "La valeur de n est 0\n",
            "La valeur de n est 0\n",
            "La valeur de n est 0\n",
            "La valeur de n est 0\n",
            "La valeur de n est 0\n",
            "La valeur de n est 0\n",
            "La valeur de n est 0\n",
            "La valeur de n est 0\n",
            "La valeur de n est 0\n",
            "La valeur de n est 0\n",
            "La valeur de n est 0\n",
            "La valeur de n est 0\n",
            "La valeur de n est 0\n",
            "La valeur de n est 0\n",
            "La valeur de n est 0\n",
            "La valeur de n est 0\n",
            "La valeur de n est 0\n",
            "La valeur de n est 0\n",
            "La valeur de n est 0\n",
            "La valeur de n est 0\n",
            "La valeur de n est 0\n",
            "La valeur de n est 0\n",
            "La valeur de n est 0\n",
            "La valeur de n est 0\n",
            "La valeur de n est 0\n",
            "La valeur de n est 0\n",
            "La valeur de n est 0\n",
            "La valeur de n est 0\n",
            "La valeur de n est 0\n",
            "La valeur de n est 0\n",
            "La valeur de n est 0\n",
            "La valeur de n est 0\n",
            "La valeur de n est 0\n",
            "La valeur de n est 0\n",
            "La valeur de n est 0\n",
            "La valeur de n est 0\n",
            "La valeur de n est 0\n",
            "La valeur de n est 0\n",
            "La valeur de n est 0\n",
            "La valeur de n est 0\n",
            "La valeur de n est 0\n",
            "La valeur de n est 0\n",
            "La valeur de n est 0\n",
            "La valeur de n est 0\n",
            "La valeur de n est 0\n",
            "La valeur de n est 0\n",
            "La valeur de n est 0\n",
            "La valeur de n est 0\n",
            "La valeur de n est 0\n",
            "La valeur de n est 0\n",
            "La valeur de n est 0\n",
            "La valeur de n est 0\n",
            "La valeur de n est 0\n",
            "La valeur de n est 0\n",
            "La valeur de n est 0\n",
            "La valeur de n est 0\n",
            "La valeur de n est 0\n",
            "La valeur de n est 0\n",
            "La valeur de n est 0\n",
            "La valeur de n est 0\n",
            "La valeur de n est 0\n",
            "La valeur de n est 0\n",
            "La valeur de n est 0\n",
            "La valeur de n est 0\n",
            "La valeur de n est 0\n",
            "La valeur de n est 0\n",
            "La valeur de n est 0\n",
            "La valeur de n est 0\n",
            "La valeur de n est 0\n",
            "La valeur de n est 0\n",
            "La valeur de n est 0\n",
            "La valeur de n est 0\n",
            "La valeur de n est 0\n",
            "La valeur de n est 0\n",
            "La valeur de n est 0\n",
            "La valeur de n est 0\n",
            "La valeur de n est 0\n",
            "La valeur de n est 0\n",
            "La valeur de n est 0\n",
            "La valeur de n est 0\n",
            "La valeur de n est 0\n",
            "La valeur de n est 0\n",
            "La valeur de n est 0\n",
            "La valeur de n est 0\n",
            "La valeur de n est 0\n",
            "La valeur de n est 0\n",
            "La valeur de n est 0\n",
            "La valeur de n est 0\n",
            "La valeur de n est 0\n",
            "La valeur de n est 0\n",
            "La valeur de n est 0\n",
            "La valeur de n est 0\n",
            "La valeur de n est 0\n",
            "La valeur de n est 0\n",
            "La valeur de n est 0\n",
            "La valeur de n est 0\n",
            "La valeur de n est 0\n",
            "La valeur de n est 0\n",
            "La valeur de n est 0\n",
            "La valeur de n est 0\n",
            "La valeur de n est 0\n",
            "La valeur de n est 0\n",
            "La valeur de n est 0\n",
            "La valeur de n est 0\n",
            "La valeur de n est 0\n",
            "La valeur de n est 0\n",
            "La valeur de n est 0\n",
            "La valeur de n est 0\n",
            "La valeur de n est 0\n",
            "La valeur de n est 0\n",
            "La valeur de n est 0\n",
            "La valeur de n est 0\n",
            "La valeur de n est 0\n",
            "La valeur de n est 0\n",
            "La valeur de n est 0\n",
            "La valeur de n est 0\n",
            "La valeur de n est 0\n",
            "La valeur de n est 0\n",
            "La valeur de n est 0\n",
            "La valeur de n est 0\n",
            "La valeur de n est 0\n",
            "La valeur de n est 0\n",
            "La valeur de n est 0\n",
            "La valeur de n est 0\n",
            "La valeur de n est 0\n",
            "La valeur de n est 0\n",
            "La valeur de n est 0\n",
            "La valeur de n est 0\n",
            "La valeur de n est 0\n",
            "La valeur de n est 0\n",
            "La valeur de n est 0\n",
            "La valeur de n est 0\n",
            "La valeur de n est 0\n",
            "La valeur de n est 0\n",
            "La valeur de n est 0\n",
            "La valeur de n est 0\n",
            "La valeur de n est 0\n",
            "La valeur de n est 0\n",
            "La valeur de n est 0\n",
            "La valeur de n est 0\n",
            "La valeur de n est 0\n",
            "La valeur de n est 0\n",
            "La valeur de n est 0\n",
            "La valeur de n est 0\n",
            "La valeur de n est 0\n",
            "La valeur de n est 0\n",
            "La valeur de n est 0\n",
            "La valeur de n est 0\n",
            "La valeur de n est 0\n",
            "La valeur de n est 0\n",
            "La valeur de n est 0\n",
            "La valeur de n est 0\n",
            "La valeur de n est 0\n",
            "La valeur de n est 0\n",
            "La valeur de n est 0\n",
            "La valeur de n est 0\n",
            "La valeur de n est 0\n",
            "La valeur de n est 0\n",
            "La valeur de n est 0\n",
            "La valeur de n est 0\n",
            "La valeur de n est 0\n",
            "La valeur de n est 0\n",
            "La valeur de n est 0\n",
            "La valeur de n est 0\n",
            "La valeur de n est 0\n",
            "La valeur de n est 0\n",
            "La valeur de n est 0\n",
            "La valeur de n est 0\n",
            "La valeur de n est 0\n",
            "La valeur de n est 0\n",
            "La valeur de n est 0\n",
            "La valeur de n est 0\n",
            "La valeur de n est 0\n",
            "La valeur de n est 0\n",
            "La valeur de n est 0\n",
            "La valeur de n est 0\n",
            "La valeur de n est 0\n",
            "La valeur de n est 0\n",
            "La valeur de n est 0\n",
            "La valeur de n est 0\n",
            "La valeur de n est 0\n",
            "La valeur de n est 0\n",
            "La valeur de n est 0\n",
            "La valeur de n est 0\n",
            "La valeur de n est 0\n",
            "La valeur de n est 0\n",
            "La valeur de n est 0\n",
            "La valeur de n est 0\n",
            "La valeur de n est 0\n",
            "La valeur de n est 0\n",
            "La valeur de n est 0\n",
            "La valeur de n est 0\n",
            "La valeur de n est 0\n",
            "La valeur de n est 0\n",
            "La valeur de n est 0\n",
            "La valeur de n est 0\n",
            "La valeur de n est 0\n",
            "La valeur de n est 0\n",
            "La valeur de n est 0\n",
            "La valeur de n est 0\n",
            "La valeur de n est 0\n",
            "La valeur de n est 0\n",
            "La valeur de n est 0\n",
            "La valeur de n est 0\n",
            "La valeur de n est 0\n",
            "La valeur de n est 0\n",
            "La valeur de n est 0\n",
            "La valeur de n est 0\n",
            "La valeur de n est 0\n",
            "La valeur de n est 0\n",
            "La valeur de n est 0\n",
            "La valeur de n est 0\n",
            "La valeur de n est 0\n",
            "La valeur de n est 0\n",
            "La valeur de n est 0\n",
            "La valeur de n est 0\n",
            "La valeur de n est 0\n",
            "La valeur de n est 0\n",
            "La valeur de n est 0\n",
            "La valeur de n est 0\n",
            "La valeur de n est 0\n",
            "La valeur de n est 0\n",
            "La valeur de n est 0\n",
            "La valeur de n est 0\n",
            "La valeur de n est 0\n",
            "La valeur de n est 0\n",
            "La valeur de n est 0\n",
            "La valeur de n est 0\n",
            "La valeur de n est 0\n",
            "La valeur de n est 0\n",
            "La valeur de n est 0\n",
            "La valeur de n est 0\n",
            "La valeur de n est 0\n",
            "La valeur de n est 0\n",
            "La valeur de n est 0\n",
            "La valeur de n est 0\n",
            "La valeur de n est 0\n",
            "La valeur de n est 0\n",
            "La valeur de n est 0\n",
            "La valeur de n est 0\n",
            "La valeur de n est 0\n",
            "La valeur de n est 0\n",
            "La valeur de n est 0\n",
            "La valeur de n est 0\n",
            "La valeur de n est 0\n",
            "La valeur de n est 0\n",
            "La valeur de n est 0\n",
            "La valeur de n est 0\n",
            "La valeur de n est 0\n",
            "La valeur de n est 0\n",
            "La valeur de n est 0\n",
            "La valeur de n est 0\n",
            "La valeur de n est 0\n",
            "La valeur de n est 0\n",
            "La valeur de n est 0\n",
            "La valeur de n est 0\n",
            "La valeur de n est 0\n",
            "La valeur de n est 0\n",
            "La valeur de n est 0\n",
            "La valeur de n est 0\n",
            "La valeur de n est 0\n",
            "La valeur de n est 0\n",
            "La valeur de n est 0\n",
            "La valeur de n est 0\n",
            "La valeur de n est 0\n",
            "La valeur de n est 0\n",
            "La valeur de n est 0\n",
            "La valeur de n est 0\n",
            "La valeur de n est 0\n",
            "La valeur de n est 0\n",
            "La valeur de n est 0\n",
            "La valeur de n est 0\n",
            "La valeur de n est 0\n",
            "La valeur de n est 0\n",
            "La valeur de n est 0\n",
            "La valeur de n est 0\n",
            "La valeur de n est 0\n",
            "La valeur de n est 0\n",
            "La valeur de n est 0\n",
            "La valeur de n est 0\n",
            "La valeur de n est 0\n",
            "La valeur de n est 0\n",
            "La valeur de n est 0\n",
            "La valeur de n est 0\n",
            "La valeur de n est 0\n",
            "La valeur de n est 0\n",
            "La valeur de n est 0\n",
            "La valeur de n est 0\n",
            "La valeur de n est 0\n",
            "La valeur de n est 0\n",
            "La valeur de n est 0\n",
            "La valeur de n est 0\n",
            "La valeur de n est 0\n",
            "La valeur de n est 0\n",
            "La valeur de n est 0\n",
            "La valeur de n est 0\n",
            "La valeur de n est 0\n",
            "La valeur de n est 0\n",
            "La valeur de n est 0\n",
            "La valeur de n est 0\n",
            "La valeur de n est 0\n",
            "La valeur de n est 0\n",
            "La valeur de n est 0\n",
            "La valeur de n est 0\n",
            "La valeur de n est 0\n",
            "La valeur de n est 0\n",
            "La valeur de n est 0\n",
            "La valeur de n est 0\n",
            "La valeur de n est 0\n",
            "La valeur de n est 0\n",
            "La valeur de n est 0\n",
            "La valeur de n est 0\n",
            "La valeur de n est 0\n",
            "La valeur de n est 0\n",
            "La valeur de n est 0\n",
            "La valeur de n est 0\n",
            "La valeur de n est 0\n",
            "La valeur de n est 0\n",
            "La valeur de n est 0\n",
            "La valeur de n est 0\n",
            "La valeur de n est 0\n",
            "La valeur de n est 0\n",
            "La valeur de n est 0\n",
            "La valeur de n est 0\n",
            "La valeur de n est 0\n",
            "La valeur de n est 0\n",
            "La valeur de n est 0\n",
            "La valeur de n est 0\n",
            "La valeur de n est 0\n",
            "La valeur de n est 0\n",
            "La valeur de n est 0\n",
            "La valeur de n est 0\n",
            "La valeur de n est 0\n",
            "La valeur de n est 0\n",
            "La valeur de n est 0\n",
            "La valeur de n est 0\n",
            "La valeur de n est 0\n",
            "La valeur de n est 0\n",
            "La valeur de n est 0\n",
            "La valeur de n est 0\n",
            "La valeur de n est 0\n",
            "La valeur de n est 0\n",
            "La valeur de n est 0\n",
            "La valeur de n est 0\n",
            "La valeur de n est 0\n",
            "La valeur de n est 0\n",
            "La valeur de n est 0\n",
            "La valeur de n est 0\n",
            "La valeur de n est 0\n",
            "La valeur de n est 0\n",
            "La valeur de n est 0\n",
            "La valeur de n est 0\n",
            "La valeur de n est 0\n",
            "La valeur de n est 0\n",
            "La valeur de n est 0\n",
            "La valeur de n est 0\n",
            "La valeur de n est 0\n",
            "La valeur de n est 0\n",
            "La valeur de n est 0\n",
            "La valeur de n est 0\n",
            "La valeur de n est 0\n",
            "La valeur de n est 0\n",
            "La valeur de n est 0\n",
            "La valeur de n est 0\n",
            "La valeur de n est 0\n",
            "La valeur de n est 0\n",
            "La valeur de n est 0\n",
            "La valeur de n est 0\n",
            "La valeur de n est 0\n",
            "La valeur de n est 0\n",
            "La valeur de n est 0\n",
            "La valeur de n est 0\n",
            "La valeur de n est 0\n",
            "La valeur de n est 0\n",
            "La valeur de n est 0\n",
            "La valeur de n est 0\n",
            "La valeur de n est 0\n",
            "La valeur de n est 0\n",
            "La valeur de n est 0\n",
            "La valeur de n est 0\n",
            "La valeur de n est 0\n",
            "La valeur de n est 0\n",
            "La valeur de n est 0\n",
            "La valeur de n est 0\n",
            "La valeur de n est 0\n",
            "La valeur de n est 0\n",
            "La valeur de n est 0\n",
            "La valeur de n est 0\n",
            "La valeur de n est 0\n",
            "La valeur de n est 0\n",
            "La valeur de n est 0\n",
            "La valeur de n est 0\n",
            "La valeur de n est 0\n",
            "La valeur de n est 0\n",
            "La valeur de n est 0\n",
            "La valeur de n est 0\n",
            "La valeur de n est 0\n",
            "La valeur de n est 0\n",
            "La valeur de n est 0\n",
            "La valeur de n est 0\n",
            "La valeur de n est 0\n",
            "La valeur de n est 0\n",
            "La valeur de n est 0\n",
            "La valeur de n est 0\n",
            "La valeur de n est 0\n",
            "La valeur de n est 0\n",
            "La valeur de n est 0\n",
            "La valeur de n est 0\n",
            "La valeur de n est 0\n",
            "La valeur de n est 0\n",
            "La valeur de n est 0\n",
            "La valeur de n est 0\n",
            "La valeur de n est 0\n",
            "La valeur de n est 0\n",
            "La valeur de n est 0\n",
            "La valeur de n est 0\n",
            "La valeur de n est 0\n",
            "La valeur de n est 0\n",
            "La valeur de n est 0\n",
            "La valeur de n est 0\n",
            "La valeur de n est 0\n",
            "La valeur de n est 0\n",
            "La valeur de n est 0\n",
            "La valeur de n est 0\n",
            "La valeur de n est 0\n",
            "La valeur de n est 0\n",
            "La valeur de n est 0\n",
            "La valeur de n est 0\n",
            "La valeur de n est 0\n",
            "La valeur de n est 0\n",
            "La valeur de n est 0\n",
            "La valeur de n est 0\n",
            "La valeur de n est 0\n",
            "La valeur de n est 0\n",
            "La valeur de n est 0\n",
            "La valeur de n est 0\n",
            "La valeur de n est 0\n",
            "La valeur de n est 0\n",
            "La valeur de n est 0\n",
            "La valeur de n est 0\n",
            "La valeur de n est 0\n",
            "La valeur de n est 0\n",
            "La valeur de n est 0\n",
            "La valeur de n est 0\n",
            "La valeur de n est 0\n",
            "La valeur de n est 0\n",
            "La valeur de n est 0\n",
            "La valeur de n est 0\n",
            "La valeur de n est 0\n",
            "La valeur de n est 0\n",
            "La valeur de n est 0\n",
            "La valeur de n est 0\n",
            "La valeur de n est 0\n",
            "La valeur de n est 0\n",
            "La valeur de n est 0\n",
            "La valeur de n est 0\n",
            "La valeur de n est 0\n",
            "La valeur de n est 0\n",
            "La valeur de n est 0\n",
            "La valeur de n est 0\n",
            "La valeur de n est 0\n",
            "La valeur de n est 0\n",
            "La valeur de n est 0\n",
            "La valeur de n est 0\n",
            "La valeur de n est 0\n",
            "La valeur de n est 0\n",
            "La valeur de n est 0\n",
            "La valeur de n est 0\n",
            "La valeur de n est 0\n",
            "La valeur de n est 0\n",
            "La valeur de n est 0\n",
            "La valeur de n est 0\n",
            "La valeur de n est 0\n",
            "La valeur de n est 0\n",
            "La valeur de n est 0\n",
            "La valeur de n est 0\n",
            "La valeur de n est 0\n",
            "La valeur de n est 0\n",
            "La valeur de n est 0\n",
            "La valeur de n est 0\n",
            "La valeur de n est 0\n",
            "La valeur de n est 0\n",
            "La valeur de n est 0\n",
            "La valeur de n est 0\n",
            "La valeur de n est 0\n",
            "La valeur de n est 0\n",
            "La valeur de n est 0\n",
            "La valeur de n est 0\n",
            "La valeur de n est 0\n",
            "La valeur de n est 0\n",
            "La valeur de n est 0\n",
            "La valeur de n est 0\n",
            "La valeur de n est 0\n",
            "La valeur de n est 0\n",
            "La valeur de n est 0\n",
            "La valeur de n est 0\n",
            "La valeur de n est 0\n",
            "La valeur de n est 0\n",
            "La valeur de n est 0\n",
            "La valeur de n est 0\n",
            "La valeur de n est 0\n",
            "La valeur de n est 0\n",
            "La valeur de n est 0\n",
            "La valeur de n est 0\n",
            "La valeur de n est 0\n",
            "La valeur de n est 0\n",
            "La valeur de n est 0\n",
            "La valeur de n est 0\n",
            "La valeur de n est 0\n",
            "La valeur de n est 0\n",
            "La valeur de n est 0\n",
            "La valeur de n est 0\n",
            "La valeur de n est 0\n",
            "La valeur de n est 0\n",
            "La valeur de n est 0\n",
            "La valeur de n est 0\n",
            "La valeur de n est 0\n",
            "La valeur de n est 0\n",
            "La valeur de n est 0\n",
            "La valeur de n est 0\n",
            "La valeur de n est 0\n",
            "La valeur de n est 0\n",
            "La valeur de n est 0\n",
            "La valeur de n est 0\n",
            "La valeur de n est 0\n",
            "La valeur de n est 0\n",
            "La valeur de n est 0\n",
            "La valeur de n est 0\n",
            "La valeur de n est 0\n",
            "La valeur de n est 0\n",
            "La valeur de n est 0\n",
            "La valeur de n est 0\n",
            "La valeur de n est 0\n",
            "La valeur de n est 0\n",
            "La valeur de n est 0\n",
            "La valeur de n est 0\n",
            "La valeur de n est 0\n",
            "La valeur de n est 0\n",
            "La valeur de n est 0\n",
            "La valeur de n est 0\n",
            "La valeur de n est 0\n",
            "La valeur de n est 0\n",
            "La valeur de n est 0\n",
            "La valeur de n est 0\n",
            "La valeur de n est 0\n",
            "La valeur de n est 0\n",
            "La valeur de n est 0\n",
            "La valeur de n est 0\n",
            "La valeur de n est 0\n",
            "La valeur de n est 0\n",
            "La valeur de n est 0\n",
            "La valeur de n est 0\n",
            "La valeur de n est 0\n",
            "La valeur de n est 0\n",
            "La valeur de n est 0\n",
            "La valeur de n est 0\n",
            "La valeur de n est 0\n",
            "La valeur de n est 0\n",
            "La valeur de n est 0\n",
            "La valeur de n est 0\n",
            "La valeur de n est 0\n",
            "La valeur de n est 0\n",
            "La valeur de n est 0\n",
            "La valeur de n est 0\n",
            "La valeur de n est 0\n",
            "La valeur de n est 0\n",
            "La valeur de n est 0\n",
            "La valeur de n est 0\n",
            "La valeur de n est 0\n",
            "La valeur de n est 0\n",
            "La valeur de n est 0\n",
            "La valeur de n est 0\n",
            "La valeur de n est 0\n",
            "La valeur de n est 0\n",
            "La valeur de n est 0\n",
            "La valeur de n est 0\n",
            "La valeur de n est 0\n",
            "La valeur de n est 0\n",
            "La valeur de n est 0\n",
            "La valeur de n est 0\n",
            "La valeur de n est 0\n",
            "La valeur de n est 0\n",
            "La valeur de n est 0\n",
            "La valeur de n est 0\n",
            "La valeur de n est 0\n",
            "La valeur de n est 0\n",
            "La valeur de n est 0\n",
            "La valeur de n est 0\n",
            "La valeur de n est 0\n",
            "La valeur de n est 0\n",
            "La valeur de n est 0\n",
            "La valeur de n est 0\n",
            "La valeur de n est 0\n",
            "La valeur de n est 0\n",
            "La valeur de n est 0\n",
            "La valeur de n est 0\n",
            "La valeur de n est 0\n",
            "La valeur de n est 0\n",
            "La valeur de n est 0\n",
            "La valeur de n est 0\n",
            "La valeur de n est 0\n",
            "La valeur de n est 0\n",
            "La valeur de n est 0\n",
            "La valeur de n est 0\n",
            "La valeur de n est 0\n",
            "La valeur de n est 0\n",
            "La valeur de n est 0\n",
            "La valeur de n est 0\n",
            "La valeur de n est 0\n",
            "La valeur de n est 0\n",
            "La valeur de n est 0\n",
            "La valeur de n est 0\n",
            "La valeur de n est 0\n",
            "La valeur de n est 0\n",
            "La valeur de n est 0\n",
            "La valeur de n est 0\n",
            "La valeur de n est 0\n",
            "La valeur de n est 0\n",
            "La valeur de n est 0\n",
            "La valeur de n est 0\n",
            "La valeur de n est 0\n",
            "La valeur de n est 0\n",
            "La valeur de n est 0\n",
            "La valeur de n est 0\n",
            "La valeur de n est 0\n",
            "La valeur de n est 0\n",
            "La valeur de n est 0\n",
            "La valeur de n est 0\n",
            "La valeur de n est 0\n",
            "La valeur de n est 0\n",
            "La valeur de n est 0\n",
            "La valeur de n est 0\n",
            "La valeur de n est 0\n",
            "La valeur de n est 0\n",
            "La valeur de n est 0\n",
            "La valeur de n est 0\n",
            "La valeur de n est 0\n",
            "La valeur de n est 0\n",
            "La valeur de n est 0\n",
            "La valeur de n est 0\n",
            "La valeur de n est 0\n",
            "La valeur de n est 0\n",
            "La valeur de n est 0\n",
            "La valeur de n est 0\n",
            "La valeur de n est 0\n",
            "La valeur de n est 0\n",
            "La valeur de n est 0\n",
            "La valeur de n est 0\n",
            "La valeur de n est 0\n",
            "La valeur de n est 0\n",
            "La valeur de n est 0\n",
            "La valeur de n est 0\n",
            "La valeur de n est 0\n",
            "La valeur de n est 0\n",
            "La valeur de n est 0\n",
            "La valeur de n est 0\n",
            "La valeur de n est 0\n",
            "La valeur de n est 0\n",
            "La valeur de n est 0\n",
            "La valeur de n est 0\n",
            "La valeur de n est 0\n",
            "La valeur de n est 0\n",
            "La valeur de n est 0\n",
            "La valeur de n est 0\n",
            "La valeur de n est 0\n",
            "La valeur de n est 0\n",
            "La valeur de n est 0\n",
            "La valeur de n est 0\n",
            "La valeur de n est 0\n",
            "La valeur de n est 0\n",
            "La valeur de n est 0\n",
            "La valeur de n est 0\n",
            "La valeur de n est 0\n",
            "La valeur de n est 0\n",
            "La valeur de n est 0\n",
            "La valeur de n est 0\n",
            "La valeur de n est 0\n",
            "La valeur de n est 0\n",
            "La valeur de n est 0\n",
            "La valeur de n est 0\n",
            "La valeur de n est 0\n",
            "La valeur de n est 0\n",
            "La valeur de n est 0\n",
            "La valeur de n est 0\n",
            "La valeur de n est 0\n",
            "La valeur de n est 0\n",
            "La valeur de n est 0\n",
            "La valeur de n est 0\n",
            "La valeur de n est 0\n",
            "La valeur de n est 0\n",
            "La valeur de n est 0\n",
            "La valeur de n est 0\n",
            "La valeur de n est 0\n",
            "La valeur de n est 0\n",
            "La valeur de n est 0\n",
            "La valeur de n est 0\n",
            "La valeur de n est 0\n",
            "La valeur de n est 0\n",
            "La valeur de n est 0\n",
            "La valeur de n est 0\n",
            "La valeur de n est 0\n",
            "La valeur de n est 0\n",
            "La valeur de n est 0\n",
            "La valeur de n est 0\n",
            "La valeur de n est 0\n",
            "La valeur de n est 0\n",
            "La valeur de n est 0\n",
            "La valeur de n est 0\n",
            "La valeur de n est 0\n",
            "La valeur de n est 0\n",
            "La valeur de n est 0\n",
            "La valeur de n est 0\n",
            "La valeur de n est 0\n",
            "La valeur de n est 0\n",
            "La valeur de n est 0\n",
            "La valeur de n est 0\n",
            "La valeur de n est 0\n",
            "La valeur de n est 0\n",
            "La valeur de n est 0\n",
            "La valeur de n est 0\n",
            "La valeur de n est 0\n",
            "La valeur de n est 0\n",
            "La valeur de n est 0\n",
            "La valeur de n est 0\n",
            "La valeur de n est 0\n",
            "La valeur de n est 0\n",
            "La valeur de n est 0\n",
            "La valeur de n est 0\n",
            "La valeur de n est 0\n",
            "La valeur de n est 0\n",
            "La valeur de n est 0\n",
            "La valeur de n est 0\n",
            "La valeur de n est 0\n",
            "La valeur de n est 0\n",
            "La valeur de n est 0\n",
            "La valeur de n est 0\n",
            "La valeur de n est 0\n",
            "La valeur de n est 0\n",
            "La valeur de n est 0\n",
            "La valeur de n est 0\n",
            "La valeur de n est 0\n",
            "La valeur de n est 0\n",
            "La valeur de n est 0\n",
            "La valeur de n est 0\n",
            "La valeur de n est 0\n",
            "La valeur de n est 0\n",
            "La valeur de n est 0\n",
            "La valeur de n est 0\n",
            "La valeur de n est 0\n",
            "La valeur de n est 0\n",
            "La valeur de n est 0\n",
            "La valeur de n est 0\n",
            "La valeur de n est 0\n",
            "La valeur de n est 0\n",
            "La valeur de n est 0\n",
            "La valeur de n est 0\n",
            "La valeur de n est 0\n",
            "La valeur de n est 0\n",
            "La valeur de n est 0\n",
            "La valeur de n est 0\n",
            "La valeur de n est 0\n",
            "La valeur de n est 0\n",
            "La valeur de n est 0\n",
            "La valeur de n est 0\n",
            "La valeur de n est 0\n",
            "La valeur de n est 0\n",
            "La valeur de n est 0\n",
            "La valeur de n est 0\n",
            "La valeur de n est 0\n",
            "La valeur de n est 0\n",
            "La valeur de n est 0\n",
            "La valeur de n est 0\n",
            "La valeur de n est 0\n",
            "La valeur de n est 0\n",
            "La valeur de n est 0\n",
            "La valeur de n est 0\n",
            "La valeur de n est 0\n",
            "La valeur de n est 0\n",
            "La valeur de n est 0\n",
            "La valeur de n est 0\n",
            "La valeur de n est 0\n",
            "La valeur de n est 0\n",
            "La valeur de n est 0\n",
            "La valeur de n est 0\n",
            "La valeur de n est 0\n",
            "La valeur de n est 0\n",
            "La valeur de n est 0\n",
            "La valeur de n est 0\n",
            "La valeur de n est 0\n",
            "La valeur de n est 0\n",
            "La valeur de n est 0\n",
            "La valeur de n est 0\n",
            "La valeur de n est 0\n",
            "La valeur de n est 0\n",
            "La valeur de n est 0\n",
            "La valeur de n est 0\n",
            "La valeur de n est 0\n",
            "La valeur de n est 0\n",
            "La valeur de n est 0\n",
            "La valeur de n est 0\n",
            "La valeur de n est 0\n",
            "La valeur de n est 0\n",
            "La valeur de n est 0\n",
            "La valeur de n est 0\n",
            "La valeur de n est 0\n",
            "La valeur de n est 0\n",
            "La valeur de n est 0\n",
            "La valeur de n est 0\n",
            "La valeur de n est 0\n",
            "La valeur de n est 0\n",
            "La valeur de n est 0\n",
            "La valeur de n est 0\n",
            "La valeur de n est 0\n",
            "La valeur de n est 0\n",
            "La valeur de n est 0\n",
            "La valeur de n est 0\n",
            "La valeur de n est 0\n",
            "La valeur de n est 0\n",
            "La valeur de n est 0\n",
            "La valeur de n est 0\n",
            "La valeur de n est 0\n",
            "La valeur de n est 0\n",
            "La valeur de n est 0\n",
            "La valeur de n est 0\n",
            "La valeur de n est 0\n",
            "La valeur de n est 0\n",
            "La valeur de n est 0\n",
            "La valeur de n est 0\n",
            "La valeur de n est 0\n",
            "La valeur de n est 0\n",
            "La valeur de n est 0\n",
            "La valeur de n est 0\n",
            "La valeur de n est 0\n",
            "La valeur de n est 0\n",
            "La valeur de n est 0\n",
            "La valeur de n est 0\n",
            "La valeur de n est 0\n",
            "La valeur de n est 0\n",
            "La valeur de n est 0\n",
            "La valeur de n est 0\n",
            "La valeur de n est 0\n",
            "La valeur de n est 0\n",
            "La valeur de n est 0\n",
            "La valeur de n est 0\n",
            "La valeur de n est 0\n",
            "La valeur de n est 0\n",
            "La valeur de n est 0\n",
            "La valeur de n est 0\n",
            "La valeur de n est 0\n",
            "La valeur de n est 0\n",
            "La valeur de n est 0\n",
            "La valeur de n est 0\n",
            "La valeur de n est 0\n",
            "La valeur de n est 0\n",
            "La valeur de n est 0\n",
            "La valeur de n est 0\n",
            "La valeur de n est 0\n",
            "La valeur de n est 0\n",
            "La valeur de n est 0\n",
            "La valeur de n est 0\n",
            "La valeur de n est 0\n",
            "La valeur de n est 0\n",
            "La valeur de n est 0\n",
            "La valeur de n est 0\n",
            "La valeur de n est 0\n",
            "La valeur de n est 0\n",
            "La valeur de n est 0\n",
            "La valeur de n est 0\n",
            "La valeur de n est 0\n",
            "La valeur de n est 0\n",
            "La valeur de n est 0\n",
            "La valeur de n est 0\n",
            "La valeur de n est 0\n",
            "La valeur de n est 0\n",
            "La valeur de n est 0\n",
            "La valeur de n est 0\n",
            "La valeur de n est 0\n",
            "La valeur de n est 0\n",
            "La valeur de n est 0\n",
            "La valeur de n est 0\n",
            "La valeur de n est 0\n",
            "La valeur de n est 0\n",
            "La valeur de n est 0\n",
            "La valeur de n est 0\n",
            "La valeur de n est 0\n",
            "La valeur de n est 0\n",
            "La valeur de n est 0\n",
            "La valeur de n est 0\n",
            "La valeur de n est 0\n",
            "La valeur de n est 0\n",
            "La valeur de n est 0\n",
            "La valeur de n est 0\n",
            "La valeur de n est 0\n",
            "La valeur de n est 0\n",
            "La valeur de n est 0\n",
            "La valeur de n est 0\n",
            "La valeur de n est 0\n",
            "La valeur de n est 0\n",
            "La valeur de n est 0\n",
            "La valeur de n est 0\n",
            "La valeur de n est 0\n",
            "La valeur de n est 0\n",
            "La valeur de n est 0\n",
            "La valeur de n est 0\n",
            "La valeur de n est 0\n",
            "La valeur de n est 0\n",
            "La valeur de n est 0\n",
            "La valeur de n est 0\n",
            "La valeur de n est 0\n",
            "La valeur de n est 0\n",
            "La valeur de n est 0\n",
            "La valeur de n est 0\n",
            "La valeur de n est 0\n",
            "La valeur de n est 0\n",
            "La valeur de n est 0\n",
            "La valeur de n est 0\n",
            "La valeur de n est 0\n",
            "La valeur de n est 0\n",
            "La valeur de n est 0\n",
            "La valeur de n est 0\n",
            "La valeur de n est 0\n",
            "La valeur de n est 0\n",
            "La valeur de n est 0\n",
            "La valeur de n est 0\n",
            "La valeur de n est 0\n",
            "La valeur de n est 0\n",
            "La valeur de n est 0\n",
            "La valeur de n est 0\n",
            "La valeur de n est 0\n",
            "La valeur de n est 0\n",
            "La valeur de n est 0\n",
            "La valeur de n est 0\n",
            "La valeur de n est 0\n",
            "La valeur de n est 0\n",
            "La valeur de n est 0\n",
            "La valeur de n est 0\n",
            "La valeur de n est 0\n",
            "La valeur de n est 0\n",
            "La valeur de n est 0\n",
            "La valeur de n est 0\n",
            "La valeur de n est 0\n",
            "La valeur de n est 0\n",
            "La valeur de n est 0\n",
            "La valeur de n est 0\n",
            "La valeur de n est 0\n",
            "La valeur de n est 0\n",
            "La valeur de n est 0\n",
            "La valeur de n est 0\n",
            "La valeur de n est 0\n",
            "La valeur de n est 0\n",
            "La valeur de n est 0\n",
            "La valeur de n est 0\n",
            "La valeur de n est 0\n",
            "La valeur de n est 0\n",
            "La valeur de n est 0\n",
            "La valeur de n est 0\n",
            "La valeur de n est 0\n",
            "La valeur de n est 0\n",
            "La valeur de n est 0\n",
            "La valeur de n est 0\n",
            "La valeur de n est 0\n",
            "La valeur de n est 0\n",
            "La valeur de n est 0\n",
            "La valeur de n est 0\n",
            "La valeur de n est 0\n",
            "La valeur de n est 0\n",
            "La valeur de n est 0\n",
            "La valeur de n est 0\n",
            "La valeur de n est 0\n",
            "La valeur de n est 0\n",
            "La valeur de n est 0\n",
            "La valeur de n est 0\n",
            "La valeur de n est 0\n",
            "La valeur de n est 0\n",
            "La valeur de n est 0\n",
            "La valeur de n est 0\n",
            "La valeur de n est 0\n",
            "La valeur de n est 0\n",
            "La valeur de n est 0\n",
            "La valeur de n est 0\n",
            "La valeur de n est 0\n",
            "La valeur de n est 0\n",
            "La valeur de n est 0\n",
            "La valeur de n est 0\n",
            "La valeur de n est 0\n",
            "La valeur de n est 0\n",
            "La valeur de n est 0\n",
            "La valeur de n est 0\n",
            "La valeur de n est 0\n",
            "La valeur de n est 0\n",
            "La valeur de n est 0\n",
            "La valeur de n est 0\n",
            "La valeur de n est 0\n",
            "La valeur de n est 0\n",
            "La valeur de n est 0\n",
            "La valeur de n est 0\n",
            "La valeur de n est 0\n",
            "La valeur de n est 0\n",
            "La valeur de n est 0\n",
            "La valeur de n est 0\n",
            "La valeur de n est 0\n",
            "La valeur de n est 0\n",
            "La valeur de n est 0\n",
            "La valeur de n est 0\n",
            "La valeur de n est 0\n",
            "La valeur de n est 0\n",
            "La valeur de n est 0\n",
            "La valeur de n est 0\n",
            "La valeur de n est 0\n",
            "La valeur de n est 0\n",
            "La valeur de n est 0\n",
            "La valeur de n est 0\n",
            "La valeur de n est 0\n",
            "La valeur de n est 0\n",
            "La valeur de n est 0\n",
            "La valeur de n est 0\n",
            "La valeur de n est 0\n",
            "La valeur de n est 0\n",
            "La valeur de n est 0\n",
            "La valeur de n est 0\n",
            "La valeur de n est 0\n",
            "La valeur de n est 0\n",
            "La valeur de n est 0\n",
            "La valeur de n est 0\n",
            "La valeur de n est 0\n",
            "La valeur de n est 0\n",
            "La valeur de n est 0\n",
            "La valeur de n est 0\n",
            "La valeur de n est 0\n",
            "La valeur de n est 0\n",
            "La valeur de n est 0\n",
            "La valeur de n est 0\n",
            "La valeur de n est 0\n",
            "La valeur de n est 0\n",
            "La valeur de n est 0\n",
            "La valeur de n est 0\n",
            "La valeur de n est 0\n",
            "La valeur de n est 0\n",
            "La valeur de n est 0\n",
            "La valeur de n est 0\n",
            "La valeur de n est 0\n",
            "La valeur de n est 0\n",
            "La valeur de n est 0\n",
            "La valeur de n est 0\n",
            "La valeur de n est 0\n",
            "La valeur de n est 0\n",
            "La valeur de n est 0\n",
            "La valeur de n est 0\n",
            "La valeur de n est 0\n",
            "La valeur de n est 0\n",
            "La valeur de n est 0\n",
            "La valeur de n est 0\n",
            "La valeur de n est 0\n",
            "La valeur de n est 0\n",
            "La valeur de n est 0\n",
            "La valeur de n est 0\n",
            "La valeur de n est 0\n",
            "La valeur de n est 0\n",
            "La valeur de n est 0\n",
            "La valeur de n est 0\n",
            "La valeur de n est 0\n",
            "La valeur de n est 0\n",
            "La valeur de n est 0\n",
            "La valeur de n est 0\n",
            "La valeur de n est 0\n",
            "La valeur de n est 0\n",
            "La valeur de n est 0\n",
            "La valeur de n est 0\n",
            "La valeur de n est 0\n",
            "La valeur de n est 0\n",
            "La valeur de n est 0\n",
            "La valeur de n est 0\n",
            "La valeur de n est 0\n",
            "La valeur de n est 0\n",
            "La valeur de n est 0\n",
            "La valeur de n est 0\n",
            "La valeur de n est 0\n",
            "La valeur de n est 0\n",
            "La valeur de n est 0\n",
            "La valeur de n est 0\n",
            "La valeur de n est 0\n",
            "La valeur de n est 0\n",
            "La valeur de n est 0\n",
            "La valeur de n est 0\n",
            "La valeur de n est 0\n",
            "La valeur de n est 0\n",
            "La valeur de n est 0\n",
            "La valeur de n est 0\n",
            "La valeur de n est 0\n",
            "La valeur de n est 0\n",
            "La valeur de n est 0\n",
            "La valeur de n est 0\n",
            "La valeur de n est 0\n",
            "La valeur de n est 0\n",
            "La valeur de n est 0\n",
            "La valeur de n est 0\n",
            "La valeur de n est 0\n",
            "La valeur de n est 0\n",
            "La valeur de n est 0\n",
            "La valeur de n est 0\n",
            "La valeur de n est 0\n",
            "La valeur de n est 0\n",
            "La valeur de n est 0\n",
            "La valeur de n est 0\n",
            "La valeur de n est 0\n",
            "La valeur de n est 0\n",
            "La valeur de n est 0\n",
            "La valeur de n est 0\n",
            "La valeur de n est 0\n",
            "La valeur de n est 0\n",
            "La valeur de n est 0\n",
            "La valeur de n est 0\n",
            "La valeur de n est 0\n",
            "La valeur de n est 0\n",
            "La valeur de n est 0\n",
            "La valeur de n est 0\n",
            "La valeur de n est 0\n",
            "La valeur de n est 0\n",
            "La valeur de n est 0\n",
            "La valeur de n est 0\n",
            "La valeur de n est 0\n",
            "La valeur de n est 0\n",
            "La valeur de n est 0\n",
            "La valeur de n est 0\n",
            "La valeur de n est 0\n",
            "La valeur de n est 0\n",
            "La valeur de n est 0\n",
            "La valeur de n est 0\n",
            "La valeur de n est 0\n",
            "La valeur de n est 0\n",
            "La valeur de n est 0\n",
            "La valeur de n est 0\n",
            "La valeur de n est 0\n",
            "La valeur de n est 0\n",
            "La valeur de n est 0\n",
            "La valeur de n est 0\n",
            "La valeur de n est 0\n",
            "La valeur de n est 0\n",
            "La valeur de n est 0\n",
            "La valeur de n est 0\n",
            "La valeur de n est 0\n",
            "La valeur de n est 0\n",
            "La valeur de n est 0\n",
            "La valeur de n est 0\n",
            "La valeur de n est 0\n",
            "La valeur de n est 0\n",
            "La valeur de n est 0\n",
            "La valeur de n est 0\n",
            "La valeur de n est 0\n",
            "La valeur de n est 0\n",
            "La valeur de n est 0\n",
            "La valeur de n est 0\n",
            "La valeur de n est 0\n",
            "La valeur de n est 0\n",
            "La valeur de n est 0\n",
            "La valeur de n est 0\n",
            "La valeur de n est 0\n",
            "La valeur de n est 0\n",
            "La valeur de n est 0\n",
            "La valeur de n est 0\n",
            "La valeur de n est 0\n",
            "La valeur de n est 0\n",
            "La valeur de n est 0\n",
            "La valeur de n est 0\n",
            "La valeur de n est 0\n",
            "La valeur de n est 0\n",
            "La valeur de n est 0\n",
            "La valeur de n est 0\n",
            "La valeur de n est 0\n",
            "La valeur de n est 0\n",
            "La valeur de n est 0\n",
            "La valeur de n est 0\n",
            "La valeur de n est 0\n",
            "La valeur de n est 0\n",
            "La valeur de n est 0\n",
            "La valeur de n est 0\n",
            "La valeur de n est 0\n",
            "La valeur de n est 0\n",
            "La valeur de n est 0\n",
            "La valeur de n est 0\n",
            "La valeur de n est 0\n",
            "La valeur de n est 0\n",
            "La valeur de n est 0\n",
            "La valeur de n est 0\n",
            "La valeur de n est 0\n",
            "La valeur de n est 0\n",
            "La valeur de n est 0\n",
            "La valeur de n est 0\n",
            "La valeur de n est 0\n",
            "La valeur de n est 0\n",
            "La valeur de n est 0\n",
            "La valeur de n est 0\n",
            "La valeur de n est 0\n",
            "La valeur de n est 0\n",
            "La valeur de n est 0\n",
            "La valeur de n est 0\n",
            "La valeur de n est 0\n",
            "La valeur de n est 0\n",
            "La valeur de n est 0\n",
            "La valeur de n est 0\n",
            "La valeur de n est 0\n",
            "La valeur de n est 0\n",
            "La valeur de n est 0\n",
            "La valeur de n est 0\n",
            "La valeur de n est 0\n",
            "La valeur de n est 0\n",
            "La valeur de n est 0\n",
            "La valeur de n est 0\n",
            "La valeur de n est 0\n",
            "La valeur de n est 0\n",
            "La valeur de n est 0\n",
            "La valeur de n est 0\n",
            "La valeur de n est 0\n",
            "La valeur de n est 0\n",
            "La valeur de n est 0\n",
            "La valeur de n est 0\n",
            "La valeur de n est 0\n",
            "La valeur de n est 0\n",
            "La valeur de n est 0\n",
            "La valeur de n est 0\n",
            "La valeur de n est 0\n",
            "La valeur de n est 0\n",
            "La valeur de n est 0\n",
            "La valeur de n est 0\n",
            "La valeur de n est 0\n",
            "La valeur de n est 0\n",
            "La valeur de n est 0\n",
            "La valeur de n est 0\n",
            "La valeur de n est 0\n",
            "La valeur de n est 0\n",
            "La valeur de n est 0\n",
            "La valeur de n est 0\n",
            "La valeur de n est 0\n",
            "La valeur de n est 0\n",
            "La valeur de n est 0\n",
            "La valeur de n est 0\n",
            "La valeur de n est 0\n",
            "La valeur de n est 0\n",
            "La valeur de n est 0\n",
            "La valeur de n est 0\n",
            "La valeur de n est 0\n",
            "La valeur de n est 0\n",
            "La valeur de n est 0\n",
            "La valeur de n est 0\n",
            "La valeur de n est 0\n",
            "La valeur de n est 0\n",
            "La valeur de n est 0\n",
            "La valeur de n est 0\n",
            "La valeur de n est 0\n",
            "La valeur de n est 0\n",
            "La valeur de n est 0\n",
            "La valeur de n est 0\n",
            "La valeur de n est 0\n",
            "La valeur de n est 0\n",
            "La valeur de n est 0\n",
            "La valeur de n est 0\n",
            "La valeur de n est 0\n",
            "La valeur de n est 0\n",
            "La valeur de n est 0\n",
            "La valeur de n est 0\n",
            "La valeur de n est 0\n",
            "La valeur de n est 0\n",
            "La valeur de n est 0\n",
            "La valeur de n est 0\n",
            "La valeur de n est 0\n",
            "La valeur de n est 0\n",
            "La valeur de n est 0\n",
            "La valeur de n est 0\n",
            "La valeur de n est 0\n",
            "La valeur de n est 0\n",
            "La valeur de n est 0\n",
            "La valeur de n est 0\n",
            "La valeur de n est 0\n",
            "La valeur de n est 0\n",
            "La valeur de n est 0\n",
            "La valeur de n est 0\n",
            "La valeur de n est 0\n",
            "La valeur de n est 0\n",
            "La valeur de n est 0\n",
            "La valeur de n est 0\n",
            "La valeur de n est 0\n",
            "La valeur de n est 0\n",
            "La valeur de n est 0\n",
            "La valeur de n est 0\n",
            "La valeur de n est 0\n",
            "La valeur de n est 0\n",
            "La valeur de n est 0\n",
            "La valeur de n est 0\n",
            "La valeur de n est 0\n",
            "La valeur de n est 0\n",
            "La valeur de n est 0\n",
            "La valeur de n est 0\n",
            "La valeur de n est 0\n",
            "La valeur de n est 0\n",
            "La valeur de n est 0\n",
            "La valeur de n est 0\n",
            "La valeur de n est 0\n",
            "La valeur de n est 0\n",
            "La valeur de n est 0\n",
            "La valeur de n est 0\n",
            "La valeur de n est 0\n",
            "La valeur de n est 0\n",
            "La valeur de n est 0\n",
            "La valeur de n est 0\n",
            "La valeur de n est 0\n",
            "La valeur de n est 0\n",
            "La valeur de n est 0\n",
            "La valeur de n est 0\n",
            "La valeur de n est 0\n",
            "La valeur de n est 0\n",
            "La valeur de n est 0\n",
            "La valeur de n est 0\n",
            "La valeur de n est 0\n",
            "La valeur de n est 0\n",
            "La valeur de n est 0\n",
            "La valeur de n est 0\n",
            "La valeur de n est 0\n",
            "La valeur de n est 0\n",
            "La valeur de n est 0\n",
            "La valeur de n est 0\n",
            "La valeur de n est 0\n",
            "La valeur de n est 0\n",
            "La valeur de n est 0\n",
            "La valeur de n est 0\n",
            "La valeur de n est 0\n",
            "La valeur de n est 0\n",
            "La valeur de n est 0\n",
            "La valeur de n est 0\n",
            "La valeur de n est 0\n",
            "La valeur de n est 0\n",
            "La valeur de n est 0\n",
            "La valeur de n est 0\n",
            "La valeur de n est 0\n",
            "La valeur de n est 0\n",
            "La valeur de n est 0\n",
            "La valeur de n est 0\n",
            "La valeur de n est 0\n",
            "La valeur de n est 0\n",
            "La valeur de n est 0\n",
            "La valeur de n est 0\n",
            "La valeur de n est 0\n",
            "La valeur de n est 0\n",
            "La valeur de n est 0\n",
            "La valeur de n est 0\n",
            "La valeur de n est 0\n",
            "La valeur de n est 0\n",
            "La valeur de n est 0\n",
            "La valeur de n est 0\n",
            "La valeur de n est 0\n",
            "La valeur de n est 0\n",
            "La valeur de n est 0\n",
            "La valeur de n est 0\n",
            "La valeur de n est 0\n",
            "La valeur de n est 0\n",
            "La valeur de n est 0\n",
            "La valeur de n est 0\n",
            "La valeur de n est 0\n",
            "La valeur de n est 0\n",
            "La valeur de n est 0\n",
            "La valeur de n est 0\n",
            "La valeur de n est 0\n",
            "La valeur de n est 0\n",
            "La valeur de n est 0\n",
            "La valeur de n est 0\n",
            "La valeur de n est 0\n",
            "La valeur de n est 0\n",
            "La valeur de n est 0\n",
            "La valeur de n est 0\n",
            "La valeur de n est 0\n",
            "La valeur de n est 0\n",
            "La valeur de n est 0\n",
            "La valeur de n est 0\n",
            "La valeur de n est 0\n",
            "La valeur de n est 0\n",
            "La valeur de n est 0\n",
            "La valeur de n est 0\n",
            "La valeur de n est 0\n",
            "La valeur de n est 0\n",
            "La valeur de n est 0\n",
            "La valeur de n est 0\n",
            "La valeur de n est 0\n",
            "La valeur de n est 0\n",
            "La valeur de n est 0\n",
            "La valeur de n est 0\n",
            "La valeur de n est 0\n",
            "La valeur de n est 0\n",
            "La valeur de n est 0\n",
            "La valeur de n est 0\n",
            "La valeur de n est 0\n",
            "La valeur de n est 0\n",
            "La valeur de n est 0\n",
            "La valeur de n est 0\n",
            "La valeur de n est 0\n",
            "La valeur de n est 0\n",
            "La valeur de n est 0\n",
            "La valeur de n est 0\n",
            "La valeur de n est 0\n",
            "La valeur de n est 0\n",
            "La valeur de n est 0\n",
            "La valeur de n est 0\n",
            "La valeur de n est 0\n",
            "La valeur de n est 0\n",
            "La valeur de n est 0\n",
            "La valeur de n est 0\n",
            "La valeur de n est 0\n",
            "La valeur de n est 0\n",
            "La valeur de n est 0\n",
            "La valeur de n est 0\n",
            "La valeur de n est 0\n",
            "La valeur de n est 0\n",
            "La valeur de n est 0\n",
            "La valeur de n est 0\n",
            "La valeur de n est 0\n",
            "La valeur de n est 0\n",
            "La valeur de n est 0\n",
            "La valeur de n est 0\n",
            "La valeur de n est 0\n",
            "La valeur de n est 0\n",
            "La valeur de n est 0\n",
            "La valeur de n est 0\n",
            "La valeur de n est 0\n",
            "La valeur de n est 0\n",
            "La valeur de n est 0\n",
            "La valeur de n est 0\n",
            "La valeur de n est 0\n",
            "La valeur de n est 0\n",
            "La valeur de n est 0\n",
            "La valeur de n est 0\n",
            "La valeur de n est 0\n",
            "La valeur de n est 0\n",
            "La valeur de n est 0\n",
            "La valeur de n est 0\n",
            "La valeur de n est 0\n",
            "La valeur de n est 0\n",
            "La valeur de n est 0\n",
            "La valeur de n est 0\n",
            "La valeur de n est 0\n",
            "La valeur de n est 0\n",
            "La valeur de n est 0\n",
            "La valeur de n est 0\n",
            "La valeur de n est 0\n",
            "La valeur de n est 0\n",
            "La valeur de n est 0\n",
            "La valeur de n est 0\n",
            "La valeur de n est 0\n",
            "La valeur de n est 0\n",
            "La valeur de n est 0\n",
            "La valeur de n est 0\n",
            "La valeur de n est 0\n",
            "La valeur de n est 0\n",
            "La valeur de n est 0\n",
            "La valeur de n est 0\n",
            "La valeur de n est 0\n",
            "La valeur de n est 0\n",
            "La valeur de n est 0\n",
            "La valeur de n est 0\n",
            "La valeur de n est 0\n",
            "La valeur de n est 0\n",
            "La valeur de n est 0\n",
            "La valeur de n est 0\n",
            "La valeur de n est 0\n",
            "La valeur de n est 0\n",
            "La valeur de n est 0\n",
            "La valeur de n est 0\n",
            "La valeur de n est 0\n",
            "La valeur de n est 0\n",
            "La valeur de n est 0\n",
            "La valeur de n est 0\n",
            "La valeur de n est 0\n",
            "La valeur de n est 0\n",
            "La valeur de n est 0\n",
            "La valeur de n est 0\n",
            "La valeur de n est 0\n",
            "La valeur de n est 0\n",
            "La valeur de n est 0\n",
            "La valeur de n est 0\n",
            "La valeur de n est 0\n",
            "La valeur de n est 0\n",
            "La valeur de n est 0\n",
            "La valeur de n est 0\n",
            "La valeur de n est 0\n",
            "La valeur de n est 0\n",
            "La valeur de n est 0\n",
            "La valeur de n est 0\n",
            "La valeur de n est 0\n",
            "La valeur de n est 0\n",
            "La valeur de n est 0\n",
            "La valeur de n est 0\n",
            "La valeur de n est 0\n",
            "La valeur de n est 0\n",
            "La valeur de n est 0\n",
            "La valeur de n est 0\n",
            "La valeur de n est 0\n",
            "La valeur de n est 0\n",
            "La valeur de n est 0\n",
            "La valeur de n est 0\n",
            "La valeur de n est 0\n",
            "La valeur de n est 0\n",
            "La valeur de n est 0\n",
            "La valeur de n est 0\n",
            "La valeur de n est 0\n",
            "La valeur de n est 0\n",
            "La valeur de n est 0\n",
            "La valeur de n est 0\n",
            "La valeur de n est 0\n",
            "La valeur de n est 0\n",
            "La valeur de n est 0\n",
            "La valeur de n est 0\n",
            "La valeur de n est 0\n",
            "La valeur de n est 0\n",
            "La valeur de n est 0\n",
            "La valeur de n est 0\n",
            "La valeur de n est 0\n",
            "La valeur de n est 0\n",
            "La valeur de n est 0\n",
            "La valeur de n est 0\n",
            "La valeur de n est 0\n",
            "La valeur de n est 0\n",
            "La valeur de n est 0\n",
            "La valeur de n est 0\n",
            "La valeur de n est 0\n",
            "La valeur de n est 0\n",
            "La valeur de n est 0\n",
            "La valeur de n est 0\n",
            "La valeur de n est 0\n",
            "La valeur de n est 0\n",
            "La valeur de n est 0\n",
            "La valeur de n est 0\n",
            "La valeur de n est 0\n",
            "La valeur de n est 0\n",
            "La valeur de n est 0\n",
            "La valeur de n est 0\n",
            "La valeur de n est 0\n",
            "La valeur de n est 0\n",
            "La valeur de n est 0\n",
            "La valeur de n est 0\n",
            "La valeur de n est 0\n",
            "La valeur de n est 0\n",
            "La valeur de n est 0\n",
            "La valeur de n est 0\n",
            "La valeur de n est 0\n",
            "La valeur de n est 0\n",
            "La valeur de n est 0\n",
            "La valeur de n est 0\n",
            "La valeur de n est 0\n",
            "La valeur de n est 0\n",
            "La valeur de n est 0\n",
            "La valeur de n est 0\n",
            "La valeur de n est 0\n",
            "La valeur de n est 0\n",
            "La valeur de n est 0\n",
            "La valeur de n est 0\n",
            "La valeur de n est 0\n",
            "La valeur de n est 0\n",
            "La valeur de n est 0\n",
            "La valeur de n est 0\n",
            "La valeur de n est 0\n",
            "La valeur de n est 0\n",
            "La valeur de n est 0\n",
            "La valeur de n est 0\n",
            "La valeur de n est 0\n",
            "La valeur de n est 0\n",
            "La valeur de n est 0\n",
            "La valeur de n est 0\n",
            "La valeur de n est 0\n",
            "La valeur de n est 0\n",
            "La valeur de n est 0\n",
            "La valeur de n est 0\n",
            "La valeur de n est 0\n",
            "La valeur de n est 0\n",
            "La valeur de n est 0\n",
            "La valeur de n est 0\n",
            "La valeur de n est 0\n",
            "La valeur de n est 0\n",
            "La valeur de n est 0\n",
            "La valeur de n est 0\n",
            "La valeur de n est 0\n",
            "La valeur de n est 0\n",
            "La valeur de n est 0\n",
            "La valeur de n est 0\n",
            "La valeur de n est 0\n",
            "La valeur de n est 0\n",
            "La valeur de n est 0\n",
            "La valeur de n est 0\n",
            "La valeur de n est 0\n",
            "La valeur de n est 0\n",
            "La valeur de n est 0\n",
            "La valeur de n est 0\n",
            "La valeur de n est 0\n",
            "La valeur de n est 0\n",
            "La valeur de n est 0\n",
            "La valeur de n est 0\n",
            "La valeur de n est 0\n",
            "La valeur de n est 0\n",
            "La valeur de n est 0\n",
            "La valeur de n est 0\n",
            "La valeur de n est 0\n",
            "La valeur de n est 0\n",
            "La valeur de n est 0\n",
            "La valeur de n est 0\n",
            "La valeur de n est 0\n",
            "La valeur de n est 0\n",
            "La valeur de n est 0\n",
            "La valeur de n est 0\n",
            "La valeur de n est 0\n",
            "La valeur de n est 0\n",
            "La valeur de n est 0\n",
            "La valeur de n est 0\n",
            "La valeur de n est 0\n",
            "La valeur de n est 0\n",
            "La valeur de n est 0\n",
            "La valeur de n est 0\n",
            "La valeur de n est 0\n",
            "La valeur de n est 0\n",
            "La valeur de n est 0\n",
            "La valeur de n est 0\n",
            "La valeur de n est 0\n",
            "La valeur de n est 0\n",
            "La valeur de n est 0\n",
            "La valeur de n est 0\n",
            "La valeur de n est 0\n",
            "La valeur de n est 0\n",
            "La valeur de n est 0\n",
            "La valeur de n est 0\n",
            "La valeur de n est 0\n",
            "La valeur de n est 0\n",
            "La valeur de n est 0\n",
            "La valeur de n est 0\n",
            "La valeur de n est 0\n",
            "La valeur de n est 0\n",
            "La valeur de n est 0\n",
            "La valeur de n est 0\n",
            "La valeur de n est 0\n",
            "La valeur de n est 0\n",
            "La valeur de n est 0\n",
            "La valeur de n est 0\n",
            "La valeur de n est 0\n",
            "La valeur de n est 0\n",
            "La valeur de n est 0\n",
            "La valeur de n est 0\n",
            "La valeur de n est 0\n",
            "La valeur de n est 0\n",
            "La valeur de n est 0\n",
            "La valeur de n est 0\n",
            "La valeur de n est 0\n",
            "La valeur de n est 0\n",
            "La valeur de n est 0\n",
            "La valeur de n est 0\n",
            "La valeur de n est 0\n",
            "La valeur de n est 0\n",
            "La valeur de n est 0\n",
            "La valeur de n est 0\n",
            "La valeur de n est 0\n",
            "La valeur de n est 0\n",
            "La valeur de n est 0\n",
            "La valeur de n est 0\n",
            "La valeur de n est 0\n",
            "La valeur de n est 0\n",
            "La valeur de n est 0\n",
            "La valeur de n est 0\n",
            "La valeur de n est 0\n",
            "La valeur de n est 0\n",
            "La valeur de n est 0\n",
            "La valeur de n est 0\n",
            "La valeur de n est 0\n",
            "La valeur de n est 0\n",
            "La valeur de n est 0\n",
            "La valeur de n est 0\n",
            "La valeur de n est 0\n",
            "La valeur de n est 0\n",
            "La valeur de n est 0\n",
            "La valeur de n est 0\n",
            "La valeur de n est 0\n",
            "La valeur de n est 0\n",
            "La valeur de n est 0\n",
            "La valeur de n est 0\n",
            "La valeur de n est 0\n",
            "La valeur de n est 0\n",
            "La valeur de n est 0\n",
            "La valeur de n est 0\n",
            "La valeur de n est 0\n",
            "La valeur de n est 0\n",
            "La valeur de n est 0\n",
            "La valeur de n est 0\n",
            "La valeur de n est 0\n",
            "La valeur de n est 0\n",
            "La valeur de n est 0\n",
            "La valeur de n est 0\n",
            "La valeur de n est 0\n",
            "La valeur de n est 0\n",
            "La valeur de n est 0\n",
            "La valeur de n est 0\n",
            "La valeur de n est 0\n",
            "La valeur de n est 0\n",
            "La valeur de n est 0\n",
            "La valeur de n est 0\n",
            "La valeur de n est 0\n",
            "La valeur de n est 0\n",
            "La valeur de n est 0\n",
            "La valeur de n est 0\n",
            "La valeur de n est 0\n",
            "La valeur de n est 0\n",
            "La valeur de n est 0\n",
            "La valeur de n est 0\n",
            "La valeur de n est 0\n",
            "La valeur de n est 0\n",
            "La valeur de n est 0\n",
            "La valeur de n est 0\n",
            "La valeur de n est 0\n",
            "La valeur de n est 0\n",
            "La valeur de n est 0\n",
            "La valeur de n est 0\n",
            "La valeur de n est 0\n",
            "La valeur de n est 0\n",
            "La valeur de n est 0\n",
            "La valeur de n est 0\n",
            "La valeur de n est 0\n",
            "La valeur de n est 0\n",
            "La valeur de n est 0\n",
            "La valeur de n est 0\n",
            "La valeur de n est 0\n",
            "La valeur de n est 0\n",
            "La valeur de n est 0\n",
            "La valeur de n est 0\n",
            "La valeur de n est 0\n",
            "La valeur de n est 0\n",
            "La valeur de n est 0\n",
            "La valeur de n est 0\n",
            "La valeur de n est 0\n",
            "La valeur de n est 0\n",
            "La valeur de n est 0\n",
            "La valeur de n est 0\n",
            "La valeur de n est 0\n",
            "La valeur de n est 0\n",
            "La valeur de n est 0\n",
            "La valeur de n est 0\n",
            "La valeur de n est 0\n",
            "La valeur de n est 0\n",
            "La valeur de n est 0\n",
            "La valeur de n est 0\n",
            "La valeur de n est 0\n",
            "La valeur de n est 0\n",
            "La valeur de n est 0\n",
            "La valeur de n est 0\n",
            "La valeur de n est 0\n",
            "La valeur de n est 0\n",
            "La valeur de n est 0\n",
            "La valeur de n est 0\n",
            "La valeur de n est 0\n",
            "La valeur de n est 0\n",
            "La valeur de n est 0\n",
            "La valeur de n est 0\n",
            "La valeur de n est 0\n",
            "La valeur de n est 0\n",
            "La valeur de n est 0\n",
            "La valeur de n est 0\n",
            "La valeur de n est 0\n",
            "La valeur de n est 0\n",
            "La valeur de n est 0\n",
            "La valeur de n est 0\n",
            "La valeur de n est 0\n",
            "La valeur de n est 0\n",
            "La valeur de n est 0\n",
            "La valeur de n est 0\n",
            "La valeur de n est 0\n",
            "La valeur de n est 0\n",
            "La valeur de n est 0\n",
            "La valeur de n est 0\n",
            "La valeur de n est 0\n",
            "La valeur de n est 0\n",
            "La valeur de n est 0\n",
            "La valeur de n est 0\n",
            "La valeur de n est 0\n",
            "La valeur de n est 0\n",
            "La valeur de n est 0\n",
            "La valeur de n est 0\n",
            "La valeur de n est 0\n",
            "La valeur de n est 0\n",
            "La valeur de n est 0\n",
            "La valeur de n est 0\n",
            "La valeur de n est 0\n",
            "La valeur de n est 0\n",
            "La valeur de n est 0\n",
            "La valeur de n est 0\n",
            "La valeur de n est 0\n",
            "La valeur de n est 0\n",
            "La valeur de n est 0\n",
            "La valeur de n est 0\n",
            "La valeur de n est 0\n",
            "La valeur de n est 0\n",
            "La valeur de n est 0\n",
            "La valeur de n est 0\n",
            "La valeur de n est 0\n",
            "La valeur de n est 0\n",
            "La valeur de n est 0\n",
            "La valeur de n est 0\n",
            "La valeur de n est 0\n",
            "La valeur de n est 0\n",
            "La valeur de n est 0\n",
            "La valeur de n est 0\n",
            "La valeur de n est 0\n",
            "La valeur de n est 0\n",
            "La valeur de n est 0\n",
            "La valeur de n est 0\n",
            "La valeur de n est 0\n",
            "La valeur de n est 0\n",
            "La valeur de n est 0\n",
            "La valeur de n est 0\n",
            "La valeur de n est 0\n",
            "La valeur de n est 0\n",
            "La valeur de n est 0\n",
            "La valeur de n est 0\n",
            "La valeur de n est 0\n",
            "La valeur de n est 0\n",
            "La valeur de n est 0\n",
            "La valeur de n est 0\n",
            "La valeur de n est 0\n",
            "La valeur de n est 0\n",
            "La valeur de n est 0\n",
            "La valeur de n est 0\n",
            "La valeur de n est 0\n",
            "La valeur de n est 0\n",
            "La valeur de n est 0\n",
            "La valeur de n est 0\n",
            "La valeur de n est 0\n",
            "La valeur de n est 0\n",
            "La valeur de n est 0\n",
            "La valeur de n est 0\n",
            "La valeur de n est 0\n",
            "La valeur de n est 0\n",
            "La valeur de n est 0\n",
            "La valeur de n est 0\n",
            "La valeur de n est 0\n",
            "La valeur de n est 0\n",
            "La valeur de n est 0\n",
            "La valeur de n est 0\n",
            "La valeur de n est 0\n",
            "La valeur de n est 0\n",
            "La valeur de n est 0\n",
            "La valeur de n est 0\n",
            "La valeur de n est 0\n",
            "La valeur de n est 0\n",
            "La valeur de n est 0\n",
            "La valeur de n est 0\n",
            "La valeur de n est 0\n",
            "La valeur de n est 0\n",
            "La valeur de n est 0\n",
            "La valeur de n est 0\n",
            "La valeur de n est 0\n",
            "La valeur de n est 0\n",
            "La valeur de n est 0\n",
            "La valeur de n est 0\n",
            "La valeur de n est 0\n",
            "La valeur de n est 0\n",
            "La valeur de n est 0\n",
            "La valeur de n est 0\n",
            "La valeur de n est 0\n",
            "La valeur de n est 0\n",
            "La valeur de n est 0\n",
            "La valeur de n est 0\n",
            "La valeur de n est 0\n",
            "La valeur de n est 0\n",
            "La valeur de n est 0\n",
            "La valeur de n est 0\n",
            "La valeur de n est 0\n",
            "La valeur de n est 0\n",
            "La valeur de n est 0\n",
            "La valeur de n est 0\n",
            "La valeur de n est 0\n",
            "La valeur de n est 0\n",
            "La valeur de n est 0\n",
            "La valeur de n est 0\n",
            "La valeur de n est 0\n",
            "La valeur de n est 0\n",
            "La valeur de n est 0\n",
            "La valeur de n est 0\n",
            "La valeur de n est 0\n",
            "La valeur de n est 0\n",
            "La valeur de n est 0\n",
            "La valeur de n est 0\n",
            "La valeur de n est 0\n",
            "La valeur de n est 0\n",
            "La valeur de n est 0\n",
            "La valeur de n est 0\n",
            "La valeur de n est 0\n",
            "La valeur de n est 0\n",
            "La valeur de n est 0\n",
            "La valeur de n est 0\n",
            "La valeur de n est 0\n",
            "La valeur de n est 0\n",
            "La valeur de n est 0\n",
            "La valeur de n est 0\n",
            "La valeur de n est 0\n",
            "La valeur de n est 0\n",
            "La valeur de n est 0\n",
            "La valeur de n est 0\n",
            "La valeur de n est 0\n",
            "La valeur de n est 0\n",
            "La valeur de n est 0\n",
            "La valeur de n est 0\n",
            "La valeur de n est 0\n",
            "La valeur de n est 0\n",
            "La valeur de n est 0\n",
            "La valeur de n est 0\n",
            "La valeur de n est 0\n",
            "La valeur de n est 0\n",
            "La valeur de n est 0\n",
            "La valeur de n est 0\n",
            "La valeur de n est 0\n",
            "La valeur de n est 0\n",
            "La valeur de n est 0\n",
            "La valeur de n est 0\n",
            "La valeur de n est 0\n",
            "La valeur de n est 0\n",
            "La valeur de n est 0\n",
            "La valeur de n est 0\n",
            "La valeur de n est 0\n",
            "La valeur de n est 0\n",
            "La valeur de n est 0\n",
            "La valeur de n est 0\n",
            "La valeur de n est 0\n",
            "La valeur de n est 0\n",
            "La valeur de n est 0\n",
            "La valeur de n est 0\n",
            "La valeur de n est 0\n",
            "La valeur de n est 0\n",
            "La valeur de n est 0\n",
            "La valeur de n est 0\n",
            "La valeur de n est 0\n",
            "La valeur de n est 0\n",
            "La valeur de n est 0\n",
            "La valeur de n est 0\n",
            "La valeur de n est 0\n",
            "La valeur de n est 0\n",
            "La valeur de n est 0\n",
            "La valeur de n est 0\n",
            "La valeur de n est 0\n",
            "La valeur de n est 0\n",
            "La valeur de n est 0\n",
            "La valeur de n est 0\n",
            "La valeur de n est 0\n",
            "La valeur de n est 0\n",
            "La valeur de n est 0\n",
            "La valeur de n est 0\n",
            "La valeur de n est 0\n",
            "La valeur de n est 0\n",
            "La valeur de n est 0\n",
            "La valeur de n est 0\n",
            "La valeur de n est 0\n",
            "La valeur de n est 0\n",
            "La valeur de n est 0\n",
            "La valeur de n est 0\n",
            "La valeur de n est 0\n",
            "La valeur de n est 0\n",
            "La valeur de n est 0\n",
            "La valeur de n est 0\n",
            "La valeur de n est 0\n",
            "La valeur de n est 0\n",
            "La valeur de n est 0\n",
            "La valeur de n est 0\n",
            "La valeur de n est 0\n",
            "La valeur de n est 0\n",
            "La valeur de n est 0\n",
            "La valeur de n est 0\n",
            "La valeur de n est 0\n",
            "La valeur de n est 0\n",
            "La valeur de n est 0\n",
            "La valeur de n est 0\n",
            "La valeur de n est 0\n",
            "La valeur de n est 0\n",
            "La valeur de n est 0\n",
            "La valeur de n est 0\n",
            "La valeur de n est 0\n",
            "La valeur de n est 0\n",
            "La valeur de n est 0\n",
            "La valeur de n est 0\n",
            "La valeur de n est 0\n",
            "La valeur de n est 0\n",
            "La valeur de n est 0\n",
            "La valeur de n est 0\n",
            "La valeur de n est 0\n",
            "La valeur de n est 0\n",
            "La valeur de n est 0\n",
            "La valeur de n est 0\n",
            "La valeur de n est 0\n",
            "La valeur de n est 0\n",
            "La valeur de n est 0\n",
            "La valeur de n est 0\n",
            "La valeur de n est 0\n",
            "La valeur de n est 0\n",
            "La valeur de n est 0\n",
            "La valeur de n est 0\n",
            "La valeur de n est 0\n",
            "La valeur de n est 0\n",
            "La valeur de n est 0\n",
            "La valeur de n est 0\n",
            "La valeur de n est 0\n",
            "La valeur de n est 0\n",
            "La valeur de n est 0\n",
            "La valeur de n est 0\n",
            "La valeur de n est 0\n",
            "La valeur de n est 0\n",
            "La valeur de n est 0\n",
            "La valeur de n est 0\n",
            "La valeur de n est 0\n",
            "La valeur de n est 0\n",
            "La valeur de n est 0\n",
            "La valeur de n est 0\n",
            "La valeur de n est 0\n",
            "La valeur de n est 0\n",
            "La valeur de n est 0\n",
            "La valeur de n est 0\n",
            "La valeur de n est 0\n",
            "La valeur de n est 0\n",
            "La valeur de n est 0\n",
            "La valeur de n est 0\n",
            "La valeur de n est 0\n",
            "La valeur de n est 0\n",
            "La valeur de n est 0\n",
            "La valeur de n est 0\n",
            "La valeur de n est 0\n",
            "La valeur de n est 0\n",
            "La valeur de n est 0\n",
            "La valeur de n est 0\n",
            "La valeur de n est 0\n",
            "La valeur de n est 0\n",
            "La valeur de n est 0\n",
            "La valeur de n est 0\n",
            "La valeur de n est 0\n",
            "La valeur de n est 0\n",
            "La valeur de n est 0\n",
            "La valeur de n est 0\n",
            "La valeur de n est 0\n",
            "La valeur de n est 0\n",
            "La valeur de n est 0\n",
            "La valeur de n est 0\n",
            "La valeur de n est 0\n",
            "La valeur de n est 0\n",
            "La valeur de n est 0\n",
            "La valeur de n est 0\n",
            "La valeur de n est 0\n",
            "La valeur de n est 0\n",
            "La valeur de n est 0\n",
            "La valeur de n est 0\n",
            "La valeur de n est 0\n",
            "La valeur de n est 0\n",
            "La valeur de n est 0\n",
            "La valeur de n est 0\n",
            "La valeur de n est 0\n",
            "La valeur de n est 0\n",
            "La valeur de n est 0\n",
            "La valeur de n est 0\n",
            "La valeur de n est 0\n",
            "La valeur de n est 0\n",
            "La valeur de n est 0\n",
            "La valeur de n est 0\n",
            "La valeur de n est 0\n",
            "La valeur de n est 0\n",
            "La valeur de n est 0\n",
            "La valeur de n est 0\n",
            "La valeur de n est 0\n",
            "La valeur de n est 0\n",
            "La valeur de n est 0\n",
            "La valeur de n est 0\n",
            "La valeur de n est 0\n",
            "La valeur de n est 0\n",
            "La valeur de n est 0\n",
            "La valeur de n est 0\n",
            "La valeur de n est 0\n",
            "La valeur de n est 0\n",
            "La valeur de n est 0\n",
            "La valeur de n est 0\n",
            "La valeur de n est 0\n",
            "La valeur de n est 0\n",
            "La valeur de n est 0\n",
            "La valeur de n est 0\n",
            "La valeur de n est 0\n",
            "La valeur de n est 0\n",
            "La valeur de n est 0\n",
            "La valeur de n est 0\n",
            "La valeur de n est 0\n",
            "La valeur de n est 0\n",
            "La valeur de n est 0\n",
            "La valeur de n est 0\n",
            "La valeur de n est 0\n",
            "La valeur de n est 0\n",
            "La valeur de n est 0\n",
            "La valeur de n est 0\n",
            "La valeur de n est 0\n",
            "La valeur de n est 0\n",
            "La valeur de n est 0\n",
            "La valeur de n est 0\n",
            "La valeur de n est 0\n",
            "La valeur de n est 0\n",
            "La valeur de n est 0\n",
            "La valeur de n est 0\n",
            "La valeur de n est 0\n",
            "La valeur de n est 0\n",
            "La valeur de n est 0\n",
            "La valeur de n est 0\n",
            "La valeur de n est 0\n",
            "La valeur de n est 0\n",
            "La valeur de n est 0\n",
            "La valeur de n est 0\n",
            "La valeur de n est 0\n",
            "La valeur de n est 0\n",
            "La valeur de n est 0\n",
            "La valeur de n est 0\n",
            "La valeur de n est 0\n",
            "La valeur de n est 0\n",
            "La valeur de n est 0\n",
            "La valeur de n est 0\n",
            "La valeur de n est 0\n",
            "La valeur de n est 0\n",
            "La valeur de n est 0\n",
            "La valeur de n est 0\n",
            "La valeur de n est 0\n",
            "La valeur de n est 0\n",
            "La valeur de n est 0\n",
            "La valeur de n est 0\n",
            "La valeur de n est 0\n",
            "La valeur de n est 0\n",
            "La valeur de n est 0\n",
            "La valeur de n est 0\n",
            "La valeur de n est 0\n",
            "La valeur de n est 0\n",
            "La valeur de n est 0\n",
            "La valeur de n est 0\n",
            "La valeur de n est 0\n",
            "La valeur de n est 0\n",
            "La valeur de n est 0\n",
            "La valeur de n est 0\n",
            "La valeur de n est 0\n",
            "La valeur de n est 0\n",
            "La valeur de n est 0\n",
            "La valeur de n est 0\n",
            "La valeur de n est 0\n",
            "La valeur de n est 0\n",
            "La valeur de n est 0\n",
            "La valeur de n est 0\n",
            "La valeur de n est 0\n",
            "La valeur de n est 0\n",
            "La valeur de n est 0\n",
            "La valeur de n est 0\n",
            "La valeur de n est 0\n",
            "La valeur de n est 0\n",
            "La valeur de n est 0\n",
            "La valeur de n est 0\n",
            "La valeur de n est 0\n",
            "La valeur de n est 0\n",
            "La valeur de n est 0\n",
            "La valeur de n est 0\n",
            "La valeur de n est 0\n",
            "La valeur de n est 0\n",
            "La valeur de n est 0\n",
            "La valeur de n est 0\n",
            "La valeur de n est 0\n",
            "La valeur de n est 0\n",
            "La valeur de n est 0\n",
            "La valeur de n est 0\n",
            "La valeur de n est 0\n",
            "La valeur de n est 0\n",
            "La valeur de n est 0\n",
            "La valeur de n est 0\n",
            "La valeur de n est 0\n",
            "La valeur de n est 0\n",
            "La valeur de n est 0\n",
            "La valeur de n est 0\n",
            "La valeur de n est 0\n",
            "La valeur de n est 0\n",
            "La valeur de n est 0\n",
            "La valeur de n est 0\n",
            "La valeur de n est 0\n",
            "La valeur de n est 0\n",
            "La valeur de n est 0\n",
            "La valeur de n est 0\n",
            "La valeur de n est 0\n",
            "La valeur de n est 0\n",
            "La valeur de n est 0\n",
            "La valeur de n est 0\n",
            "La valeur de n est 0\n",
            "La valeur de n est 0\n",
            "La valeur de n est 0\n",
            "La valeur de n est 0\n",
            "La valeur de n est 0\n",
            "La valeur de n est 0\n",
            "La valeur de n est 0\n",
            "La valeur de n est 0\n",
            "La valeur de n est 0\n",
            "La valeur de n est 0\n",
            "La valeur de n est 0\n",
            "La valeur de n est 0\n",
            "La valeur de n est 0\n",
            "La valeur de n est 0\n",
            "La valeur de n est 0\n",
            "La valeur de n est 0\n",
            "La valeur de n est 0\n",
            "La valeur de n est 0\n",
            "La valeur de n est 0\n",
            "La valeur de n est 0\n",
            "La valeur de n est 0\n",
            "La valeur de n est 0\n",
            "La valeur de n est 0\n",
            "La valeur de n est 0\n",
            "La valeur de n est 0\n",
            "La valeur de n est 0\n",
            "La valeur de n est 0\n",
            "La valeur de n est 0\n",
            "La valeur de n est 0\n",
            "La valeur de n est 0\n",
            "La valeur de n est 0\n",
            "La valeur de n est 0\n",
            "La valeur de n est 0\n",
            "La valeur de n est 0\n",
            "La valeur de n est 0\n",
            "La valeur de n est 0\n",
            "La valeur de n est 0\n",
            "La valeur de n est 0\n",
            "La valeur de n est 0\n"
          ]
        },
        {
          "output_type": "error",
          "ename": "KeyboardInterrupt",
          "evalue": "",
          "traceback": [
            "\u001b[0;31m---------------------------------------------------------------------------\u001b[0m",
            "\u001b[0;31mKeyboardInterrupt\u001b[0m                         Traceback (most recent call last)",
            "\u001b[0;32m<ipython-input-22-8f1d5c86d70f>\u001b[0m in \u001b[0;36m<cell line: 1>\u001b[0;34m()\u001b[0m\n\u001b[1;32m      1\u001b[0m \u001b[0;32mwhile\u001b[0m \u001b[0mn\u001b[0m \u001b[0;34m<\u001b[0m \u001b[0;36m10\u001b[0m\u001b[0;34m:\u001b[0m\u001b[0;34m\u001b[0m\u001b[0;34m\u001b[0m\u001b[0m\n\u001b[0;32m----> 2\u001b[0;31m   \u001b[0mprint\u001b[0m\u001b[0;34m(\u001b[0m\u001b[0;34m\"La valeur de n est \"\u001b[0m \u001b[0;34m+\u001b[0m \u001b[0mstr\u001b[0m\u001b[0;34m(\u001b[0m\u001b[0mn\u001b[0m\u001b[0;34m)\u001b[0m\u001b[0;34m)\u001b[0m\u001b[0;34m\u001b[0m\u001b[0;34m\u001b[0m\u001b[0m\n\u001b[0m",
            "\u001b[0;32m/usr/local/lib/python3.10/dist-packages/ipykernel/iostream.py\u001b[0m in \u001b[0;36mwrite\u001b[0;34m(self, string)\u001b[0m\n\u001b[1;32m    400\u001b[0m             \u001b[0mis_child\u001b[0m \u001b[0;34m=\u001b[0m \u001b[0;34m(\u001b[0m\u001b[0;32mnot\u001b[0m \u001b[0mself\u001b[0m\u001b[0;34m.\u001b[0m\u001b[0m_is_master_process\u001b[0m\u001b[0;34m(\u001b[0m\u001b[0;34m)\u001b[0m\u001b[0;34m)\u001b[0m\u001b[0;34m\u001b[0m\u001b[0;34m\u001b[0m\u001b[0m\n\u001b[1;32m    401\u001b[0m             \u001b[0;31m# only touch the buffer in the IO thread to avoid races\u001b[0m\u001b[0;34m\u001b[0m\u001b[0;34m\u001b[0m\u001b[0m\n\u001b[0;32m--> 402\u001b[0;31m             \u001b[0mself\u001b[0m\u001b[0;34m.\u001b[0m\u001b[0mpub_thread\u001b[0m\u001b[0;34m.\u001b[0m\u001b[0mschedule\u001b[0m\u001b[0;34m(\u001b[0m\u001b[0;32mlambda\u001b[0m \u001b[0;34m:\u001b[0m \u001b[0mself\u001b[0m\u001b[0;34m.\u001b[0m\u001b[0m_buffer\u001b[0m\u001b[0;34m.\u001b[0m\u001b[0mwrite\u001b[0m\u001b[0;34m(\u001b[0m\u001b[0mstring\u001b[0m\u001b[0;34m)\u001b[0m\u001b[0;34m)\u001b[0m\u001b[0;34m\u001b[0m\u001b[0;34m\u001b[0m\u001b[0m\n\u001b[0m\u001b[1;32m    403\u001b[0m             \u001b[0;32mif\u001b[0m \u001b[0mis_child\u001b[0m\u001b[0;34m:\u001b[0m\u001b[0;34m\u001b[0m\u001b[0;34m\u001b[0m\u001b[0m\n\u001b[1;32m    404\u001b[0m                 \u001b[0;31m# mp.Pool cannot be trusted to flush promptly (or ever),\u001b[0m\u001b[0;34m\u001b[0m\u001b[0;34m\u001b[0m\u001b[0m\n",
            "\u001b[0;32m/usr/local/lib/python3.10/dist-packages/ipykernel/iostream.py\u001b[0m in \u001b[0;36mschedule\u001b[0;34m(self, f)\u001b[0m\n\u001b[1;32m    201\u001b[0m             \u001b[0mself\u001b[0m\u001b[0;34m.\u001b[0m\u001b[0m_events\u001b[0m\u001b[0;34m.\u001b[0m\u001b[0mappend\u001b[0m\u001b[0;34m(\u001b[0m\u001b[0mf\u001b[0m\u001b[0;34m)\u001b[0m\u001b[0;34m\u001b[0m\u001b[0;34m\u001b[0m\u001b[0m\n\u001b[1;32m    202\u001b[0m             \u001b[0;31m# wake event thread (message content is ignored)\u001b[0m\u001b[0;34m\u001b[0m\u001b[0;34m\u001b[0m\u001b[0m\n\u001b[0;32m--> 203\u001b[0;31m             \u001b[0mself\u001b[0m\u001b[0;34m.\u001b[0m\u001b[0m_event_pipe\u001b[0m\u001b[0;34m.\u001b[0m\u001b[0msend\u001b[0m\u001b[0;34m(\u001b[0m\u001b[0;34mb''\u001b[0m\u001b[0;34m)\u001b[0m\u001b[0;34m\u001b[0m\u001b[0;34m\u001b[0m\u001b[0m\n\u001b[0m\u001b[1;32m    204\u001b[0m         \u001b[0;32melse\u001b[0m\u001b[0;34m:\u001b[0m\u001b[0;34m\u001b[0m\u001b[0;34m\u001b[0m\u001b[0m\n\u001b[1;32m    205\u001b[0m             \u001b[0mf\u001b[0m\u001b[0;34m(\u001b[0m\u001b[0;34m)\u001b[0m\u001b[0;34m\u001b[0m\u001b[0;34m\u001b[0m\u001b[0m\n",
            "\u001b[0;32m/usr/local/lib/python3.10/dist-packages/zmq/sugar/socket.py\u001b[0m in \u001b[0;36msend\u001b[0;34m(self, data, flags, copy, track, routing_id, group)\u001b[0m\n\u001b[1;32m    616\u001b[0m                 )\n\u001b[1;32m    617\u001b[0m             \u001b[0mdata\u001b[0m\u001b[0;34m.\u001b[0m\u001b[0mgroup\u001b[0m \u001b[0;34m=\u001b[0m \u001b[0mgroup\u001b[0m\u001b[0;34m\u001b[0m\u001b[0;34m\u001b[0m\u001b[0m\n\u001b[0;32m--> 618\u001b[0;31m         \u001b[0;32mreturn\u001b[0m \u001b[0msuper\u001b[0m\u001b[0;34m(\u001b[0m\u001b[0;34m)\u001b[0m\u001b[0;34m.\u001b[0m\u001b[0msend\u001b[0m\u001b[0;34m(\u001b[0m\u001b[0mdata\u001b[0m\u001b[0;34m,\u001b[0m \u001b[0mflags\u001b[0m\u001b[0;34m=\u001b[0m\u001b[0mflags\u001b[0m\u001b[0;34m,\u001b[0m \u001b[0mcopy\u001b[0m\u001b[0;34m=\u001b[0m\u001b[0mcopy\u001b[0m\u001b[0;34m,\u001b[0m \u001b[0mtrack\u001b[0m\u001b[0;34m=\u001b[0m\u001b[0mtrack\u001b[0m\u001b[0;34m)\u001b[0m\u001b[0;34m\u001b[0m\u001b[0;34m\u001b[0m\u001b[0m\n\u001b[0m\u001b[1;32m    619\u001b[0m \u001b[0;34m\u001b[0m\u001b[0m\n\u001b[1;32m    620\u001b[0m     def send_multipart(\n",
            "\u001b[0;32mzmq/backend/cython/socket.pyx\u001b[0m in \u001b[0;36mzmq.backend.cython.socket.Socket.send\u001b[0;34m()\u001b[0m\n",
            "\u001b[0;32mzmq/backend/cython/socket.pyx\u001b[0m in \u001b[0;36mzmq.backend.cython.socket.Socket.send\u001b[0;34m()\u001b[0m\n",
            "\u001b[0;32mzmq/backend/cython/socket.pyx\u001b[0m in \u001b[0;36mzmq.backend.cython.socket._send_copy\u001b[0;34m()\u001b[0m\n",
            "\u001b[0;32m/usr/local/lib/python3.10/dist-packages/zmq/backend/cython/checkrc.pxd\u001b[0m in \u001b[0;36mzmq.backend.cython.checkrc._check_rc\u001b[0;34m()\u001b[0m\n",
            "\u001b[0;31mKeyboardInterrupt\u001b[0m: "
          ]
        }
      ]
    },
    {
      "cell_type": "code",
      "source": [],
      "metadata": {
        "id": "JdMWJT038TH3"
      },
      "execution_count": null,
      "outputs": []
    },
    {
      "cell_type": "code",
      "source": [
        "print(n)"
      ],
      "metadata": {
        "colab": {
          "base_uri": "https://localhost:8080/"
        },
        "id": "NRxQPej76MLe",
        "outputId": "dcf3b148-3a68-42fc-e43e-b93170e429ca"
      },
      "execution_count": null,
      "outputs": [
        {
          "output_type": "stream",
          "name": "stdout",
          "text": [
            "0\n"
          ]
        }
      ]
    },
    {
      "cell_type": "code",
      "source": [
        "#n = 10 # je reaffecte la variable"
      ],
      "metadata": {
        "id": "19MQc6sA5jwl"
      },
      "execution_count": null,
      "outputs": []
    },
    {
      "cell_type": "code",
      "source": [
        "print(n)"
      ],
      "metadata": {
        "colab": {
          "base_uri": "https://localhost:8080/"
        },
        "id": "mUXkEnfe6PwF",
        "outputId": "501d0f0d-482e-4aa4-f8db-38791e48b54a"
      },
      "execution_count": null,
      "outputs": [
        {
          "output_type": "stream",
          "name": "stdout",
          "text": [
            "10\n"
          ]
        }
      ]
    },
    {
      "cell_type": "code",
      "source": [
        "#n = n + 1 # j'inceremente la variable"
      ],
      "metadata": {
        "id": "c1zP3oNa53y_"
      },
      "execution_count": null,
      "outputs": []
    },
    {
      "cell_type": "code",
      "source": [
        "print(n)"
      ],
      "metadata": {
        "colab": {
          "base_uri": "https://localhost:8080/"
        },
        "id": "1K0gaPcS6SyA",
        "outputId": "f5b2dc11-00f5-471c-98e1-5fef0e9a929f"
      },
      "execution_count": null,
      "outputs": [
        {
          "output_type": "stream",
          "name": "stdout",
          "text": [
            "11\n"
          ]
        }
      ]
    },
    {
      "cell_type": "code",
      "source": [
        "print(\"Debut de la boucle\")\n",
        "n = 0\n",
        "while n < 3:\n",
        "    n = n + 1\n",
        "    print(\"La valeur de n \" + str(n))\n",
        "print(\"Fin de le boucle\")"
      ],
      "metadata": {
        "colab": {
          "base_uri": "https://localhost:8080/"
        },
        "id": "F7q5VDyC-T1M",
        "outputId": "e2bd7df4-c27b-44d9-ecdf-790cee085a3b"
      },
      "execution_count": null,
      "outputs": [
        {
          "output_type": "stream",
          "name": "stdout",
          "text": [
            "Debut de la boucle\n",
            "La valeur de n 1\n",
            "La valeur de n 2\n",
            "La valeur de n 3\n",
            "Fin de le boucle\n"
          ]
        }
      ]
    },
    {
      "cell_type": "code",
      "source": [
        "mot_de_passe = \" \""
      ],
      "metadata": {
        "id": "zBaqwaZsAUTG"
      },
      "execution_count": null,
      "outputs": []
    },
    {
      "cell_type": "code",
      "source": [
        "while not mot_de_passe == \"SARAH\":\n",
        "    mot_de_passe = input(\"Quel est votre mot de passe ?\")\n",
        "print(\"Mot de passe correcte, vous acces au compte\")"
      ],
      "metadata": {
        "colab": {
          "base_uri": "https://localhost:8080/"
        },
        "id": "oaqsJWyEArgr",
        "outputId": "c4e332c3-2d76-4af8-d7f6-5815e59e979b"
      },
      "execution_count": null,
      "outputs": [
        {
          "output_type": "stream",
          "name": "stdout",
          "text": [
            "Quel est votre mot de passe ?1234\n",
            "Quel est votre mot de passe ?2546\n",
            "Quel est votre mot de passe ?SARAH\n",
            "Mot de passe correcte, vous acces au compte\n"
          ]
        }
      ]
    },
    {
      "cell_type": "markdown",
      "source": [
        "PREMIER PROGRAMME AVEC LE BOUCLE WHILE"
      ],
      "metadata": {
        "id": "J_e8Df3CBzki"
      }
    },
    {
      "cell_type": "code",
      "source": [
        "# while l'age n'est pas corecte demander l'age et affciher la suite"
      ],
      "metadata": {
        "id": "Lg9oMV4WB5Ku"
      },
      "execution_count": null,
      "outputs": []
    },
    {
      "cell_type": "code",
      "source": [
        "nom = input(\"Quel est votre nom? \")\n",
        "age_prochain = 0\n",
        "while age_prochain == 0:\n",
        "    age = input(\"Quel est votre age ?\")\n",
        "    try:\n",
        "      age_prochain = int(age) + 1\n",
        "    except:\n",
        "      print(\"ERREUR, vous devez entrer un nombre pour l'age\")\n",
        "#print(\"Fin de la boucle\")\n",
        "print(\"Vous vous appelez, \" + nom +  \",vous avez ,\" + str(age) + \"ans\")\n",
        "print(\"vous vous appelez, \" + nom + \",l'an prochain vous aurez ,\" + str(age_prochain) + \"ans\")"
      ],
      "metadata": {
        "colab": {
          "base_uri": "https://localhost:8080/"
        },
        "id": "ft6dEW4UE1kM",
        "outputId": "e8a4a355-4448-4c72-af20-b2c6366c4c73"
      },
      "execution_count": null,
      "outputs": [
        {
          "output_type": "stream",
          "name": "stdout",
          "text": [
            "Quel est votre nom? junior\n",
            "Quel est votre age ?lllkj\n",
            "ERREUR, vous devez entrer un nombre pour l'age\n",
            "Quel est votre age ?lkjhj\n",
            "ERREUR, vous devez entrer un nombre pour l'age\n",
            "Quel est votre age ?klkjg\n",
            "ERREUR, vous devez entrer un nombre pour l'age\n",
            "Quel est votre age ?39\n",
            "Vous vous appelez, junior,vous avez ,39ans\n",
            "vous vous appelez, junior,l'an prochain vous aurez ,40ans\n"
          ]
        }
      ]
    },
    {
      "cell_type": "code",
      "source": [
        "nom = input(\"Quel est votre nom?\")\n",
        "age = 0\n",
        "while age == 0:\n",
        "        age_str = input(\"Quel est votre age ?\")\n",
        "        try:\n",
        "          age = int(age_str)\n",
        "        except:\n",
        "          print(\"ERREUR, vous devez entrer un nombre pour l'age\")\n",
        "print(\"Vous vous appelez\" + nom  + \", vous avez  \" + str(age) + \"  ans\")\n",
        "print(\"Vous vous appelez\" + nom + \",l'annee prochaine vous aurez  \" + str(age+1) + \"  ans\")"
      ],
      "metadata": {
        "colab": {
          "base_uri": "https://localhost:8080/"
        },
        "id": "9U48IoqOJbM3",
        "outputId": "55d2414f-7acf-4244-ce41-b25f3771b9bf"
      },
      "execution_count": null,
      "outputs": [
        {
          "output_type": "stream",
          "name": "stdout",
          "text": [
            "Quel est votre nom? sarah\n",
            "Quel est votre age ?hhhhh\n",
            "ERREUR, vous devez entrer un nombre pour l'age\n",
            "Quel est votre age ?jjjjjjj\n",
            "ERREUR, vous devez entrer un nombre pour l'age\n",
            "Quel est votre age ?27\n",
            "Vous vous appelez sarah, vous avez  27  ans\n",
            "Vous vous appelez sarah,l'annee prochaine vous aurez  28  ans\n"
          ]
        }
      ]
    },
    {
      "cell_type": "markdown",
      "source": [
        "EXERCICE"
      ],
      "metadata": {
        "id": "j9j6vFtqSzHc"
      }
    },
    {
      "cell_type": "code",
      "source": [
        "nom = \"\"  # demander le nom\n",
        "while nom == \"\":\n",
        "     nom = input(\"Quel est votre nom?\")\n",
        "# demander l'age\n",
        "age = 0\n",
        "while age == 0:\n",
        "    age_str = input(\"Quel est votre age ?\")\n",
        "    try:\n",
        "      age = int(age_str)\n",
        "    except:\n",
        "      print(\"ERREUR, vous devez entrer un nombre pour l'age\")\n",
        "      # affciher les resultats\n",
        "print(\"Vous vous appelez \" + nom + \" vous avez \" + str(age)+ \" ans\")\n",
        "print(\"Vous vous appelez \" + nom + \" l'annee prochaine vous aurez \" +str(age+1) + \" ans\")"
      ],
      "metadata": {
        "colab": {
          "base_uri": "https://localhost:8080/"
        },
        "id": "-fR1MSTJS12k",
        "outputId": "c2a9ff20-c1b0-4883-8156-d2529129caa4"
      },
      "execution_count": null,
      "outputs": [
        {
          "output_type": "stream",
          "name": "stdout",
          "text": [
            "Quel est votre nom?\n",
            "Quel est votre nom?\n",
            "Quel est votre nom? junior\n",
            "Quel est votre age ?39\n",
            "Vous vous appelez  junior vous avez 39 ans\n",
            "Vous vous appelez  junior l'annee prochaine vous aurez 40 ans\n"
          ]
        }
      ]
    },
    {
      "cell_type": "markdown",
      "source": [
        "LES FONCTIONS"
      ],
      "metadata": {
        "id": "tXJMIrTMYEib"
      }
    },
    {
      "cell_type": "code",
      "source": [
        "def demander_nom():\n",
        "  reponse_nom = \" \"\n",
        "  while reponse_nom == \" \":\n",
        "       reponse_nom = input(\"Quel est votre nom?\")\n",
        "       return reponse_nom"
      ],
      "metadata": {
        "id": "EX2fuGW4m_P4"
      },
      "execution_count": null,
      "outputs": []
    },
    {
      "cell_type": "code",
      "source": [
        "def demander_age():\n",
        "    age_int = 0\n",
        "    while age_int == 0:\n",
        "      age_str = input(\"Quel est vore age ?\")\n",
        "      try:\n",
        "        age_int = int(age_str)\n",
        "      except:\n",
        "        print(\"ERREUR,vous devez entrer un nombre pour l'age\")\n",
        "        return age_int\n",
        "\n",
        "demander_age()\n",
        "\n",
        "\n",
        "print(\"Vous vous appelez  \" + nom + \" vous avez \" + str(age) + \" ans\")\n",
        "print(\"L'an prochain vous aurez \" + str(age+1) + \" ans\")"
      ],
      "metadata": {
        "colab": {
          "base_uri": "https://localhost:8080/"
        },
        "id": "1P6c3l34Y-p2",
        "outputId": "2731820e-3653-41f0-fe75-1deb7b18389f"
      },
      "execution_count": null,
      "outputs": [
        {
          "output_type": "stream",
          "name": "stdout",
          "text": [
            "Quel est vore age ? 38\n",
            "Vous vous appelez   junior vous avez 38 ans\n",
            "L'an prochain vous aurez 39 ans\n"
          ]
        }
      ]
    },
    {
      "cell_type": "markdown",
      "source": [
        "VARIABLES GLOBALES ET PARAMETRES"
      ],
      "metadata": {
        "id": "FfbjW3Enpw23"
      }
    },
    {
      "cell_type": "markdown",
      "source": [
        "variable a l'interieure de la fonction est une variable locale et a l'exterieure de la focntion elle est une variable globale.\n"
      ],
      "metadata": {
        "id": "UMAcfaI3rMKw"
      }
    },
    {
      "cell_type": "code",
      "source": [
        "def est_pair(nombre):\n",
        "  if nombre % 2 == 0:\n",
        "    return True\n",
        "  else:\n",
        "    return False\n",
        "\n"
      ],
      "metadata": {
        "id": "B1uMSHUe7gtc"
      },
      "execution_count": null,
      "outputs": []
    },
    {
      "cell_type": "code",
      "source": [
        "est_pair(15)"
      ],
      "metadata": {
        "colab": {
          "base_uri": "https://localhost:8080/"
        },
        "id": "y7f4IWo094Wr",
        "outputId": "ceaef57a-b6a3-4960-e5cf-76cd00ae2d07"
      },
      "execution_count": null,
      "outputs": [
        {
          "output_type": "execute_result",
          "data": {
            "text/plain": [
              "False"
            ]
          },
          "metadata": {},
          "execution_count": 115
        }
      ]
    },
    {
      "cell_type": "code",
      "source": [
        "est_pair(10)"
      ],
      "metadata": {
        "colab": {
          "base_uri": "https://localhost:8080/"
        },
        "id": "-bwbusU898Jo",
        "outputId": "a2ff6bad-4ce1-45f4-c6aa-b1ea58562873"
      },
      "execution_count": null,
      "outputs": [
        {
          "output_type": "execute_result",
          "data": {
            "text/plain": [
              "True"
            ]
          },
          "metadata": {},
          "execution_count": 116
        }
      ]
    },
    {
      "cell_type": "code",
      "source": [
        "def salutation(nom):\n",
        "   message = f\"Bonjour {nom}!j'espere que vous passez une bonne journee\"\n",
        "   return message"
      ],
      "metadata": {
        "id": "2R2yE5-SCvvJ"
      },
      "execution_count": null,
      "outputs": []
    },
    {
      "cell_type": "code",
      "source": [
        "salutation(\"junior\")"
      ],
      "metadata": {
        "colab": {
          "base_uri": "https://localhost:8080/",
          "height": 36
        },
        "id": "CL5prn7JDHr6",
        "outputId": "c0417121-c1bd-4679-8919-49673d5c360c"
      },
      "execution_count": null,
      "outputs": [
        {
          "output_type": "execute_result",
          "data": {
            "text/plain": [
              "\"Bonjour junior!j'espere que vous passez une bonne journee\""
            ],
            "application/vnd.google.colaboratory.intrinsic+json": {
              "type": "string"
            }
          },
          "metadata": {},
          "execution_count": 137
        }
      ]
    },
    {
      "cell_type": "code",
      "source": [
        "salutation(\"sarah\")"
      ],
      "metadata": {
        "colab": {
          "base_uri": "https://localhost:8080/",
          "height": 36
        },
        "id": "vEi6lWsDDPkT",
        "outputId": "568d5a2e-b64f-4fef-a54a-b8c09fbe1f04"
      },
      "execution_count": null,
      "outputs": [
        {
          "output_type": "execute_result",
          "data": {
            "text/plain": [
              "\"Bonjour sarah!j'espere que vous passez une bonne journee\""
            ],
            "application/vnd.google.colaboratory.intrinsic+json": {
              "type": "string"
            }
          },
          "metadata": {},
          "execution_count": 138
        }
      ]
    },
    {
      "cell_type": "code",
      "source": [
        "def grandir(nom, age):\n",
        "  message = f\" bonjour {nom}! vous avez grandi, vous avez desormais {age+1} ans\"\n",
        "  return message\n"
      ],
      "metadata": {
        "id": "HFfPoVPVCTnJ"
      },
      "execution_count": null,
      "outputs": []
    },
    {
      "cell_type": "code",
      "source": [
        "m = grandir(\"junior\", 38)"
      ],
      "metadata": {
        "id": "R8tOYyDVEC4h"
      },
      "execution_count": null,
      "outputs": []
    },
    {
      "cell_type": "code",
      "source": [
        "m"
      ],
      "metadata": {
        "id": "rb8vYfqoEI_0",
        "outputId": "ad3fd8c9-ca90-4983-8c01-9da96f083b39",
        "colab": {
          "base_uri": "https://localhost:8080/",
          "height": 36
        }
      },
      "execution_count": null,
      "outputs": [
        {
          "output_type": "execute_result",
          "data": {
            "text/plain": [
              "' bonjour junior! vous avez grandi, vous avez desormais 39 ans'"
            ],
            "application/vnd.google.colaboratory.intrinsic+json": {
              "type": "string"
            }
          },
          "metadata": {},
          "execution_count": 141
        }
      ]
    },
    {
      "cell_type": "markdown",
      "source": [
        "CONDITIONS ET VARIABLES BOOLEENNES"
      ],
      "metadata": {
        "id": "vf_Uzh0ng2i1"
      }
    },
    {
      "cell_type": "code",
      "source": [
        "def afficher_informations_personne(nom1,nom2, age1,age2):\n",
        "    nom1 = input(\"Quel est votre nom? \")\n",
        "    nom2 = input(\"Quel est votre nom ?\")\n",
        "    age1 = int(input(\"Quel est votre age ?\"))\n",
        "    age2 = int(input(\"Quel est votre age? \"))\n",
        "    print(\"vous vous appelez \" + nom1 + \" vous avez \" + str(age1) + \" ans\")\n",
        "    print(\"L'an prochain \", \"vous aurez \" + str(age1+1) + \" ans\")\n",
        "\n",
        "    print(\"Vous vous appelez \" + nom2 + \" vous avez \" + str(age2) + \" ans\")\n",
        "    print(\"L'an prochain \", \"vous aurez \" + str(age2+1) + \" ans\")"
      ],
      "metadata": {
        "id": "BBw5zs3hg19T"
      },
      "execution_count": null,
      "outputs": []
    },
    {
      "cell_type": "code",
      "source": [
        "afficher_informations_personne(\"sarah\", \"junior\",27,38)"
      ],
      "metadata": {
        "colab": {
          "base_uri": "https://localhost:8080/"
        },
        "id": "1TXBpVHOiZtJ",
        "outputId": "00566995-28a0-4137-8db7-8a9762fb64e5"
      },
      "execution_count": null,
      "outputs": [
        {
          "output_type": "stream",
          "name": "stdout",
          "text": [
            "vous vous appelez sarah vous avez 27 ans\n",
            "L'an prochain  vous aurez 28 ans\n",
            "Vous vous appelez junior vous avez 38 ans\n",
            "L'an prochain  vous aurez 39 ans\n"
          ]
        }
      ]
    },
    {
      "cell_type": "code",
      "source": [
        "afficher_informations_personne(\"junior\", 38)"
      ],
      "metadata": {
        "colab": {
          "base_uri": "https://localhost:8080/"
        },
        "id": "RDEfqg-lilks",
        "outputId": "7f60f131-a7a6-4bd1-9bb9-de0a9e5c57da"
      },
      "execution_count": null,
      "outputs": [
        {
          "output_type": "stream",
          "name": "stdout",
          "text": [
            "vous vous appelez junior vous avez 38 ans\n",
            "L'an prochain  vous aurez 39 ans\n"
          ]
        }
      ]
    },
    {
      "cell_type": "code",
      "source": [
        "age = 65\n",
        "if age == 18:\n",
        "  print(\"Vous etes majeur\")\n",
        "elif age >= 60:\n",
        "  print(\"Vous etes senior\")\n",
        "elif age ==17:\n",
        "  print(\"Vous etes presque majeur\")\n",
        "elif age == 18:\n",
        "  print(\"Vous etes majeur, sinceres felicitations\")\n",
        "elif age < 10:\n",
        "  print(\"Vous etes enfant\")\n",
        "else:\n",
        "  print(\"Vous etes mineur\")"
      ],
      "metadata": {
        "colab": {
          "base_uri": "https://localhost:8080/"
        },
        "id": "quhHLCNZmhh3",
        "outputId": "0d532f24-e082-4020-e29e-0107dcc7f64d"
      },
      "execution_count": null,
      "outputs": [
        {
          "output_type": "stream",
          "name": "stdout",
          "text": [
            "Vous etes senior\n"
          ]
        }
      ]
    },
    {
      "cell_type": "code",
      "source": [
        "afficher_informations_personne(\"junior\" , \"sarah\", 38 , 27)"
      ],
      "metadata": {
        "colab": {
          "base_uri": "https://localhost:8080/"
        },
        "id": "rF9FfiSqqAJi",
        "outputId": "37a1ee05-5e79-47f7-c09a-846a91fcb65f"
      },
      "execution_count": null,
      "outputs": [
        {
          "output_type": "stream",
          "name": "stdout",
          "text": [
            "Quel est votre nom?  junior\n",
            "Quel est votre nom ? sarah\n",
            "Quel est votre age ? 39\n",
            "Quel est votre age? 28\n",
            "vous vous appelez  junior vous avez 39 ans\n",
            "L'an prochain  vous aurez 40 ans\n",
            "Vous vous appelez  sarah vous avez 28 ans\n",
            "L'an prochain  vous aurez 29 ans\n"
          ]
        }
      ]
    },
    {
      "cell_type": "code",
      "source": [
        "def demander_identites():\n",
        "   nom = input(\"Comment tu l'appelles?\")\n",
        "   adresse = input(\"Tu habites ou?\")\n",
        "   boulot = input(\"tu travailles ou ?\")\n",
        "   etat_civil = input(\"Quel est ton etat-civil?\")\n",
        "   print(f\"je m'appelle {nom}, j'habite a {adresse} , je travaille a {boulot}, je suis {etat_civil}\")"
      ],
      "metadata": {
        "id": "iP_H-SjRsSdU"
      },
      "execution_count": null,
      "outputs": []
    },
    {
      "cell_type": "code",
      "source": [
        "demander_identites()"
      ],
      "metadata": {
        "colab": {
          "base_uri": "https://localhost:8080/"
        },
        "id": "mimQJSsouBjo",
        "outputId": "05a3fe8c-7ccf-410b-d4f5-5792b02806b3"
      },
      "execution_count": null,
      "outputs": [
        {
          "output_type": "stream",
          "name": "stdout",
          "text": [
            "Comment tu l'appelles? junior\n",
            "Tu habites ou? villavicencio\n",
            "tu travailles ou ?la fontana\n",
            "Quel est ton etat-civil?celibataire\n",
            "je m'appelle  junior, j'habite a  villavicencio , je travaille a la fontana, je suis celibataire\n"
          ]
        }
      ]
    },
    {
      "cell_type": "markdown",
      "source": [
        "LES BOUCLES FOR\n",
        "\n",
        "\n",
        "\n",
        "la premiere valeur est inclusive, la seconde est exclusive."
      ],
      "metadata": {
        "id": "VQVi2Dhb34fD"
      }
    },
    {
      "cell_type": "code",
      "source": [
        "for i in range(0, 3):\n",
        "  print(i)"
      ],
      "metadata": {
        "colab": {
          "base_uri": "https://localhost:8080/"
        },
        "id": "FBMIMpXp8BP8",
        "outputId": "c00e4143-718e-44ee-89d4-657317f87e84"
      },
      "execution_count": null,
      "outputs": [
        {
          "output_type": "stream",
          "name": "stdout",
          "text": [
            "0\n",
            "1\n",
            "2\n"
          ]
        }
      ]
    },
    {
      "cell_type": "markdown",
      "source": [
        "PARAMETRES OPTIONNELS ET NOMBRES A VIRGULES\n",
        "\n",
        "\n",
        "\n",
        "\n",
        "parametres opitonnels, on lui donne une valeur par defaut"
      ],
      "metadata": {
        "id": "dJYRqGCs8LB0"
      }
    },
    {
      "cell_type": "markdown",
      "source": [
        "LES CHAINES FORMATEES\n",
        "\n",
        "\n",
        "\n",
        "le f-strings et le %s\n",
        "\n",
        "\n",
        "\n",
        "print(\"\"\"\n",
        "\n",
        "\"\"\") pour l'afficher sous plusieurs lignes\n",
        "\n",
        "\n",
        "\n",
        "\n",
        "on peut passer plusieurs arguments a la fonctions print\n",
        "\n"
      ],
      "metadata": {
        "id": "Bf85QXMG9fJe"
      }
    },
    {
      "cell_type": "markdown",
      "source": [
        "SYNTHESES ET IDEES"
      ],
      "metadata": {
        "id": "sO3m8ppb_VZf"
      }
    },
    {
      "cell_type": "markdown",
      "source": [
        "PREMIERS PAS EN SCRAPINGS"
      ],
      "metadata": {
        "id": "Z9cXVBT0Bwov"
      }
    },
    {
      "cell_type": "markdown",
      "source": [
        "\n",
        "\n",
        "\n",
        "Clic droit afficher le code source de la page, creer un nouveau dossier tuto scraping sur votre bureau, ouvrez studio visuel et verser y le dossier et creer un fichier ex: scraping.recette.py"
      ],
      "metadata": {
        "id": "uRpPpd7LmgQL"
      }
    },
    {
      "cell_type": "code",
      "source": [
        "import requests"
      ],
      "metadata": {
        "id": "dVM0kyTbnosc"
      },
      "execution_count": null,
      "outputs": []
    },
    {
      "cell_type": "code",
      "source": [
        "url = site internet"
      ],
      "metadata": {
        "id": "jdkqfU0yn8ef"
      },
      "execution_count": null,
      "outputs": []
    },
    {
      "cell_type": "code",
      "source": [
        "response = requests.get(url)"
      ],
      "metadata": {
        "id": "lgHQt7m5oAQx"
      },
      "execution_count": null,
      "outputs": []
    },
    {
      "cell_type": "code",
      "source": [
        "if response.status_code == 200:\n",
        "  html = response.text\n",
        "  print(\"html\")\n",
        "  f = open(\"recette.html\", \"w\")\n",
        "  f.write(html)\n",
        "  f.close()\n",
        "\n",
        "else:\n",
        "  print(\"ERREUR: ,\" respons.status_code)"
      ],
      "metadata": {
        "id": "XJi71tdVo6cY"
      },
      "execution_count": null,
      "outputs": []
    },
    {
      "cell_type": "code",
      "source": [
        "print(\"FIN\")"
      ],
      "metadata": {
        "id": "b60bbTYToVaH"
      },
      "execution_count": null,
      "outputs": []
    },
    {
      "cell_type": "markdown",
      "source": [
        "Projet debutant, creation d'un convertisseur en python\n",
        "\n",
        "\n",
        "\n",
        "\n",
        "Pour cet exercice vous allez creer un convertisseur d'unites, qui sera capable de convertir pouce(inch) en cm, et vice-versa.\n",
        "\n",
        "\n",
        "\n",
        "1 pouce = 2.54 cm\n",
        "\n",
        "1cm = 0.394"
      ],
      "metadata": {
        "id": "xlCkQdkT_WyG"
      }
    },
    {
      "cell_type": "markdown",
      "source": [
        "LES APPELS DES FONCTIONS"
      ],
      "metadata": {
        "id": "u9piPnG3DUWu"
      }
    },
    {
      "cell_type": "markdown",
      "source": [
        "NOTIONS ESSENTIELLES"
      ],
      "metadata": {
        "id": "aqmnJCoCGGGD"
      }
    },
    {
      "cell_type": "markdown",
      "source": [],
      "metadata": {
        "id": "oI37SZT0GFpb"
      }
    },
    {
      "cell_type": "code",
      "source": [
        "nom =\" sarah\""
      ],
      "metadata": {
        "id": "N_jwFNsLDYun"
      },
      "execution_count": null,
      "outputs": []
    },
    {
      "cell_type": "code",
      "source": [
        "print(\"Je m'appelle \" + nom) # il y a concantenation avec un seul parametre"
      ],
      "metadata": {
        "colab": {
          "base_uri": "https://localhost:8080/"
        },
        "id": "oV1qaaUYGulZ",
        "outputId": "c31704d4-8ffe-430a-d9d1-413cf99111dd"
      },
      "execution_count": null,
      "outputs": [
        {
          "output_type": "stream",
          "name": "stdout",
          "text": [
            "Je m'appelle  sarah\n"
          ]
        }
      ]
    },
    {
      "cell_type": "code",
      "source": [
        "print(\"Je m'appelle\", nom) # nous avons passes deux parametres"
      ],
      "metadata": {
        "colab": {
          "base_uri": "https://localhost:8080/"
        },
        "id": "SMO8x0y-HHiz",
        "outputId": "84e885dc-9dd7-4711-bdf1-3c04f6f78eb8"
      },
      "execution_count": null,
      "outputs": [
        {
          "output_type": "stream",
          "name": "stdout",
          "text": [
            "Je m'appelle  sarah\n"
          ]
        }
      ]
    },
    {
      "cell_type": "code",
      "source": [
        "nom =input(\"Quel es t votre nom? \")\n",
        "print(\"votre est :\"  nom) # cette focntion retourne unen valeur"
      ],
      "metadata": {
        "colab": {
          "base_uri": "https://localhost:8080/"
        },
        "id": "PHY6B-JPHjQz",
        "outputId": "35e36f57-ddbf-4a01-a3de-4b8045b6a5ab"
      },
      "execution_count": null,
      "outputs": [
        {
          "output_type": "stream",
          "name": "stdout",
          "text": [
            "Quel es t votre nom?  junior\n",
            "votre est : junior\n"
          ]
        }
      ]
    },
    {
      "cell_type": "markdown",
      "source": [
        "CREEZ UNE FONCTION"
      ],
      "metadata": {
        "id": "XHwROC7kJ3vO"
      }
    },
    {
      "cell_type": "markdown",
      "source": [
        "definitions de la focntion"
      ],
      "metadata": {
        "id": "uNWISISuKUMV"
      }
    },
    {
      "cell_type": "code",
      "source": [
        "def afficher_infos_personne():\n",
        "    print(\"toto\")\n",
        "    print(\"titi\")"
      ],
      "metadata": {
        "id": "RA3eaDoCI6Tv"
      },
      "execution_count": null,
      "outputs": []
    },
    {
      "cell_type": "code",
      "source": [
        "print(\"debut du programme\")\n",
        "afficher_infos_personne()\n",
        "print(\"fin du programme\")"
      ],
      "metadata": {
        "colab": {
          "base_uri": "https://localhost:8080/"
        },
        "id": "9S_YdRjsLK23",
        "outputId": "75786b19-f286-4972-db5c-3c2ab55c11d8"
      },
      "execution_count": null,
      "outputs": [
        {
          "output_type": "stream",
          "name": "stdout",
          "text": [
            "debut du programme\n",
            "toto\n",
            "titi\n",
            "fin du programme\n"
          ]
        }
      ]
    },
    {
      "cell_type": "markdown",
      "source": [
        "Les parametres d'une fonction"
      ],
      "metadata": {
        "id": "RyXYKdvlMKEu"
      }
    },
    {
      "cell_type": "code",
      "source": [
        "#def afficher_infos_personne(nom, age):\n",
        "    print(\"La personne est \", nom + \", son age est\", age, \"ans\")\n",
        "    print(\"le nom comprte \",len(nom), \"caractres\")"
      ],
      "metadata": {
        "id": "SKVG96sqMNCD"
      },
      "execution_count": null,
      "outputs": []
    },
    {
      "cell_type": "code",
      "source": [
        "#afficher_infos_personne(\"junior\", 38)"
      ],
      "metadata": {
        "colab": {
          "base_uri": "https://localhost:8080/"
        },
        "id": "wFkhTB-PcES9",
        "outputId": "04023ab7-fc25-41f4-a1d7-747719d471e1"
      },
      "execution_count": null,
      "outputs": [
        {
          "output_type": "stream",
          "name": "stdout",
          "text": [
            "La personne est  junior, son age est 38 ans\n",
            "le nom comprte  6 caractres\n"
          ]
        }
      ]
    },
    {
      "cell_type": "markdown",
      "source": [
        "Pour rendre un parametre optionnel, on est oblige de lui passer une valeur par defaut"
      ],
      "metadata": {
        "id": "tUJKfSpQeO5j"
      }
    },
    {
      "cell_type": "code",
      "source": [
        "#def afficher_infos_personne(nom, age=0):\n",
        "    if age == 0:\n",
        "      print(\"La personne est\",nom)\n",
        "    else:\n",
        "      print(\"La personne est \", nom + \", son age est \", age , \"ans\")\n",
        "      print(\"Le nom comporte\", len(nom), \"caracteres\")"
      ],
      "metadata": {
        "id": "aGteAuc9eXIO"
      },
      "execution_count": null,
      "outputs": []
    },
    {
      "cell_type": "code",
      "source": [
        "#afficher_infos_personne(\"junior\", 38)"
      ],
      "metadata": {
        "colab": {
          "base_uri": "https://localhost:8080/"
        },
        "id": "61KpoY09ftmU",
        "outputId": "c51a3c63-bb65-4804-9513-f8a11511e7e9"
      },
      "execution_count": null,
      "outputs": [
        {
          "output_type": "stream",
          "name": "stdout",
          "text": [
            "La personne est  junior, son age est  38 ans\n",
            "Le nom comporte 6 caracteres\n"
          ]
        }
      ]
    },
    {
      "cell_type": "code",
      "source": [
        "#def afficher_infos_personne(nom = \"\", age = 0):\n",
        "    if nom == \"\":\n",
        "      print(\"vous n'avez pas de nom\",\"l'age est\", age)\n",
        "    else:\n",
        "      if age == 0:\n",
        "        print(\"La personne est\", nom)\n",
        "      else:\n",
        "          print(\"La personne est \", nom + \" son age est\", age, \"ans\")\n",
        "          print(\"le nom comporte\", len(nom), \"caracteres\")"
      ],
      "metadata": {
        "id": "gsgDyAxcg81f"
      },
      "execution_count": null,
      "outputs": []
    },
    {
      "cell_type": "code",
      "source": [
        "print(\"debut de programme\")\n",
        "afficher_infos_personne(\"sarah\", 28)\n",
        "print(\"Fin de programme\")"
      ],
      "metadata": {
        "colab": {
          "base_uri": "https://localhost:8080/"
        },
        "id": "vBn_lzDZiVqh",
        "outputId": "a7820b33-5477-4155-ef5c-cae629d3a257"
      },
      "execution_count": null,
      "outputs": [
        {
          "output_type": "stream",
          "name": "stdout",
          "text": [
            "debut de programme\n",
            "La personne est  sarah son age est 28 ans\n",
            "le nom comporte 5 caracteres\n",
            "Fin de programme\n"
          ]
        }
      ]
    },
    {
      "cell_type": "code",
      "source": [
        "print(\"debut du programme\")\n",
        "afficher_infos_personne(nom=\"\")\n",
        "print(\"fin de programme \")"
      ],
      "metadata": {
        "colab": {
          "base_uri": "https://localhost:8080/"
        },
        "id": "doOA53ghi2Qo",
        "outputId": "9516daa9-419a-45ea-c459-878864d9d082"
      },
      "execution_count": null,
      "outputs": [
        {
          "output_type": "stream",
          "name": "stdout",
          "text": [
            "debut du programme\n",
            "vous n'avez pas de nom\n",
            "fin de programme \n"
          ]
        }
      ]
    },
    {
      "cell_type": "code",
      "source": [
        "print(\"debut du programme\")\n",
        "afficher_infos_personne(nom=\"\", age =27)\n",
        "print(\"fin du programme\")"
      ],
      "metadata": {
        "colab": {
          "base_uri": "https://localhost:8080/"
        },
        "id": "W7kBCxU0jeEN",
        "outputId": "457d919b-c8ad-4d85-c9ec-cce1163b1759"
      },
      "execution_count": null,
      "outputs": [
        {
          "output_type": "stream",
          "name": "stdout",
          "text": [
            "debut du programme\n",
            "vous n'avez pas de nom l'age est 27\n",
            "fin du programme\n"
          ]
        }
      ]
    },
    {
      "cell_type": "markdown",
      "source": [
        "LE RETURN\n",
        "\n",
        "\n",
        "ca sert a sortir de la fonction et a renvoyer une valeur(non obligatoire)"
      ],
      "metadata": {
        "id": "DUDMfvr4j6Ix"
      }
    },
    {
      "cell_type": "code",
      "source": [
        "def est_majeur(age):\n",
        "  if age >= 18:\n",
        "    return True\n",
        "  return False"
      ],
      "metadata": {
        "id": "EkSjGIkNj70E"
      },
      "execution_count": null,
      "outputs": []
    },
    {
      "cell_type": "code",
      "source": [
        "print(\"debut du programme\")\n",
        "print(\"est majeur:\",est_majeur(15))\n",
        "print(\"fin du programme\")"
      ],
      "metadata": {
        "colab": {
          "base_uri": "https://localhost:8080/"
        },
        "id": "5FDElOjvpsqJ",
        "outputId": "bbd88b94-4c91-4a99-9188-4ae74d747d4a"
      },
      "execution_count": null,
      "outputs": [
        {
          "output_type": "stream",
          "name": "stdout",
          "text": [
            "debut du programme\n",
            "est majeur: False\n",
            "fin du programme\n"
          ]
        }
      ]
    },
    {
      "cell_type": "code",
      "source": [
        "age = 19\n",
        "print(\"la personne a,\" ,age, \"ans\")\n",
        "if est_majeur(age):\n",
        "  print(\"La personne est majeure\")\n",
        "else:\n",
        "  print(\"La personne est mineure\")"
      ],
      "metadata": {
        "colab": {
          "base_uri": "https://localhost:8080/"
        },
        "id": "gm-3rvBjrMTD",
        "outputId": "1e0554ec-3d4f-404b-8fa2-159de405e020"
      },
      "execution_count": null,
      "outputs": [
        {
          "output_type": "stream",
          "name": "stdout",
          "text": [
            "la personne a, 19 ans\n",
            "La personne est majeure\n"
          ]
        }
      ]
    },
    {
      "cell_type": "code",
      "source": [
        "#def afficher_infos_personne(nom = \"\", age = 0):\n",
        "    if nom == \"\":\n",
        "      print(\"vous n'avez pas de nom\",\"l'age est\", age)\n",
        "    else:\n",
        "      if age == 0:\n",
        "        print(\"La personne est\", nom)\n",
        "      else:\n",
        "          print(\"La personne est \", nom + \" son age est\", age, \"ans\")\n",
        "          print(\"le nom comporte\", len(nom), \"caracteres\")\n",
        "\n",
        "          if est_majeur(age):\n",
        "             print(\"La personne est majeure\")\n",
        "          else:\n",
        "             print(\"La personne est mineure\")"
      ],
      "metadata": {
        "id": "7Vi_urskt3Vp"
      },
      "execution_count": null,
      "outputs": []
    },
    {
      "cell_type": "code",
      "source": [
        "afficher_infos_personne(\"sarah\", 28)"
      ],
      "metadata": {
        "colab": {
          "base_uri": "https://localhost:8080/"
        },
        "id": "dTWONuHHvSzV",
        "outputId": "fb8c4e72-52d9-42f4-bf58-26619ba6f031"
      },
      "execution_count": null,
      "outputs": [
        {
          "output_type": "stream",
          "name": "stdout",
          "text": [
            "La personne est  sarah son age est 28 ans\n",
            "le nom comporte 5 caracteres\n",
            "La personne est majeure\n"
          ]
        }
      ]
    },
    {
      "cell_type": "markdown",
      "source": [
        "Au niveau du programme principal , on utilise soir else soit exit, ce dernier, on la donne un code de retour(sans erreur le code = 0, avec erreurs le code prends differentes valeurs)"
      ],
      "metadata": {
        "id": "NH6e2TDux1OX"
      }
    },
    {
      "cell_type": "code",
      "source": [
        "age = 10\n",
        "if age == 0:\n",
        "   exit(0)\n",
        "   if est_majeur(age):\n",
        "     print(\"La personne est majeure\")\n",
        "   else:\n",
        "    print(\"La personne est mineure\")\n"
      ],
      "metadata": {
        "id": "CXfsooJqybOe"
      },
      "execution_count": null,
      "outputs": []
    },
    {
      "cell_type": "markdown",
      "source": [
        "REFACTORISER LE CODE (FONCTION)"
      ],
      "metadata": {
        "id": "h4pQyMn90EMb"
      }
    },
    {
      "cell_type": "code",
      "source": [
        "def recuperer_et_afficher_infos_personne(numero_personne):\n",
        "    nom = input(\"Nom de la personne \" + str(numero_personne) + \":\")\n",
        "    age = input(\"Age de la personne \" + str(numero_personne) + \":\")\n",
        "    print(\"la personne \", numero_personne, \"est\", nom ,\"son age est\", age,\"ans\")\n",
        "    print(\"le nom possede\", len(nom), \"caracteres\")"
      ],
      "metadata": {
        "id": "aveX3KV78_hx"
      },
      "execution_count": null,
      "outputs": []
    },
    {
      "cell_type": "code",
      "source": [
        "recuperer_et_afficher_infos_personne(1)"
      ],
      "metadata": {
        "colab": {
          "base_uri": "https://localhost:8080/"
        },
        "id": "SmK4TT5OATmv",
        "outputId": "230ec8a0-c4de-426b-b331-bc8c434f31db"
      },
      "execution_count": null,
      "outputs": [
        {
          "output_type": "stream",
          "name": "stdout",
          "text": [
            "Nom de la personne 1: sarah\n",
            "Age de la personne 1:28\n",
            "la personne  1 est  sarah son age est 28 ans\n",
            "le nom possede 6 caracteres\n"
          ]
        }
      ]
    },
    {
      "cell_type": "code",
      "source": [
        "recuperer_et_afficher_infos_personne(2)"
      ],
      "metadata": {
        "colab": {
          "base_uri": "https://localhost:8080/"
        },
        "id": "QDQ2x6x_AgL9",
        "outputId": "f1af83e2-556d-405e-e708-098e8b5d63e9"
      },
      "execution_count": null,
      "outputs": [
        {
          "output_type": "stream",
          "name": "stdout",
          "text": [
            "Nom de la personne 2: junior\n",
            "Age de la personne 2: 38\n",
            "la personne  2 est  junior son age est  38 ans\n",
            "le nom possede 7 caracteres\n"
          ]
        }
      ]
    },
    {
      "cell_type": "code",
      "source": [
        "recuperer_et_afficher_infos_personne(3)"
      ],
      "metadata": {
        "colab": {
          "base_uri": "https://localhost:8080/"
        },
        "id": "WMf_8vK8AoHr",
        "outputId": "f8757cb6-ce77-4133-eff6-3c2a0d889c40"
      },
      "execution_count": null,
      "outputs": [
        {
          "output_type": "stream",
          "name": "stdout",
          "text": [
            "Nom de la personne 3: emeraude\n",
            "Age de la personne 3:9\n",
            "la personne  3 est  emeraude son age est 9 ans\n",
            "le nom possede 9 caracteres\n"
          ]
        }
      ]
    },
    {
      "cell_type": "markdown",
      "source": [
        "ALLER PLUS LOIN AVEC LA HIERARCHIE"
      ],
      "metadata": {
        "id": "9RFWiy5DBbkm"
      }
    },
    {
      "cell_type": "code",
      "source": [
        "nb_personne = 3\n",
        "\n",
        "for i in range(nb_personne):\n",
        "    recuperer_et_afficher_infos_personne(i+1)"
      ],
      "metadata": {
        "colab": {
          "base_uri": "https://localhost:8080/"
        },
        "id": "oYgSvViJBhsz",
        "outputId": "2816e7fa-fe44-45e4-fb9d-d3cf43fda0ea"
      },
      "execution_count": null,
      "outputs": [
        {
          "output_type": "stream",
          "name": "stdout",
          "text": [
            "Nom de la personne 1: sarah\n",
            "Age de la personne 1:28\n",
            "la personne  1 est  sarah son age est 28 ans\n",
            "le nom possede 6 caracteres\n",
            "Nom de la personne 2:junior\n",
            "Age de la personne 2:38\n",
            "la personne  2 est junior son age est 38 ans\n",
            "le nom possede 6 caracteres\n",
            "Nom de la personne 3: emeraude\n",
            "Age de la personne 3:9\n",
            "la personne  3 est  emeraude son age est 9 ans\n",
            "le nom possede 9 caracteres\n"
          ]
        }
      ]
    },
    {
      "cell_type": "markdown",
      "source": [
        "DECOUPER ET HIERARCHISER LA FONCTION"
      ],
      "metadata": {
        "id": "lzsq7k8DFtQq"
      }
    },
    {
      "cell_type": "code",
      "source": [
        "def afficher_infos_personne(numero_personne,nom, age):\n",
        "    print(\"La personne\", numero_personne,\"est\", nom ,\"son age est\", age, \"ans\")\n",
        "    print(\"Le nom possede\", len(nom), \"caracteres\")\n",
        "    def est_majeur(age):\n",
        "       if age >= 18:\n",
        "          return True\n",
        "       return False"
      ],
      "metadata": {
        "id": "MVesqY_SFriR"
      },
      "execution_count": null,
      "outputs": []
    },
    {
      "cell_type": "markdown",
      "source": [
        "RETOURNER PLUSIEURS VALEURS"
      ],
      "metadata": {
        "id": "LUmPl_l6IWd6"
      }
    },
    {
      "cell_type": "code",
      "source": [
        "def recuperer_infos_personne(numero_personne):\n",
        "    nom = input(\"Nom de la personne \" + str(numero_personne) + \":\")\n",
        "    age = input(\"Age de la personne \" + str(numero_personne) + \":\")\n",
        "    return numero_personne, int(age_personne)\n",
        "    def afficher_infos_personne(numero_personne,nom, age):\n",
        "         print(\"La personne\", numero_personne,\"est\", nom ,\"son age est\", age, \"ans\")\n",
        "         print(\"Le nom possede\", len(nom), \"caracteres\")\n",
        "    def est_majeur(age):\n",
        "       if age >= 18:\n",
        "          return True\n",
        "       return False"
      ],
      "metadata": {
        "id": "fGOZfoxoIbj3"
      },
      "execution_count": null,
      "outputs": []
    },
    {
      "cell_type": "markdown",
      "source": [
        "TYPES DES PARAMETRES RETOURS"
      ],
      "metadata": {
        "id": "Q0lRVfVSNTX4"
      }
    },
    {
      "cell_type": "code",
      "source": [
        "def recuperer_et_afficher_infos_personne(numero_personne):\n",
        "    nom, age = recuperer_infos_personne(numero_personne)\n",
        "    afficher_infos_personne(numero_personne, nom, age)\n",
        "    def recuperer_infos_personne(numero_personne):\n",
        "        nom = input(\"Nom de la personne \" + str(numero_personne) + \":\")\n",
        "        age = input(\"Age de la personne \" + str(numero_personne) + \":\")\n",
        "    return numero_personne, int(age_personne)\n",
        "    def afficher_infos_personne(numero_personne,nom, age):\n",
        "         print(\"La personne\", numero_personne,\"est\", nom ,\"son age est\", age, \"ans\")\n",
        "         print(\"Le nom possede\", len(nom), \"caracteres\")\n",
        "    def est_majeur(age):\n",
        "       if age >= 18:\n",
        "          return True\n",
        "       return False\n"
      ],
      "metadata": {
        "id": "mRJ7gX4RNYlI"
      },
      "execution_count": null,
      "outputs": []
    },
    {
      "cell_type": "code",
      "source": [
        "afficher_infos_personne(1,\"sarah\", 28)"
      ],
      "metadata": {
        "colab": {
          "base_uri": "https://localhost:8080/"
        },
        "id": "cwl5kz8E55VP",
        "outputId": "d6417e07-2ec8-493b-a4c3-0e2b6be49521"
      },
      "execution_count": null,
      "outputs": [
        {
          "output_type": "stream",
          "name": "stdout",
          "text": [
            "La personne 1 est sarah son age est 28 ans\n",
            "Le nom possede 5 caracteres\n"
          ]
        }
      ]
    },
    {
      "cell_type": "code",
      "source": [
        "afficher_infos_personne(2, \"junior\", 38)"
      ],
      "metadata": {
        "colab": {
          "base_uri": "https://localhost:8080/"
        },
        "id": "1JyqOGe06cqW",
        "outputId": "270104e9-27d7-4cc9-8c98-b0351b5eb679"
      },
      "execution_count": null,
      "outputs": [
        {
          "output_type": "stream",
          "name": "stdout",
          "text": [
            "La personne 2 est junior son age est 38 ans\n",
            "Le nom possede 6 caracteres\n"
          ]
        }
      ]
    },
    {
      "cell_type": "code",
      "source": [
        "afficher_infos_personne(3,\"keren\", 30)"
      ],
      "metadata": {
        "colab": {
          "base_uri": "https://localhost:8080/"
        },
        "id": "Xfh-ahZJ6p2X",
        "outputId": "8864f41b-1c1c-4094-e8be-27cdc79ccfe9"
      },
      "execution_count": null,
      "outputs": [
        {
          "output_type": "stream",
          "name": "stdout",
          "text": [
            "La personne 3 est keren son age est 30 ans\n",
            "Le nom possede 5 caracteres\n"
          ]
        }
      ]
    },
    {
      "cell_type": "code",
      "source": [
        "recuperer_et_afficher_infos_personne(1)"
      ],
      "metadata": {
        "colab": {
          "base_uri": "https://localhost:8080/",
          "height": 274
        },
        "id": "THBEjZcx8BS1",
        "outputId": "c6d0ebbf-a9b9-49d6-adaf-f514376c67bb"
      },
      "execution_count": null,
      "outputs": [
        {
          "output_type": "error",
          "ename": "UnboundLocalError",
          "evalue": "local variable 'recuperer_infos_personne' referenced before assignment",
          "traceback": [
            "\u001b[0;31m---------------------------------------------------------------------------\u001b[0m",
            "\u001b[0;31mUnboundLocalError\u001b[0m                         Traceback (most recent call last)",
            "\u001b[0;32m<ipython-input-29-3b99b507cd19>\u001b[0m in \u001b[0;36m<cell line: 1>\u001b[0;34m()\u001b[0m\n\u001b[0;32m----> 1\u001b[0;31m \u001b[0mrecuperer_et_afficher_infos_personne\u001b[0m\u001b[0;34m(\u001b[0m\u001b[0;36m1\u001b[0m\u001b[0;34m)\u001b[0m\u001b[0;34m\u001b[0m\u001b[0;34m\u001b[0m\u001b[0m\n\u001b[0m",
            "\u001b[0;32m<ipython-input-28-bf5fc4e317a3>\u001b[0m in \u001b[0;36mrecuperer_et_afficher_infos_personne\u001b[0;34m(numero_personne)\u001b[0m\n\u001b[1;32m      1\u001b[0m \u001b[0;32mdef\u001b[0m \u001b[0mrecuperer_et_afficher_infos_personne\u001b[0m\u001b[0;34m(\u001b[0m\u001b[0mnumero_personne\u001b[0m\u001b[0;34m)\u001b[0m\u001b[0;34m:\u001b[0m\u001b[0;34m\u001b[0m\u001b[0;34m\u001b[0m\u001b[0m\n\u001b[0;32m----> 2\u001b[0;31m     \u001b[0mnom\u001b[0m\u001b[0;34m,\u001b[0m \u001b[0mage\u001b[0m \u001b[0;34m=\u001b[0m \u001b[0mrecuperer_infos_personne\u001b[0m\u001b[0;34m(\u001b[0m\u001b[0mnumero_personne\u001b[0m\u001b[0;34m)\u001b[0m\u001b[0;34m\u001b[0m\u001b[0;34m\u001b[0m\u001b[0m\n\u001b[0m\u001b[1;32m      3\u001b[0m     \u001b[0mafficher_infos_personne\u001b[0m\u001b[0;34m(\u001b[0m\u001b[0mnumero_personne\u001b[0m\u001b[0;34m,\u001b[0m \u001b[0mnom\u001b[0m\u001b[0;34m,\u001b[0m \u001b[0mage\u001b[0m\u001b[0;34m)\u001b[0m\u001b[0;34m\u001b[0m\u001b[0;34m\u001b[0m\u001b[0m\n\u001b[1;32m      4\u001b[0m     \u001b[0;32mdef\u001b[0m \u001b[0mrecuperer_infos_personne\u001b[0m\u001b[0;34m(\u001b[0m\u001b[0mnumero_personne\u001b[0m\u001b[0;34m)\u001b[0m\u001b[0;34m:\u001b[0m\u001b[0;34m\u001b[0m\u001b[0;34m\u001b[0m\u001b[0m\n\u001b[1;32m      5\u001b[0m         \u001b[0mnom\u001b[0m \u001b[0;34m=\u001b[0m \u001b[0minput\u001b[0m\u001b[0;34m(\u001b[0m\u001b[0;34m\"Nom de la personne \"\u001b[0m \u001b[0;34m+\u001b[0m \u001b[0mstr\u001b[0m\u001b[0;34m(\u001b[0m\u001b[0mnumero_personne\u001b[0m\u001b[0;34m)\u001b[0m \u001b[0;34m+\u001b[0m \u001b[0;34m\":\"\u001b[0m\u001b[0;34m)\u001b[0m\u001b[0;34m\u001b[0m\u001b[0;34m\u001b[0m\u001b[0m\n",
            "\u001b[0;31mUnboundLocalError\u001b[0m: local variable 'recuperer_infos_personne' referenced before assignment"
          ]
        }
      ]
    },
    {
      "cell_type": "code",
      "source": [
        "#def table_de_multiplication(n):\n",
        "   min = 1\n",
        "   max = 10\n",
        "   for i in range(min, max+1):\n",
        "    print(i, \"x\", n , \"=\", i*n)"
      ],
      "metadata": {
        "id": "WSicxr4lgRet"
      },
      "execution_count": null,
      "outputs": []
    },
    {
      "cell_type": "code",
      "source": [
        "table_de_multiplication(4)"
      ],
      "metadata": {
        "colab": {
          "base_uri": "https://localhost:8080/"
        },
        "id": "kTArptb4hC_v",
        "outputId": "eea87590-36ca-4e1a-e370-43377c7e0fad"
      },
      "execution_count": null,
      "outputs": [
        {
          "output_type": "stream",
          "name": "stdout",
          "text": [
            "1 x 4 = 4\n",
            "2 x 4 = 8\n",
            "3 x 4 = 12\n",
            "4 x 4 = 16\n",
            "5 x 4 = 20\n",
            "6 x 4 = 24\n",
            "7 x 4 = 28\n",
            "8 x 4 = 32\n",
            "9 x 4 = 36\n",
            "10 x 4 = 40\n"
          ]
        }
      ]
    },
    {
      "cell_type": "code",
      "source": [
        "table_de_multiplication(2)"
      ],
      "metadata": {
        "colab": {
          "base_uri": "https://localhost:8080/"
        },
        "id": "7rbMyJichLQb",
        "outputId": "8c9b95c6-9579-4fe1-fd30-ef111db2d4f0"
      },
      "execution_count": null,
      "outputs": [
        {
          "output_type": "stream",
          "name": "stdout",
          "text": [
            "1 x 2 = 2\n",
            "2 x 2 = 4\n",
            "3 x 2 = 6\n",
            "4 x 2 = 8\n",
            "5 x 2 = 10\n",
            "6 x 2 = 12\n",
            "7 x 2 = 14\n",
            "8 x 2 = 16\n",
            "9 x 2 = 18\n",
            "10 x 2 = 20\n"
          ]
        }
      ]
    },
    {
      "cell_type": "code",
      "source": [
        "def table_muliplication(n, min=1, max=10):\n",
        "    if min > max:\n",
        "      print(\"ERREUR, Le min est superieur au max\")\n",
        "    for i in range(min, max + 1 ):\n",
        "      print(i, \"x\", n, \"=\", i*n)"
      ],
      "metadata": {
        "id": "TesuWU2oh_A5"
      },
      "execution_count": null,
      "outputs": []
    },
    {
      "cell_type": "code",
      "source": [
        "table_muliplication(3)"
      ],
      "metadata": {
        "colab": {
          "base_uri": "https://localhost:8080/"
        },
        "id": "0h9q1qsMi3mb",
        "outputId": "3f88fe2d-5c53-4400-d065-8e2ff4afcc67"
      },
      "execution_count": null,
      "outputs": [
        {
          "output_type": "stream",
          "name": "stdout",
          "text": [
            "1 x 3 = 3\n",
            "2 x 3 = 6\n",
            "3 x 3 = 9\n",
            "4 x 3 = 12\n",
            "5 x 3 = 15\n",
            "6 x 3 = 18\n",
            "7 x 3 = 21\n",
            "8 x 3 = 24\n",
            "9 x 3 = 27\n",
            "10 x 3 = 30\n"
          ]
        }
      ]
    },
    {
      "cell_type": "code",
      "source": [
        "table_muliplication(5, 1, 9)"
      ],
      "metadata": {
        "colab": {
          "base_uri": "https://localhost:8080/"
        },
        "id": "iVngV81cjPIU",
        "outputId": "7b40776f-b9f1-42f8-8b4a-2e28cdae44a6"
      },
      "execution_count": null,
      "outputs": [
        {
          "output_type": "stream",
          "name": "stdout",
          "text": [
            "1 x 5 = 5\n",
            "2 x 5 = 10\n",
            "3 x 5 = 15\n",
            "4 x 5 = 20\n",
            "5 x 5 = 25\n",
            "6 x 5 = 30\n",
            "7 x 5 = 35\n",
            "8 x 5 = 40\n",
            "9 x 5 = 45\n"
          ]
        }
      ]
    },
    {
      "cell_type": "code",
      "source": [
        "table_muliplication(5, max =9)"
      ],
      "metadata": {
        "colab": {
          "base_uri": "https://localhost:8080/"
        },
        "id": "PIfpUA80jUa5",
        "outputId": "9d8b1341-4d8e-41a2-8767-f899af9be57b"
      },
      "execution_count": null,
      "outputs": [
        {
          "output_type": "stream",
          "name": "stdout",
          "text": [
            "1 x 5 = 5\n",
            "2 x 5 = 10\n",
            "3 x 5 = 15\n",
            "4 x 5 = 20\n",
            "5 x 5 = 25\n",
            "6 x 5 = 30\n",
            "7 x 5 = 35\n",
            "8 x 5 = 40\n",
            "9 x 5 = 45\n"
          ]
        }
      ]
    },
    {
      "cell_type": "code",
      "source": [
        "table_muliplication(5, 10 , 1)"
      ],
      "metadata": {
        "colab": {
          "base_uri": "https://localhost:8080/"
        },
        "id": "7eOf2U9yjrh0",
        "outputId": "6f9299bd-ec41-451a-b7ce-08b022a11b6b"
      },
      "execution_count": null,
      "outputs": [
        {
          "output_type": "stream",
          "name": "stdout",
          "text": [
            "ERREUR, Le min est superieur au max\n"
          ]
        }
      ]
    },
    {
      "cell_type": "markdown",
      "source": [
        "PROJET QUESTIONNAIRE"
      ],
      "metadata": {
        "id": "D1JvfKqklSNq"
      }
    },
    {
      "cell_type": "code",
      "source": [
        "print(\"Quelle est la capitale de la france?\")\n",
        "print(\"(a) marseille\")\n",
        "print(\"(b) lyon\")\n",
        "print(\"(c) paris\")\n",
        "print(\"(d) nantes\")\n",
        "print()\n",
        "reponse = input(\"Votre reponse :\")\n",
        "if reponse == \"c\":\n",
        "  print(\"Bonne reponse\")\n",
        "else:\n",
        "  print(\"Mauvaise reponse\")\n"
      ],
      "metadata": {
        "colab": {
          "base_uri": "https://localhost:8080/"
        },
        "id": "soZOJYH5lWIx",
        "outputId": "ceb879a8-d75d-492a-8148-65180f9a76d8"
      },
      "execution_count": null,
      "outputs": [
        {
          "output_type": "stream",
          "name": "stdout",
          "text": [
            "Quelle est la capitale de la france?\n",
            "(a) marseille\n",
            "(b) lyon\n",
            "(c) paris\n",
            "(d) nantes\n",
            "\n",
            "Votre reponse :c\n",
            "Bonne reponse\n"
          ]
        }
      ]
    },
    {
      "cell_type": "code",
      "source": [
        "print(\"Quelle est la capitale de l'italie ?\")\n",
        "print(\"(a) rome\")\n",
        "print(\"(b) venise\")\n",
        "print(\"(c) bergame\")\n",
        "print(\"(d) lampedusa\")\n",
        "print()\n",
        "reponse = input(\"Votre reponse :\")\n",
        "if reponse == \"a\":\n",
        "  print(\"Bonne reponse\")\n",
        "else:\n",
        "  print(\"Mauvaise reponse\")"
      ],
      "metadata": {
        "colab": {
          "base_uri": "https://localhost:8080/"
        },
        "id": "d7VO7TEgouc1",
        "outputId": "015b6246-bb08-4aa7-c659-d6bde6060537"
      },
      "execution_count": null,
      "outputs": [
        {
          "output_type": "stream",
          "name": "stdout",
          "text": [
            "Quelle est la capitale de l'italie ?\n",
            "(a) rome\n",
            "(b) venise\n",
            "(c) bergame\n",
            "(d) lampedusa\n",
            "\n",
            "Votre reponse :a\n",
            "Bonne reponse\n"
          ]
        }
      ]
    },
    {
      "cell_type": "markdown",
      "source": [
        "REFACTORISATION D'UNE FONCTION"
      ],
      "metadata": {
        "id": "IJbdjK7spkKa"
      }
    },
    {
      "cell_type": "code",
      "source": [
        "def  poser_une_question(question, r1, r2,r3,r4, choix_bonne_reponse):\n",
        "     print(\"question\", question)\n",
        "     print( \"(a)\" , r1)\n",
        "     print( \"(b)\" , r2)\n",
        "     print( \"(c)\" , r3)\n",
        "     print( \"(d)\" , r4)\n",
        "     print()\n",
        "     reponse = input(\"Votre reponse :\")\n",
        "     if reponse == choix_bonne_reponse:\n",
        "       print(\"Bonne reponse\")\n",
        "     else:\n",
        "       print(\"Mauvaise reponse\")\n"
      ],
      "metadata": {
        "id": "lLCJLTNIpqdh"
      },
      "execution_count": null,
      "outputs": []
    },
    {
      "cell_type": "code",
      "source": [
        "poser_une_question(\" quelle est la capitale de la france ?\", \" marseille\", \" nantes\", \" paris\", \" lyon\", \"c\")"
      ],
      "metadata": {
        "colab": {
          "base_uri": "https://localhost:8080/"
        },
        "id": "4ZgpESsPtU1Y",
        "outputId": "48e8ce68-737c-4a20-b63f-9e027c435f01"
      },
      "execution_count": null,
      "outputs": [
        {
          "output_type": "stream",
          "name": "stdout",
          "text": [
            "question  quelle est la capitale de la france ?\n",
            "(a)  marseille\n",
            "(b)  nantes\n",
            "(c)  paris\n",
            "(d)  lyon\n",
            "\n",
            "Votre reponse :c\n",
            "Bonne reponse\n"
          ]
        }
      ]
    },
    {
      "cell_type": "code",
      "source": [
        "poser_une_question(\"quelle est la capitale de l'italie ?\", \"rome\", \"vatican\", \"bergame\", \"lampedusa\", \"a\")"
      ],
      "metadata": {
        "colab": {
          "base_uri": "https://localhost:8080/"
        },
        "id": "IcFQTIckuAD_",
        "outputId": "a2b78127-0eef-4c11-e4a7-6ee081ab708d"
      },
      "execution_count": null,
      "outputs": [
        {
          "output_type": "stream",
          "name": "stdout",
          "text": [
            "question quelle est la capitale de l'italie ?\n",
            "(a) rome\n",
            "(b) vatican\n",
            "(c) bergame\n",
            "(d) lampedusa\n",
            "\n",
            "Votre reponse : a\n",
            "Mauvaise reponse\n"
          ]
        }
      ]
    },
    {
      "cell_type": "markdown",
      "source": [
        "GERER UN SCORE"
      ],
      "metadata": {
        "id": "B9reWN5fwKwQ"
      }
    },
    {
      "cell_type": "code",
      "source": [
        "def  poser_une_question(question, r1, r2,r3,r4, choix_bonne_reponse):\n",
        "     print(\"question\", question)\n",
        "     print( \"(a)\" , r1)\n",
        "     print( \"(b)\" , r2)\n",
        "     print( \"(c)\" , r3)\n",
        "     print( \"(d)\" , r4)\n",
        "     print()\n",
        "     reponse = input(\"Votre reponse :\")\n",
        "     if reponse == choix_bonne_reponse:\n",
        "       print(\"Bonne reponse\")\n",
        "     else:\n",
        "       print(\"Mauvaise reponse\")"
      ],
      "metadata": {
        "id": "_j4e6IsywNIb"
      },
      "execution_count": null,
      "outputs": []
    },
    {
      "cell_type": "markdown",
      "source": [
        "TRAVAILLER AVEC LES LISTES"
      ],
      "metadata": {
        "id": "dgA64HxjGHm9"
      }
    },
    {
      "cell_type": "code",
      "source": [
        "my_list =[\"junior\", \"bob\", \"sarah\"]"
      ],
      "metadata": {
        "id": "8QCyLlbSGKtD"
      },
      "execution_count": null,
      "outputs": []
    },
    {
      "cell_type": "code",
      "source": [
        "print(\"The my_list1 is a follows:\")\n",
        "print(my_list)"
      ],
      "metadata": {
        "colab": {
          "base_uri": "https://localhost:8080/"
        },
        "id": "6eFLcv0HGcXi",
        "outputId": "395d9df6-0d4a-4bf2-ad23-4326b7ba55ae"
      },
      "execution_count": null,
      "outputs": [
        {
          "output_type": "stream",
          "name": "stdout",
          "text": [
            "The my_list1 is a follows:\n",
            "['junior', 'bob', 'sarah']\n"
          ]
        }
      ]
    },
    {
      "cell_type": "code",
      "source": [
        "my_list2 = [1,2,3.5,4,5.7]"
      ],
      "metadata": {
        "id": "vFQ-dvkSGoAD"
      },
      "execution_count": null,
      "outputs": []
    },
    {
      "cell_type": "code",
      "source": [
        "print(\"The my_list2 is a follows:\")\n",
        "print(my_list2)"
      ],
      "metadata": {
        "colab": {
          "base_uri": "https://localhost:8080/"
        },
        "id": "tJabkcY1G9iQ",
        "outputId": "07610a56-ee48-496c-ed0b-4ad894b13f09"
      },
      "execution_count": null,
      "outputs": [
        {
          "output_type": "stream",
          "name": "stdout",
          "text": [
            "The my_list2 is a follows:\n",
            "[1, 2, 3.5, 4, 5.7]\n"
          ]
        }
      ]
    },
    {
      "cell_type": "code",
      "source": [
        "my_list = [\"john\", 12, \"sam\",True, 50.7]"
      ],
      "metadata": {
        "id": "CvQgVid6HMtT"
      },
      "execution_count": null,
      "outputs": []
    },
    {
      "cell_type": "code",
      "source": [
        "print(my_list)\n",
        "print(\"--------------------------------\")"
      ],
      "metadata": {
        "colab": {
          "base_uri": "https://localhost:8080/"
        },
        "id": "IVyn8yZrHyI1",
        "outputId": "7cf31ffe-839d-4084-d2ea-ddb35aef1237"
      },
      "execution_count": null,
      "outputs": [
        {
          "output_type": "stream",
          "name": "stdout",
          "text": [
            "['john', 12, 'sam', True, 50.7]\n",
            "--------------------------------\n"
          ]
        }
      ]
    },
    {
      "cell_type": "code",
      "source": [
        "my_list"
      ],
      "metadata": {
        "colab": {
          "base_uri": "https://localhost:8080/"
        },
        "id": "5My-wEhcIA_-",
        "outputId": "bde8f7a2-4406-464d-fa7d-11418d3e01a2"
      },
      "execution_count": null,
      "outputs": [
        {
          "output_type": "execute_result",
          "data": {
            "text/plain": [
              "['john', 12, 'sam', True, 50.7]"
            ]
          },
          "metadata": {},
          "execution_count": 8
        }
      ]
    },
    {
      "cell_type": "code",
      "source": [
        "print(my_list[0])\n",
        "print(my_list[1])\n",
        "print(my_list[2])\n",
        "print(my_list[3])\n",
        "print(my_list[4])"
      ],
      "metadata": {
        "colab": {
          "base_uri": "https://localhost:8080/"
        },
        "id": "bUu336e3ILMz",
        "outputId": "0e4f5642-8a2c-4d47-9f95-6514c58936ee"
      },
      "execution_count": null,
      "outputs": [
        {
          "output_type": "stream",
          "name": "stdout",
          "text": [
            "john\n",
            "12\n",
            "sam\n",
            "True\n",
            "50.7\n"
          ]
        }
      ]
    },
    {
      "cell_type": "code",
      "source": [
        "my_list"
      ],
      "metadata": {
        "colab": {
          "base_uri": "https://localhost:8080/"
        },
        "id": "g2M1yExuIkf-",
        "outputId": "1d7bd7a0-8fa1-4f81-aa20-e37fc7ed4ece"
      },
      "execution_count": null,
      "outputs": [
        {
          "output_type": "execute_result",
          "data": {
            "text/plain": [
              "['john', 12, 'sam', True, 50.7]"
            ]
          },
          "metadata": {},
          "execution_count": 10
        }
      ]
    },
    {
      "cell_type": "code",
      "source": [
        "print(my_list[-1])\n",
        "print(my_list[-2])\n",
        "print(my_list[-3])\n",
        "print(my_list[-4])\n",
        "print(my_list[-5])"
      ],
      "metadata": {
        "colab": {
          "base_uri": "https://localhost:8080/"
        },
        "id": "BzVHdATAIv0_",
        "outputId": "5f4264ba-cdc3-4d01-a437-2dfa605d6942"
      },
      "execution_count": null,
      "outputs": [
        {
          "output_type": "stream",
          "name": "stdout",
          "text": [
            "50.7\n",
            "True\n",
            "sam\n",
            "12\n",
            "john\n"
          ]
        }
      ]
    },
    {
      "cell_type": "code",
      "source": [
        "my_list"
      ],
      "metadata": {
        "colab": {
          "base_uri": "https://localhost:8080/"
        },
        "id": "okQx0wPTJGrN",
        "outputId": "193deed2-a1f5-4526-f3f9-62087bdf99aa"
      },
      "execution_count": null,
      "outputs": [
        {
          "output_type": "execute_result",
          "data": {
            "text/plain": [
              "['john', 12, 'sam', True, 50.7]"
            ]
          },
          "metadata": {},
          "execution_count": 13
        }
      ]
    },
    {
      "cell_type": "code",
      "source": [
        "print(\"The original list is a follows:\")\n",
        "print(my_list)\n",
        "print(\"Printing the element starting from index position 2 to end:\")\n",
        "print(my_list[2:])\n",
        "print(\"Printing the elements starting from index position 1 to 3(i.e.4-1):\")\n",
        "print(my_list[1:4])"
      ],
      "metadata": {
        "colab": {
          "base_uri": "https://localhost:8080/"
        },
        "id": "Cm1_3qE1JTOt",
        "outputId": "3a0011cc-afff-416c-bcc7-2d91bcd8c6e8"
      },
      "execution_count": null,
      "outputs": [
        {
          "output_type": "stream",
          "name": "stdout",
          "text": [
            "The original list is a follows:\n",
            "['john', 12, 'sam', True, 50.7]\n",
            "Printing the element starting from index position 2 to end:\n",
            "['sam', True, 50.7]\n",
            "Printing the elements starting from index position 1 to 3(i.e.4-1):\n",
            "[12, 'sam', True]\n"
          ]
        }
      ]
    },
    {
      "cell_type": "code",
      "source": [
        "my_list"
      ],
      "metadata": {
        "colab": {
          "base_uri": "https://localhost:8080/"
        },
        "id": "DlDli4N3KYB5",
        "outputId": "bc8d8f0b-d271-4cbb-ee8f-d08cebf27d2d"
      },
      "execution_count": null,
      "outputs": [
        {
          "output_type": "execute_result",
          "data": {
            "text/plain": [
              "['john', 12, 'sam', True, 50.7]"
            ]
          },
          "metadata": {},
          "execution_count": 15
        }
      ]
    },
    {
      "cell_type": "code",
      "source": [
        "print(\"The original list is follows:\")\n",
        "print(my_list)\n",
        "print(\"Changing the element at index 2.\")\n",
        "my_list[2] = \"Bob\"\n",
        "print(\"Now the list is a follows:\")\n",
        "print(my_list)"
      ],
      "metadata": {
        "colab": {
          "base_uri": "https://localhost:8080/"
        },
        "id": "UpvOUK5CKjLV",
        "outputId": "f24aece9-b91b-4a9f-aeb2-cdd394518796"
      },
      "execution_count": null,
      "outputs": [
        {
          "output_type": "stream",
          "name": "stdout",
          "text": [
            "The original list is follows:\n",
            "['john', 12, 'sam', True, 50.7]\n",
            "Changing the element at index 2.\n",
            "Now the list is a follows:\n",
            "['john', 12, 'Bob', True, 50.7]\n"
          ]
        }
      ]
    },
    {
      "cell_type": "markdown",
      "source": [
        "CONCATENATION"
      ],
      "metadata": {
        "id": "vPUweLebLUtd"
      }
    },
    {
      "cell_type": "code",
      "source": [
        "my_list1 = [\"john\", 12, 50.7]\n",
        "my_list2 = [\"sam\", 25, \"john\", False, 100.2]\n",
        "print(\"Original lists are:\")\n",
        "print(my_list1)\n",
        "print(my_list2)\n",
        "print(\"After concatenating the lists, you get the following list:\")\n",
        "print(my_list1 + my_list2)"
      ],
      "metadata": {
        "colab": {
          "base_uri": "https://localhost:8080/"
        },
        "id": "-K7mRdnrLW9o",
        "outputId": "2b67132f-05c8-428d-ebc2-ce23b87fc145"
      },
      "execution_count": null,
      "outputs": [
        {
          "output_type": "stream",
          "name": "stdout",
          "text": [
            "Original lists are:\n",
            "['john', 12, 50.7]\n",
            "['sam', 25, 'john', False, 100.2]\n",
            "After concatenating the lists, you get the following list:\n",
            "['john', 12, 50.7, 'sam', 25, 'john', False, 100.2]\n"
          ]
        }
      ]
    },
    {
      "cell_type": "code",
      "source": [
        "my_list =[\"john\", 12, \"sam\", True, 50.7]\n",
        "print(\"The original list is:\")\n",
        "print(my_list)\n",
        "print(\"The 3 last elements of the list are:\")\n",
        "print(my_list[-3:])\n",
        "print(\"the 2 lasts elements of the lsit are:\")\n",
        "print(my_list[-2:])\n",
        "print(\"The last element of the list is:\")\n",
        "print(my_list[-1])"
      ],
      "metadata": {
        "colab": {
          "base_uri": "https://localhost:8080/"
        },
        "id": "wxS2b4C6MfzI",
        "outputId": "6e0ead29-3744-474a-8cd7-17b4cdfaffda"
      },
      "execution_count": null,
      "outputs": [
        {
          "output_type": "stream",
          "name": "stdout",
          "text": [
            "The original list is:\n",
            "['john', 12, 'sam', True, 50.7]\n",
            "The 3 last elements of the list are:\n",
            "['sam', True, 50.7]\n",
            "the 2 lasts elements of the lsit are:\n",
            "[True, 50.7]\n",
            "The last element of the list is:\n",
            "50.7\n"
          ]
        }
      ]
    },
    {
      "cell_type": "code",
      "source": [
        "my_list"
      ],
      "metadata": {
        "colab": {
          "base_uri": "https://localhost:8080/"
        },
        "id": "ETUM_A35N1B0",
        "outputId": "792950cf-877d-418c-ef4d-1272b9ac98fc"
      },
      "execution_count": null,
      "outputs": [
        {
          "output_type": "execute_result",
          "data": {
            "text/plain": [
              "['john', 12, 'sam', True, 50.7]"
            ]
          },
          "metadata": {},
          "execution_count": 33
        }
      ]
    },
    {
      "cell_type": "code",
      "source": [
        "print(\"The original list is:\")\n",
        "print(my_list)\n",
        "print(\"Removing the element at index 2\")\n",
        "del(my_list[2])\n",
        "print(\"Now the list is:\")\n",
        "print(my_list)\n",
        "print(\"Removing the element at index 3 from thsi update the list.\")\n",
        "del(my_list[3])\n",
        "print(\"The update list is:\")\n",
        "print(my_list)"
      ],
      "metadata": {
        "colab": {
          "base_uri": "https://localhost:8080/"
        },
        "id": "0yM_XRMfN3ia",
        "outputId": "8b2519f0-54f2-4a24-bbb2-1f6d1b4848a1"
      },
      "execution_count": null,
      "outputs": [
        {
          "output_type": "stream",
          "name": "stdout",
          "text": [
            "The original list is:\n",
            "['john', 12, 'sam', True, 50.7]\n",
            "Removing the element at index 2\n",
            "Now the list is:\n",
            "['john', 12, True, 50.7]\n",
            "Removing the element at index 3 from thsi update the list.\n",
            "The update list is:\n",
            "['john', 12, True]\n"
          ]
        }
      ]
    },
    {
      "cell_type": "code",
      "source": [
        "my_list = [\"john\", 12, 25 , 12, \"sam\", True, 50.7]\n",
        "print(\"The original list is:\")\n",
        "print(my_list)\n",
        "print(\"Removing the first occurence of 12 inside the list.\")\n",
        "my_list.remove(12)\n",
        "print(\"Now the list is:\")\n",
        "print(my_list)"
      ],
      "metadata": {
        "colab": {
          "base_uri": "https://localhost:8080/"
        },
        "id": "4ODrGkWxPuVP",
        "outputId": "9f3eb802-8c7e-4623-ec4e-2f01a9d35274"
      },
      "execution_count": null,
      "outputs": [
        {
          "output_type": "stream",
          "name": "stdout",
          "text": [
            "The original list is:\n",
            "['john', 12, 25, 12, 'sam', True, 50.7]\n",
            "Removing the first occurence of 12 inside the list.\n",
            "Now the list is:\n",
            "['john', 25, 12, 'sam', True, 50.7]\n"
          ]
        }
      ]
    },
    {
      "cell_type": "code",
      "source": [
        "my_list = [\"john\", 12, \"sam\", 25.7, \"sam\", True]\n",
        "print(\"The original list is:\")\n",
        "print(my_list)\n",
        "print(\"Removing the first occurence of 'sam' inside the list\")\n",
        "my_list.remove(\"sam\")\n",
        "print(\"Now print the list is:\")\n",
        "print(my_list)\n"
      ],
      "metadata": {
        "colab": {
          "base_uri": "https://localhost:8080/"
        },
        "id": "Nbp6rH0eQst_",
        "outputId": "bee11552-5134-4191-e0ab-d27d207035fc"
      },
      "execution_count": null,
      "outputs": [
        {
          "output_type": "stream",
          "name": "stdout",
          "text": [
            "The original list is:\n",
            "['john', 12, 'sam', 25.7, 'sam', True]\n",
            "Removing the first occurence of 'sam' inside the list\n",
            "Now print the list is:\n",
            "['john', 12, 25.7, 'sam', True]\n"
          ]
        }
      ]
    },
    {
      "cell_type": "code",
      "source": [
        "my_list = [\"john\", 12, 25, 12, \"sam\", True, 50.7]\n",
        "print(\"The original list is:\")\n",
        "print(my_list)\n",
        "print(\"Removing an element inside the list at index 3 using pop().\")\n",
        "my_list.pop(3)\n",
        "print(\"Now the list is:\")\n",
        "print(my_list)"
      ],
      "metadata": {
        "colab": {
          "base_uri": "https://localhost:8080/"
        },
        "id": "xfItyaNRRvlY",
        "outputId": "cf44db88-1775-4d96-8c87-eab00ed4bac5"
      },
      "execution_count": null,
      "outputs": [
        {
          "output_type": "stream",
          "name": "stdout",
          "text": [
            "The original list is:\n",
            "['john', 12, 25, 12, 'sam', True, 50.7]\n",
            "Removing an element inside the list at index 3 using pop().\n",
            "Now the list is:\n",
            "['john', 12, 25, 'sam', True, 50.7]\n"
          ]
        }
      ]
    },
    {
      "cell_type": "markdown",
      "source": [
        "CHEKING WETHERELEMENT IS PRESENT IN THE LIST"
      ],
      "metadata": {
        "id": "tMXAE6c3Sveh"
      }
    },
    {
      "cell_type": "code",
      "source": [
        "my_list = [\"john\", \"bob\", \"sam\", \"esther\", 1, 2, 3 , 4]\n",
        "print(\"Is 'sam' present inside the list?\")\n",
        "print(\"sam\" in my_list)\n",
        "print(\"Is 'jennifer' present inside the list?\")\n",
        "print('jennifer' in my_list)\n",
        "print(\"is 3 present inside the list?\")\n",
        "print(3 in my_list)\n",
        "print(\"Is 5 present inside the list?\")\n",
        "print(5 in my_list)\n"
      ],
      "metadata": {
        "colab": {
          "base_uri": "https://localhost:8080/"
        },
        "id": "d5jbB95NSmVc",
        "outputId": "d4af23ed-2345-4377-b07b-fef6bba7e2bc"
      },
      "execution_count": null,
      "outputs": [
        {
          "output_type": "stream",
          "name": "stdout",
          "text": [
            "Is 'sam' present inside the list?\n",
            "True\n",
            "Is 'jennifer' present inside the list?\n",
            "False\n",
            "is 3 present inside the list?\n",
            "True\n",
            "Is 5 present inside the list?\n",
            "False\n"
          ]
        }
      ]
    },
    {
      "cell_type": "markdown",
      "source": [
        "FINDING THE MAXIMU AND MINIMU IN THE LIST"
      ],
      "metadata": {
        "id": "kwxQ_CA2UZoL"
      }
    },
    {
      "cell_type": "code",
      "source": [
        "my_list = [1, 23, 56.2, -3.7, 999]\n",
        "print(\"The original list is:\")\n",
        "print(my_list)\n",
        "print(f\"The largest number is:{max(my_list)}\")\n",
        "print(f\"The smallest number is: {min(my_list)}\")\n",
        "print(\"-----------------------------------------\")"
      ],
      "metadata": {
        "colab": {
          "base_uri": "https://localhost:8080/"
        },
        "id": "yhz39YdiUeBI",
        "outputId": "1e310bd7-463f-48e7-94f9-cb03e60551ec"
      },
      "execution_count": null,
      "outputs": [
        {
          "output_type": "stream",
          "name": "stdout",
          "text": [
            "The original list is:\n",
            "[1, 23, 56.2, -3.7, 999]\n",
            "The largest number is:999\n",
            "The smallest number is: -3.7\n",
            "-----------------------------------------\n"
          ]
        }
      ]
    },
    {
      "cell_type": "markdown",
      "source": [
        "TESTING MAX AND MIN on boolean values"
      ],
      "metadata": {
        "id": "ZpL7Od1uVirP"
      }
    },
    {
      "cell_type": "code",
      "source": [
        "my_list = [0.75, True, False, 0.5,0.6,1,0]\n",
        "print(\"The original list is:\")\n",
        "print(my_list)\n",
        "print(f\"The largest number is: {max(my_list)}\")\n",
        "print(f\"The smallest number is: {min(my_list)}\")\n"
      ],
      "metadata": {
        "colab": {
          "base_uri": "https://localhost:8080/"
        },
        "id": "zgIPxSWeVr3l",
        "outputId": "0ff6f7a8-5999-49ee-c2b3-f32f9adf3643"
      },
      "execution_count": null,
      "outputs": [
        {
          "output_type": "stream",
          "name": "stdout",
          "text": [
            "The original list is:\n",
            "[0.75, True, False, 0.5, 0.6, 1, 0]\n",
            "The largest number is: True\n",
            "The smallest number is: False\n"
          ]
        }
      ]
    },
    {
      "cell_type": "markdown",
      "source": [
        "I WANT TO ADD AN ELEMENT AT THE END OF THE LIST"
      ],
      "metadata": {
        "id": "gCDf41RPZIwa"
      }
    },
    {
      "cell_type": "code",
      "source": [
        "my_list = [\"john\", 12, \"sam\", True, 50.7]\n",
        "print(\"The original list is:\")\n",
        "print(my_list)\n",
        "print(\"Appending 25 at the end of the list.\")\n",
        "my_list.append(25)\n",
        "print(\"Now the list is:\")\n",
        "print(my_list)\n",
        "print(\"Appending another element 'bob' now.\")\n",
        "my_list.append('bob')\n",
        "print(\"the modifiest list is:\")\n",
        "print(my_list)"
      ],
      "metadata": {
        "colab": {
          "base_uri": "https://localhost:8080/"
        },
        "id": "7P_mgrzqZPLU",
        "outputId": "cba641e4-bb9f-4305-ee59-e5180960c376"
      },
      "execution_count": null,
      "outputs": [
        {
          "output_type": "stream",
          "name": "stdout",
          "text": [
            "The original list is:\n",
            "['john', 12, 'sam', True, 50.7]\n",
            "Appending 25 at the end of the list.\n",
            "Now the list is:\n",
            "['john', 12, 'sam', True, 50.7, 25]\n",
            "Appending another element 'bob' now.\n",
            "the modifiest list is:\n",
            "['john', 12, 'sam', True, 50.7, 25, 'bob']\n"
          ]
        }
      ]
    },
    {
      "cell_type": "code",
      "source": [
        "my_list = [\"john\", 12, \"sam\", True, 50.7]\n",
        "print(\"Initial list is:\")\n",
        "print(my_list)\n",
        "print(\"Appending [10,'bob',100.2] at the end of the list:\")\n",
        "my_list.append([10,'bob',100.2])\n",
        "print(\"The modifie list is:\")\n",
        "print(my_list)"
      ],
      "metadata": {
        "colab": {
          "base_uri": "https://localhost:8080/"
        },
        "id": "s9nI-rkUbJRM",
        "outputId": "171d6034-dc05-45cf-9a96-8ed6bdafd27f"
      },
      "execution_count": null,
      "outputs": [
        {
          "output_type": "stream",
          "name": "stdout",
          "text": [
            "Initial list is:\n",
            "['john', 12, 'sam', True, 50.7]\n",
            "Appending [10,'bob',100.2] at the end of the list:\n",
            "The modifie list is:\n",
            "['john', 12, 'sam', True, 50.7, [10, 'bob', 100.2]]\n"
          ]
        }
      ]
    },
    {
      "cell_type": "code",
      "source": [
        "my_list = [\"john\", 12, \"sam\", True, 50.7]\n",
        "print(\"The original list is:\")\n",
        "print(my_list)\n",
        "print(\"adding 10, 'bob',and 100.2 at the list end.\")\n",
        "my_list.extend([10, 'bob', 100.2])\n",
        "print(\"Now the list is:\")\n",
        "print(my_list)"
      ],
      "metadata": {
        "colab": {
          "base_uri": "https://localhost:8080/"
        },
        "id": "7wgpgmwNcQEE",
        "outputId": "68738c67-3ab3-438d-bae4-b898694ec7e5"
      },
      "execution_count": null,
      "outputs": [
        {
          "output_type": "stream",
          "name": "stdout",
          "text": [
            "The original list is:\n",
            "['john', 12, 'sam', True, 50.7]\n",
            "adding 10, 'bob',and 100.2 at the list end.\n",
            "Now the list is:\n",
            "['john', 12, 'sam', True, 50.7, 10, 'bob', 100.2]\n"
          ]
        }
      ]
    },
    {
      "cell_type": "code",
      "source": [
        "my_list = [\"john\", 12, \"sam\", True, 50.7]\n",
        "print(\"The original list is:\")\n",
        "print(my_list)\n",
        "print(\"Adding the element 'jack' at index 3.\")\n",
        "my_list.insert(3, \"jack\")\n",
        "print(\"Now the list is as follows:\")\n",
        "print(my_list)"
      ],
      "metadata": {
        "colab": {
          "base_uri": "https://localhost:8080/"
        },
        "id": "AnMdGfUwdsAb",
        "outputId": "91e870f1-476c-41b0-c32a-c1d7e4cfbfc0"
      },
      "execution_count": null,
      "outputs": [
        {
          "output_type": "stream",
          "name": "stdout",
          "text": [
            "The original list is:\n",
            "['john', 12, 'sam', True, 50.7]\n",
            "Adding the element 'jack' at index 3.\n",
            "Now the list is as follows:\n",
            "['john', 12, 'sam', 'jack', True, 50.7]\n"
          ]
        }
      ]
    },
    {
      "cell_type": "code",
      "source": [
        "my_list =[33, 11, 555, 77, 111, 333]\n",
        "print(\"The initial list is:\")\n",
        "print(my_list)\n",
        "print(\"Using sort() on my list now.\")\n",
        "my_list.sort()\n",
        "print(\"Now my list is: \")\n",
        "print(my_list)"
      ],
      "metadata": {
        "colab": {
          "base_uri": "https://localhost:8080/"
        },
        "id": "hq13RD-lfGgb",
        "outputId": "e470865b-97d6-44e3-b9ba-9900bd9f559e"
      },
      "execution_count": null,
      "outputs": [
        {
          "output_type": "stream",
          "name": "stdout",
          "text": [
            "The initial list is:\n",
            "[33, 11, 555, 77, 111, 333]\n",
            "Using sort() on my list now.\n",
            "Now my list is: \n",
            "[11, 33, 77, 111, 333, 555]\n"
          ]
        }
      ]
    },
    {
      "cell_type": "code",
      "source": [
        "my_list =[33, 11, 555, 77, 111, 333]\n",
        "#my_list = [\"sam\", \"bob\", \"jack\"]\n",
        "print(\"Initialy, my_list is:\")\n",
        "print(my_list)\n",
        "print(\"Printing the sorted list now.\")\n",
        "print(sorted(my_list))\n",
        "print(\"The my_list now:\")\n",
        "print(my_list)"
      ],
      "metadata": {
        "id": "OgvItpkRf4lO",
        "colab": {
          "base_uri": "https://localhost:8080/"
        },
        "outputId": "0c07e557-1b78-42af-de35-016902768329"
      },
      "execution_count": null,
      "outputs": [
        {
          "output_type": "stream",
          "name": "stdout",
          "text": [
            "Initialy, my_list is:\n",
            "[33, 11, 555, 77, 111, 333]\n",
            "Printing the sorted list now.\n",
            "[11, 33, 77, 111, 333, 555]\n",
            "The my_list now:\n",
            "[33, 11, 555, 77, 111, 333]\n"
          ]
        }
      ]
    },
    {
      "cell_type": "markdown",
      "source": [
        "WORKING WITH TUPLES"
      ],
      "metadata": {
        "id": "M1XaBy3ymogn"
      }
    },
    {
      "cell_type": "code",
      "source": [
        "my_tuple = (\"john\", 12, \"sam\", True, 50.7)\n",
        "print(\"The content of my tuple is:\")\n",
        "print(my_tuple)"
      ],
      "metadata": {
        "colab": {
          "base_uri": "https://localhost:8080/"
        },
        "id": "Bq0YKUGpmrcl",
        "outputId": "e8567681-0e37-4496-9ef1-8a9baf3f0c38"
      },
      "execution_count": null,
      "outputs": [
        {
          "output_type": "stream",
          "name": "stdout",
          "text": [
            "The content of my tuple is:\n",
            "('john', 12, 'sam', True, 50.7)\n"
          ]
        }
      ]
    },
    {
      "cell_type": "markdown",
      "source": [
        "I want to access in the tuple elements, indexing is similar to list"
      ],
      "metadata": {
        "id": "NP2Nvc1Cobne"
      }
    },
    {
      "cell_type": "code",
      "source": [
        "my_tuple"
      ],
      "metadata": {
        "colab": {
          "base_uri": "https://localhost:8080/"
        },
        "id": "Do9EeSV8opfw",
        "outputId": "f8574932-eb01-4fb7-ddef-5f45c03727a8"
      },
      "execution_count": null,
      "outputs": [
        {
          "output_type": "execute_result",
          "data": {
            "text/plain": [
              "('john', 12, 'sam', True, 50.7)"
            ]
          },
          "metadata": {},
          "execution_count": 4
        }
      ]
    },
    {
      "cell_type": "code",
      "source": [
        "print(\"The content of my tuple is:\")\n",
        "print(my_tuple)\n",
        "print(\"The first element is:\")\n",
        "print(my_tuple[0])\n",
        "print(\"The second element of my tuple is:\")\n",
        "print(my_tuple[1])\n",
        "print(\"The last element of tuple is:\")\n",
        "print(my_tuple[-1])\n",
        "print(\"Printing the elements from index 1 to index 3\")\n",
        "print(my_tuple[1:4])\n",
        "print(\"Printing the elements from index 2 and the end\")\n",
        "print(my_tuple[2:])"
      ],
      "metadata": {
        "colab": {
          "base_uri": "https://localhost:8080/"
        },
        "id": "xeqwnzA0ouEB",
        "outputId": "4af89bd3-aab0-4fa9-d4b9-173727b54250"
      },
      "execution_count": null,
      "outputs": [
        {
          "output_type": "stream",
          "name": "stdout",
          "text": [
            "The content of my tuple is:\n",
            "('john', 12, 'sam', True, 50.7)\n",
            "The first element is:\n",
            "john\n",
            "The second element of my tuple is:\n",
            "12\n",
            "The last element of tuple is:\n",
            "50.7\n",
            "Printing the elements from index 1 to index 3\n",
            "(12, 'sam', True)\n",
            "Printing the elements from index 2 and the end\n",
            "('sam', True, 50.7)\n"
          ]
        }
      ]
    },
    {
      "cell_type": "markdown",
      "source": [
        "Converting a list to a tuple"
      ],
      "metadata": {
        "id": "yyzlvzNFqNkh"
      }
    },
    {
      "cell_type": "code",
      "source": [
        "my_list = [\"john\", 12, \"sam\", True, 50.7]\n",
        "print(\"The content of my list is:\")\n",
        "print(my_list)\n",
        "#converting my list to a tuple\n",
        "my_tuple = tuple(my_list)\n",
        "print(\"The content of my tuple is\")\n",
        "print(my_tuple)"
      ],
      "metadata": {
        "colab": {
          "base_uri": "https://localhost:8080/"
        },
        "id": "K7xKVRpXqQqd",
        "outputId": "d5408ce9-b812-4b15-ba7c-0fd090466f58"
      },
      "execution_count": null,
      "outputs": [
        {
          "output_type": "stream",
          "name": "stdout",
          "text": [
            "The content of my list is:\n",
            "['john', 12, 'sam', True, 50.7]\n",
            "The content of my tuple is\n",
            "('john', 12, 'sam', True, 50.7)\n"
          ]
        }
      ]
    },
    {
      "cell_type": "markdown",
      "source": [
        "Reversing a tuple"
      ],
      "metadata": {
        "id": "pQmOQWrzrURj"
      }
    },
    {
      "cell_type": "code",
      "source": [
        "my_tuple = (1,2,3,4,5)\n",
        "print(\"The content of my tuple is:\")\n",
        "print(my_tuple)\n",
        "print(\"Reversing the tuple:\")\n",
        "rev_tuple = tuple(reversed(my_tuple))\n",
        "print(\"The content of rev_tuple is:\")\n",
        "print(rev_tuple)"
      ],
      "metadata": {
        "colab": {
          "base_uri": "https://localhost:8080/"
        },
        "id": "2pd8u5qErYuZ",
        "outputId": "ecb3f51a-8564-486c-dcc7-dac71e6976b7"
      },
      "execution_count": null,
      "outputs": [
        {
          "output_type": "stream",
          "name": "stdout",
          "text": [
            "The content of my tuple is:\n",
            "(1, 2, 3, 4, 5)\n",
            "Reversing the tuple:\n",
            "The content of rev_tuple is:\n",
            "(5, 4, 3, 2, 1)\n"
          ]
        }
      ]
    },
    {
      "cell_type": "markdown",
      "source": [
        "Working with a dictionaries"
      ],
      "metadata": {
        "id": "2E3-pSNVtHvn"
      }
    },
    {
      "cell_type": "code",
      "source": [
        "my_dictionary = {1:\"john\", 2:12, 3:\"sam\",4: True, 5: 50.7}\n",
        "print(\"The my_dictionay contains:\")\n",
        "print(my_dictionary)"
      ],
      "metadata": {
        "colab": {
          "base_uri": "https://localhost:8080/"
        },
        "id": "mXW8FFE-tPN-",
        "outputId": "4e8dca1b-64b0-4865-895a-43cb3454cb71"
      },
      "execution_count": null,
      "outputs": [
        {
          "output_type": "stream",
          "name": "stdout",
          "text": [
            "The my_dictionay contains:\n",
            "{1: 'john', 2: 12, 3: 'sam', 4: True, 5: 50.7}\n"
          ]
        }
      ]
    },
    {
      "cell_type": "code",
      "source": [
        "my_dictionary = {1:\"john\", 2:12, 3:\"sam\", 'fourth':True, 'fifth':50.7}\n",
        "print(\"The dictionary contains:\")\n",
        "print(my_dictionary)\n",
        "print(\"-----------------------------------------------------------\")"
      ],
      "metadata": {
        "colab": {
          "base_uri": "https://localhost:8080/"
        },
        "id": "8ivQPQzBu2kZ",
        "outputId": "0d4a25d3-35e0-4ef3-ecad-e806daaa230f"
      },
      "execution_count": null,
      "outputs": [
        {
          "output_type": "stream",
          "name": "stdout",
          "text": [
            "The dictionary contains:\n",
            "{1: 'john', 2: 12, 3: 'sam', 'fourth': True, 'fifth': 50.7}\n",
            "-----------------------------------------------------------\n"
          ]
        }
      ]
    },
    {
      "cell_type": "markdown",
      "source": [
        "I want to print values for particular keys"
      ],
      "metadata": {
        "id": "yXHAjdkiwBO3"
      }
    },
    {
      "cell_type": "code",
      "source": [
        "my_dictionary = {1:\"john\", 2:12, 3:\"sam\", 'fourth':True, 'fifth':50.7}\n",
        "print(\"The my_dictionary contains:\")\n",
        "print(my_dictionary)\n",
        "print(\"Value at key 1:\", my_dictionary[1])\n",
        "print(\"Value at key 2:\", my_dictionary[2])\n",
        "print(\"Value at key 3:\", my_dictionary[3])\n",
        "print(\"Value at key 'fourth':\", my_dictionary['fourth'])\n",
        "print(\"Value at key 'fifth':\", my_dictionary['fifth'])"
      ],
      "metadata": {
        "colab": {
          "base_uri": "https://localhost:8080/"
        },
        "id": "5iCmxXmlwK93",
        "outputId": "0339cca8-12dd-4722-946a-c37d3fdcb65c"
      },
      "execution_count": null,
      "outputs": [
        {
          "output_type": "stream",
          "name": "stdout",
          "text": [
            "The my_dictionary contains:\n",
            "{1: 'john', 2: 12, 3: 'sam', 'fourth': True, 'fifth': 50.7}\n",
            "Value at key 1: john\n",
            "Value at key 2: 12\n",
            "Value at key 3: sam\n",
            "Value at key 'fourth': True\n",
            "Value at key 'fifth': 50.7\n"
          ]
        }
      ]
    },
    {
      "cell_type": "markdown",
      "source": [
        "If you assigned differents values for the same keys, last assigned value will be kept"
      ],
      "metadata": {
        "id": "pWOOcmRpx8V9"
      }
    },
    {
      "cell_type": "code",
      "source": [
        "my_dictionary = {1:\"john\", 2:\"sam\", 3:\"jack\", 1:\"Bob\"}\n",
        "print(\"The my_dictionary contains\")\n",
        "print(my_dictionary)\n",
        "print(\"Value at key 1:\", my_dictionary[1])\n",
        "print(f\"Number of contents: {len(my_dictionary)}\")"
      ],
      "metadata": {
        "colab": {
          "base_uri": "https://localhost:8080/"
        },
        "id": "L_4TsStMySnn",
        "outputId": "2c08aa78-6239-488e-c71e-86ffd4852a91"
      },
      "execution_count": null,
      "outputs": [
        {
          "output_type": "stream",
          "name": "stdout",
          "text": [
            "The my_dictionary contains\n",
            "{1: 'Bob', 2: 'sam', 3: 'jack'}\n",
            "Value at key 1: Bob\n",
            "Number of contents: 3\n"
          ]
        }
      ]
    },
    {
      "cell_type": "markdown",
      "source": [
        "WORKING WITH SETS"
      ],
      "metadata": {
        "id": "5eX_C7aN0at5"
      }
    },
    {
      "cell_type": "code",
      "source": [
        "my_set1 = {1,2,3,\"jack\",2, \"Bob\",3,1}\n",
        "print(\"The my_set1 contains:\")\n",
        "print(my_set1)\n",
        "\n",
        "my_set2 = {\"Sam\", \"Bob\", \"Jack\", \"Sam\",\"Jack\", \"Esther\"}\n",
        "print(\"The my_set2 contains:\")\n",
        "print(my_set2)"
      ],
      "metadata": {
        "colab": {
          "base_uri": "https://localhost:8080/"
        },
        "id": "ULK7EYv10eBD",
        "outputId": "e3b2e638-3900-4d95-95ae-4e173cc2f31f"
      },
      "execution_count": null,
      "outputs": [
        {
          "output_type": "stream",
          "name": "stdout",
          "text": [
            "The my_set1 contains:\n",
            "{1, 2, 3, 'jack', 'Bob'}\n",
            "The my_set2 contains:\n",
            "{'Esther', 'Jack', 'Bob', 'Sam'}\n"
          ]
        }
      ]
    },
    {
      "cell_type": "code",
      "source": [
        "# sets are mutables\n",
        "my_set = {1,2,3,4,5}\n",
        "#my_set = {} # it is treated as empty dictionary\n",
        "# my_set = set() # this ok for an empty\n",
        "print(\"The my_set contains:\")\n",
        "print(my_set)\n",
        "print(\"Adding 6 to the set now.\")\n",
        "my_set.add(6)\n",
        "print(\"Now the set is:\")\n",
        "print(my_set)\n",
        "print(\"Removing 2 from the set now.\")\n",
        "my_set.remove(2)\n",
        "print(\"Now my_set is:\")\n",
        "print(my_set)"
      ],
      "metadata": {
        "colab": {
          "base_uri": "https://localhost:8080/"
        },
        "id": "W6lyZao54rgP",
        "outputId": "16dcdaab-0ff4-484f-c890-bcf193ad126d"
      },
      "execution_count": null,
      "outputs": [
        {
          "output_type": "stream",
          "name": "stdout",
          "text": [
            "The my_set contains:\n",
            "{1, 2, 3, 4, 5}\n",
            "Adding 6 to the set now.\n",
            "Now the set is:\n",
            "{1, 2, 3, 4, 5, 6}\n",
            "Removing 2 from the set now.\n",
            "Now my_set is:\n",
            "{1, 3, 4, 5, 6}\n"
          ]
        }
      ]
    },
    {
      "cell_type": "code",
      "source": [
        "#You can iterate over strings\n",
        "my_str = \"vaskaran\"\n",
        "my_set = set(my_str)\n",
        "print(\"The my_set contains is:\")\n",
        "print(my_set)"
      ],
      "metadata": {
        "colab": {
          "base_uri": "https://localhost:8080/"
        },
        "id": "o-tkZHDK8H82",
        "outputId": "8de39115-304a-462b-de5d-38a04ba9ae16"
      },
      "execution_count": null,
      "outputs": [
        {
          "output_type": "stream",
          "name": "stdout",
          "text": [
            "The my_set contains is:\n",
            "{'a', 'v', 'r', 's', 'n', 'k'}\n"
          ]
        }
      ]
    },
    {
      "cell_type": "code",
      "source": [
        "#You can not access sets elements by refering to an index. but you can loop through the elements\n",
        "my_set = set([2, \"hello\", 1,5])\n",
        "for item in my_set:\n",
        "  print(item)"
      ],
      "metadata": {
        "id": "ePs0aCcR9Awr",
        "colab": {
          "base_uri": "https://localhost:8080/"
        },
        "outputId": "5ebf89bb-90a5-4f65-d175-abc3f126ec91"
      },
      "execution_count": null,
      "outputs": [
        {
          "output_type": "stream",
          "name": "stdout",
          "text": [
            "hello\n",
            "1\n",
            "2\n",
            "5\n"
          ]
        }
      ]
    },
    {
      "cell_type": "markdown",
      "source": [
        "Removing element from a set. Here, i show you to use both remove and discard. the difference is discard() does not raise an error if the element is not present, but remove() raises an error in that case."
      ],
      "metadata": {
        "id": "KQjDY4gsA1D9"
      }
    },
    {
      "cell_type": "code",
      "source": [
        "# remove an element from a set\n",
        "my_set = set([1,2,3,4,5])\n",
        "print(\"The my_set contains is:\")\n",
        "print(my_set)\n",
        "print(\"Removing 5 using remove(). \")\n",
        "my_set.remove(5)\n",
        "print(\"Now the my_set contains is:\")\n",
        "print(my_set)\n",
        "print(\"Removing 4 using discard().\")\n",
        "my_set.discard(4)\n",
        "print(\"Now my_set contains is:\")\n",
        "print(my_set)"
      ],
      "metadata": {
        "colab": {
          "base_uri": "https://localhost:8080/"
        },
        "id": "E1dJOIPwBjDu",
        "outputId": "80536628-eb3c-4817-92e8-331fb4167ced"
      },
      "execution_count": null,
      "outputs": [
        {
          "output_type": "stream",
          "name": "stdout",
          "text": [
            "The my_set contains is:\n",
            "{1, 2, 3, 4, 5}\n",
            "Removing 5 using remove(). \n",
            "Now the my_set contains is:\n",
            "{1, 2, 3, 4}\n",
            "Removing 4 using discard().\n",
            "Now my_set contains is:\n",
            "{1, 2, 3}\n"
          ]
        }
      ]
    },
    {
      "cell_type": "markdown",
      "source": [
        "EXERCISES"
      ],
      "metadata": {
        "id": "nfwlZl_ND6-U"
      }
    },
    {
      "cell_type": "code",
      "source": [
        "classe_list = [\"junior\", \"keren\", \"sarah\"]\n",
        "print(\"The class list contains is:\")\n",
        "print(classe_list)\n",
        "print(\"Removing two elements from class_list with remove()\")\n",
        "classe_list.remove(\"junior\")\n",
        "classe_list.remove(\"sarah\")\n",
        "print(\"Now my classe_list contains is:\")\n",
        "print(classe_list)"
      ],
      "metadata": {
        "colab": {
          "base_uri": "https://localhost:8080/"
        },
        "id": "0dzlNw1MEE-Z",
        "outputId": "3f430319-baaa-404e-86c4-01a5234eb5fa"
      },
      "execution_count": null,
      "outputs": [
        {
          "output_type": "stream",
          "name": "stdout",
          "text": [
            "The class list contains is:\n",
            "['junior', 'keren', 'sarah']\n",
            "Removing two elements from class_list with remove()\n",
            "Now my classe_list contains is:\n",
            "['keren']\n"
          ]
        }
      ]
    },
    {
      "cell_type": "code",
      "source": [
        "car_list = [\"Peugeot\", \"Audi\", \"Lamborghini\", \"nissan\", \"vitara\"]\n",
        "print(\"The car list contains is:\")\n",
        "print(car_list)\n",
        "print(\"Removing two lasts elements in the car_list\")\n",
        "del(car_list[-2:])\n",
        "print(\"Now my car_list contains is:\")\n",
        "print(car_list)"
      ],
      "metadata": {
        "colab": {
          "base_uri": "https://localhost:8080/"
        },
        "id": "eYIWPc6dF4OL",
        "outputId": "407160d8-a168-4aa1-a4bb-02086cbba228"
      },
      "execution_count": null,
      "outputs": [
        {
          "output_type": "stream",
          "name": "stdout",
          "text": [
            "The car list contains is:\n",
            "['Peugeot', 'Audi', 'Lamborghini', 'nissan', 'vitara']\n",
            "Removing two lasts elements in the car_list\n",
            "Now my car_list contains is:\n",
            "['Peugeot', 'Audi', 'Lamborghini']\n"
          ]
        }
      ]
    },
    {
      "cell_type": "code",
      "source": [
        "my_tuple = (\"orange\", 2, 5, \"banana\", 12.5, 27)\n",
        "print(\"The original my_tuple is:\")\n",
        "print(my_tuple)\n",
        "print(\"Printing the 3rd element of my_tuple\")\n",
        "print(my_tuple[2])\n",
        "print(\"Printing the 3rd element from last\")\n",
        "print(my_tuple[-3])"
      ],
      "metadata": {
        "colab": {
          "base_uri": "https://localhost:8080/"
        },
        "id": "q8ztGCURHRgO",
        "outputId": "a0aba84a-89e0-4b4e-c7ee-9c7aff5681eb"
      },
      "execution_count": null,
      "outputs": [
        {
          "output_type": "stream",
          "name": "stdout",
          "text": [
            "The original my_tuple is:\n",
            "('orange', 2, 5, 'banana', 12.5, 27)\n",
            "Printing the 3rd element of my_tuple\n",
            "5\n",
            "Printing the 3rd element from last\n",
            "banana\n"
          ]
        }
      ]
    },
    {
      "cell_type": "code",
      "source": [
        "my_tuple = (1, 2,2, 3, 4, 4, 4, 5)\n",
        "print(\"The original my_tuple list is:\")\n",
        "print(my_tuple)\n",
        "print(\"The reverse tuple is:\")\n",
        "rev_tuple = tuple(reversed(my_tuple))\n",
        "print(rev_tuple)\n",
        "print(f\"The number of 4 in this tuple is:{rev_tuple.count(4)}\")"
      ],
      "metadata": {
        "colab": {
          "base_uri": "https://localhost:8080/"
        },
        "id": "iy_OJCaUJCvk",
        "outputId": "d49b924b-92e4-447e-9089-9bc0e27253ba"
      },
      "execution_count": null,
      "outputs": [
        {
          "output_type": "stream",
          "name": "stdout",
          "text": [
            "The original my_tuple list is:\n",
            "(1, 2, 2, 3, 4, 4, 4, 5)\n",
            "The reverse tuple is:\n",
            "(5, 4, 4, 4, 3, 2, 2, 1)\n",
            "The number of 4 in this tuple is:3\n"
          ]
        }
      ]
    },
    {
      "cell_type": "code",
      "source": [
        "print(f\"The number of 2 in this tuple is:{rev_tuple.count(2)}\")"
      ],
      "metadata": {
        "colab": {
          "base_uri": "https://localhost:8080/"
        },
        "id": "9xNiltGQKRs_",
        "outputId": "b50bbea1-4bb8-471e-967a-78ab03fcc652"
      },
      "execution_count": null,
      "outputs": [
        {
          "output_type": "stream",
          "name": "stdout",
          "text": [
            "The number of 2 in this tuple is:2\n"
          ]
        }
      ]
    },
    {
      "cell_type": "code",
      "source": [
        "my_tuple = (1, 2,2, 3, 4, 4, 4, 5)\n",
        "my_set = set(my_tuple)\n",
        "print(\"My set contains is:\")\n",
        "print(my_set)"
      ],
      "metadata": {
        "colab": {
          "base_uri": "https://localhost:8080/"
        },
        "id": "366GOX4VKfCP",
        "outputId": "86f2f583-61f9-4ccb-bbbc-95692667f629"
      },
      "execution_count": null,
      "outputs": [
        {
          "output_type": "stream",
          "name": "stdout",
          "text": [
            "My set contains is:\n",
            "{1, 2, 3, 4, 5}\n"
          ]
        }
      ]
    },
    {
      "cell_type": "code",
      "source": [
        "#tuplesa are inmutable by the list yes"
      ],
      "metadata": {
        "id": "NGeimzoYLF6F"
      },
      "execution_count": null,
      "outputs": []
    },
    {
      "cell_type": "code",
      "source": [
        "my_list = [\"red\", \"blue\"]\n",
        "my_set =set(my_list)\n",
        "print(\"The my_set is:\")\n",
        "print(my_set)\n",
        "my_set.discard(\"green\")"
      ],
      "metadata": {
        "colab": {
          "base_uri": "https://localhost:8080/"
        },
        "id": "3jIVcKRQOhzl",
        "outputId": "26df4ba2-773d-49d3-d74c-991b12aeee9c"
      },
      "execution_count": null,
      "outputs": [
        {
          "output_type": "stream",
          "name": "stdout",
          "text": [
            "The my_set is:\n",
            "{'red', 'blue'}\n"
          ]
        }
      ]
    },
    {
      "cell_type": "code",
      "source": [
        "my_dictionary = {1:\"junior\", 2:\"keren\", 3:\"sarah\", 4:\"josue\", 5:\"judith\"}\n",
        "print(\"The contents of my_dictionary are:\")\n",
        "print(my_dictionary)\n",
        "print(\"The elements key in dictionary are:\")\n",
        "print(\"Value at key 1:\", my_dictionary[1])\n",
        "print(\"Value at key 2:\", my_dictionary[2])\n",
        "print(\"Value at key 3:\", my_dictionary[3])\n",
        "print(\"Value at key 4:\", my_dictionary[4])\n",
        "print(\"Value at key 5:\", my_dictionary[5])\n",
        "print(f\"Number of contents:\", len(my_dictionary))"
      ],
      "metadata": {
        "colab": {
          "base_uri": "https://localhost:8080/"
        },
        "id": "iOEj4CsaPWHk",
        "outputId": "2f894684-c7c3-4cd9-9d3e-003831d7d1c9"
      },
      "execution_count": null,
      "outputs": [
        {
          "output_type": "stream",
          "name": "stdout",
          "text": [
            "The contents of my_dictionary are:\n",
            "{1: 'junior', 2: 'keren', 3: 'sarah', 4: 'josue', 5: 'judith'}\n",
            "The elements key in dictionary are:\n",
            "Value at key 1: junior\n",
            "Value at key 2: keren\n",
            "Value at key 3: sarah\n",
            "Value at key 4: josue\n",
            "Value at key 5: judith\n",
            "Number of contents: 5\n"
          ]
        }
      ]
    },
    {
      "cell_type": "markdown",
      "source": [
        "IMPLEMENTATION\n",
        "\n",
        "\n",
        "use the dictionary to store answers"
      ],
      "metadata": {
        "id": "c6jyi3URSGuj"
      }
    },
    {
      "cell_type": "code",
      "source": [
        "#All questions\n",
        "question1 = \"Q1.What is the value of the expresssions: 2*3-4\"\\\n",
        "            \"\\n(a)1\"\\\n",
        "            \"\\n(b)2\"\\\n",
        "            \"\\n(c)3\"\\\n",
        "            \"\\n(d)none\"\\\n",
        "\n",
        "question2 = \"\\nQ2. What is the value of the expresions: 1+(2*3)/4?\"\\\n",
        "            \"\\n(a)1.5\"\\\n",
        "            \"\\n(b)3\"\\\n",
        "            \"\\n(c)3.5\"\\\n",
        "            \"\\n(d)none\"\\\n",
        "\n",
        "question3 = \"\\nQ3. The set datatype can hold duplicate values.\"\\\n",
        "            \"The statement is:\"\\\n",
        "            \"\\n(a)False\"\\\n",
        "            \"\\n(b)True\"\\\n",
        "            \"\\n(c)partialy correct.\"\\\n",
        "            \"\\n(d)none.\"\n",
        "\n",
        "# storing the questions with answers keys\n",
        "# inside the following dictionary\n",
        "\n",
        "question_bank = {question1:\"b\", question2:\"c\", question3 :\"a\" }\n",
        "print(\"Welcom to the MCQ test\")\n",
        "print(\"=\"*25)\n",
        "score = 0, # initial value\n",
        "for key in question_bank:\n",
        "  print(key)\n",
        "  user_input = input(\"Type your answer(a,b,c,d):\")\n",
        "  if user_input == question_bank[key]:\n",
        "    score+= 1\n",
        "    print(f\"\\nYour score:{score} out of {len(question_bank)}\")\n"
      ],
      "metadata": {
        "colab": {
          "base_uri": "https://localhost:8080/",
          "height": 332
        },
        "id": "pVTVKvdLTcPy",
        "outputId": "9a13e762-df6c-4f67-e99f-5743874f4d42"
      },
      "execution_count": null,
      "outputs": [
        {
          "name": "stdout",
          "output_type": "stream",
          "text": [
            "Welcom to the MCQ test\n",
            "=========================\n",
            "Q1.What is the value of the expresssions: 2*3-4\n",
            "(a)1\n",
            "(b)2\n",
            "(c)3\n",
            "(d)none\n",
            "Type your answer(a,b,c,d):b\n"
          ]
        },
        {
          "output_type": "error",
          "ename": "TypeError",
          "evalue": "can only concatenate tuple (not \"int\") to tuple",
          "traceback": [
            "\u001b[0;31m---------------------------------------------------------------------------\u001b[0m",
            "\u001b[0;31mTypeError\u001b[0m                                 Traceback (most recent call last)",
            "\u001b[0;32m<ipython-input-36-d9ffed647cf9>\u001b[0m in \u001b[0;36m<cell line: 28>\u001b[0;34m()\u001b[0m\n\u001b[1;32m     30\u001b[0m   \u001b[0muser_input\u001b[0m \u001b[0;34m=\u001b[0m \u001b[0minput\u001b[0m\u001b[0;34m(\u001b[0m\u001b[0;34m\"Type your answer(a,b,c,d):\"\u001b[0m\u001b[0;34m)\u001b[0m\u001b[0;34m\u001b[0m\u001b[0;34m\u001b[0m\u001b[0m\n\u001b[1;32m     31\u001b[0m   \u001b[0;32mif\u001b[0m \u001b[0muser_input\u001b[0m \u001b[0;34m==\u001b[0m \u001b[0mquestion_bank\u001b[0m\u001b[0;34m[\u001b[0m\u001b[0mkey\u001b[0m\u001b[0;34m]\u001b[0m\u001b[0;34m:\u001b[0m\u001b[0;34m\u001b[0m\u001b[0;34m\u001b[0m\u001b[0m\n\u001b[0;32m---> 32\u001b[0;31m     \u001b[0mscore\u001b[0m\u001b[0;34m+=\u001b[0m \u001b[0;36m1\u001b[0m\u001b[0;34m\u001b[0m\u001b[0;34m\u001b[0m\u001b[0m\n\u001b[0m\u001b[1;32m     33\u001b[0m     \u001b[0mprint\u001b[0m\u001b[0;34m(\u001b[0m\u001b[0;34mf\"\\nYour score:{score} out of {len(question_bank)}\"\u001b[0m\u001b[0;34m)\u001b[0m\u001b[0;34m\u001b[0m\u001b[0;34m\u001b[0m\u001b[0m\n",
            "\u001b[0;31mTypeError\u001b[0m: can only concatenate tuple (not \"int\") to tuple"
          ]
        }
      ]
    },
    {
      "cell_type": "markdown",
      "source": [
        "FUNCTIONS AND MODULES"
      ],
      "metadata": {
        "id": "Wy7zxi2xZfGa"
      }
    },
    {
      "cell_type": "code",
      "source": [
        "def print_details(name, age):\n",
        "  print(f\"Hello, {name}! How are you?\")\n",
        "  print(f\"You are now {age}.\")"
      ],
      "metadata": {
        "id": "i_xp5R2qlp9B"
      },
      "execution_count": null,
      "outputs": []
    },
    {
      "cell_type": "code",
      "source": [
        "print_details(\"junior\", 38)"
      ],
      "metadata": {
        "colab": {
          "base_uri": "https://localhost:8080/"
        },
        "id": "_QyFqxD7mFcI",
        "outputId": "78fb7fc9-0a41-43b7-d19f-c2fbfb253d73"
      },
      "execution_count": null,
      "outputs": [
        {
          "output_type": "stream",
          "name": "stdout",
          "text": [
            "Hello, junior! How are you?\n",
            "You are now 38.\n"
          ]
        }
      ]
    },
    {
      "cell_type": "markdown",
      "source": [
        "Demonstration 1"
      ],
      "metadata": {
        "id": "HRMWq8yzmluj"
      }
    },
    {
      "cell_type": "code",
      "source": [
        "#function example1\n",
        "print(\"***function example1****\")\n",
        "def print_hello():\n",
        "  print(\"Hello\")"
      ],
      "metadata": {
        "colab": {
          "base_uri": "https://localhost:8080/"
        },
        "id": "TCGx5bFsmpj0",
        "outputId": "130203a1-6912-49f9-dbe0-280246b746ad"
      },
      "execution_count": null,
      "outputs": [
        {
          "output_type": "stream",
          "name": "stdout",
          "text": [
            "***function example1****\n"
          ]
        }
      ]
    },
    {
      "cell_type": "code",
      "source": [
        "print_hello()"
      ],
      "metadata": {
        "colab": {
          "base_uri": "https://localhost:8080/"
        },
        "id": "6fmDqPponFLT",
        "outputId": "458dae8c-614f-4a1f-d350-31d8071b7fbf"
      },
      "execution_count": null,
      "outputs": [
        {
          "output_type": "stream",
          "name": "stdout",
          "text": [
            "Hello\n"
          ]
        }
      ]
    },
    {
      "cell_type": "code",
      "source": [
        "#function example2\n",
        "print(\"\\n***fucntion example2***\")\n",
        "def print_details(name, age):\n",
        "  print(f\"Hello,{name}! How are you?\")\n",
        "  print(f\"You are now {age}\")"
      ],
      "metadata": {
        "colab": {
          "base_uri": "https://localhost:8080/"
        },
        "id": "dJIXWOPYnH9-",
        "outputId": "28b15dd0-5bfb-494b-ed3a-b3622b5294e8"
      },
      "execution_count": null,
      "outputs": [
        {
          "output_type": "stream",
          "name": "stdout",
          "text": [
            "\n",
            "***fucntion example2***\n"
          ]
        }
      ]
    },
    {
      "cell_type": "code",
      "source": [
        "print_details(\"sarah\", 28)"
      ],
      "metadata": {
        "colab": {
          "base_uri": "https://localhost:8080/"
        },
        "id": "NSzgUmeGoy05",
        "outputId": "f1db2a63-ab60-477b-a5b6-e7c043ee5728"
      },
      "execution_count": null,
      "outputs": [
        {
          "output_type": "stream",
          "name": "stdout",
          "text": [
            "Hello,sarah! How are you?\n",
            "You are now 28\n"
          ]
        }
      ]
    },
    {
      "cell_type": "markdown",
      "source": [
        "Use default values"
      ],
      "metadata": {
        "id": "TstJt0QPqDnD"
      }
    },
    {
      "cell_type": "code",
      "source": [
        "def  calculate_sum(x,y):\n",
        "  return x+y"
      ],
      "metadata": {
        "id": "twpyjygSqK_Y"
      },
      "execution_count": null,
      "outputs": []
    },
    {
      "cell_type": "code",
      "source": [
        "total = calculate_sum(12,15)\n",
        "print(f\"The sum of 12 et 15 is:{total}\")\n",
        "total = calculate_sum(20.5, 37)\n",
        "print(f\"The sum of 20.5, 37 is: {total}\")"
      ],
      "metadata": {
        "colab": {
          "base_uri": "https://localhost:8080/"
        },
        "id": "Rom--4iFqvMV",
        "outputId": "41e2612c-eb7a-4dc9-94a7-0c8f399885bd"
      },
      "execution_count": null,
      "outputs": [
        {
          "output_type": "stream",
          "name": "stdout",
          "text": [
            "The sum of 12 et 15 is:27\n",
            "The sum of 20.5, 37 is: 57.5\n"
          ]
        }
      ]
    },
    {
      "cell_type": "code",
      "source": [
        "initial_list = [10,20,30,40,50]\n",
        "double_list = []\n",
        "\n",
        "def make_double(input_list):\n",
        "  while input_list:\n",
        "    element = initial_list.pop()\n",
        "    double_list.append(2 * element)"
      ],
      "metadata": {
        "id": "bk3Mql7t8vpz"
      },
      "execution_count": null,
      "outputs": []
    },
    {
      "cell_type": "code",
      "source": [
        "print(\"The initial_list is:\")\n",
        "print(initial_list)\n",
        "print(\"Calling the fucntion make_double() now.\")\n",
        "make_double(initial_list)\n",
        "print(\"The double list is:\")\n",
        "print(double_list)\n",
        "print(\"The initial_list at present:\")\n",
        "print(initial_list)\n"
      ],
      "metadata": {
        "colab": {
          "base_uri": "https://localhost:8080/"
        },
        "id": "xQJGb0wD91Fg",
        "outputId": "c9536d50-4b31-4b6c-af91-9260148400fb"
      },
      "execution_count": null,
      "outputs": [
        {
          "output_type": "stream",
          "name": "stdout",
          "text": [
            "The initial_list is:\n",
            "[1, 2, 3, 4, 5]\n",
            "Calling the fucntion make_double() now.\n",
            "The double list is:\n",
            "[100, 80, 60, 40, 20, 2, 4, 6, 8, 10, 2, 4, 6, 8, 10, 2, 4, 6, 8, 10, 2, 4, 6, 8, 10]\n",
            "The initial_list at present:\n",
            "[1, 2, 3, 4, 5]\n"
          ]
        }
      ]
    },
    {
      "cell_type": "code",
      "source": [
        "initial_list = [1,2,3,4,5]\n",
        "\n",
        "def make_double(input_list):\n",
        "  for element in input_list:\n",
        "    double_list.append(2 * element)"
      ],
      "metadata": {
        "id": "w7QlkFh9_Htr"
      },
      "execution_count": null,
      "outputs": []
    },
    {
      "cell_type": "code",
      "source": [
        "print(\"The initial_list is:\")\n",
        "print(initial_list)\n",
        "print(\"Calling function make_double() now.\")\n",
        "make_double(initial_list)\n",
        "print(\"The double list is:\")\n",
        "print(double_list)\n",
        "print(\"The initial_list at present:\")\n",
        "print(initial_list)"
      ],
      "metadata": {
        "colab": {
          "base_uri": "https://localhost:8080/"
        },
        "id": "fzeI8DnnAoxh",
        "outputId": "29a44da5-4971-462c-c579-e567976ec41b"
      },
      "execution_count": null,
      "outputs": [
        {
          "output_type": "stream",
          "name": "stdout",
          "text": [
            "The initial_list is:\n",
            "[1, 2, 3, 4, 5]\n",
            "Calling function make_double() now.\n",
            "The double list is:\n",
            "[100, 80, 60, 40, 20, 2, 4, 6, 8, 10]\n",
            "The initial_list at present:\n",
            "[1, 2, 3, 4, 5]\n"
          ]
        }
      ]
    },
    {
      "cell_type": "code",
      "source": [
        "my_list = [1,2,3,4,5]\n",
        "my_dictionary = {1:\"jack\", 2:\"kate\", 3:\"Bob\"}\n",
        "\n",
        "\n",
        "def make_total_double(first, second):\n",
        "  total = first + second\n",
        "  return total * 2"
      ],
      "metadata": {
        "id": "z_9j7C5jC1h3"
      },
      "execution_count": null,
      "outputs": []
    }
  ],
  "metadata": {
    "colab": {
      "provenance": []
    },
    "kernelspec": {
      "display_name": "Python 3",
      "name": "python3"
    },
    "language_info": {
      "name": "python"
    }
  },
  "nbformat": 4,
  "nbformat_minor": 0
}